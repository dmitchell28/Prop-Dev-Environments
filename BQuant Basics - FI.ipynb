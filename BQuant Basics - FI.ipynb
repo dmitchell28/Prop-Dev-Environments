{
 "cells": [
  {
   "cell_type": "markdown",
   "metadata": {},
   "source": [
    "<a id='fi-basics-top'></a>\n",
    "# Fixed Income Analysis<br><span style=\"color:orange\"> BQuant Basics seminar series </span>\n",
    "### <a href=\"https://platform.cinchcast.com/ses/r1A0CrXOw_c0bIQtko2uSw~~\">Click here to watch the webinar</a>"
   ]
  },
  {
   "cell_type": "markdown",
   "metadata": {},
   "source": [
    "Before digesting this notebook, we recommend that you are comfortable with some basic BQL concepts, such as where to find the existing documentation, navigating the BQNT environment, filtering, and aggregation.\n",
    "\n",
    "This notebook serves as an introduction to our data sets, and key data transformations available for fixed income/credit analysis in BQuant.\n",
    "\n",
    "<a href=\"https://blinks.bloomberg.com/screens/BQIQ%20L%235288759\">Click here for all upcoming BQuant webinars </a>"
   ]
  },
  {
   "cell_type": "markdown",
   "metadata": {},
   "source": [
    "<a id='s0'></a>"
   ]
  },
  {
   "cell_type": "markdown",
   "metadata": {},
   "source": [
    "Content:<br>\n",
    "- [1  - Intro](#s1)<a href='#s1'></a>  \n",
    "- [2  - Credit Universes](#s1.5)<a href='#s1'></a>  \n",
    "- [3  - Chains](#s2.0)<a href='#s2.0'></a>\n",
    "- [4  - Index Analysis](#s3.0)<a href='#s3.0'></a>\n",
    "- [5  - Momentum Analysis](#s4.0)<a href='#s4.0'></a>\n",
    "- [6  - Issuer Analysis](#s5.0)<a href='#s5.0'></a>\n",
    "- [7  - Summary](#s6.0)<a href='#s6.0'></a>\n"
   ]
  },
  {
   "cell_type": "code",
   "execution_count": null,
   "metadata": {},
   "outputs": [],
   "source": [
    "import bql\n",
    "import numpy as np"
   ]
  },
  {
   "cell_type": "code",
   "execution_count": null,
   "metadata": {},
   "outputs": [],
   "source": [
    "bq = bql.Service()"
   ]
  },
  {
   "cell_type": "markdown",
   "metadata": {},
   "source": [
    "<a id='s1'></a>\n",
    "### 1. Credit Data\n",
    "- Clean, standardized data.\n",
    "- Easier to reference and manipulate."
   ]
  },
  {
   "cell_type": "markdown",
   "metadata": {},
   "source": [
    "[&uarr; Return to Top](#fi-basics-top)"
   ]
  },
  {
   "cell_type": "markdown",
   "metadata": {},
   "source": [
    "<a id='s1.5'></a>\n",
    "### 2. Universes\n",
    "\n",
    "There are several universes we can use when working with BQL in BQNT for credit data:\n",
    "\n",
    "* <b>bq.univ.bondsuniv()</b>: This represents all bonds which you can filter, best used with the \"active\" parameter to exclude all matured bonds. \n",
    "\n",
    "* <b>bq.univ.bonds()</b>: to pull all bonds for another universe. ie:\n",
    " *  bq.univ.bonds(\"VOD LN Equity\")\n",
    " *  bq.univ.bonds(bq.univ.members(\"SPX Index\")) \n",
    " \n",
    "* <b>bq.univ.loans()</b>: to pull loans\n",
    "* <b>bq.univ.debt()</b>: to pull bonds, loans, preferreds\n"
   ]
  },
  {
   "cell_type": "markdown",
   "metadata": {},
   "source": [
    "[&uarr; Return to Top](#fi-basics-top)"
   ]
  },
  {
   "cell_type": "markdown",
   "metadata": {},
   "source": [
    "<a id='s2.0'></a>\n",
    "\n",
    "### 2. Chains\n",
    "\n",
    "- Use chains to access bonds for single / multiple issuers and select the corporate structure.\n",
    "- Use BQL to screen and aggregate standardized fixed income data.\n",
    "- Generate your custom peer yield curve on the fly."
   ]
  },
  {
   "cell_type": "markdown",
   "metadata": {},
   "source": [
    "##### Q: What is the yield curve for fixed coupon USD bonds from MSFT, IBM and ORCL?"
   ]
  },
  {
   "cell_type": "code",
   "execution_count": null,
   "metadata": {},
   "outputs": [],
   "source": [
    "#Define our universe of bonds issued by issuers. \n",
    "#The issuedby parameters allow you to select the level of the corporate structure bonds come from.\n",
    "bonds = bq.univ.bonds(['MSFT US Equity', 'IBM US Equity','ORCL US Equity'], \n",
    "                      issuedby = 'Credit_Family')\n",
    "#Define our screening criteria of fixed coupon USD bonds\n",
    "coupon_typ = bq.data.cpn_typ() == 'Fixed'\n",
    "currency = bq.data.crncy() == 'USD'\n",
    "rating = bq.data.rtg_fitch() > \"AA\" # note for ratings we can use these operators. \n",
    "criteria = bq.func.and_(coupon_typ, currency)\n",
    "criteria = bq.func.and_(criteria, rating)\n",
    "#Apply filter\n",
    "filtered_bond_chains = bq.univ.filter(bonds, criteria)\n",
    "#Calculate and retrieve median yield by year of maturity\n",
    "yld = bq.data.yield_()\n",
    "mat = bq.data.maturity().year()\n",
    "yld_by_mat = yld.group(mat).median()\n",
    "#Request data, handle response\n",
    "req = bql.Request(filtered_bond_chains, {'Custom Peer Yield Curve':yld_by_mat})\n",
    "res = bq.execute(req)\n",
    "data = res[0].df()\n",
    "data"
   ]
  },
  {
   "cell_type": "markdown",
   "metadata": {},
   "source": [
    "[&uarr; Return to Top](#fi-basics-top)"
   ]
  },
  {
   "cell_type": "markdown",
   "metadata": {},
   "source": [
    "<a id='s3.0'></a>\n",
    "\n",
    "### 3. Benchmark Analysis\n",
    "- Breakdown an index by custom categories to an instant overview.\n",
    "- Make weighted average calculations to accurately reflect index composition."
   ]
  },
  {
   "cell_type": "markdown",
   "metadata": {},
   "source": [
    "##### Q: What is the total amount outstanding by S&P credit rating for bonds in LF98TRUU Index with maturity after 2029?"
   ]
  },
  {
   "cell_type": "code",
   "execution_count": null,
   "metadata": {},
   "outputs": [],
   "source": [
    "#Define our universe as the members of an index\n",
    "index = bq.univ.members('LF98TRUU Index')\n",
    "#Define our maturity filter and apply\n",
    "criteria_mat = bq.data.maturity() >= '2028-12-31'\n",
    "filtered_index = bq.univ.filter(index, criteria_mat)\n",
    "#Calculate and retrieve the total amount outstandng (scaled in 10^6) by S&P rating\n",
    "amt_out = bq.data.amt_outstanding(CURRENCY = 'USD')\n",
    "rating = bq.data.credit_rating(CREDIT_RATING_SOURCE = 'SANDP').let(\"rating\")\n",
    "amt_out_by_rating = amt_out.group(rating).sum() / 10 ** 6\n",
    "#Request datam handle response\n",
    "req = bql.Request(filtered_index, {'Amt Out by Rating':amt_out_by_rating})\n",
    "res = bq.execute(req)\n",
    "data = res[0].df()\n",
    "data"
   ]
  },
  {
   "cell_type": "markdown",
   "metadata": {},
   "source": [
    "##### Q: What is the weighted average spread by sector in LBUSTRUU?"
   ]
  },
  {
   "cell_type": "code",
   "execution_count": null,
   "metadata": {},
   "outputs": [],
   "source": [
    "#Define universe of index members\n",
    "members = bq.univ.members('LBUSTRUU Index')\n",
    "#Screen and apply to clean our datasets for NaN\n",
    "sprd = bq.data.spread(SPREAD_TYPE = 'OAS')\n",
    "# please note the proper way to establish if a variable is nan\n",
    "# is np.isnan(), but in the bql object model you can use != np.nan \n",
    "cleaned_index = bq.univ.filter(members,  sprd != np.nan )\n",
    "#Calculate and retrieve the weighted average spread by sector\n",
    "#Note weights is an associated column for id, and we can refer to it\n",
    "#for calculations as follows:\n",
    "weights = bq.data.ID()['WEIGHTS']\n",
    "sector = bq.data.classification_name()\n",
    "weighted_avg = sprd.group(sector).wavg(weights.group(sector))\n",
    "#Request data and handle the response\n",
    "req = bql.Request(cleaned_index, {'Weighted Avg Spread by Sector':weighted_avg})\n",
    "res = bq.execute(req)\n",
    "data = res[0].df()\n",
    "data"
   ]
  },
  {
   "cell_type": "markdown",
   "metadata": {},
   "source": [
    "[&uarr; Return to Top](#fi-basics-top)"
   ]
  },
  {
   "cell_type": "markdown",
   "metadata": {},
   "source": [
    "<a id='s4.0'></a>\n",
    "\n",
    "### 4. Momentum Analysis\n",
    "- Screen according to the movement of bond spreads, prices, yields etc."
   ]
  },
  {
   "cell_type": "markdown",
   "metadata": {},
   "source": [
    "##### Q: What were the top 10 bonds in LF98TRUU with the greatest I-Spread widening last month?"
   ]
  },
  {
   "cell_type": "code",
   "execution_count": null,
   "metadata": {},
   "outputs": [],
   "source": [
    "#Define our universe of index members\n",
    "index = bq.univ.members('LF98TRUU Index')\n",
    "#Define spread change over the last month, note we can use datetime\n",
    "#or date in the string format as well\n",
    "sprd = bq.data.spread(SPREAD_TYPE='I', dates=bq.func.range('-1m','0d'), fill='prev')\n",
    "sprd_chg = sprd.net_chg()\n",
    "#Rank our monthly spread change values from largest to smallest\n",
    "sprd_chg_rank = sprd_chg.grouprank(order = 'desc')\n",
    "#Filter by top 10 rank \n",
    "criteria = sprd_chg_rank <= 10\n",
    "filtered_index = bq.univ.filter(index, criteria)\n",
    "#Request data and handle responsem \n",
    "req = bql.Request(filtered_index, {'Top 10 Bonds to Watch':sprd_chg.round('3').groupsort()})\n",
    "res = bq.execute(req)\n",
    "data = res[0].df()\n",
    "data"
   ]
  },
  {
   "cell_type": "markdown",
   "metadata": {},
   "source": [
    "[&uarr; Return to Top](#fi-basics-top)"
   ]
  },
  {
   "cell_type": "markdown",
   "metadata": {},
   "source": [
    "<a id='s5.0'></a>\n",
    "\n",
    "### 5. Issuer Analysis\n",
    "- Cross reference fixed income data with equity data.\n",
    "- Have all your analysis in one single place."
   ]
  },
  {
   "cell_type": "markdown",
   "metadata": {},
   "source": [
    "##### Q: Who has issued USD green bonds since 2019?"
   ]
  },
  {
   "cell_type": "code",
   "execution_count": null,
   "metadata": {},
   "outputs": [],
   "source": [
    "# Count the number of USD green bonds issued by issuer since 2019 \n",
    "all_bonds = bq.univ.bondsuniv('All')\n",
    "# Apply filters\n",
    "criteria_issue_dt = bq.data.issue_dt() >= '2019-01-01' \n",
    "criteria_green = bq.data.green_bond_loan_indicator() == 'True'\n",
    "criteria_crncy = bq.data.crncy() == 'USD'\n",
    "# Combine our filter criteria\n",
    "green_criteria = bq.func.and_(criteria_crncy, bq.func.and_(criteria_green, criteria_issue_dt))\n",
    "green_filter = bq.univ.filter(all_bonds, green_criteria)\n",
    "# Count the bonds in our filtered universe by issuer\n",
    "security = bq.data.id()\n",
    "name = bq.data.name()\n",
    "# The value function allows you to put a query within a query, with a different universe. \n",
    "# mapby resolves the relationship between the universe in the outer query \n",
    "# and the universe in the inner query. In this case mapby=\"lineage\" resolves the \n",
    "# relationship between bond and issuer.\n",
    "# basically, we are taking a group of bonds, getting their issuer's equity id, \n",
    "# getting the name of the equity, and mapping it to each bond's id. \n",
    "issuer_name = name.value(bq.univ.issuerof(), mapby = 'lineage')\n",
    "# number of green bonds issued by each issuer. \n",
    "count_by_issuer = security.group(issuer_name).count()\n",
    "# request data and handle response\n",
    "req = bql.Request(green_filter, {'Green Bonds by Issuer':count_by_issuer.groupsort()})\n",
    "res = bq.execute(req)\n",
    "data = res[0].df().head(30)\n",
    "data"
   ]
  },
  {
   "cell_type": "code",
   "execution_count": null,
   "metadata": {},
   "outputs": [],
   "source": [
    "port = bq.univ.members('U12533411-2', type='port')\n",
    "sec = bq.data.id()\n",
    "\n",
    "req = bql.Request(port, sec)\n",
    "res = bq.execute(req)\n",
    "data = res[0].df()\n",
    "data"
   ]
  },
  {
   "cell_type": "markdown",
   "metadata": {},
   "source": [
    "[&uarr; Return to Top](#fi-basics-top)"
   ]
  },
  {
   "cell_type": "markdown",
   "metadata": {},
   "source": [
    "<a id='s6.0'></a>\n",
    "\n",
    "### 6. Summary"
   ]
  },
  {
   "cell_type": "markdown",
   "metadata": {},
   "source": [
    "- BQL lets you access bond data from chains, indices, portfolios and entire universes.\n",
    "- You can easily build your analysis such as:\n",
    "    - Custom Peer Curve.\n",
    "    - Benchmark Rating breakdown.\n",
    "    - Momentum Watchlists.\n",
    "    - Green Bond Issuance.\n",
    "- Get in touch for more on powerful data-efficient analysis!\n",
    "- BQuant Basics Series: [Introduction to BQuant](https://platform.cinchcast.com/ses/jXAdkrDNj-lPJiwE5vbzIA~~) | [Credit/Fixed Income](https://platform.cinchcast.com/ses/r1A0CrXOw_c0bIQtko2uSw~~) | [Widgets](https://platform.cinchcast.com/ses/SsWJrxoSVMbm1RrNEAcGvw~~) | [Funds](https://platform.cinchcast.com/ses/nf84iygPJ7urt0lyUYIOCQ~~) | [Equity](https://onlinexperiences.com/scripts/Server.nxp?LASCmd=AI:4;F:QS!10100&ShowUUID=AB1C7DAA-0558-4D4D-B8DA-159BB315B169) | [Charts](http://bloomberglp.com/BqntBasicsCharts) |"
   ]
  },
  {
   "cell_type": "markdown",
   "metadata": {},
   "source": [
    "[&uarr; Return to Top](#fi-basics-top)"
   ]
  },
  {
   "cell_type": "markdown",
   "metadata": {},
   "source": [
    "----\n",
    "<p style=\"text-align:center;\">\n",
    "    Click on the links below to continue learning.<br>\n",
    "     <a href=\"../../0 Welcome.ipynb\">&larr; Back to the Home</a>&emsp;&emsp;\n",
    "    <a href=\"#fi-basics-top\">&uarr; Back to Top </a>&emsp;&emsp;\n",
    "    <a href=\"../Learn/1.1. FI Basics - Workbook.ipynb\">Next Topic: 1.1 FI Basics &rarr;</a>\n",
    "    <br>\n",
    "\n",
    "</p>"
   ]
  },
  {
   "cell_type": "code",
   "execution_count": null,
   "metadata": {},
   "outputs": [],
   "source": []
  }
 ],
 "metadata": {
  "kernelspec": {
   "display_name": "Python 3 (sandboxed)",
   "language": "python",
   "name": "python3"
  },
  "language_info": {
   "codemirror_mode": {
    "name": "ipython",
    "version": 3
   },
   "file_extension": ".py",
   "mimetype": "text/x-python",
   "name": "python",
   "nbconvert_exporter": "python",
   "pygments_lexer": "ipython3",
   "version": "3.7.1"
  }
 },
 "nbformat": 4,
 "nbformat_minor": 4
}
