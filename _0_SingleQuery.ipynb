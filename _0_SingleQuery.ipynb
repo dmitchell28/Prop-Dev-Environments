{
 "cells": [
  {
   "cell_type": "markdown",
   "metadata": {},
   "source": [
    "## Welcome to BQuant\n",
    "<img src=\"../images/circle.png\" width=\"250\" height=\"250\" />"
   ]
  },
  {
   "cell_type": "code",
   "execution_count": 14,
   "metadata": {},
   "outputs": [],
   "source": [
    "# Import the BQL library\n",
    "import bql\n",
    "import pandas as pd\n",
    "\n",
    "# Instantiate an object to interface with the BQL service\n",
    "bq = bql.Service()"
   ]
  },
  {
   "cell_type": "markdown",
   "metadata": {},
   "source": [
    "* `Copy/Paste` example queries from **Cell B16** of the Example Queries tab in from the spreadsheet."
   ]
  },
  {
   "cell_type": "markdown",
   "metadata": {},
   "source": [
    "### Paste BQL String Query Here"
   ]
  },
  {
   "cell_type": "code",
   "execution_count": 15,
   "metadata": {},
   "outputs": [
    {
     "data": {
      "text/plain": [
       "'C:\\\\Users\\\\MitchellDavid\\\\AppData\\\\Local\\\\bipy\\\\6316781\\\\projects\\\\0000000000000000000000000000000006316781\\\\Demo Code'"
      ]
     },
     "execution_count": 15,
     "metadata": {},
     "output_type": "execute_result"
    }
   ],
   "source": [
    "pwd"
   ]
  },
  {
   "cell_type": "code",
   "execution_count": 16,
   "metadata": {},
   "outputs": [],
   "source": [
    "# Define the request string\n",
    "request = \"\"\"\n",
    "get(avg(group(tot_buy_rec/tot_analyst_rec, gics_sector_name)))  \n",
    "for(filter(members(['SPX Index']), net_income > 0)) \n",
    "\n",
    "\"\"\""
   ]
  },
  {
   "cell_type": "code",
   "execution_count": 7,
   "metadata": {},
   "outputs": [],
   "source": [
    "request = \"\"\"\n",
    "let(\n",
    "#AuM = net_chg(FUND_TOTAL_ASSETS(CURRENCY=USD,dates=range(2019-01-01,2020-06-12),fill=prev)).Value/10^9;\n",
    "#UnivFilter = FUND_TYP=='ETF' AND FUND_ASSET_CLASS_FOCUS=='Equity';\n",
    "#AuMRank = grouprank(#AuM);\n",
    ")\n",
    "\n",
    "get(groupsort(#AuM().Value) as #USDBn, NAME)\t\t\t\t\n",
    "\n",
    "for(filter(filter(FundsUniv(['Primary','Active']),#UnivFilter),#AuMRank<=10))\n",
    "\n",
    "with(mode=cached)\t\t\t\t\n",
    "\n",
    "\"\"\""
   ]
  },
  {
   "cell_type": "code",
   "execution_count": 8,
   "metadata": {},
   "outputs": [],
   "source": [
    "#request"
   ]
  },
  {
   "cell_type": "markdown",
   "metadata": {},
   "source": [
    "### Execute Query"
   ]
  },
  {
   "cell_type": "code",
   "execution_count": 9,
   "metadata": {},
   "outputs": [],
   "source": [
    "# Execute the request\n",
    "response = bq.execute(request)"
   ]
  },
  {
   "cell_type": "markdown",
   "metadata": {},
   "source": [
    "### Each column is a dataframe with associated medata `combinded_df()` works?"
   ]
  },
  {
   "cell_type": "code",
   "execution_count": 10,
   "metadata": {},
   "outputs": [
    {
     "data": {
      "text/html": [
       "<div>\n",
       "<style scoped>\n",
       "    .dataframe tbody tr th:only-of-type {\n",
       "        vertical-align: middle;\n",
       "    }\n",
       "\n",
       "    .dataframe tbody tr th {\n",
       "        vertical-align: top;\n",
       "    }\n",
       "\n",
       "    .dataframe thead th {\n",
       "        text-align: right;\n",
       "    }\n",
       "</style>\n",
       "<table border=\"1\" class=\"dataframe\">\n",
       "  <thead>\n",
       "    <tr style=\"text-align: right;\">\n",
       "      <th></th>\n",
       "      <th>#USDBn</th>\n",
       "      <th>NAME</th>\n",
       "    </tr>\n",
       "    <tr>\n",
       "      <th>ID</th>\n",
       "      <th></th>\n",
       "      <th></th>\n",
       "    </tr>\n",
       "  </thead>\n",
       "  <tbody>\n",
       "    <tr>\n",
       "      <th>QQQ US Equity</th>\n",
       "      <td>49.911337</td>\n",
       "      <td>Invesco QQQ Trust Series 1</td>\n",
       "    </tr>\n",
       "    <tr>\n",
       "      <th>VOO US Equity</th>\n",
       "      <td>48.786481</td>\n",
       "      <td>Vanguard S&amp;P 500 ETF</td>\n",
       "    </tr>\n",
       "    <tr>\n",
       "      <th>VTI US Equity</th>\n",
       "      <td>46.148231</td>\n",
       "      <td>Vanguard Total Stock Market ET</td>\n",
       "    </tr>\n",
       "    <tr>\n",
       "      <th>IVV US Equity</th>\n",
       "      <td>41.804595</td>\n",
       "      <td>iShares Core S&amp;P 500 ETF</td>\n",
       "    </tr>\n",
       "    <tr>\n",
       "      <th>1306 JP Equity</th>\n",
       "      <td>39.574751</td>\n",
       "      <td>TOPIX Exchange Traded Fund</td>\n",
       "    </tr>\n",
       "    <tr>\n",
       "      <th>SPY US Equity</th>\n",
       "      <td>31.495045</td>\n",
       "      <td>SPDR S&amp;P 500 ETF Trust</td>\n",
       "    </tr>\n",
       "    <tr>\n",
       "      <th>VUG US Equity</th>\n",
       "      <td>21.072159</td>\n",
       "      <td>Vanguard Growth ETF</td>\n",
       "    </tr>\n",
       "    <tr>\n",
       "      <th>1308 JP Equity</th>\n",
       "      <td>19.027867</td>\n",
       "      <td>Listed Index Fund TOPIX</td>\n",
       "    </tr>\n",
       "    <tr>\n",
       "      <th>1305 JP Equity</th>\n",
       "      <td>18.193309</td>\n",
       "      <td>Daiwa ETF-TOPIX</td>\n",
       "    </tr>\n",
       "    <tr>\n",
       "      <th>USMV US Equity</th>\n",
       "      <td>14.857808</td>\n",
       "      <td>iShares MSCI USA Min Vol Facto</td>\n",
       "    </tr>\n",
       "  </tbody>\n",
       "</table>\n",
       "</div>"
      ],
      "text/plain": [
       "                   #USDBn                            NAME\n",
       "ID                                                       \n",
       "QQQ US Equity   49.911337      Invesco QQQ Trust Series 1\n",
       "VOO US Equity   48.786481            Vanguard S&P 500 ETF\n",
       "VTI US Equity   46.148231  Vanguard Total Stock Market ET\n",
       "IVV US Equity   41.804595        iShares Core S&P 500 ETF\n",
       "1306 JP Equity  39.574751      TOPIX Exchange Traded Fund\n",
       "SPY US Equity   31.495045          SPDR S&P 500 ETF Trust\n",
       "VUG US Equity   21.072159             Vanguard Growth ETF\n",
       "1308 JP Equity  19.027867         Listed Index Fund TOPIX\n",
       "1305 JP Equity  18.193309                 Daiwa ETF-TOPIX\n",
       "USMV US Equity  14.857808  iShares MSCI USA Min Vol Facto"
      ]
     },
     "execution_count": 10,
     "metadata": {},
     "output_type": "execute_result"
    }
   ],
   "source": [
    "# Display the response in a DataFrame\n",
    "# Use the combined_df function to display the three returned values in a single DataFrame \n",
    "newdf = bql.combined_df(response)\n",
    "newdf"
   ]
  },
  {
   "cell_type": "markdown",
   "metadata": {},
   "source": [
    "### Combine each dataframe using `.name` descriptor from response object"
   ]
  },
  {
   "cell_type": "code",
   "execution_count": 11,
   "metadata": {},
   "outputs": [
    {
     "data": {
      "text/html": [
       "<div>\n",
       "<style scoped>\n",
       "    .dataframe tbody tr th:only-of-type {\n",
       "        vertical-align: middle;\n",
       "    }\n",
       "\n",
       "    .dataframe tbody tr th {\n",
       "        vertical-align: top;\n",
       "    }\n",
       "\n",
       "    .dataframe thead th {\n",
       "        text-align: right;\n",
       "    }\n",
       "</style>\n",
       "<table border=\"1\" class=\"dataframe\">\n",
       "  <thead>\n",
       "    <tr style=\"text-align: right;\">\n",
       "      <th></th>\n",
       "      <th>#USDBn</th>\n",
       "      <th>NAME</th>\n",
       "    </tr>\n",
       "  </thead>\n",
       "  <tbody>\n",
       "    <tr>\n",
       "      <th>1305 JP Equity</th>\n",
       "      <td>18.193309</td>\n",
       "      <td>Daiwa ETF-TOPIX</td>\n",
       "    </tr>\n",
       "    <tr>\n",
       "      <th>1306 JP Equity</th>\n",
       "      <td>39.574751</td>\n",
       "      <td>TOPIX Exchange Traded Fund</td>\n",
       "    </tr>\n",
       "    <tr>\n",
       "      <th>1308 JP Equity</th>\n",
       "      <td>19.027867</td>\n",
       "      <td>Listed Index Fund TOPIX</td>\n",
       "    </tr>\n",
       "    <tr>\n",
       "      <th>IVV US Equity</th>\n",
       "      <td>41.804595</td>\n",
       "      <td>iShares Core S&amp;P 500 ETF</td>\n",
       "    </tr>\n",
       "    <tr>\n",
       "      <th>QQQ US Equity</th>\n",
       "      <td>49.911337</td>\n",
       "      <td>Invesco QQQ Trust Series 1</td>\n",
       "    </tr>\n",
       "    <tr>\n",
       "      <th>SPY US Equity</th>\n",
       "      <td>31.495045</td>\n",
       "      <td>SPDR S&amp;P 500 ETF Trust</td>\n",
       "    </tr>\n",
       "    <tr>\n",
       "      <th>USMV US Equity</th>\n",
       "      <td>14.857808</td>\n",
       "      <td>iShares MSCI USA Min Vol Facto</td>\n",
       "    </tr>\n",
       "    <tr>\n",
       "      <th>VOO US Equity</th>\n",
       "      <td>48.786481</td>\n",
       "      <td>Vanguard S&amp;P 500 ETF</td>\n",
       "    </tr>\n",
       "    <tr>\n",
       "      <th>VTI US Equity</th>\n",
       "      <td>46.148231</td>\n",
       "      <td>Vanguard Total Stock Market ET</td>\n",
       "    </tr>\n",
       "    <tr>\n",
       "      <th>VUG US Equity</th>\n",
       "      <td>21.072159</td>\n",
       "      <td>Vanguard Growth ETF</td>\n",
       "    </tr>\n",
       "  </tbody>\n",
       "</table>\n",
       "</div>"
      ],
      "text/plain": [
       "                   #USDBn                            NAME\n",
       "1305 JP Equity  18.193309                 Daiwa ETF-TOPIX\n",
       "1306 JP Equity  39.574751      TOPIX Exchange Traded Fund\n",
       "1308 JP Equity  19.027867         Listed Index Fund TOPIX\n",
       "IVV US Equity   41.804595        iShares Core S&P 500 ETF\n",
       "QQQ US Equity   49.911337      Invesco QQQ Trust Series 1\n",
       "SPY US Equity   31.495045          SPDR S&P 500 ETF Trust\n",
       "USMV US Equity  14.857808  iShares MSCI USA Min Vol Facto\n",
       "VOO US Equity   48.786481            Vanguard S&P 500 ETF\n",
       "VTI US Equity   46.148231  Vanguard Total Stock Market ET\n",
       "VUG US Equity   21.072159             Vanguard Growth ETF"
      ]
     },
     "execution_count": 11,
     "metadata": {},
     "output_type": "execute_result"
    }
   ],
   "source": [
    "newdf4 = pd.DataFrame({r.name:r.df()[r.name] for r in response})\n",
    "newdf4"
   ]
  },
  {
   "cell_type": "code",
   "execution_count": 13,
   "metadata": {},
   "outputs": [
    {
     "data": {
      "text/plain": [
       "['BqapiRequestExecutor',\n",
       " 'BqlItem',\n",
       " 'InvalidItemsError',\n",
       " 'InvalidParameterGroupError',\n",
       " 'InvalidParameterNameError',\n",
       " 'InvalidParameterValueError',\n",
       " 'InvalidUniverseError',\n",
       " 'Items',\n",
       " 'MissingParameterError',\n",
       " 'NA',\n",
       " 'Preferences',\n",
       " 'Request',\n",
       " 'RequestExecutor',\n",
       " 'Response',\n",
       " 'ResponseError',\n",
       " 'Service',\n",
       " 'SingleItemResponse',\n",
       " 'UnexpectedParameterError',\n",
       " 'UnexpectedResponseError',\n",
       " 'Universe',\n",
       " 'ValidationError',\n",
       " '__builtins__',\n",
       " '__cached__',\n",
       " '__doc__',\n",
       " '__file__',\n",
       " '__loader__',\n",
       " '__name__',\n",
       " '__package__',\n",
       " '__path__',\n",
       " '__spec__',\n",
       " '__version__',\n",
       " '_version',\n",
       " 'ast',\n",
       " 'combined_df',\n",
       " 'let',\n",
       " 'logging',\n",
       " 'om',\n",
       " 'request',\n",
       " 'service']"
      ]
     },
     "execution_count": 13,
     "metadata": {},
     "output_type": "execute_result"
    }
   ],
   "source": [
    "dir(bql)"
   ]
  },
  {
   "cell_type": "code",
   "execution_count": null,
   "metadata": {},
   "outputs": [],
   "source": []
  }
 ],
 "metadata": {
  "kernelspec": {
   "display_name": "Python 3",
   "language": "python",
   "name": "python3"
  },
  "language_info": {
   "codemirror_mode": {
    "name": "ipython",
    "version": 3
   },
   "file_extension": ".py",
   "mimetype": "text/x-python",
   "name": "python",
   "nbconvert_exporter": "python",
   "pygments_lexer": "ipython3",
   "version": "3.7.6"
  }
 },
 "nbformat": 4,
 "nbformat_minor": 4
}
