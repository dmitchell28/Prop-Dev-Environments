{
 "cells": [
  {
   "cell_type": "markdown",
   "metadata": {},
   "source": [
    "## Bloomberg BQuant Webinar Series: <br> Finding ESG Bonds\n",
    "This is a companion notebook to the \"Seeing Green: Finding ESG Bonds\" webinar."
   ]
  },
  {
   "cell_type": "code",
   "execution_count": null,
   "metadata": {},
   "outputs": [],
   "source": [
    "import bql\n",
    "import pandas as pd\n",
    "import bqviz as bqv\n",
    "from functools import reduce"
   ]
  },
  {
   "cell_type": "code",
   "execution_count": null,
   "metadata": {},
   "outputs": [],
   "source": [
    "bq = bql.Service()"
   ]
  },
  {
   "cell_type": "code",
   "execution_count": null,
   "metadata": {},
   "outputs": [],
   "source": [
    "equity = '324382z Ln Equity'\n",
    "\n",
    "vm_bonds = bq.univ.debt(equity)\n",
    "\n",
    "request = bql.Request(vm_bonds,bq.data.name().group().count())\n",
    "\n",
    "response = bq.execute(request)[0].df()\n",
    "response"
   ]
  },
  {
   "cell_type": "code",
   "execution_count": null,
   "metadata": {},
   "outputs": [],
   "source": [
    "bond = bq.univ.list('AM2044296 Corp')\n",
    "\n",
    "#direct_issuer = bq.univ.issuerof(bond)\n",
    "#parent = bq.univ.parent(bond,type='direct')\n",
    "ultimate_parent = bq.univ.parent(bond,type='ultimate')\n",
    "\n",
    "request = bql.Request(ultimate_parent,bq.data.name())\n",
    "\n",
    "response = bq.execute(request)\n",
    "\n",
    "response[0].df()"
   ]
  },
  {
   "cell_type": "markdown",
   "metadata": {},
   "source": [
    "# Linking Bonds to ESG/Fundamental Data"
   ]
  },
  {
   "cell_type": "code",
   "execution_count": null,
   "metadata": {},
   "outputs": [],
   "source": [
    "bond_index = bq.univ.members('LP01TREU Index')\n",
    "\n",
    "issuer_univ = bq.univ.issuerof(bond_index)\n",
    "\n",
    "issuer_count = bq.data.net_debt_to_ebitda().group(bq.data.gics_sector_name()).median()\n",
    "\n",
    "request = bql.Request(issuer_univ,issuer_count)\n",
    "\n",
    "response = bq.execute(request)\n",
    "\n",
    "response[0].df()"
   ]
  },
  {
   "cell_type": "markdown",
   "metadata": {},
   "source": [
    "# ESG Ranking"
   ]
  },
  {
   "cell_type": "code",
   "execution_count": null,
   "metadata": {},
   "outputs": [],
   "source": [
    "bonds_univ = bq.univ.members('LUACTRUU Index')\n",
    "\n",
    "issuer_univ = bq.univ.parent(bonds_univ,type='Ultimate')"
   ]
  },
  {
   "cell_type": "code",
   "execution_count": null,
   "metadata": {},
   "outputs": [],
   "source": [
    "#esg factors\n",
    "\n",
    "ghg = bq.data.ghg_intensity_per_sales(fpt='A',FPO='-1')\n",
    "energy = bq.data.energy_intensity_per_sales(fpt='a',fpo='-1')\n",
    "\n",
    "ghg_rank = ghg.group().dropna(remove_id=True).rank(order='asc')\n",
    "energy_rank = energy.group().dropna(remove_id=True).rank(order='asc')\n",
    "\n",
    "top_10_esg_score = bq.func.matches(energy_rank,energy_rank<=10)\n",
    "\n",
    "fields = {'Score':top_10_esg_score.groupsort(order='asc')}"
   ]
  },
  {
   "cell_type": "code",
   "execution_count": null,
   "metadata": {},
   "outputs": [],
   "source": [
    "request = bql.Request(issuer_univ,fields,with_params={'currency':'USD'})"
   ]
  },
  {
   "cell_type": "code",
   "execution_count": null,
   "metadata": {},
   "outputs": [],
   "source": [
    "response = bq.execute(request)\n",
    "response[0].df()"
   ]
  },
  {
   "cell_type": "code",
   "execution_count": null,
   "metadata": {},
   "outputs": [],
   "source": [
    "bonds_for_issuer = bq.univ.bonds('PPG US Equity')\n",
    "\n",
    "fields = {'Green Bond':bq.data.green_bond_loan_indicator(),\n",
    "         'Spread':bq.data.spread(),\n",
    "         'Maturity':bq.data.maturity()}\n",
    "\n",
    "request = bql.Request(bonds_for_issuer,fields)\n",
    "\n",
    "response = bq.execute(request)\n",
    "\n",
    "chart_data = pd.concat([r.df().iloc[:,[-1]] for r in response],axis=1)\n",
    "chart_data.head()"
   ]
  },
  {
   "cell_type": "code",
   "execution_count": null,
   "metadata": {},
   "outputs": [],
   "source": [
    "scatter = bqv.InteractiveScatterPlot(chart_data[['Maturity','Spread']])\n",
    "scatter.show()"
   ]
  },
  {
   "cell_type": "code",
   "execution_count": null,
   "metadata": {},
   "outputs": [],
   "source": [
    "scatter.selected_data"
   ]
  },
  {
   "cell_type": "markdown",
   "metadata": {},
   "source": [
    "# Green Bond Issuance"
   ]
  },
  {
   "cell_type": "code",
   "execution_count": null,
   "metadata": {},
   "outputs": [],
   "source": [
    "total_univ = bq.univ.bondsuniv('All')\n",
    "\n",
    "conditions = [bq.data.issue_dt() >='2015-01-01',\n",
    "             bq.data.issue_dt()<='2019-09-30',\n",
    "             bq.data.green_bond_loan_indicator()=='Y']\n",
    "\n",
    "criteria = reduce(bq.func.and_,conditions)\n",
    "\n",
    "greenbonds_univ = bq.univ.filter(total_univ,criteria)\n",
    "\n",
    "#data\n",
    "amt_issued = bq.data.amt_issued(currency='USD').group(bq.data.issue_dt().year()).sum()\n",
    "\n",
    "fields = {'Amt Issued (USD)': amt_issued}\n",
    "\n",
    "request = bql.Request(greenbonds_univ,fields)\n",
    "response = bq.execute(request)\n",
    "\n",
    "final_output = response[0].df()[['Amt Issued (USD)']]\n",
    "final_output"
   ]
  },
  {
   "cell_type": "code",
   "execution_count": null,
   "metadata": {},
   "outputs": [],
   "source": [
    "bqv.BarPlot(final_output,color_mode='index').show()"
   ]
  },
  {
   "cell_type": "code",
   "execution_count": null,
   "metadata": {},
   "outputs": [],
   "source": [
    "total_univ = bq.univ.bondsuniv('All')\n",
    "\n",
    "conditions = [bq.data.issue_dt() >='2015-01-01',\n",
    "             bq.data.issue_dt()<='2019-09-30',\n",
    "             bq.data.green_bond_loan_indicator()=='Y',\n",
    "             bq.data.bb_composite() >= 'BBB-']\n",
    "\n",
    "criteria = reduce(bq.func.and_,conditions)\n",
    "\n",
    "greenbonds_univ = bq.univ.filter(total_univ,criteria)\n",
    "\n",
    "#data\n",
    "amt_issued = bq.data.amt_issued(currency='USD')\n",
    "issuer_name = bq.data.long_comp_name()\n",
    "amt_by_issuer = amt_issued.group(issuer_name).sum().groupsort()/10000000000\n",
    "\n",
    "request = bql.Request(greenbonds_univ,{'Amt (USD)':amt_by_issuer})\n",
    "\n",
    "response = bq.execute(request)\n",
    "response[0].df().head()"
   ]
  },
  {
   "cell_type": "code",
   "execution_count": null,
   "metadata": {},
   "outputs": [],
   "source": [
    "print(criteria)"
   ]
  }
 ],
 "metadata": {
  "kernelspec": {
   "display_name": "Python 3 (sandboxed)",
   "language": "python",
   "name": "python3"
  },
  "language_info": {
   "codemirror_mode": {
    "name": "ipython",
    "version": 3
   },
   "file_extension": ".py",
   "mimetype": "text/x-python",
   "name": "python",
   "nbconvert_exporter": "python",
   "pygments_lexer": "ipython3",
   "version": "3.5.5"
  }
 },
 "nbformat": 4,
 "nbformat_minor": 4
}
