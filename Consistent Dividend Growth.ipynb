{
 "cells": [
  {
   "cell_type": "markdown",
   "metadata": {},
   "source": [
    "# Bloomberg BQuant Spotlight Webinar Series: Consistent Dividend Growth\n",
    "This is a companion notebook to the Consistent Dividend Growth webinar."
   ]
  },
  {
   "cell_type": "code",
   "execution_count": null,
   "metadata": {
    "deletable": true,
    "editable": true
   },
   "outputs": [],
   "source": [
    "import bql\n",
    "import pandas as pd\n",
    "import bqviz"
   ]
  },
  {
   "cell_type": "code",
   "execution_count": null,
   "metadata": {
    "deletable": true,
    "editable": true
   },
   "outputs": [],
   "source": [
    "bq = bql.Service()"
   ]
  },
  {
   "cell_type": "markdown",
   "metadata": {
    "editable": true
   },
   "source": [
    "### Explore the CASH_DIVS field for one company"
   ]
  },
  {
   "cell_type": "code",
   "execution_count": null,
   "metadata": {},
   "outputs": [],
   "source": [
    "# We will analyze Broadcom in this section\n",
    "divs_10yr = bq.data.cash_divs(dates = bq.func.range('-10Y','0D'),dividend_type='regular',ca_date_type='effective_date').dropna()\n",
    "divs_10yr_chgs = bq.func.diff(divs_10yr).dropna()\n",
    "\n",
    "items = {\n",
    "    '10_yr_div': divs_10yr,\n",
    "    '10_yr_div_chg': divs_10yr_chgs\n",
    "}\n",
    "\n",
    "univ = bq.univ.list('AVGO UW Equity')\n",
    "\n",
    "req = bql.Request(univ, items)"
   ]
  },
  {
   "cell_type": "code",
   "execution_count": null,
   "metadata": {
    "collapsed": false,
    "editable": true,
    "jupyter": {
     "outputs_hidden": false
    }
   },
   "outputs": [],
   "source": [
    "resp = bq.execute(req)\n",
    "combined = bql.combined_df(resp).set_index(['DATE']).dropna()\n",
    "combined.head()"
   ]
  },
  {
   "cell_type": "code",
   "execution_count": null,
   "metadata": {
    "collapsed": false,
    "editable": true,
    "jupyter": {
     "outputs_hidden": false
    }
   },
   "outputs": [],
   "source": [
    "bqviz.BarPlot(combined[['10_yr_div']]).set_style().show()"
   ]
  },
  {
   "cell_type": "code",
   "execution_count": null,
   "metadata": {
    "collapsed": false,
    "editable": true,
    "jupyter": {
     "outputs_hidden": false
    }
   },
   "outputs": [],
   "source": [
    "bqviz.OverUnderPlot(combined[['10_yr_div_chg']]).set_style().show()"
   ]
  },
  {
   "cell_type": "markdown",
   "metadata": {
    "deletable": true,
    "editable": true
   },
   "source": [
    "### Analyze Div Changes for a broader universe"
   ]
  },
  {
   "cell_type": "code",
   "execution_count": null,
   "metadata": {
    "collapsed": false,
    "deletable": true,
    "editable": true,
    "jupyter": {
     "outputs_hidden": false
    }
   },
   "outputs": [],
   "source": [
    "# We explore the dividends data item\n",
    "index = 'SPX Index'\n",
    "univ = bq.univ.members('SPX Index')\n",
    "\n",
    "min_div_chg = bq.func.min(divs_10yr_chgs)\n",
    "\n",
    "items = {\n",
    "    'min_div_chg': min_div_chg\n",
    "}\n",
    "\n",
    "req = bql.Request(univ, items)"
   ]
  },
  {
   "cell_type": "code",
   "execution_count": null,
   "metadata": {
    "collapsed": false,
    "deletable": true,
    "editable": true,
    "jupyter": {
     "outputs_hidden": false
    }
   },
   "outputs": [],
   "source": [
    "resp = bq.execute(req)\n",
    "combined = bql.combined_df(resp)\n",
    "combined.sort_values('min_div_chg').head(10)"
   ]
  },
  {
   "cell_type": "markdown",
   "metadata": {
    "deletable": true,
    "editable": true
   },
   "source": [
    "### Define screening criteria"
   ]
  },
  {
   "cell_type": "code",
   "execution_count": null,
   "metadata": {
    "collapsed": false,
    "deletable": true,
    "editable": true,
    "jupyter": {
     "outputs_hidden": false
    }
   },
   "outputs": [],
   "source": [
    "#check that the company pays dividends\n",
    "div_yield = bq.data.dividend_yield()*100\n",
    "pays_div = div_yield > 0\n",
    "\n",
    "#check if constantily is paying dividends\n",
    "has_cut_divs =  bq.func.if_(\n",
    "    min_div_chg<0, True, False\n",
    ")\n",
    "\n",
    "#check if company is large enough to be considered\n",
    "market_cap = bq.data.cur_mkt_cap(currency='USD')\n",
    "large_enough = market_cap>'1B'\n"
   ]
  },
  {
   "cell_type": "code",
   "execution_count": null,
   "metadata": {
    "collapsed": false,
    "deletable": true,
    "editable": true,
    "jupyter": {
     "outputs_hidden": false
    }
   },
   "outputs": [],
   "source": [
    "#filtering the universe\n",
    "univ_filtered = bq.univ.filter(univ,bq.func.and_(bq.func.and_(pays_div, has_cut_divs==False), large_enough))\n",
    "\n",
    "items = {\n",
    "    'div_yield': div_yield['value'],\n",
    "    'mkt_cap': market_cap['value']\n",
    "}\n",
    "\n",
    "req = bql.Request(univ_filtered, items)"
   ]
  },
  {
   "cell_type": "code",
   "execution_count": null,
   "metadata": {},
   "outputs": [],
   "source": [
    "resp = bq.execute(req)\n",
    "combined = bql.combined_df(resp)\n",
    "combined.head()"
   ]
  },
  {
   "cell_type": "markdown",
   "metadata": {
    "deletable": true,
    "editable": true
   },
   "source": [
    "### Create a hypothetical portfolio weighted by the dividend yield"
   ]
  },
  {
   "cell_type": "code",
   "execution_count": null,
   "metadata": {
    "deletable": true,
    "editable": true
   },
   "outputs": [],
   "source": [
    "weighting_metric = div_yield\n",
    "weight = weighting_metric / bq.func.group(weighting_metric).sum().ungroup()\n",
    "\n",
    "items = {\n",
    "    'weight': weight['value'],\n",
    "    'div_yield': div_yield['value'],\n",
    "    'mkt_cap': market_cap['value']\n",
    "}\n",
    "\n",
    "req = bql.Request(univ_filtered, items)\n",
    "resp = bq.execute(req)"
   ]
  },
  {
   "cell_type": "code",
   "execution_count": null,
   "metadata": {},
   "outputs": [],
   "source": [
    "resp = bq.execute(req)\n",
    "combined = bql.combined_df(resp)\n",
    "combined.head()"
   ]
  },
  {
   "cell_type": "code",
   "execution_count": null,
   "metadata": {},
   "outputs": [],
   "source": [
    "combined['weight'].sum()"
   ]
  },
  {
   "cell_type": "markdown",
   "metadata": {},
   "source": [
    "### Compare Div Growth strategy to benchmark"
   ]
  },
  {
   "cell_type": "code",
   "execution_count": null,
   "metadata": {},
   "outputs": [],
   "source": [
    "debt_to_cap = bq.data.lt_debt_to_tot_cap()\n",
    "fcf_yield = bq.data.free_cash_flow_yield()\n",
    "\n",
    "compare_items = {\n",
    "    'div_yield': div_yield['value'],\n",
    "    'market_cap': market_cap['value'],\n",
    "    'debt_to_cap': debt_to_cap['value'],\n",
    "    'fcf_yield': fcf_yield['value']\n",
    "}\n"
   ]
  },
  {
   "cell_type": "code",
   "execution_count": null,
   "metadata": {},
   "outputs": [],
   "source": [
    "def wgt_avg(bql_item, weighting_metric):\n",
    "    bql_item_replacena = bq.func.replacenonnumeric(bql_item['value'], 0)\n",
    "    wavg_item = bq.func.wavg(bq.func.group(bql_item_replacena['value']), bq.func.group(weighting_metric['value']))\n",
    "    return wavg_item['value']\n",
    "\n",
    "def get_wgt_avg_items(orig_dict, wgt_item):\n",
    "    new_dict = {}\n",
    "    for key, val in orig_dict.items():\n",
    "        new_dict[key] = wgt_avg(val, wgt_item)\n",
    "    return new_dict"
   ]
  },
  {
   "cell_type": "code",
   "execution_count": null,
   "metadata": {},
   "outputs": [],
   "source": [
    "#div growth portfolio\n",
    "dg_items = get_wgt_avg_items(compare_items, div_yield)\n",
    "dg_req = bql.Request(univ_filtered, dg_items)\n",
    "\n",
    "#benchmark\n",
    "bmrk_items = get_wgt_avg_items(compare_items, market_cap)\n",
    "bmrk_req = bql.Request(univ, bmrk_items)"
   ]
  },
  {
   "cell_type": "code",
   "execution_count": null,
   "metadata": {},
   "outputs": [],
   "source": [
    "resp = bq.execute(dg_req)\n",
    "div_growth_df = bql.combined_df(resp)\n",
    "div_growth_df.index.values[0] = 'Div Growth'"
   ]
  },
  {
   "cell_type": "code",
   "execution_count": null,
   "metadata": {},
   "outputs": [],
   "source": [
    "resp = bq.execute(bmrk_req)\n",
    "bmrk_df = bql.combined_df(resp)\n",
    "bmrk_df.index.values[0] = \"Benchmark\""
   ]
  },
  {
   "cell_type": "code",
   "execution_count": null,
   "metadata": {},
   "outputs": [],
   "source": [
    "comparison_df = pd.concat([div_growth_df, bmrk_df])\n",
    "comparison_df"
   ]
  },
  {
   "cell_type": "code",
   "execution_count": null,
   "metadata": {},
   "outputs": [],
   "source": [
    "plots = [\n",
    "    (bqviz.BarPlot, 'Debt / Cap', ['debt_to_cap']),\n",
    "    (bqviz.BarPlot, 'FCF yield', ['fcf_yield']),\n",
    "    (bqviz.BarPlot, 'Div Yield', ['div_yield']),\n",
    "    (bqviz.BarPlot, 'Mkt Cap', ['market_cap']),\n",
    "]\n",
    "\n",
    "comparison = bqviz.MultiGridPlot(comparison_df, plots, cols=2)\n",
    "\n",
    "comparison.set_style().show()"
   ]
  }
 ],
 "metadata": {
  "kernelspec": {
   "display_name": "Python 3 (sandboxed)",
   "language": "python",
   "name": "python3"
  },
  "language_info": {
   "codemirror_mode": {
    "name": "ipython",
    "version": 3
   },
   "file_extension": ".py",
   "mimetype": "text/x-python",
   "name": "python",
   "nbconvert_exporter": "python",
   "pygments_lexer": "ipython3",
   "version": "3.5.5"
  }
 },
 "nbformat": 4,
 "nbformat_minor": 4
}
