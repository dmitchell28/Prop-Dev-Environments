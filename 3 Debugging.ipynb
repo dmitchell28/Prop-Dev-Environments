{
 "cells": [
  {
   "cell_type": "markdown",
   "metadata": {},
   "source": [
    "<a id=\"debug-top\"></a>\n",
    "<div style=\"width: 50px; height: 50px; border-radius: 50%; background: #2E86C1; margin-bottom: 0px; text-align: center;\">\n",
    "    <img src=\"../img/Welcome Page/orbit.png\" style=\"max-width: 150%; max-height: 150%; right: 25%; bottom: 13px; position: relative;\">\n",
    "</div>\n",
    "<h1 style=\"margin-top: 20px; margin-bottom: 5px;\">Debugging & Maintenance<br><span style=\"color: orange; margin-bottom: 0px;\">Find and Fix Issues in Your Projects</span></h1>\n",
    "<h4 style=\"color: orange; margin-top: 0px;\">(15-min Read)</h4>"
   ]
  },
  {
   "cell_type": "markdown",
   "metadata": {},
   "source": [
    "By the end of this document, you will be able to:\n",
    "1. Start and stop a BQuant debugging session\n",
    "1. Effectively use the BQuant Debugger side panel\n",
    "1. Set breakpoints, monitor changes in variables, and navigate a call stack\n",
    "1. Use the BQuant Debugger to fix mistakes in example code"
   ]
  },
  {
   "cell_type": "markdown",
   "metadata": {},
   "source": [
    "### Contents\n",
    "- [What is a Debugger?](#debug-intro)\n",
    "- [Starting & Stopping the Debugger](#debug-start)\n",
    "- [Panel Navigation](#debug-panels)\n",
    "- [Setting Breakpoints](#debug-break)\n",
    "- [Monitoring Variables](#debug-var)\n",
    "- [The Call Stack](#debug-call)\n",
    "- [Use the Source Panel to Debug .py Files](#debug-py)\n",
    "- [Debugger Practice](#debug-practice)\n",
    "\n",
    "<a href=\"2 Dashboards.ipynb\">&larr; Back to Dashboards</a>&emsp; | &emsp;\n",
    "<a href=\"4 Orbit Project.ipynb\">Continue to Orbit: Final Project &rarr;</a>"
   ]
  },
  {
   "cell_type": "markdown",
   "metadata": {},
   "source": [
    "---\n",
    "<a id=\"debug-intro\"></a>\n",
    "<h1>Debugging in BQuant<br><span style=\"color: orange;\">What is a Debugger?</span></h1>"
   ]
  },
  {
   "cell_type": "markdown",
   "metadata": {},
   "source": [
    "Every so often, you’ll find that your code throws an error or does something unexpected. It may be that you forgot to place a colon after declaring a function, or a series of nested parentheses wasn’t closed properly. But code that is syntactically correct may still do things you didn’t intend. Even the most experienced developers spend time correcting their own mistakes, and a Debugger is a powerful tool for finding and squashing bugs. This tutorial will explore the basics of using the BQuant Debugger."
   ]
  },
  {
   "cell_type": "markdown",
   "metadata": {},
   "source": [
    "[&uarr; Return to Top](#debug-top)"
   ]
  },
  {
   "cell_type": "markdown",
   "metadata": {},
   "source": [
    "---\n",
    "<a id=\"debug-start\"></a>\n",
    "<h1><span style=\"color: orange;\">Starting & Stopping the Debugger</span></h1>"
   ]
  },
  {
   "cell_type": "markdown",
   "metadata": {},
   "source": [
    "BQuant's Debugger tool can be started and stopped in one of three ways.\n",
    "   1. Navigate to <code>Debug &rarr; Start Debugger</code> in the Toolbar. \n",
    "   <br><br><img src=\"../img/Orbit/start_debug1.png\" style=\"margin-left: 50px; max-height: 100px;\">\n",
    "   <br><br>\n",
    "   1. Click the <img src=\"../img/Orbit/debug_symbol.png\"> icon in the upper-right corner of the BQuant window to expand the Debugger sidebar. Then click the <img src=\"../img/Orbit/play.png\"> button to start.\n",
    "   1. Use the function key shortcut `F8`\n",
    "   \n",
    "Starting/stopping the Debugger will restart your kernel session, meaning that Python will not remember any variables declared before the debugging session begins and after it ends.\n",
    "\n",
    "&#9888; Note that a notebook must be open before a debugging session can begin on that notebook. At least one notebook or Python console must be open in order to start the Debugger."
   ]
  },
  {
   "cell_type": "markdown",
   "metadata": {},
   "source": [
    "<div style=\"border: 1px dotted orange; padding-left: 10px; padding-bottom: 10px;\">\n",
    "    <h3>&#9998; Try it out</h3>\n",
    "    <p>\n",
    "        Start and stop a debugging session using any of the methods described above.\n",
    "    </p>\n",
    "</div>"
   ]
  },
  {
   "cell_type": "markdown",
   "metadata": {},
   "source": [
    "[&uarr; Return to Top](#debug-top)"
   ]
  },
  {
   "cell_type": "markdown",
   "metadata": {},
   "source": [
    "---\n",
    "<a id=\"debug-panels\"></a>\n",
    "<h1><span style=\"color: orange;\">Panel Navigation</span></h1>"
   ]
  },
  {
   "cell_type": "markdown",
   "metadata": {},
   "source": [
    "<p>When a debugging session starts, a new Python kernel is initialized, line numbers will automatically appear in your code cells, and the Debugger sidebar will open on the right side of the screen.</p><br>\n",
    "<div style=\"text-align: center;\">\n",
    "    <h3 style=\"color: orange;\">Debugger Sidebar</h3>\n",
    "    <img src=\"../img/Orbit/debugger_panel3.png\" style=\"max-height: 600px; width: auto;\">\n",
    "</div>\n",
    "\n",
    "The Debugger sidebar is broken into 5 smaller windows.\n",
    "   1. `Session Selector` - Use the Session Selector to navigate between different Debugger sessions. The Selector allows you to start and stop separate debugging sessions for different notebooks in your project.\n",
    "   1. `Variable Watch Panel` - Monitor the current state of your variables in the Variable Watch Panel. As you step through the code, this panel will display the different variables declared as well as their types and values. Use the switch in the top right corner to switch between tree and table views.\n",
    "   1. `Call Stack Monitor` - A \"call stack\" refers to the order in which levels of code are executed. If your code has nested functions, for example, the inner function is executed first, and therefore will appear at the top of the call stack. The call stack Monitor will help you track your place in the stack as you navigate the various functions and dependencies of your code.\n",
    "   1. `Breakpoints Panel` - Breakpoints are Python's STOP signs &#128721;. When a breakpoint is set at a particular line of code, Python will pause execution at that line. You can then use the <span style=\"color: orange;\">Execution Flow Controls</span> to control how the remaining code is executed until the next breakpoint. Use the <img src=\"../img/Orbit/disable_breakpoints.png\"> button to quickly remove all breakpoints.\n",
    "   <div style=\"text-align: center;\">\n",
    "        <br>\n",
    "       <h5 style=\"color: orange;\">Execution Flow Controls</h5>\n",
    "        <br>\n",
    "       <img src=\"../img/Orbit/callstack_controls.png\"> \n",
    "   </div>\n",
    "   1. `Source Panel` - Use the Source Panel to monitor the current status of execution. When Python reaches a breakpoint, a line of code will be highlighted in the Source Panel allowing you to track your code as it's being executed."
   ]
  },
  {
   "cell_type": "markdown",
   "metadata": {},
   "source": [
    "<div style=\"border: 1px dotted orange; padding-left: 10px; padding-bottom: 10px;\">\n",
    "    <h3>&#9998; Try it out</h3>\n",
    "    <p>\n",
    "        Familiarize yourself with the Debugger Sidebar.\n",
    "        <ol>\n",
    "            <li>Start a new debugging session if one hasn't been started already.</li>\n",
    "            <li>When the Debugger Sidebar opens, match what you see in the Debugger Sidebar with the diagram above. Familiarize yourself with each panel and its function.</li>\n",
    "            <li>Hover your mouse over each button in the Execution Flow Controls to get a brief description of their purpose.</li>\n",
    "        </ol>\n",
    "    </p>\n",
    "    <br>\n",
    "</div>"
   ]
  },
  {
   "cell_type": "markdown",
   "metadata": {},
   "source": [
    "[&uarr; Return to Top](#debug-top)"
   ]
  },
  {
   "cell_type": "markdown",
   "metadata": {},
   "source": [
    "---\n",
    "<a id=\"debug-break\"></a>\n",
    "<h1><span style=\"color: orange;\">Setting Breakpoints</span></h1>"
   ]
  },
  {
   "cell_type": "markdown",
   "metadata": {},
   "source": [
    "You can set a breakpoint by clicking to the left of the line number where you want the code to pause. Notice that hovering your mouse next to the line numbers in this area generates a faint red circle. After you click to set the breakpoint, a red circle remains next to the line number to remind you that execution will pause at this line. A line representing this new breakpoint will also be displayed in the Breakpoints panel. You can set as many of these breakpoints as you like."
   ]
  },
  {
   "cell_type": "markdown",
   "metadata": {},
   "source": [
    "#### Setting a Breakpoint\n",
    "<img src=\"../img/Orbit/set_breakpoint4.gif\">"
   ]
  },
  {
   "cell_type": "markdown",
   "metadata": {},
   "source": [
    "<div style=\"border: 1px dotted orange; padding-left: 10px; padding-bottom: 10px;\">\n",
    "    <h3>&#9998; Try it out</h3>\n",
    "    <p>\n",
    "        Practice Adding and Removing Breakpoints\n",
    "        <ol>\n",
    "            <li>Start a new debugging session if one hasn't been started already.</li>\n",
    "            <li>Set three breakpoints on any three lines in the code cell below.</li>\n",
    "            <li>For one of your breakpoints, click the red circle to the left of the line number to disable it.</li>\n",
    "            <li>Click the <img src=\"../img/Orbit/disable_breakpoints.png\"> button in the Breakpoints Panel to remove the two remaining breakpoints.</li>\n",
    "        </ol>\n",
    "    </p>\n",
    "    <br>\n",
    "</div>"
   ]
  },
  {
   "cell_type": "code",
   "execution_count": 1,
   "metadata": {},
   "outputs": [
    {
     "ename": "IndexError",
     "evalue": "string index out of range",
     "output_type": "error",
     "traceback": [
      "\u001b[1;31m---------------------------------------------------------------------------\u001b[0m",
      "\u001b[1;31mIndexError\u001b[0m                                Traceback (most recent call last)",
      "\u001b[1;32m<ipython-input-1-955e2095ac3f>\u001b[0m in \u001b[0;36m<module>\u001b[1;34m\u001b[0m\n\u001b[0;32m      9\u001b[0m     \u001b[1;32mreturn\u001b[0m \u001b[0moutput_string\u001b[0m\u001b[1;33m\u001b[0m\u001b[1;33m\u001b[0m\u001b[0m\n\u001b[0;32m     10\u001b[0m \u001b[1;33m\u001b[0m\u001b[0m\n\u001b[1;32m---> 11\u001b[1;33m \u001b[0mx\u001b[0m \u001b[1;33m=\u001b[0m \u001b[0mreverse_string\u001b[0m\u001b[1;33m(\u001b[0m\u001b[1;34m'testing a function'\u001b[0m\u001b[1;33m)\u001b[0m\u001b[1;33m\u001b[0m\u001b[1;33m\u001b[0m\u001b[0m\n\u001b[0m\u001b[0;32m     12\u001b[0m \u001b[0mprint\u001b[0m\u001b[1;33m(\u001b[0m\u001b[0mx\u001b[0m\u001b[1;33m)\u001b[0m\u001b[1;33m\u001b[0m\u001b[1;33m\u001b[0m\u001b[0m\n",
      "\u001b[1;32m<ipython-input-1-955e2095ac3f>\u001b[0m in \u001b[0;36mreverse_string\u001b[1;34m(input_string)\u001b[0m\n\u001b[0;32m      5\u001b[0m     \u001b[0moutput_string\u001b[0m \u001b[1;33m=\u001b[0m \u001b[1;34m''\u001b[0m\u001b[1;33m\u001b[0m\u001b[1;33m\u001b[0m\u001b[0m\n\u001b[0;32m      6\u001b[0m     \u001b[1;32mwhile\u001b[0m \u001b[0mi\u001b[0m \u001b[1;33m>\u001b[0m \u001b[1;36m0\u001b[0m\u001b[1;33m:\u001b[0m\u001b[1;33m\u001b[0m\u001b[1;33m\u001b[0m\u001b[0m\n\u001b[1;32m----> 7\u001b[1;33m         \u001b[0moutput_string\u001b[0m \u001b[1;33m+=\u001b[0m \u001b[0minput_string\u001b[0m\u001b[1;33m[\u001b[0m\u001b[0mi\u001b[0m\u001b[1;33m]\u001b[0m\u001b[1;33m\u001b[0m\u001b[1;33m\u001b[0m\u001b[0m\n\u001b[0m\u001b[0;32m      8\u001b[0m         \u001b[0mi\u001b[0m \u001b[1;33m-=\u001b[0m \u001b[1;36m1\u001b[0m\u001b[1;33m\u001b[0m\u001b[1;33m\u001b[0m\u001b[0m\n\u001b[0;32m      9\u001b[0m     \u001b[1;32mreturn\u001b[0m \u001b[0moutput_string\u001b[0m\u001b[1;33m\u001b[0m\u001b[1;33m\u001b[0m\u001b[0m\n",
      "\u001b[1;31mIndexError\u001b[0m: string index out of range"
     ]
    }
   ],
   "source": [
    "# Debugger Example Code\n",
    "def reverse_string(input_string):\n",
    "    input_string_length = len(input_string)\n",
    "    i = input_string_length\n",
    "    output_string = ''\n",
    "    while i > 0:\n",
    "        output_string += input_string[i]\n",
    "        i -= 1\n",
    "    return output_string\n",
    "\n",
    "x = reverse_string('testing a function')\n",
    "print(x)\n"
   ]
  },
  {
   "cell_type": "markdown",
   "metadata": {},
   "source": [
    "[&uarr; Return to Top](#debug-top)"
   ]
  },
  {
   "cell_type": "markdown",
   "metadata": {},
   "source": [
    "---\n",
    "<a id=\"debug-var\"></a>\n",
    "<h1><span style=\"color: orange;\">Monitoring Variables</span></h1>"
   ]
  },
  {
   "cell_type": "markdown",
   "metadata": {},
   "source": [
    "As you step through the code during the debugging process, it can be helpful to track the changes of your variables. After a breakpoint is set, the current state of your variables will appear in the panel. The panel will automatically update with any changes to your variables upon continuing execution. \n",
    "\n",
    "In the example below, a breakpoint is triggered in every iteration of a loop. Using the Variable Watch Panel, we can monitor the value of a variable named `i` for each iteration.\n",
    "<br><br>\n",
    "<img src=\"../img/Orbit/variable_panel5.gif\">"
   ]
  },
  {
   "cell_type": "markdown",
   "metadata": {},
   "source": [
    "<div style=\"border: 1px dotted orange; padding-left: 10px; padding-bottom: 10px;\">\n",
    "    <h3>&#9998; Try it out</h3>\n",
    "    <p>\n",
    "        Practice Monitoring Variables\n",
    "        <ol>\n",
    "            <li>Start a new debugging session if one hasn't been started already.</li>\n",
    "            <li>Set a breakpoint at line 7 in the code below.</li>\n",
    "            <li>Run the cell.</li>\n",
    "            <li>Use the Execution Flow Controls to continue execution and notice how the variables change in the panel.</li>\n",
    "        </ol>\n",
    "    </p>\n",
    "    <br>\n",
    "</div>"
   ]
  },
  {
   "cell_type": "code",
   "execution_count": null,
   "metadata": {},
   "outputs": [],
   "source": [
    "# Debugger Example Code\n",
    "def reverse_string(input_string):\n",
    "    input_string_length = len(input_string)\n",
    "    i = input_string_length - 1\n",
    "    output_string = ''\n",
    "    while i > 0:\n",
    "        output_string += input_string[i]\n",
    "        i -= 1\n",
    "    return output_string\n",
    "\n",
    "x = reverse_string('testing a function')\n",
    "print(x)\n"
   ]
  },
  {
   "cell_type": "markdown",
   "metadata": {},
   "source": [
    "[&uarr; Return to Top](#debug-top)"
   ]
  },
  {
   "cell_type": "markdown",
   "metadata": {},
   "source": [
    "---\n",
    "<a id=\"debug-call\"></a>\n",
    "<h1><span style=\"color: orange;\">The Call Stack</span></h1>"
   ]
  },
  {
   "cell_type": "markdown",
   "metadata": {},
   "source": [
    "A call stack is a mechanism by which the Python interpreter keeps track of its place when your code calls multiple functions. Upon calling a function, the Python interpreter adds it to the top of the stack and begins execution. If another function is called by that function, the inner function is placed on the top of the stack, and execution on the innermost function is given priority. Upon finishing the inner function, the interpreter removes it from the call stack and proceeds to the next item until all tasks in the stack are completed. You can [read more about call stacks here](https://developer.mozilla.org/en-US/docs/Glossary/Call_stack).\n",
    "\n",
    "The example below has two functions: `inner_function` is called by `outer_function`. We can use the panel to the right to monitor our place in the call stack and step into and out of levels in the stack."
   ]
  },
  {
   "cell_type": "markdown",
   "metadata": {},
   "source": [
    "<br>\n",
    "<img src=\"../img/Orbit/call_stack6.gif\">"
   ]
  },
  {
   "cell_type": "markdown",
   "metadata": {},
   "source": [
    "<div style=\"border: 1px dotted orange; padding-left: 10px; padding-bottom: 10px;\">\n",
    "    <h3>&#9998; Try it out</h3>\n",
    "    <p>\n",
    "        Practice Navigating the Call Stack\n",
    "        <ol>\n",
    "            <li>Start a new debugging session if one hasn't been started already.</li>\n",
    "            <li>Set a breakpoint on Line 5 in the code cell below.</li>\n",
    "            <li>Run the cell.</li>\n",
    "            <li>Use the Execution Flow Controls to step into the inner function.</li>\n",
    "            <li>Notice how functions populate and exit the Call Stack in the panel.</li>\n",
    "        </ol>\n",
    "    </p>\n",
    "    <br>\n",
    "</div>"
   ]
  },
  {
   "cell_type": "code",
   "execution_count": null,
   "metadata": {},
   "outputs": [],
   "source": [
    "# Debugger example code\n",
    "def outer_function():\n",
    "    outer_variable = 'Outer Function Reaches the Call Stack First'\n",
    "    print(outer_variable)\n",
    "    inner_function()\n",
    "    \n",
    "def inner_function():\n",
    "    inner_variable = 'Inner Function is Given Priority'\n",
    "    print(inner_variable)\n",
    "\n",
    "    \n",
    "outer_function()"
   ]
  },
  {
   "cell_type": "markdown",
   "metadata": {},
   "source": [
    "[&uarr; Return to Top](#debug-top)"
   ]
  },
  {
   "cell_type": "markdown",
   "metadata": {},
   "source": [
    "---\n",
    "<a id=\"debug-py\"></a>\n",
    "<h1><span style=\"color: orange;\">Use the Source Panel to Debug .py Files</span></h1>"
   ]
  },
  {
   "cell_type": "markdown",
   "metadata": {},
   "source": [
    "BQuant's Debugger tool is designed specifically for debugging Jupyter code cells, but we can use the Source Panel to help us debug code stored in \".py\" text files. In the example below, we import a function from a library named `my_code`. If we set a breakpoint before the function is called, we can step into the source file code using the Source Panel. Double-click on the Source Panel to debug the underlying Python file."
   ]
  },
  {
   "cell_type": "markdown",
   "metadata": {},
   "source": [
    "<br>\n",
    "<img src=\"../img/Orbit/source_panel4.gif\">"
   ]
  },
  {
   "cell_type": "markdown",
   "metadata": {},
   "source": [
    "<div style=\"border: 1px dotted orange; padding-left: 10px; padding-bottom: 10px;\">\n",
    "    <h3>&#9998; Try it out</h3>\n",
    "    <p>\n",
    "        Practice Setting Breakpoints\n",
    "        <ol>\n",
    "            <li>Start a new debugging session if one hasn't been started already.</li>\n",
    "            <li>Set a breakpoint at Line 3 in the code cell below.</li>\n",
    "            <li>Run the cell.</li>\n",
    "            <li>Use the Execution Flow Controls to step into <code>iterative_function</code>.</li>\n",
    "            <li>Expand the Source Panel by clicking on the filepath appearing next to \"Source.\"</li>\n",
    "            <li>Set a breakpoint on any line in the <code>my_code.py</code> file.\n",
    "        </ol>\n",
    "    </p>\n",
    "    <br>\n",
    "</div>"
   ]
  },
  {
   "cell_type": "code",
   "execution_count": null,
   "metadata": {},
   "outputs": [],
   "source": [
    "from my_code import iterative_function\n",
    "\n",
    "iterative_function()"
   ]
  },
  {
   "cell_type": "markdown",
   "metadata": {},
   "source": [
    "[&uarr; Return to Top](#debug-top)"
   ]
  },
  {
   "cell_type": "markdown",
   "metadata": {},
   "source": [
    "---\n",
    "<a id=\"debug-practice\"></a>\n",
    "<h1><span style=\"color: orange;\">Debugger Practice</span></h1>"
   ]
  },
  {
   "cell_type": "markdown",
   "metadata": {},
   "source": [
    "Practice with the BQuant Debugger by debugging the following code cell. The function below is meant to reverse a string. \n",
    "\n",
    "There are two bugs in the code below, and only one will produce an error message. The other bug will allow the code to finish, but the reversed string produced by the function is not correct. To start, set a breakpoint at line 7."
   ]
  },
  {
   "cell_type": "code",
   "execution_count": null,
   "metadata": {},
   "outputs": [],
   "source": [
    "# Debugger Example Code\n",
    "def reverse_string(input_string):\n",
    "    input_string_length = len(input_string)\n",
    "    i = input_string_length - 1\n",
    "    output_string = ''\n",
    "    while i > 0:\n",
    "        output_string += input_string[i]\n",
    "        i -= 1\n",
    "    return output_string\n",
    "\n",
    "x = reverse_string('debug')\n",
    "print(x)\n"
   ]
  },
  {
   "cell_type": "markdown",
   "metadata": {},
   "source": [
    "[&uarr; Return to Top](#debug-top)"
   ]
  },
  {
   "cell_type": "markdown",
   "metadata": {},
   "source": [
    "----\n",
    "<p style=\"text-align:center;\">\n",
    "    Click on the links below to continue learning.<br>\n",
    "    <a href=\"2 Dashboards.ipynb\">&larr; Back to Dashboards</a>&emsp;&emsp;\n",
    "    <a href=\"#debug-top\">&uarr; Return to Top</a>&emsp;&emsp;\n",
    "    <a href=\"4 Orbit Project.ipynb\">Continue to Orbit: Final Project &rarr;</a>\n",
    "    <br>\n",
    "    <br>\n",
    "    <a href=\"../Welcome.ipynb#welcome-top\" style=\"font-size: 12px;\">Return to the Welcome Page</a>\n",
    "</p>"
   ]
  }
 ],
 "metadata": {
  "kernelspec": {
   "display_name": "Python 3 (sandboxed)",
   "language": "python",
   "name": "python3"
  },
  "language_info": {
   "codemirror_mode": {
    "name": "ipython",
    "version": 3
   },
   "file_extension": ".py",
   "mimetype": "text/x-python",
   "name": "python",
   "nbconvert_exporter": "python",
   "pygments_lexer": "ipython3",
   "version": "3.7.1"
  }
 },
 "nbformat": 4,
 "nbformat_minor": 4
}
