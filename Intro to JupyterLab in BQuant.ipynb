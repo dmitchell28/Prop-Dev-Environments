{
 "cells": [
  {
   "cell_type": "markdown",
   "metadata": {
    "deletable": true,
    "editable": true
   },
   "source": [
    "# Bloomberg BQuant Spotlight Webinar Series: Intro to JupyterLab in BQuant<a name=\"top\"></a>\n",
    "\n",
    "This is a companion notebook to the [Intro to JupyterLab in BQuant](https://blinks.bloomberg.com/screens/PLYR%20VOD%20333968934) webinar video, which provides an overview of the key enhancements in JupyterLab.\n",
    "\n",
    "[Trying JupyterLab](#trying)  \n",
    "[Customizable Project Workspaces with Drag-and-Drop](#workspace)  \n",
    "&nbsp;&nbsp;&nbsp;&nbsp;&nbsp;&nbsp;[Drag-and-Drop Notebooks to Arrange Your Workspace](#drag_notebooks)  \n",
    "&nbsp;&nbsp;&nbsp;&nbsp;&nbsp;&nbsp;[Drag-and-Drop Cells Between Notebooks](#drag_cells)  \n",
    "[Quick Access to Files, Sessions, Commands, and Tools](#sidebar)  \n",
    "&nbsp;&nbsp;&nbsp;&nbsp;&nbsp;&nbsp;[Search the Command Palette](#search_commands)  \n",
    "&nbsp;&nbsp;&nbsp;&nbsp;&nbsp;&nbsp;[Collapse the Sidebar](#collapse)  \n",
    "[Bloomberg Extensions for Help and BQL Query Building](#extensions)  \n",
    "&nbsp;&nbsp;&nbsp;&nbsp;&nbsp;&nbsp;[BQL Editor Extension](#editor)  \n",
    "&nbsp;&nbsp;&nbsp;&nbsp;&nbsp;&nbsp;[BQL Help Extension](#help) \n",
    "\n",
    "\n",
    "## Trying JupyterLab<a name=\"trying\"></a>\n",
    "We’re pleased to announce a preview version of JupyterLab is now available in BQuant. During this JupyterLab preview period, you will be able to open BQuant projects in both JupyterLab and the classic notebook view. To open a project in JupyterLab, simply right-click the project and select the ‘Open in JupyterLab (Beta)’ option. To switch back to the existing view, close the project and open it as normal.\n",
    "\n",
    "<img style=\"float: left; width: 350px\" src=\"./images/open_in_jlab.gif\">\n",
    "<div style=\"clear: both;\"></div>\n",
    "\n",
    "## Customizable Project Workspaces with Drag-and-Drop<a name=\"workspace\"></a>\n",
    "The notebook in JupyterLab is a completely new implementation of the same Jupyter notebook interface we are familiar with. You still have markdown cells including math, code cells, rich output, interactive Jupyter widgets, and more. In addition, JupyterLab includes several new workspace features. \n",
    "\n",
    "### Drag-and-Drop Notebooks to Arrange Your Workspace<a name=\"drag_notebooks\"></a>\n",
    "\n",
    "<img style=\"float: left; width: 600px\" src=\"./images/drag_notebooks.gif\">\n",
    "<div style=\"clear: both;\"></div>\n",
    "<br>  \n",
    "<div style=\"text-align: right\"><a href=\"#top\">Return to Top ↑</a></div>  \n",
    "\n",
    "### Drag-and-Drop Cells Between Notebooks<a name=\"drag_cells\"></a>\n",
    "\n",
    "<img style=\"float: left; width: 600px\" src=\"./images/drag_cells.gif\">\n",
    "<div style=\"clear: both;\"></div>\n",
    "<br>  \n",
    "<div style=\"text-align: right\"><a href=\"#top\">Return to Top ↑</a></div>  \n",
    "\n",
    "## Quick Access to Files, Sessions, Commands, and Tools<a name=\"sidebar\"></a>\n",
    "\n",
    "The JupyterLab sidebar contains a new file browser, as well a command palette and tools for managing sessions and tabs.\n",
    "\n",
    "### Search the Command Palette<a name=\"search_commands\"></a>\n",
    "\n",
    "How to access: Click on the palette icon on the left sidebar or type Ctrl-Shift-C.\n",
    "\n",
    "<img style=\"float: left; width: 600px\" src=\"./images/search_commands.gif\">\n",
    "<div style=\"clear: both;\"></div>\n",
    "<br>  \n",
    "<div style=\"text-align: right\"><a href=\"#top\">Return to Top ↑</a></div>  \n",
    "\n",
    "### Collapse the Sidebar<a name=\"collapse\"></a>\n",
    "\n",
    "How to access: Toggle the sidebar by clicking any sidebar icon or typing Ctrl-B. \n",
    "\n",
    "<img style=\"float: left; width: 600px\" src=\"./images/collapse_sidebar.gif\">\n",
    "<div style=\"clear: both;\"></div>\n",
    "<br>  \n",
    "<div style=\"text-align: right\"><a href=\"#top\">Return to Top ↑</a></div>  \n",
    "\n",
    "## Bloomberg Extensions for Help and BQL Query Building<a name=\"extensions\"></a>\n",
    "\n",
    "JupyterLab in BQuant comes with several tools for working with the Bloomberg Query Language (BQL). These tools are in early preview and rapidly evolving.\n",
    "\n",
    "### BQL Editor Extension<a name=\"editor\"></a>\n",
    "\n",
    "How to access: Type Ctrl-Shift-C to open the command palette. Then click \"BQL Editor\". If you do not see BQL Editor, please contact your Bloomberg representative for assistance.\n",
    "\n",
    "<img style=\"float: left; width: 600px\" src=\"./images/bql_editor.gif\">\n",
    "<div style=\"clear: both;\"></div>\n",
    "<br>  \n",
    "<div style=\"text-align: right\"><a href=\"#top\">Return to Top ↑</a></div>  \n",
    "\n",
    "\n",
    "### BQL Help Extension<a name=\"help\"></a>\n",
    "\n",
    "How to access: From the Help menu, select \"BQL Help\".\n",
    "\n",
    "<img style=\"float: left; width: 600px\" src=\"./images/bql_help.gif\">\n",
    "<div style=\"clear: both;\"></div>"
   ]
  },
  {
   "cell_type": "markdown",
   "metadata": {
    "deletable": true,
    "editable": true
   },
   "source": [
    "<div style=\"text-align: right\"><a href=\"#top\">Return to Top ↑</a></div>"
   ]
  }
 ],
 "metadata": {
  "kernelspec": {
   "display_name": "Python 3 (sandboxed)",
   "language": "python",
   "name": "python3"
  },
  "language_info": {
   "codemirror_mode": {
    "name": "ipython",
    "version": 3
   },
   "file_extension": ".py",
   "mimetype": "text/x-python",
   "name": "python",
   "nbconvert_exporter": "python",
   "pygments_lexer": "ipython3",
   "version": "3.5.5"
  }
 },
 "nbformat": 4,
 "nbformat_minor": 2
}
