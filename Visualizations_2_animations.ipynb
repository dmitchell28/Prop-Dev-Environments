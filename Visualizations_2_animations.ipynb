{
 "cells": [
  {
   "cell_type": "markdown",
   "metadata": {},
   "source": [
    "You can access the accompanying video here: \n",
    "\n",
    "<a href=\"https://blinks.bloomberg.com/screens/PLYR%20VOD%20361030021\"> Animations (8 minutes)</a>"
   ]
  },
  {
   "cell_type": "code",
   "execution_count": 1,
   "metadata": {},
   "outputs": [],
   "source": [
    "import ipywidgets as widgets\n",
    "import bqplot as bqp\n",
    "import pandas as pd\n",
    "import numpy as np \n",
    "import bql \n",
    "bq = bql.Service()"
   ]
  },
  {
   "cell_type": "code",
   "execution_count": 2,
   "metadata": {},
   "outputs": [],
   "source": [
    "# Create the data for the line chart\n",
    "\n",
    "px = bq.func.dropna(bq.data.px_last(dates=bq.func.range('-3m', '0d')))/10\n",
    "\n",
    "index = 'SPX Index'\n",
    "\n",
    "px_bql_request = bql.Request(index, px)\n",
    "px_bql_response = bq.execute(px_bql_request)\n",
    "px_df = bql.combined_df(px_bql_response).reset_index()"
   ]
  },
  {
   "cell_type": "code",
   "execution_count": 3,
   "metadata": {},
   "outputs": [],
   "source": [
    "# Create the data for the barchart\n",
    "members = bq.univ.members(index)\n",
    "pct_diff = px.pct_diff()\n",
    "match = bq.func.matches(pct_diff,pct_diff<0).dropna(True)\n",
    "\n",
    "count_group = bq.func.group(match,match['DATE']).count()\n",
    "request = bql.Request(members,count_group)\n",
    "resp = bq.execute(request)\n",
    "\n",
    "count_df = bql.combined_df(resp).reset_index()"
   ]
  },
  {
   "cell_type": "code",
   "execution_count": 4,
   "metadata": {},
   "outputs": [],
   "source": [
    "# Create figure for animation \n",
    "def create_figure():\n",
    "    # Create scales\n",
    "    scale_x = bqp.LinearScale(min=0,max=60)\n",
    "    scale_y = bqp.LinearScale(min=0,max=500)\n",
    "\n",
    "    # Create mark\n",
    "    tooltip = bqp.Tooltip(fields=['y'], show_labels=False, formats=['.3f'])\n",
    "    mark_bar = bqp.Bars(x=[],\n",
    "                        y=[],\n",
    "                        scales={'x': scale_x, 'y': scale_y},\n",
    "                        padding=0.1,\n",
    "                        colors=['#1B84ED'],\n",
    "                        tooltip=bqp.Tooltip(fields=['y'],\n",
    "                                            show_labels=False,\n",
    "                                            formats=['.3f']))\n",
    "\n",
    "    mark_line = bqp.Lines(x=[],\n",
    "                          y=[],\n",
    "                          stroke_width=3,\n",
    "                          scales={'x': scale_x, 'y': scale_y},\n",
    "                          colors=['#CF7DFF', '#FF5A00', '#00D3D6',\n",
    "                                  '#008616', '#B31D83', '#FF1E3E', '#FF9E24',\n",
    "                                  '#63B2FF', '#30C030'])\n",
    "\n",
    "    # Create Axes\n",
    "    axis_y = bqp.Axis(scale=scale_y,\n",
    "                      orientation='vertical',\n",
    "                      label='Y Label')\n",
    "    axis_x = bqp.Axis(scale=scale_x,\n",
    "                      tick_rotate=20,\n",
    "                      tick_style={'text-anchor': 'start'})\n",
    "\n",
    "    # Create Figure\n",
    "    figure = bqp.Figure(marks=[mark_bar,mark_line],\n",
    "                        axes=[axis_x, axis_y],\n",
    "                        title='Vertical bar plot',\n",
    "                        title_style={'font-size': '22px'},\n",
    "                        padding_y=0,\n",
    "                        fig_margin={'top': 50, 'bottom': 60,\n",
    "                                    'left': 60, 'right': 50},\n",
    "                        layout={'width': '100%',\n",
    "                                'height': '500px'})\n",
    "    return figure\n",
    "\n",
    "# Define the update plot function for the animation\n",
    "def update_plot(figure):\n",
    "    barplot = figure.marks[0]\n",
    "    barplot.x = list(count_df.iloc[0:slider.value].index)\n",
    "    barplot.y = list(count_df.iloc[0:slider.value][count_df.iloc[0:slider.value].columns[-1]])\n",
    "    \n",
    "    lineplot = figure.marks[1]\n",
    "    lineplot.x = list(px_df.iloc[0:slider.value].index)\n",
    "    lineplot.y = list(px_df.iloc[0:slider.value][px_df.iloc[0:slider.value].columns[-1]])\n"
   ]
  },
  {
   "cell_type": "code",
   "execution_count": 5,
   "metadata": {},
   "outputs": [],
   "source": [
    "# Define the callback function for the animation slider\n",
    "def slider_change_callback(arg1):\n",
    "    if arg1['name']!='value':\n",
    "        return update_plot(figure)"
   ]
  },
  {
   "cell_type": "code",
   "execution_count": 6,
   "metadata": {},
   "outputs": [
    {
     "data": {
      "application/vnd.jupyter.widget-view+json": {
       "model_id": "3cf3f9b017284c37845a729b32d4f3d5",
       "version_major": 2,
       "version_minor": 0
      },
      "text/plain": [
       "VBox(children=(HBox(children=(Play(value=0, description='Press play'), IntSlider(value=0))), Figure(axes=[Axis…"
      ]
     },
     "metadata": {},
     "output_type": "display_data"
    }
   ],
   "source": [
    "figure = create_figure()\n",
    "# Create the animation widget\n",
    "play = widgets.Play(\n",
    "#     interval=10\n",
    "    value=0,\n",
    "    min=0,\n",
    "    max=100,\n",
    "    step=1,\n",
    "    description=\"Press play\",\n",
    "    disabled=False\n",
    ")\n",
    "slider = widgets.IntSlider()\n",
    "widgets.jslink((play, 'value'), (slider, 'value'))\n",
    "\n",
    "# Observe the callback function when the slider changes value\n",
    "slider.observe(slider_change_callback)\n",
    "\n",
    "# Output the final dashboard\n",
    "widgets.VBox([widgets.HBox([play, slider]),figure])"
   ]
  },
  {
   "cell_type": "code",
   "execution_count": null,
   "metadata": {},
   "outputs": [],
   "source": []
  }
 ],
 "metadata": {
  "kernelspec": {
   "display_name": "Python 3 (sandboxed)",
   "language": "python",
   "name": "python3"
  },
  "language_info": {
   "codemirror_mode": {
    "name": "ipython",
    "version": 3
   },
   "file_extension": ".py",
   "mimetype": "text/x-python",
   "name": "python",
   "nbconvert_exporter": "python",
   "pygments_lexer": "ipython3",
   "version": "3.7.1"
  }
 },
 "nbformat": 4,
 "nbformat_minor": 4
}
