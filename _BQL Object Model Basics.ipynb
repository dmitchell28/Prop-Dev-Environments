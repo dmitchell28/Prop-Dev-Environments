{
 "cells": [
  {
   "cell_type": "markdown",
   "metadata": {
    "deletable": true,
    "editable": true
   },
   "source": [
    "# BQL Object Model Basics\n",
    "You can use Bloomberg Query Language (BQL) via the PyBQL API to request Bloomberg data from within BQuant notebooks. There are two main ways to use BQL: the object model and the string interface. This notebook provides an introduction to the object model. In this notebook, we'll start with a simple example and build on it to learn how to construct more complex requests.\n",
    "\n",
    "<a href = \"#A\">Example A: Requesting a Single Data Item</a>  \n",
    "<a href = \"#B\">Example B: Requesting Multiple Data Items</a>  \n",
    "<a href = \"#C\">Example C: Requesting Time Series and Point-In-Time Data</a>  \n",
    "<a href = \"#D\">Example D: Requesting Data for Multiple Securities</a>  \n",
    "<a href = \"#related\"> Related Resources</a>  \n",
    "<br>"
   ]
  },
  {
   "cell_type": "markdown",
   "metadata": {
    "deletable": true,
    "editable": true
   },
   "source": [
    "## Example A: Requesting a Single Data Item <a name=\"A\"></a>\n",
    "In this example, we'll create and execute the simplest possible request: a single data item for a single security. We'll build on this request in later examples. For now, let's request the last price for AAPL US Equity. \n",
    "We'll use three main BQL functions:\n",
    "\n",
    "- **bq.data**: Defines the data item to include in the request.  \n",
    "        `bq.data. + field(arguments)`\n",
    "- **bql.Request()**: Generates the request.  \n",
    "        `bql.Request(security or universe, data items)`\n",
    "- **bq.execute()**: Executes the request.\n",
    "        `bq.execute(request)`\n",
    "        \n",
    "_Note: For more information on finding data fields that can be queried with BQL, see <a href = \"#related\"> Related Resources</a> ._\n",
    "\n",
    "### Example Code"
   ]
  },
  {
   "cell_type": "code",
   "execution_count": 1,
   "metadata": {
    "collapsed": false,
    "deletable": true,
    "editable": true,
    "jupyter": {
     "outputs_hidden": false
    }
   },
   "outputs": [
    {
     "data": {
      "text/html": [
       "<div>\n",
       "<table border=\"1\" class=\"dataframe\">\n",
       "  <thead>\n",
       "    <tr style=\"text-align: right;\">\n",
       "      <th></th>\n",
       "      <th>DATE</th>\n",
       "      <th>CURRENCY</th>\n",
       "      <th>PX_LAST()</th>\n",
       "    </tr>\n",
       "    <tr>\n",
       "      <th>ID</th>\n",
       "      <th></th>\n",
       "      <th></th>\n",
       "      <th></th>\n",
       "    </tr>\n",
       "  </thead>\n",
       "  <tbody>\n",
       "    <tr>\n",
       "      <th>AAPL US Equity</th>\n",
       "      <td>2020-04-06</td>\n",
       "      <td>USD</td>\n",
       "      <td>253.259995</td>\n",
       "    </tr>\n",
       "  </tbody>\n",
       "</table>\n",
       "</div>"
      ],
      "text/plain": [
       "                     DATE CURRENCY   PX_LAST()\n",
       "ID                                            \n",
       "AAPL US Equity 2020-04-06      USD  253.259995"
      ]
     },
     "execution_count": 1,
     "metadata": {},
     "output_type": "execute_result"
    }
   ],
   "source": [
    "# Import the BQL library\n",
    "import bql\n",
    "\n",
    "# Instantiate an object to interface with the BQL service\n",
    "bq = bql.Service()\n",
    "\n",
    "# Define a variable for the security \n",
    "security = \"AAPL US Equity\"\n",
    "\n",
    "# Define a data item for the last price field\n",
    "# In this example, we're not passing any arguments\n",
    "last = bq.data.px_last()\n",
    "\n",
    "# Generate the request using the sercurity variable and data item\n",
    "request =  bql.Request(security, last)\n",
    "\n",
    "# Execute the request\n",
    "response = bq.execute(request)\n",
    "\n",
    "# Display the response in a DataFrame\n",
    "response[0].df()"
   ]
  },
  {
   "cell_type": "markdown",
   "metadata": {
    "deletable": true,
    "editable": true
   },
   "source": [
    "<div style=\"text-align: right\"><a href=\"#BQL-Object-Model-Basics\">Return to Top ↑</a></div>"
   ]
  },
  {
   "cell_type": "markdown",
   "metadata": {
    "deletable": true,
    "editable": true
   },
   "source": [
    "## Example B: Requesting Multiple Data Items <a name=\"B\"></a>\n",
    "Now that we've seen how to request a single data item, let's expand the previous example to request additional data items. With this example, we'll see how the object model allows us to build up requests in parts. We'll again use AAPL US Equity, but this time we'll request the last price, high price, and low price.\n",
    "\n",
    "### Example Code"
   ]
  },
  {
   "cell_type": "code",
   "execution_count": 2,
   "metadata": {
    "collapsed": false,
    "deletable": true,
    "editable": true,
    "jupyter": {
     "outputs_hidden": false
    }
   },
   "outputs": [
    {
     "data": {
      "text/html": [
       "<div>\n",
       "<table border=\"1\" class=\"dataframe\">\n",
       "  <thead>\n",
       "    <tr style=\"text-align: right;\">\n",
       "      <th></th>\n",
       "      <th>DATE</th>\n",
       "      <th>CURRENCY</th>\n",
       "      <th>PX_LAST()</th>\n",
       "      <th>PX_HIGH()</th>\n",
       "      <th>PX_LOW()</th>\n",
       "    </tr>\n",
       "    <tr>\n",
       "      <th>ID</th>\n",
       "      <th></th>\n",
       "      <th></th>\n",
       "      <th></th>\n",
       "      <th></th>\n",
       "      <th></th>\n",
       "    </tr>\n",
       "  </thead>\n",
       "  <tbody>\n",
       "    <tr>\n",
       "      <th>AAPL US Equity</th>\n",
       "      <td>2020-04-06</td>\n",
       "      <td>USD</td>\n",
       "      <td>253.309998</td>\n",
       "      <td>254.080002</td>\n",
       "      <td>249.380005</td>\n",
       "    </tr>\n",
       "  </tbody>\n",
       "</table>\n",
       "</div>"
      ],
      "text/plain": [
       "                     DATE CURRENCY   PX_LAST()   PX_HIGH()    PX_LOW()\n",
       "ID                                                                    \n",
       "AAPL US Equity 2020-04-06      USD  253.309998  254.080002  249.380005"
      ]
     },
     "execution_count": 2,
     "metadata": {},
     "output_type": "execute_result"
    }
   ],
   "source": [
    "# Import the BQL library\n",
    "import bql\n",
    "\n",
    "# Instantiate an object to interface with the BQL service\n",
    "bq = bql.Service()\n",
    "\n",
    "# Define a variable for the security \n",
    "security = \"AAPL US Equity\"\n",
    "\n",
    "# Define data items for the pricing fields\n",
    "last = bq.data.px_last()\n",
    "high = bq.data.px_high()\n",
    "low = bq.data.px_low()\n",
    "\n",
    "# Generate the request using the security and a list of the data items\n",
    "request = bql.Request(\"AAPL US Equity\", [last, high, low])\n",
    "\n",
    "# Execute the request\n",
    "response = bq.execute(request)\n",
    "\n",
    "# Display the response in a DataFrame\n",
    "# Use the combined_df function to display the three returned values in a single DataFrame \n",
    "bql.combined_df(response)"
   ]
  },
  {
   "cell_type": "markdown",
   "metadata": {
    "deletable": true,
    "editable": true
   },
   "source": [
    "<div style=\"text-align: right\"><a href=\"#BQL-Object-Model-Basics\">Return to Top ↑</a></div>"
   ]
  },
  {
   "cell_type": "markdown",
   "metadata": {
    "deletable": true,
    "editable": true
   },
   "source": [
    "## Example C: Requesting Time Series and Point-In-Time Data <a name=\"C\"></a>\n",
    "In the examples above, we didn't specify a data date so BQL returned data for today's date by default. If we want to return data for a specific date or date range, we can pass start and end values as arguments to the BQL range function. Note that the dates are associated with the data items, not the request.\n",
    "\n",
    "_Note: To request point-in-time data (for a single date), pass the same value for the start and end parameters._\n",
    "\n",
    "\n",
    "### Example Code"
   ]
  },
  {
   "cell_type": "code",
   "execution_count": 3,
   "metadata": {
    "collapsed": false,
    "deletable": true,
    "editable": true,
    "jupyter": {
     "outputs_hidden": false
    }
   },
   "outputs": [
    {
     "data": {
      "text/html": [
       "<div>\n",
       "<table border=\"1\" class=\"dataframe\">\n",
       "  <thead>\n",
       "    <tr style=\"text-align: right;\">\n",
       "      <th></th>\n",
       "      <th>DATE</th>\n",
       "      <th>CURRENCY</th>\n",
       "      <th>PX_LAST(dates=RANGE(2017-06-05,2017-06-09))</th>\n",
       "      <th>PX_HIGH(dates=RANGE(2017-06-05,2017-06-09))</th>\n",
       "      <th>PX_LOW(dates=RANGE(2017-06-05,2017-06-09))</th>\n",
       "    </tr>\n",
       "    <tr>\n",
       "      <th>ID</th>\n",
       "      <th></th>\n",
       "      <th></th>\n",
       "      <th></th>\n",
       "      <th></th>\n",
       "      <th></th>\n",
       "    </tr>\n",
       "  </thead>\n",
       "  <tbody>\n",
       "    <tr>\n",
       "      <th>AAPL US Equity</th>\n",
       "      <td>2017-06-05</td>\n",
       "      <td>USD</td>\n",
       "      <td>153.93</td>\n",
       "      <td>154.45</td>\n",
       "      <td>153.46</td>\n",
       "    </tr>\n",
       "    <tr>\n",
       "      <th>AAPL US Equity</th>\n",
       "      <td>2017-06-06</td>\n",
       "      <td>USD</td>\n",
       "      <td>154.45</td>\n",
       "      <td>155.81</td>\n",
       "      <td>153.78</td>\n",
       "    </tr>\n",
       "    <tr>\n",
       "      <th>AAPL US Equity</th>\n",
       "      <td>2017-06-07</td>\n",
       "      <td>USD</td>\n",
       "      <td>155.37</td>\n",
       "      <td>155.98</td>\n",
       "      <td>154.48</td>\n",
       "    </tr>\n",
       "    <tr>\n",
       "      <th>AAPL US Equity</th>\n",
       "      <td>2017-06-08</td>\n",
       "      <td>USD</td>\n",
       "      <td>154.99</td>\n",
       "      <td>155.54</td>\n",
       "      <td>154.40</td>\n",
       "    </tr>\n",
       "    <tr>\n",
       "      <th>AAPL US Equity</th>\n",
       "      <td>2017-06-09</td>\n",
       "      <td>USD</td>\n",
       "      <td>148.98</td>\n",
       "      <td>155.19</td>\n",
       "      <td>146.02</td>\n",
       "    </tr>\n",
       "  </tbody>\n",
       "</table>\n",
       "</div>"
      ],
      "text/plain": [
       "                     DATE CURRENCY  \\\n",
       "ID                                   \n",
       "AAPL US Equity 2017-06-05      USD   \n",
       "AAPL US Equity 2017-06-06      USD   \n",
       "AAPL US Equity 2017-06-07      USD   \n",
       "AAPL US Equity 2017-06-08      USD   \n",
       "AAPL US Equity 2017-06-09      USD   \n",
       "\n",
       "                PX_LAST(dates=RANGE(2017-06-05,2017-06-09))  \\\n",
       "ID                                                            \n",
       "AAPL US Equity                                       153.93   \n",
       "AAPL US Equity                                       154.45   \n",
       "AAPL US Equity                                       155.37   \n",
       "AAPL US Equity                                       154.99   \n",
       "AAPL US Equity                                       148.98   \n",
       "\n",
       "                PX_HIGH(dates=RANGE(2017-06-05,2017-06-09))  \\\n",
       "ID                                                            \n",
       "AAPL US Equity                                       154.45   \n",
       "AAPL US Equity                                       155.81   \n",
       "AAPL US Equity                                       155.98   \n",
       "AAPL US Equity                                       155.54   \n",
       "AAPL US Equity                                       155.19   \n",
       "\n",
       "                PX_LOW(dates=RANGE(2017-06-05,2017-06-09))  \n",
       "ID                                                          \n",
       "AAPL US Equity                                      153.46  \n",
       "AAPL US Equity                                      153.78  \n",
       "AAPL US Equity                                      154.48  \n",
       "AAPL US Equity                                      154.40  \n",
       "AAPL US Equity                                      146.02  "
      ]
     },
     "execution_count": 3,
     "metadata": {},
     "output_type": "execute_result"
    }
   ],
   "source": [
    "# Import the BQL library\n",
    "import bql\n",
    "\n",
    "# Instantiate an object to interface with the BQL service\n",
    "bq = bql.Service()\n",
    "\n",
    "# Define the date range for the request\n",
    "date_range = bq.func.range('2017-06-05','2017-06-09')\n",
    "\n",
    "# Define data items for the pricing fields\n",
    "# Pass the defined date range\n",
    "last = bq.data.px_last(dates=date_range)\n",
    "high = bq.data.px_high(dates=date_range)\n",
    "low = bq.data.px_low(dates=date_range)\n",
    "\n",
    "# Generate the request using the security ticker and a list of the data items\n",
    "request = bql.Request(\"AAPL US Equity\", [last, high, low])\n",
    "\n",
    "# Execute the request\n",
    "response = bq.execute(request)\n",
    "\n",
    "# Display the response in a data frame\n",
    "# Use the combined_df function to display \n",
    "# the three returned values in a single data frame \n",
    "bql.combined_df(response)"
   ]
  },
  {
   "cell_type": "markdown",
   "metadata": {
    "deletable": true,
    "editable": true
   },
   "source": [
    "<div style=\"text-align: right\"><a href=\"#BQL-Object-Model-Basics\">Return to Top ↑</a></div>"
   ]
  },
  {
   "cell_type": "markdown",
   "metadata": {
    "deletable": true,
    "editable": true
   },
   "source": [
    "## Example D: Requesting Data for Multiple Securities <a name=\"D\"></a>\n",
    "Now that we know how to pull multiple data items across a range of dates for a single security, let's look at a few different ways to define a universe of securities:\n",
    "\n",
    "- Define a list of securities. For example `securities = ['MSFT US Equity', 'IBM US Equity', 'AMZN US Equity']`\n",
    "- Call a BQL function that returns a list of securities, such as the `bq.univ.members()` function, which returns the members of an index.\n",
    "\n",
    "In this example, we'll use bq.univ.members() to pass the members of the INDU Index.\n",
    "\n",
    "### Example Code"
   ]
  },
  {
   "cell_type": "code",
   "execution_count": 4,
   "metadata": {
    "collapsed": false,
    "deletable": true,
    "editable": true,
    "jupyter": {
     "outputs_hidden": false
    }
   },
   "outputs": [
    {
     "data": {
      "text/html": [
       "<div>\n",
       "<table border=\"1\" class=\"dataframe\">\n",
       "  <thead>\n",
       "    <tr style=\"text-align: right;\">\n",
       "      <th></th>\n",
       "      <th>DATE</th>\n",
       "      <th>CURRENCY</th>\n",
       "      <th>PX_LAST(dates=RANGE(2017-06-05,2017-06-09))</th>\n",
       "      <th>PX_HIGH(dates=RANGE(2017-06-05,2017-06-09))</th>\n",
       "      <th>PX_LOW(dates=RANGE(2017-06-05,2017-06-09))</th>\n",
       "    </tr>\n",
       "    <tr>\n",
       "      <th>ID</th>\n",
       "      <th></th>\n",
       "      <th></th>\n",
       "      <th></th>\n",
       "      <th></th>\n",
       "      <th></th>\n",
       "    </tr>\n",
       "  </thead>\n",
       "  <tbody>\n",
       "    <tr>\n",
       "      <th>NKE UN Equity</th>\n",
       "      <td>2017-06-07</td>\n",
       "      <td>USD</td>\n",
       "      <td>53.23</td>\n",
       "      <td>53.36</td>\n",
       "      <td>52.75</td>\n",
       "    </tr>\n",
       "    <tr>\n",
       "      <th>NKE UN Equity</th>\n",
       "      <td>2017-06-08</td>\n",
       "      <td>USD</td>\n",
       "      <td>53.20</td>\n",
       "      <td>54.14</td>\n",
       "      <td>53.15</td>\n",
       "    </tr>\n",
       "    <tr>\n",
       "      <th>NKE UN Equity</th>\n",
       "      <td>2017-06-09</td>\n",
       "      <td>USD</td>\n",
       "      <td>53.46</td>\n",
       "      <td>53.47</td>\n",
       "      <td>52.81</td>\n",
       "    </tr>\n",
       "  </tbody>\n",
       "</table>\n",
       "</div>"
      ],
      "text/plain": [
       "                    DATE CURRENCY  \\\n",
       "ID                                  \n",
       "NKE UN Equity 2017-06-07      USD   \n",
       "NKE UN Equity 2017-06-08      USD   \n",
       "NKE UN Equity 2017-06-09      USD   \n",
       "\n",
       "               PX_LAST(dates=RANGE(2017-06-05,2017-06-09))  \\\n",
       "ID                                                           \n",
       "NKE UN Equity                                        53.23   \n",
       "NKE UN Equity                                        53.20   \n",
       "NKE UN Equity                                        53.46   \n",
       "\n",
       "               PX_HIGH(dates=RANGE(2017-06-05,2017-06-09))  \\\n",
       "ID                                                           \n",
       "NKE UN Equity                                        53.36   \n",
       "NKE UN Equity                                        54.14   \n",
       "NKE UN Equity                                        53.47   \n",
       "\n",
       "               PX_LOW(dates=RANGE(2017-06-05,2017-06-09))  \n",
       "ID                                                         \n",
       "NKE UN Equity                                       52.75  \n",
       "NKE UN Equity                                       53.15  \n",
       "NKE UN Equity                                       52.81  "
      ]
     },
     "execution_count": 4,
     "metadata": {},
     "output_type": "execute_result"
    }
   ],
   "source": [
    "# Import the BQL library\n",
    "import bql\n",
    "\n",
    "# Instantiate an object to interface with the BQL service\n",
    "bq = bql.Service()\n",
    "\n",
    "# Define a universe of the members of the INDU Index\n",
    "indu = bq.univ.members(\"INDU Index\")\n",
    "\n",
    "# Define the date range for the request\n",
    "date_range = bq.func.range('2017-06-05','2017-06-09')\n",
    "\n",
    "# Define data items for the pricing fields\n",
    "# Pass the defined date range\n",
    "last = bq.data.px_last(dates=date_range)\n",
    "high = bq.data.px_high(dates=date_range)\n",
    "low = bq.data.px_low(dates=date_range)\n",
    "\n",
    "# Generate the request using the security universe and a list of the data items\n",
    "request = bql.Request(indu, [last, high, low])\n",
    "\n",
    "# Execute the request\n",
    "response = bq.execute(request)\n",
    "\n",
    "# Display the response in a DataFrame\n",
    "# Use the combined_df function to display \n",
    "# the three returned values in a single DataFrame\n",
    "# To verify the output, use tail(3) to show the last three rows of the response\n",
    "bql.combined_df(response).tail(3)"
   ]
  },
  {
   "cell_type": "markdown",
   "metadata": {
    "deletable": true,
    "editable": true
   },
   "source": [
    "<div style=\"text-align: right\"><a href=\"#BQL-Object-Model-Basics\">Return to Top ↑</a></div>"
   ]
  },
  {
   "cell_type": "markdown",
   "metadata": {
    "deletable": true,
    "editable": true
   },
   "source": [
    "## Related Resources <a name=\"related\"></a>\n",
    "- <a href = \"./BQL String Interface Basics.ipynb\">BQL String Interface Basics</a>\n",
    "- <a href = \"exampleroot/53815e8850a54b4187fb0d1335ee39d5/BQL Field Function and Universe Search.ipynb\">BQL Field, Function, and Universe Search</a>\n",
    "- <a href = \"exampleroot/9032931110d6467fa8f1938424453f06/_BQL Quick Reference Guide.ipynb\">BQL Quick Reference Guide</a>\n",
    "- <a href = \"exampleroot/f2d2cebf9dac40699094b3caa8ad35ce/BQL Fundamental Data.ipynb\">BQL Fundamental Data</a>\n"
   ]
  }
 ],
 "metadata": {
  "kernelspec": {
   "display_name": "Python 3 (sandboxed)",
   "language": "python",
   "name": "python3"
  },
  "language_info": {
   "codemirror_mode": {
    "name": "ipython",
    "version": 3
   },
   "file_extension": ".py",
   "mimetype": "text/x-python",
   "name": "python",
   "nbconvert_exporter": "python",
   "pygments_lexer": "ipython3",
   "version": "3.5.5"
  }
 },
 "nbformat": 4,
 "nbformat_minor": 4
}
