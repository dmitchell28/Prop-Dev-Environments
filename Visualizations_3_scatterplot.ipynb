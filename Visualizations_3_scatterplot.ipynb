{
 "cells": [
  {
   "cell_type": "markdown",
   "metadata": {},
   "source": [
    "You can access the accompanying video here: \n",
    "\n",
    "<a href=\"https://blinks.bloomberg.com/screens/PLYR%20VOD%20361307884\"> Bond, Z-Scores and Scatterplots (15 min)</a>"
   ]
  },
  {
   "cell_type": "code",
   "execution_count": 1,
   "metadata": {},
   "outputs": [],
   "source": [
    "import bql\n",
    "import bqplot as bqp\n",
    "import pandas as pd\n",
    "\n",
    "bq = bql.Service()"
   ]
  },
  {
   "cell_type": "code",
   "execution_count": 2,
   "metadata": {},
   "outputs": [],
   "source": [
    "Members = bq.univ.members('LUACTRUU Index')\n",
    "\n",
    "dates = bq.func.range('2019-12-31','2020-04-10')\n",
    "\n",
    "spread = bq.func.dropna(bq.data.spread(dates=dates))\n",
    "current_spread = bq.func.last(spread)\n",
    "\n",
    "z_score = bq.func.z_score(spread)\n",
    "current_z_score = bq.func.last(z_score)\n",
    "\n",
    "fields = {'Current Spread': current_spread, 'Current Z Score': current_z_score}\n",
    "\n",
    "rank = bq.func.grouprank(current_z_score)\n",
    "\n",
    "Filtered_Members = bq.univ.filter(Members,rank<=200)\n",
    "\n",
    "request = bql.Request(Filtered_Members,fields)\n",
    "response = bq.execute(request)\n",
    "\n",
    "dataframe = bql.combined_df(response)"
   ]
  },
  {
   "cell_type": "code",
   "execution_count": 3,
   "metadata": {},
   "outputs": [
    {
     "data": {
      "text/html": [
       "<div>\n",
       "<style scoped>\n",
       "    .dataframe tbody tr th:only-of-type {\n",
       "        vertical-align: middle;\n",
       "    }\n",
       "\n",
       "    .dataframe tbody tr th {\n",
       "        vertical-align: top;\n",
       "    }\n",
       "\n",
       "    .dataframe thead th {\n",
       "        text-align: right;\n",
       "    }\n",
       "</style>\n",
       "<table border=\"1\" class=\"dataframe\">\n",
       "  <thead>\n",
       "    <tr style=\"text-align: right;\">\n",
       "      <th></th>\n",
       "      <th>ID</th>\n",
       "      <th>DATE</th>\n",
       "      <th>Current Spread</th>\n",
       "      <th>Current Z Score</th>\n",
       "    </tr>\n",
       "  </thead>\n",
       "  <tbody>\n",
       "    <tr>\n",
       "      <th>0</th>\n",
       "      <td>AN267754 Corp</td>\n",
       "      <td>2020-04-09</td>\n",
       "      <td>235.445679</td>\n",
       "      <td>2.197980</td>\n",
       "    </tr>\n",
       "    <tr>\n",
       "      <th>1</th>\n",
       "      <td>EH502090 Corp</td>\n",
       "      <td>2020-04-09</td>\n",
       "      <td>295.915192</td>\n",
       "      <td>2.326671</td>\n",
       "    </tr>\n",
       "    <tr>\n",
       "      <th>2</th>\n",
       "      <td>EI080338 Corp</td>\n",
       "      <td>2020-04-09</td>\n",
       "      <td>282.963989</td>\n",
       "      <td>2.130137</td>\n",
       "    </tr>\n",
       "    <tr>\n",
       "      <th>3</th>\n",
       "      <td>EJ409739 Corp</td>\n",
       "      <td>2020-04-09</td>\n",
       "      <td>422.861877</td>\n",
       "      <td>2.670720</td>\n",
       "    </tr>\n",
       "    <tr>\n",
       "      <th>4</th>\n",
       "      <td>AT725884 Corp</td>\n",
       "      <td>2020-04-09</td>\n",
       "      <td>221.979004</td>\n",
       "      <td>3.126435</td>\n",
       "    </tr>\n",
       "  </tbody>\n",
       "</table>\n",
       "</div>"
      ],
      "text/plain": [
       "              ID       DATE  Current Spread  Current Z Score\n",
       "0  AN267754 Corp 2020-04-09      235.445679         2.197980\n",
       "1  EH502090 Corp 2020-04-09      295.915192         2.326671\n",
       "2  EI080338 Corp 2020-04-09      282.963989         2.130137\n",
       "3  EJ409739 Corp 2020-04-09      422.861877         2.670720\n",
       "4  AT725884 Corp 2020-04-09      221.979004         3.126435"
      ]
     },
     "execution_count": 3,
     "metadata": {},
     "output_type": "execute_result"
    }
   ],
   "source": [
    "dataframe.reset_index(inplace=True)\n",
    "\n",
    "dataframe.head()"
   ]
  },
  {
   "cell_type": "code",
   "execution_count": 4,
   "metadata": {},
   "outputs": [
    {
     "data": {
      "application/vnd.jupyter.widget-view+json": {
       "model_id": "4a7d8934e5e246d38f3e69931857c182",
       "version_major": 2,
       "version_minor": 0
      },
      "text/plain": [
       "VBox(children=(Figure(animation_duration=500, axes=[Axis(label='Current Spread', scale=LinearScale()), Axis(la…"
      ]
     },
     "metadata": {},
     "output_type": "display_data"
    }
   ],
   "source": [
    "import bqplot as bqp\n",
    "from bqplot.interacts import BrushSelector\n",
    "import pandas as pd\n",
    "import numpy as np\n",
    "from ipywidgets import Dropdown, HBox, VBox, HTML\n",
    "import bqwidgets as bqw\n",
    "\n",
    "\n",
    "# Create scales\n",
    "scale_x = bqp.LinearScale()\n",
    "scale_y = bqp.LinearScale()\n",
    "\n",
    "# Create marks\n",
    "mark_scatter = bqp.Scatter(x=dataframe[dataframe.columns[2]],\n",
    "                           y=dataframe[dataframe.columns[3]],\n",
    "                           scales={'x': scale_x, 'y': scale_y},\n",
    "                           default_size=48,\n",
    "                           colors=['#1B84ED'])\n",
    "\n",
    "# Create Axes\n",
    "axis_x = bqp.Axis(scale=scale_x, label=dataframe.columns[2])\n",
    "axis_y = bqp.Axis(scale=scale_y,\n",
    "                  orientation='vertical',\n",
    "                  tick_format='0.0f',\n",
    "                  label=dataframe.columns[3])\n",
    "\n",
    "# Create selector\n",
    "selector = BrushSelector(x_scale=scale_x,\n",
    "                         y_scale=scale_y,\n",
    "                         marks=[mark_scatter])\n",
    "\n",
    "# Create Figure\n",
    "figure = bqp.Figure(marks=[mark_scatter],\n",
    "                    axes=[axis_x, axis_y],\n",
    "                    animation_duration=500,\n",
    "                    layout={'width':'99%', 'height':'400px'},\n",
    "                    padding_x=0.05,\n",
    "                    title='Interactive scatter plot with linked datagrid',\n",
    "                    title_style={'font-size': '22px'},\n",
    "                    padding_y=0.05,\n",
    "                    interaction=selector,\n",
    "                    fig_margin={'top': 50, 'bottom': 60,\n",
    "                                'left': 50, 'right':30})\n",
    "\n",
    "# Create dropown widgets\n",
    "dropdown_x = Dropdown(description='X axis',\n",
    "                      options=dataframe.columns,\n",
    "                      value=dataframe.columns[2])\n",
    "dropdown_y = Dropdown(description='Y axis',\n",
    "                      options=dataframe.columns,\n",
    "                      value=dataframe.columns[3])\n",
    "\n",
    "# Define callback function for dropdown widgets\n",
    "def update_plot(evt):\n",
    "    if evt is not None:\n",
    "        new_value = evt['new']\n",
    "        if evt['owner'] == dropdown_x:\n",
    "            mark_scatter.x = dataframe[new_value]\n",
    "            axis_x.label = new_value\n",
    "        elif evt['owner'] == dropdown_y:\n",
    "            mark_scatter.y = dataframe[new_value]\n",
    "            axis_y.label = new_value\n",
    "\n",
    "\n",
    "# Define callback function for selections\n",
    "def on_select(evt):\n",
    "    if evt is not None and evt['new'] is not None:\n",
    "        indices = evt['new']\n",
    "        datagrid.data = dataframe.iloc[indices].reset_index()\n",
    "\n",
    "# Bind callback to the dropdown widgets\n",
    "dropdown_x.observe(update_plot, names=['value'])\n",
    "dropdown_y.observe(update_plot, names=['value'])\n",
    "mark_scatter.observe(on_select, names=['selected'])\n",
    "\n",
    "# Create datagrid\n",
    "datagrid = bqw.DataGrid(data=dataframe, layout={'height': '300px'})\n",
    "\n",
    "# Create Box containers\n",
    "widget_box = HBox([dropdown_x, dropdown_y], layout={'margin': '10px'})\n",
    "app_container = VBox([figure, widget_box, datagrid],\n",
    "                     layout={'width':'100%'})\n",
    "\n",
    "# Display the visualization\n",
    "app_container\n"
   ]
  },
  {
   "cell_type": "code",
   "execution_count": null,
   "metadata": {},
   "outputs": [],
   "source": []
  },
  {
   "cell_type": "code",
   "execution_count": null,
   "metadata": {},
   "outputs": [],
   "source": []
  }
 ],
 "metadata": {
  "kernelspec": {
   "display_name": "Python 3 (sandboxed)",
   "language": "python",
   "name": "python3"
  },
  "language_info": {
   "codemirror_mode": {
    "name": "ipython",
    "version": 3
   },
   "file_extension": ".py",
   "mimetype": "text/x-python",
   "name": "python",
   "nbconvert_exporter": "python",
   "pygments_lexer": "ipython3",
   "version": "3.7.1"
  }
 },
 "nbformat": 4,
 "nbformat_minor": 4
}
