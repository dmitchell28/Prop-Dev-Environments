{
 "cells": [
  {
   "cell_type": "markdown",
   "metadata": {},
   "source": [
    "## ESG Webinar Series    \n",
    "    \n",
    "<br>\n",
    "\n",
    "<div style=\"background-color: #232323; padding: 10px 25px\">\n",
    "    \n",
    "\n",
    "### Seeing Green Spotlight Webinar: Part 1 <br> <span style=\"color:orange\"> ESG Scoring App Workflows </span>\n",
    "This spotlight webinar covers the following topics: \n",
    "\n",
    "- Access the new ESG data available in BQL for your target universe\n",
    "- Use the BQuant app template to quickly build your own ESG scoring app\n",
    "    \n",
    "[Video](https://blinks.bloomberg.com/screens/PLYR%20VOD%20345789178) | <a href=\"https://blinks.bloomberg.com/screens/BQNT%20ESGX\">Notebook</a>\n",
    "    \n",
    "    \n",
    "### Seeing Green Spotlight Webinar: Part 2 <br> <span style=\"color:orange\">  Integrating Your Research into ESG Scoring Models </span>\n",
    "This spotlight webinar covers the following topics: \n",
    "\n",
    "- Use Bloomberg's custom data editor (CDE) to upload your research\n",
    "- Combine your research and BQuant's ESG score in a single scoring app\n",
    "    \n",
    "[Video](https://blinks.bloomberg.com/screens/PLYR%20VOD%20347803285) | <a href=\"https://blinks.bloomberg.com/screens/BQNT%20ESGX\">Notebook</a>\n",
    "    \n",
    "### Seeing Green Spotlight Webinar: Part 3 <br> <span style=\"color:orange\"> Finding ESG Bonds </span>\n",
    "This spotlight webinar covers the following topics: \n",
    "\n",
    "- Create an interactive app with ESG scores for a bond universe\n",
    "- Identify companies that have issued green bonds\n",
    "\n",
    "[Video](https://blinks.bloomberg.com/screens/PLYR%20VOD%20347803759) | <a href=\"./ESG bonds.ipynb\">Notebook</a>\n",
    "    \n",
    "### Seeing Green Spotlight Webinar: Part 4 <br> <span style=\"color:orange\"> Improving Your Portfolio's ESG Score </span>\n",
    "This spotlight webinar covers the following topics: \n",
    "\n",
    "- Visualize the largest detractors to your portfolio's ESG score\n",
    "- Construct scenarios to determine the ESG impact of specific companies\n",
    "\n",
    "[Video](https://blinks.bloomberg.com/screens/PLYR%20VOD%20350499534) | <a href=\"./ESG Portfolio Analysis/ESG Portfolio Analysis.ipynb\">Notebook</a>\n",
    "    \n",
    "</div>"
   ]
  }
 ],
 "metadata": {
  "kernelspec": {
   "display_name": "Python 3 (sandboxed)",
   "language": "python",
   "name": "python3"
  },
  "language_info": {
   "codemirror_mode": {
    "name": "ipython",
    "version": 3
   },
   "file_extension": ".py",
   "mimetype": "text/x-python",
   "name": "python",
   "nbconvert_exporter": "python",
   "pygments_lexer": "ipython3",
   "version": "3.5.5"
  }
 },
 "nbformat": 4,
 "nbformat_minor": 4
}
