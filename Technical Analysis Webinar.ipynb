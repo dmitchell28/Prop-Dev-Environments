{
 "cells": [
  {
   "cell_type": "markdown",
   "metadata": {
    "collapsed": true,
    "deletable": true,
    "editable": true
   },
   "source": [
    "# Bloomberg BQuant Spotlight Webinar Series: Technical Analysis\n",
    "\n",
    "This is a companion notebook to the [Bloomberg BQuant Technical Analysis](https://blinks.bloomberg.com/screens/PLYR%20VOD%20331688234) webinar.\n",
    "\n",
    "Before we get started, let's review some of the key concepts used in the examples below:\n",
    "\n",
    "- The Slow Stochastic Oscillator is a momentum indicator that shows the location of the close relative to the high-low range over a set number of periods. The indicator can range from 0 to 100. Generally, the area above 80 indicates an overbought region, while the area below 20 is considered an oversold region.\n",
    "- The Relative Strength Index (RSI), developed by J. Welles Wilder, is a momentum oscillator that measures the speed and change of price movements. The RSI oscillates between zero and 100. Traditionally the RSI is considered overbought when above 70 and oversold when below 30."
   ]
  },
  {
   "cell_type": "code",
   "execution_count": null,
   "metadata": {
    "collapsed": false,
    "deletable": true,
    "editable": true
   },
   "outputs": [],
   "source": [
    "# Import the required libraries\n",
    "import bql\n",
    "import bqviz as bqv\n",
    "from bqplot import DateScale, OrdinalScale, ColorScale, Axis, GridHeatMap, Figure\n",
    "\n",
    "import pandas as pd\n",
    "from ipywidgets import VBox,  HBox, Label, SelectMultiple\n",
    "\n",
    "from IPython.display import display, clear_output\n",
    "\n",
    "import warnings\n",
    "warnings.simplefilter('ignore')"
   ]
  },
  {
   "cell_type": "code",
   "execution_count": null,
   "metadata": {
    "collapsed": false,
    "deletable": true,
    "editable": true
   },
   "outputs": [],
   "source": [
    "# Instantiate the BQL Service\n",
    "bq = bql.Service()\n",
    "\n",
    "# Define the BQL data request\n",
    "request = \"\"\"\n",
    "\n",
    "    let(\n",
    "        #date_range = range(-100d, -0d);\n",
    "\n",
    "        #stochastics_series = TASS(dates=#date_range, fill='prev');\n",
    "        \n",
    "        #stochastics = last(#stochastics_series, 1).SSK;\n",
    "        \n",
    "        #rsi_series = rsi(dates=#date_range, fill='prev');\n",
    "        \n",
    "        #rsi = last(#rsi_series, 1);\n",
    "\n",
    "        #price_series = dropna(px_last(dates=#date_range, fill='prev'));\n",
    "                \n",
    "    )\n",
    "\n",
    "    get(\n",
    "        #stochastics,\n",
    "        #rsi,\n",
    "        #rsi_series,\n",
    "        #price_series,\n",
    "        #stochastics_series,\n",
    "        GICS_SECTOR_NAME\n",
    "\n",
    "    )\n",
    "\n",
    "    for(\n",
    "        filter(\n",
    "            members(['SXXP INDEX']),\n",
    "            (\n",
    "                market_cap > 15B\n",
    "            )\n",
    "        )   \n",
    "    )\n",
    "    \n",
    "\"\"\"\n",
    "\n",
    "# Execute the request\n",
    "response = bq.execute(request)\n",
    "\n",
    "# Generate a data frame from the response\n",
    "df = pd.DataFrame()\n",
    "\n",
    "df['RSI'] = response[1].df()['#rsi']\n",
    "df['SSK'] = response[0].df()['#stochastics']\n",
    "\n",
    "df.head(10)"
   ]
  },
  {
   "cell_type": "code",
   "execution_count": null,
   "metadata": {
    "collapsed": false,
    "deletable": true,
    "editable": true
   },
   "outputs": [],
   "source": [
    "df.count()"
   ]
  },
  {
   "cell_type": "code",
   "execution_count": null,
   "metadata": {
    "collapsed": false,
    "deletable": true,
    "editable": true
   },
   "outputs": [],
   "source": [
    "sector_categories = response[5].df()\n",
    "sector_categories.head()"
   ]
  },
  {
   "cell_type": "code",
   "execution_count": null,
   "metadata": {
    "collapsed": false,
    "deletable": true,
    "editable": true
   },
   "outputs": [],
   "source": [
    "sectors = sector_categories.GICS_SECTOR_NAME.unique()\n",
    "sectors"
   ]
  },
  {
   "cell_type": "code",
   "execution_count": null,
   "metadata": {
    "collapsed": false,
    "deletable": true,
    "editable": true
   },
   "outputs": [],
   "source": [
    "sector_selector = SelectMultiple(options=sectors.tolist(),value=sectors.tolist())\n",
    "sector_selector"
   ]
  },
  {
   "cell_type": "code",
   "execution_count": null,
   "metadata": {
    "collapsed": false,
    "deletable": true,
    "editable": true,
    "scrolled": false
   },
   "outputs": [],
   "source": [
    "scatter = bqv.InteractiveScatterPlot(df, hide_controls=True)\n",
    "\n",
    "scatter.x_control.value = 'RSI'\n",
    "scatter.y_control.value = 'SSK'"
   ]
  },
  {
   "cell_type": "code",
   "execution_count": null,
   "metadata": {
    "collapsed": false,
    "deletable": true,
    "editable": true
   },
   "outputs": [],
   "source": [
    "pd.DataFrame(df['RSI']).head()"
   ]
  },
  {
   "cell_type": "code",
   "execution_count": null,
   "metadata": {
    "collapsed": false,
    "deletable": true,
    "editable": true
   },
   "outputs": [],
   "source": [
    "RSI_hist = bqv.HistPlot(pd.DataFrame(df['RSI']))\n",
    "SSK_hist = bqv.HistPlot(pd.DataFrame(df['SSK']))\n",
    "RSI_hist.show()"
   ]
  },
  {
   "cell_type": "code",
   "execution_count": null,
   "metadata": {
    "collapsed": false,
    "deletable": true,
    "editable": true
   },
   "outputs": [],
   "source": [
    "SSK_hist.show()"
   ]
  },
  {
   "cell_type": "code",
   "execution_count": null,
   "metadata": {
    "collapsed": false,
    "deletable": true,
    "editable": true
   },
   "outputs": [],
   "source": [
    "left = response[2].df().reset_index()[['#rsi_series', 'DATE', 'ID']]\n",
    "right = response[3].df().reset_index()[['#price_series', 'DATE', 'ID']]\n",
    "right_2 =  response[4].df().reset_index()[['SSK', 'DATE', 'ID']]\n",
    "\n",
    "merge_columns = ['ID','DATE']\n",
    "\n",
    "series_df = pd.merge(left, \n",
    "                     right, \n",
    "                     how='left',  \n",
    "                     left_on=merge_columns,\n",
    "                     right_on=merge_columns\n",
    ")\n",
    "\n",
    "series_df = pd.merge(series_df, \n",
    "                     right_2, \n",
    "                     how='left',  \n",
    "                     left_on=merge_columns,\n",
    "                     right_on=merge_columns\n",
    ").dropna()\n",
    "\n",
    "\n",
    "series_df.set_index(['ID','DATE'],inplace=True)\n",
    "\n",
    "series_df.head()"
   ]
  },
  {
   "cell_type": "code",
   "execution_count": null,
   "metadata": {
    "collapsed": false,
    "deletable": true,
    "editable": true
   },
   "outputs": [],
   "source": [
    "rsi = series_df.reset_index().pivot('DATE','ID', '#rsi_series')\n",
    "price = series_df.reset_index().pivot('DATE','ID', '#price_series')\n",
    "SSK = series_df.reset_index().pivot('DATE','ID', 'SSK')\n",
    "rsi.head()"
   ]
  },
  {
   "cell_type": "code",
   "execution_count": null,
   "metadata": {
    "collapsed": false,
    "deletable": true,
    "editable": true
   },
   "outputs": [],
   "source": [
    "price_plot = bqv.InteractiveLinePlot(price,hide_controls=True, title=\"Price\", legend=False)\n",
    "price_plot.show()"
   ]
  },
  {
   "cell_type": "code",
   "execution_count": null,
   "metadata": {
    "collapsed": true,
    "deletable": true,
    "editable": true
   },
   "outputs": [],
   "source": [
    "price_plot.line_control.value = [price.columns.values[0]]"
   ]
  },
  {
   "cell_type": "code",
   "execution_count": null,
   "metadata": {
    "collapsed": false,
    "deletable": true,
    "editable": true
   },
   "outputs": [],
   "source": [
    "overbought_rsi_signal = series_df.reset_index().pivot('DATE','ID', '#rsi_series') >= 75\n",
    "oversold_rsi_signal = series_df.reset_index().pivot('DATE','ID', '#rsi_series') <= 25\n",
    "\n",
    "rsi_signal = overbought_rsi_signal * 1 + oversold_rsi_signal * -1\n",
    "\n",
    "overbought_SSK_signal = series_df.reset_index().pivot('DATE','ID', 'SSK') >= 80\n",
    "oversold_SSK_signal = series_df.reset_index().pivot('DATE','ID', 'SSK') <= 20\n",
    "\n",
    "SSK_signal = overbought_SSK_signal * 1 + oversold_SSK_signal * -1\n",
    "\n",
    "\n",
    "grid_data = pd.DataFrame([SSK_signal['AAK SS Equity'],rsi_signal['AAK SS Equity']],index=['SSK','RSI'])\n",
    "\n",
    "grid_data"
   ]
  },
  {
   "cell_type": "code",
   "execution_count": null,
   "metadata": {
    "collapsed": false,
    "deletable": true,
    "editable": true,
    "scrolled": true
   },
   "outputs": [],
   "source": [
    "x_sc, y_sc, col_sc = DateScale(domain=grid_data.T.index.values), OrdinalScale(), ColorScale(reverse=True, mid=0)\n",
    "\n",
    "scales = {'column': x_sc, 'row': y_sc, 'color': col_sc}\n",
    "\n",
    "y_lb = OrdinalScale(domain=['SSK','RSI'])\n",
    "\n",
    "ax_x, ax_y = Axis(scale=x_sc), Axis(scale=y_lb, orientation='vertical')\n",
    "grid_map = GridHeatMap(color=grid_data, scales=scales, null_color='#ffffff', stroke=None)\n",
    "\n",
    "heatmap = Figure(marks=[grid_map] , axes=[price_plot.xaxis, ax_y], layout=price_plot.figure.layout)\n",
    "\n",
    "heatmap"
   ]
  },
  {
   "cell_type": "markdown",
   "metadata": {
    "deletable": true,
    "editable": true
   },
   "source": [
    "## Putting It All Together\n",
    "\n",
    "We'll combine the components that we built above into a single UI that will allow us filter by sector and security."
   ]
  },
  {
   "cell_type": "code",
   "execution_count": null,
   "metadata": {
    "collapsed": false,
    "deletable": true,
    "editable": true
   },
   "outputs": [],
   "source": [
    "security_selector = price_plot.line_control\n",
    "scatter_controls = VBox([ Label('Select a Sector:'), sector_selector], layout={'overflow_x': 'hidden'})\n",
    "scatter_plot = VBox([scatter.show()])\n",
    "hist_plot = VBox([RSI_hist.show(), SSK_hist.show()])\n",
    "top_plots = HBox([scatter_plot, hist_plot])\n",
    "top = HBox([scatter_controls, top_plots])\n",
    "\n",
    "top_plots.layout.width = '100%'\n",
    "scatter_controls.layout.width = '350px'\n",
    "scatter_plot.layout.flex = '3 2'\n",
    "hist_plot.layout.flex = '1 1'\n",
    "scatter.figure.layout.width = '100%'\n",
    "scatter.figure.layout.height = '600px'\n",
    "scatter_margin = scatter.figure.fig_margin\n",
    "scatter.figure.fig_margin['right'] = -10"
   ]
  },
  {
   "cell_type": "code",
   "execution_count": null,
   "metadata": {
    "collapsed": false,
    "deletable": true,
    "editable": true
   },
   "outputs": [],
   "source": [
    "security_selector = price_plot.line_control\n",
    "\n",
    "security_graph_box = VBox([price_plot.show(), heatmap], layout={'overflow_x': 'hidden'}) \n",
    "security_control_box = VBox([Label('Select Securities:'), security_selector])\n",
    "bottom = HBox([security_control_box, security_graph_box])\n",
    "\n",
    "security_selector.description = ''\n",
    "security_graph_box.layout.flex = '4'\n",
    "heatmap.layout.width = '100%'\n",
    "price_plot.figure.layout.width = '100%'\n",
    "scatter.figure.fig_margin = {'bottom': 40, 'left': 80, 'right': 0, 'top': 20}\n",
    "price_plot.figure.fig_margin = {'bottom': 0, 'left': 55, 'right': 30, 'top': 20}\n",
    "heatmap.fig_margin = {'bottom': 35, 'left': 55, 'right': 30, 'top': 0}"
   ]
  },
  {
   "cell_type": "code",
   "execution_count": null,
   "metadata": {
    "collapsed": false,
    "deletable": true,
    "editable": true,
    "scrolled": false
   },
   "outputs": [],
   "source": [
    "def update(event):\n",
    "    try:\n",
    "        scatter._extract_points(event['new'])\n",
    "        security_selector.options = scatter.selected_data.index.values\n",
    "        security_selector.value = tuple(scatter.selected_data.index.values[0:min(4,len(event['new']))])\n",
    "        RSI_hist.push(pd.DataFrame(scatter.selected_data['RSI']))\n",
    "        SSK_hist.push(pd.DataFrame(scatter.selected_data['SSK']))\n",
    "    except: \n",
    "        pass\n",
    "    return True\n",
    "\n",
    "def update_scatter(event):\n",
    "    try:\n",
    "        clear_output()\n",
    "        selection = sector_categories.isin(event['new']).values\n",
    "        new_data = df[selection]\n",
    "        scatter.push(new_data)\n",
    "        scatter.x_control.value = 'SSK'\n",
    "        scatter.mark.observe(update,'selected')\n",
    "        price_plot.line_control.observe(update_heatmap, 'value')\n",
    "        display(top,bottom)\n",
    "    except:\n",
    "        pass\n",
    "    return True\n",
    "    \n",
    "def update_heatmap(security):\n",
    "    try:\n",
    "        slicer = security['new']\n",
    "        SSK = SSK_signal[[*slicer]].T.sum().T\n",
    "        RSI = rsi_signal[[*slicer]].T.sum().T\n",
    "\n",
    "        grid_data = pd.DataFrame([SSK, RSI], index=['SSK','RSI'])\n",
    "        grid_map.color = grid_data\n",
    "    except:\n",
    "        pass\n",
    "    return True\n",
    "\n",
    "display(top,bottom)\n",
    "\n",
    "scatter.mark.observe(update,'selected')\n",
    "price_plot.line_control.observe(update_heatmap, 'value')\n",
    "sector_selector.observe(update_scatter,'value')\n",
    "    "
   ]
  }
 ],
 "metadata": {
  "kernelspec": {
   "display_name": "Python 3 (sandboxed)",
   "language": "python",
   "name": "python3"
  },
  "language_info": {
   "codemirror_mode": {
    "name": "ipython",
    "version": 3
   },
   "file_extension": ".py",
   "mimetype": "text/x-python",
   "name": "python",
   "nbconvert_exporter": "python",
   "pygments_lexer": "ipython3",
   "version": "3.5.5"
  }
 },
 "nbformat": 4,
 "nbformat_minor": 0
}
