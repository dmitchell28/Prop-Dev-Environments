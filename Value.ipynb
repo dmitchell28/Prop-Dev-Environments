{
 "cells": [
  {
   "cell_type": "markdown",
   "metadata": {},
   "source": [
    "## Bloomberg BQuant Webinar Series: <br> Is there Value in Value?\n",
    "This is a companion notebook to the \"Is there Value in Value?\" webinar."
   ]
  },
  {
   "cell_type": "code",
   "execution_count": null,
   "metadata": {},
   "outputs": [],
   "source": [
    "import bqplot as bqp\n",
    "import bqviz as bqv\n",
    "import bql\n",
    "import numpy as np\n",
    "import pandas as pd\n",
    "\n",
    "\n",
    "bq = bql.Service()"
   ]
  },
  {
   "cell_type": "code",
   "execution_count": null,
   "metadata": {},
   "outputs": [],
   "source": [
    "CREDIT_INDEX = 'LUACTRUU Index'\n",
    "HIGH_YIELD_INDEX = 'LF98TRUU Index'\n",
    "\n",
    "EQUITY_INDEX = 'RIY Index'\n",
    "GROWTH_INDEX = 'RLG Index'\n",
    "VALUE_INDEX = 'RLV Index'"
   ]
  },
  {
   "cell_type": "markdown",
   "metadata": {},
   "source": [
    "## Value vs junk premium"
   ]
  },
  {
   "cell_type": "code",
   "execution_count": null,
   "metadata": {},
   "outputs": [],
   "source": [
    "def fetch_premium_data(bq):   \n",
    "    dates = bq.func.range('-1000w', '0w')\n",
    "\n",
    "    corp_return = _fetch_return(bq, CREDIT_INDEX, dates)\n",
    "    junk_return = _fetch_return(bq, HIGH_YIELD_INDEX, dates)\n",
    "    \n",
    "    junk_prem_frame = junk_return - corp_return\n",
    "    junk_prem_frame.columns = ['junk_premium']\n",
    "    \n",
    "    growth_return = _fetch_return(bq, GROWTH_INDEX, dates)\n",
    "    value_return = _fetch_return(bq, VALUE_INDEX, dates)\n",
    "    \n",
    "    value_prem_frame = value_return - growth_return\n",
    "    value_prem_frame.columns = ['value_premium']\n",
    "\n",
    "    frame = pd.concat([value_prem_frame, junk_prem_frame], axis=1)\n",
    "    return ((frame.dropna() + 1).rolling(500).apply(lambda x: x.prod()) - 1).dropna()\n",
    "\n",
    "\n",
    "def _fetch_return(bq, security, dates):\n",
    "    return_ = bq.data.px_last(dates=dates).pct_diff() / 100\n",
    "    request = bql.Request(security, {'return': return_})\n",
    "    response = bq.execute(request)\n",
    "    return response[0].df().reset_index(drop=True).set_index('DATE')\n",
    "    \n",
    "\n",
    "prem_frame = fetch_premium_data(bq)\n",
    "bqv.InteractiveLinePlot(prem_frame, legend='outside').show().set_style()"
   ]
  },
  {
   "cell_type": "markdown",
   "metadata": {},
   "source": [
    "## Calculating \"value of value\""
   ]
  },
  {
   "cell_type": "code",
   "execution_count": null,
   "metadata": {},
   "outputs": [],
   "source": [
    "def _gen_date_grouped_pb_quantiles(bq, dates):\n",
    "    is_top, is_bottom, dates_vector = _gen_ungrouped_pb_quantiles(bq, dates)\n",
    "    top = is_top.group(dates_vector).median()\n",
    "    bottom = is_bottom.group(dates_vector).median()\n",
    "    return top, bottom\n",
    "\n",
    "\n",
    "def _gen_ungrouped_pb_quantiles(bq, dates):\n",
    "    px_to_book = bq.data.px_to_book_ratio(fill='prev', dates=dates)\n",
    "    dates_vector = px_to_book['AS_OF_DATE']\n",
    "    quantiles = px_to_book.group(dates_vector).cut(5).ungroup()\n",
    "    is_top = bq.func.if_(quantiles == 5, px_to_book, np.nan)\n",
    "    is_bottom = bq.func.if_(quantiles == 1, px_to_book, np.nan)\n",
    "    return is_top, is_bottom, dates_vector\n",
    "\n",
    "\n",
    "def fetch_index_value_of_value_data(bq):\n",
    "    dates = bq.func.range('-50m', '0m')\n",
    "    top, bottom = _gen_date_grouped_pb_quantiles(bq, dates)\n",
    "\n",
    "    members = bq.univ.members(EQUITY_INDEX)\n",
    "    items = {\n",
    "        'Difference': top - bottom,\n",
    "        'Ratio': top / bottom}\n",
    "\n",
    "    request = bql.Request(members, items)\n",
    "    response = bq.execute(request)\n",
    "\n",
    "    frames = [x.df() for x in response]\n",
    "    return pd.concat(frames, axis=0).rename(columns={'AS_OF_DATE': 'date'}).set_index('date', drop=True).loc[:, ['Difference', 'Ratio']]\n",
    "\n",
    "\n",
    "index_value_frame = fetch_index_value_of_value_data(bq)\n",
    "bqv.LinePlot(index_value_frame, legend='outside').show()"
   ]
  },
  {
   "cell_type": "markdown",
   "metadata": {},
   "source": [
    "## Looking for equity sector trends"
   ]
  },
  {
   "cell_type": "code",
   "execution_count": null,
   "metadata": {},
   "outputs": [],
   "source": [
    "def fetch_gics_sector_value_of_value_data(bq, dates):\n",
    "    \n",
    "    is_top, is_bottom, dates_vector = _gen_ungrouped_pb_quantiles(bq, dates)\n",
    "    \n",
    "    gics_sector = bq.data.gics_sector_name()\n",
    "    groupers = [dates_vector, gics_sector]\n",
    "\n",
    "    top = is_top.group(groupers).median()\n",
    "    bottom = is_bottom.group(groupers).median()\n",
    "    items = {'value_of_value': top / bottom}\n",
    "\n",
    "    members = bq.univ.members(EQUITY_INDEX)\n",
    "    request = bql.Request(members, items)\n",
    "    response = bq.execute(request)\n",
    "    \n",
    "    frame = response[0].df().reset_index().rename(columns={'GICS_SECTOR_NAME()': 'sector'})\n",
    "    pivot_frame = frame.pivot(index='AS_OF_DATE', columns='sector', values='value_of_value')\n",
    "    return pivot_frame\n",
    "\n",
    "\n",
    "dates = bq.func.range('-200w', '0w')\n",
    "\n",
    "sector_value_frame = fetch_gics_sector_value_of_value_data(bq, dates=dates)\n",
    "bqv.InteractiveLinePlot(sector_value_frame, legend='outside').show()"
   ]
  },
  {
   "cell_type": "markdown",
   "metadata": {},
   "source": [
    "## Cross-asset sector trends"
   ]
  },
  {
   "cell_type": "code",
   "execution_count": null,
   "metadata": {},
   "outputs": [],
   "source": [
    "def fetch_gics_sector_junk_premium_data(bq):\n",
    "    \n",
    "    junk_yield = _fetch_gics_sector_bond_yield(bq, HIGH_YIELD_INDEX)\n",
    "    corp_yield = _fetch_gics_sector_bond_yield(bq, CREDIT_INDEX)\n",
    "    \n",
    "    junk_yield.rename(columns={'yield': 'junk_yield'}, inplace=True)\n",
    "    corp_yield.rename(columns={'yield': 'corp_yield'}, inplace=True)\n",
    "\n",
    "    frame = pd.concat([junk_yield, corp_yield], axis=1)\n",
    "    frame['junk_premium'] = frame['junk_yield'] - frame['corp_yield']\n",
    "    \n",
    "    return frame\n",
    "\n",
    "\n",
    "def _fetch_gics_sector_bond_yield(bq, index):\n",
    "    yield_ = bq.data.yield_()\n",
    "    members = bq.univ.members(index)\n",
    "    \n",
    "    gics_sector = bq.func.value(bq.data.gics_sector_name(), bq.univ.issuerof(), mapby='lineage')\n",
    "    grouped_yield = yield_.group(by=gics_sector).avg()\n",
    "\n",
    "    request = bql.Request(members, {'yield': grouped_yield})\n",
    "    response = bq.execute(request)\n",
    "    \n",
    "    return response[0].df().drop(['NullGroup'], axis=0).loc[:, ['yield']]\n",
    "\n",
    "\n",
    "sector_junk_frame = fetch_gics_sector_junk_premium_data(bq)\n",
    "\n",
    "dataframe = pd.concat(\n",
    "    [sector_junk_frame.loc[:, 'junk_premium'],\n",
    "     sector_value_frame.iloc[-1, :].rename('value_premium')],\n",
    "    axis=1).dropna()\n",
    "\n",
    "\n",
    "scale_x = bqp.LinearScale()\n",
    "scale_y = bqp.LinearScale()\n",
    "\n",
    "tooltip = bqp.Tooltip(\n",
    "    fields=['name', 'x', 'y'],\n",
    "    labels=['Sector', 'Junk premium', 'Value premium'],\n",
    "    formats=['', '.3f', '.3f'])\n",
    "\n",
    "mark_scatter = bqp.Scatter(\n",
    "    x=dataframe['junk_premium'],\n",
    "    y=dataframe['value_premium'],\n",
    "    names=dataframe.index,\n",
    "    tooltip=tooltip,\n",
    "    display_names=False,\n",
    "    scales={'x': scale_x, 'y': scale_y})\n",
    "\n",
    "axis_x = bqp.Axis(scale=scale_x, label='Junk premium')\n",
    "axis_y = bqp.Axis(scale=scale_y, orientation='vertical', label='Value premium')\n",
    "\n",
    "figure = bqp.Figure(\n",
    "    marks=[mark_scatter],\n",
    "    axes=[axis_x, axis_y],\n",
    "    animation_duration=500,\n",
    "    title_style={'font-size': '22px'},\n",
    "    padding_x=0.05,\n",
    "    padding_y=0.05,\n",
    "    layout={'width': '100%', 'height': '500px'})\n",
    "\n",
    "figure"
   ]
  }
 ],
 "metadata": {
  "kernelspec": {
   "display_name": "Python 3 (sandboxed)",
   "language": "python",
   "name": "python3"
  },
  "language_info": {
   "codemirror_mode": {
    "name": "ipython",
    "version": 3
   },
   "file_extension": ".py",
   "mimetype": "text/x-python",
   "name": "python",
   "nbconvert_exporter": "python",
   "pygments_lexer": "ipython3",
   "version": "3.5.5"
  }
 },
 "nbformat": 4,
 "nbformat_minor": 4
}
