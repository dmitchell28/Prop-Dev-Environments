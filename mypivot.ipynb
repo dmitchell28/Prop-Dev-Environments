{
 "cells": [
  {
   "cell_type": "markdown",
   "metadata": {},
   "source": [
    "# Pivot Table\n",
    "\n",
    "<img style=\"float:left;\" src=\"../images/pivot1.jpg\" width=\"300\" height=\"300\" />"
   ]
  },
  {
   "cell_type": "code",
   "execution_count": 4,
   "metadata": {},
   "outputs": [],
   "source": [
    "import pandas as pd\n",
    "import bqviz as bqv\n",
    "import bql\n",
    "from ipywidgets import Dropdown\n",
    "from IPython.display import display\n",
    "\n",
    "bq = bql.Service()"
   ]
  },
  {
   "cell_type": "code",
   "execution_count": null,
   "metadata": {},
   "outputs": [],
   "source": []
  },
  {
   "cell_type": "code",
   "execution_count": 2,
   "metadata": {},
   "outputs": [],
   "source": [
    "request = \"\"\"\n",
    "let(#buckets=if(in(BB_COMPOSITE,['BB','BB+','BB-']),'BB',\n",
    "if(in(BB_COMPOSITE,['BBB','BBB+','BBB-']),'BBB',\n",
    "if(in(BB_COMPOSITE,['B','B+','B-']),'B',\n",
    "if(in(BB_COMPOSITE,['AA','AA+','AA-']),'AA',\n",
    "if(in(BB_COMPOSITE,['AAA','AAA+','AAA-']),'AAA',\n",
    "if(in(BB_COMPOSITE,['A','A+','A-']),'A',\n",
    "'NR/Other'))))));\n",
    "\n",
    "#INT_RATIO=VALUE(IMPLIED_VOLATILITY,translatesymbols(members('LUACTRUU index'),instrumentidtype='Corp',targetIDtype='fundamentalticker'),mapby=lineage).value;\n",
    "\n",
    "#wgt=ID().Weights;\n",
    "\n",
    "#AVG_IVOL=groupsort(WAVG(group(#INT_RATIO,#buckets),group(#wgt,#buckets)),order=desc);\n",
    "\n",
    "#count=count(group(id,#buckets));) \n",
    "\n",
    "get(#AVG_IVOL,#count) \n",
    "for(Members('LUACTRUU Index'))\n",
    "\n",
    "\"\"\"\n",
    "\n",
    "# Execute the request\n",
    "response_z = bq.execute(request)\n"
   ]
  },
  {
   "cell_type": "code",
   "execution_count": 3,
   "metadata": {},
   "outputs": [
    {
     "data": {
      "text/html": [
       "<div>\n",
       "<style scoped>\n",
       "    .dataframe tbody tr th:only-of-type {\n",
       "        vertical-align: middle;\n",
       "    }\n",
       "\n",
       "    .dataframe tbody tr th {\n",
       "        vertical-align: top;\n",
       "    }\n",
       "\n",
       "    .dataframe thead th {\n",
       "        text-align: right;\n",
       "    }\n",
       "</style>\n",
       "<table border=\"1\" class=\"dataframe\">\n",
       "  <thead>\n",
       "    <tr style=\"text-align: right;\">\n",
       "      <th></th>\n",
       "      <th>ORIG_IDS</th>\n",
       "      <th>#BUCKETS</th>\n",
       "      <th>#AVG_IVOL</th>\n",
       "    </tr>\n",
       "    <tr>\n",
       "      <th>ID</th>\n",
       "      <th></th>\n",
       "      <th></th>\n",
       "      <th></th>\n",
       "    </tr>\n",
       "  </thead>\n",
       "  <tbody>\n",
       "    <tr>\n",
       "      <th>BB</th>\n",
       "      <td>None</td>\n",
       "      <td>BB</td>\n",
       "      <td>48.693606</td>\n",
       "    </tr>\n",
       "    <tr>\n",
       "      <th>BBB</th>\n",
       "      <td>None</td>\n",
       "      <td>BBB</td>\n",
       "      <td>45.556944</td>\n",
       "    </tr>\n",
       "    <tr>\n",
       "      <th>NR/Other</th>\n",
       "      <td>None</td>\n",
       "      <td>NR/Other</td>\n",
       "      <td>44.446927</td>\n",
       "    </tr>\n",
       "    <tr>\n",
       "      <th>A</th>\n",
       "      <td>None</td>\n",
       "      <td>A</td>\n",
       "      <td>42.178763</td>\n",
       "    </tr>\n",
       "    <tr>\n",
       "      <th>AA</th>\n",
       "      <td>None</td>\n",
       "      <td>AA</td>\n",
       "      <td>35.824039</td>\n",
       "    </tr>\n",
       "    <tr>\n",
       "      <th>AAA</th>\n",
       "      <td>None</td>\n",
       "      <td>AAA</td>\n",
       "      <td>32.276539</td>\n",
       "    </tr>\n",
       "  </tbody>\n",
       "</table>\n",
       "</div>"
      ],
      "text/plain": [
       "         ORIG_IDS  #BUCKETS  #AVG_IVOL\n",
       "ID                                    \n",
       "BB           None        BB  48.693606\n",
       "BBB          None       BBB  45.556944\n",
       "NR/Other     None  NR/Other  44.446927\n",
       "A            None         A  42.178763\n",
       "AA           None        AA  35.824039\n",
       "AAA          None       AAA  32.276539"
      ]
     },
     "execution_count": 3,
     "metadata": {},
     "output_type": "execute_result"
    }
   ],
   "source": [
    "# Display the response in a DataFrame\n",
    "newdf4 =response_z[0].df()\n",
    "#newdf2 = bql.combined_df(response8)\n",
    "newdf4"
   ]
  },
  {
   "cell_type": "code",
   "execution_count": 4,
   "metadata": {},
   "outputs": [],
   "source": [
    "#combine the multi-dataframe response into one df\n",
    "newdf4 = pd.DataFrame({r.name:r.df()[r.name] for r in response_z})"
   ]
  },
  {
   "cell_type": "code",
   "execution_count": 5,
   "metadata": {},
   "outputs": [
    {
     "data": {
      "text/html": [
       "<div>\n",
       "<style scoped>\n",
       "    .dataframe tbody tr th:only-of-type {\n",
       "        vertical-align: middle;\n",
       "    }\n",
       "\n",
       "    .dataframe tbody tr th {\n",
       "        vertical-align: top;\n",
       "    }\n",
       "\n",
       "    .dataframe thead th {\n",
       "        text-align: right;\n",
       "    }\n",
       "</style>\n",
       "<table border=\"1\" class=\"dataframe\">\n",
       "  <thead>\n",
       "    <tr style=\"text-align: right;\">\n",
       "      <th></th>\n",
       "      <th>#AVG_IVOL</th>\n",
       "      <th>#count</th>\n",
       "    </tr>\n",
       "  </thead>\n",
       "  <tbody>\n",
       "    <tr>\n",
       "      <th>A</th>\n",
       "      <td>42.178763</td>\n",
       "      <td>2475</td>\n",
       "    </tr>\n",
       "    <tr>\n",
       "      <th>AA</th>\n",
       "      <td>35.824039</td>\n",
       "      <td>349</td>\n",
       "    </tr>\n",
       "    <tr>\n",
       "      <th>AAA</th>\n",
       "      <td>32.276539</td>\n",
       "      <td>70</td>\n",
       "    </tr>\n",
       "    <tr>\n",
       "      <th>BB</th>\n",
       "      <td>48.693606</td>\n",
       "      <td>122</td>\n",
       "    </tr>\n",
       "    <tr>\n",
       "      <th>BBB</th>\n",
       "      <td>45.556944</td>\n",
       "      <td>3406</td>\n",
       "    </tr>\n",
       "    <tr>\n",
       "      <th>NR/Other</th>\n",
       "      <td>44.446927</td>\n",
       "      <td>21</td>\n",
       "    </tr>\n",
       "  </tbody>\n",
       "</table>\n",
       "</div>"
      ],
      "text/plain": [
       "          #AVG_IVOL  #count\n",
       "A         42.178763    2475\n",
       "AA        35.824039     349\n",
       "AAA       32.276539      70\n",
       "BB        48.693606     122\n",
       "BBB       45.556944    3406\n",
       "NR/Other  44.446927      21"
      ]
     },
     "execution_count": 5,
     "metadata": {},
     "output_type": "execute_result"
    }
   ],
   "source": [
    "newdf4"
   ]
  },
  {
   "cell_type": "code",
   "execution_count": 6,
   "metadata": {},
   "outputs": [
    {
     "data": {
      "application/vnd.jupyter.widget-view+json": {
       "model_id": "d9e7af1b75ec446e957da3f4dcd78aff",
       "version_major": 2,
       "version_minor": 0
      },
      "text/plain": [
       "Dropdown(description='Periodicity', options=('Annual', 'Semi-Annual', 'Quarterly'), value='Annual')"
      ]
     },
     "metadata": {},
     "output_type": "display_data"
    }
   ],
   "source": [
    "\n",
    "\n",
    "# Dropdown\n",
    "dropdown = Dropdown(options=['Annual', 'Semi-Annual','Quarterly'],value='Annual',description='Periodicity')\n",
    "\n",
    "display(dropdown)\n"
   ]
  },
  {
   "cell_type": "code",
   "execution_count": null,
   "metadata": {},
   "outputs": [],
   "source": []
  }
 ],
 "metadata": {
  "kernelspec": {
   "display_name": "Python 3 (sandboxed)",
   "language": "python",
   "name": "python3"
  },
  "language_info": {
   "codemirror_mode": {
    "name": "ipython",
    "version": 3
   },
   "file_extension": ".py",
   "mimetype": "text/x-python",
   "name": "python",
   "nbconvert_exporter": "python",
   "pygments_lexer": "ipython3",
   "version": "3.7.1"
  }
 },
 "nbformat": 4,
 "nbformat_minor": 4
}
