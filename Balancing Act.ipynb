{
 "cells": [
  {
   "cell_type": "markdown",
   "metadata": {},
   "source": [
    "# Bloomberg BQuant Spotlight Webinar Series: Balancing Act\n",
    "This is a companion notebook to the \"Understanding the Financial Statement Impact of Operating Leases\" webinar."
   ]
  },
  {
   "cell_type": "code",
   "execution_count": null,
   "metadata": {
    "deletable": true,
    "editable": true
   },
   "outputs": [],
   "source": [
    "import bqplot as bqp\n",
    "from bqplot.interacts import BrushSelector\n",
    "import pandas as pd\n",
    "import numpy as np\n",
    "from ipywidgets import Dropdown, HBox, VBox, HTML\n",
    "import bqwidgets as bqw\n",
    "import bql\n",
    "bq=bql.Service()"
   ]
  },
  {
   "cell_type": "code",
   "execution_count": null,
   "metadata": {
    "deletable": true,
    "editable": true
   },
   "outputs": [],
   "source": [
    "params={'currency':'USD','fa_filing_status':'MRXP'}\n",
    "qparams={'currency':'USD','fa_filing_status':'MRXP','fa_period_type':'Q'}"
   ]
  },
  {
   "cell_type": "markdown",
   "metadata": {
    "deletable": true,
    "editable": true
   },
   "source": [
    "<h5 style='color:LIGHTSKYBLUE'>Proxy Metric - Operating Lease Percentage of Liabilities</h5>"
   ]
  },
  {
   "cell_type": "code",
   "execution_count": null,
   "metadata": {
    "deletable": true,
    "editable": true
   },
   "outputs": [],
   "source": [
    "total_ol_liability=bq.func.znav(bq.data.bs_total_operating_lease_liabs(**params))\n",
    "debt=bq.func.znav(bq.data.bs_tot_liab2(**params))\n",
    "\n",
    "op_lease_pct_of_liabilities=bq.func.if_(bq.func.or_(bq.func.equals(total_ol_liability,0),bq.func.equals(debt,0)),\n",
    "                                       0,\n",
    "                                       bq.func.dropna(total_ol_liability/debt))*100"
   ]
  },
  {
   "cell_type": "markdown",
   "metadata": {
    "deletable": true,
    "editable": true
   },
   "source": [
    "<h5 style='color:LightSeaGreen'>Pre-ASC842 EBITDA</h5>"
   ]
  },
  {
   "cell_type": "code",
   "execution_count": null,
   "metadata": {
    "deletable": true,
    "editable": true
   },
   "outputs": [],
   "source": [
    "def bq_old_ebitda(params):\n",
    "    grid=bq.data.eqy_fund_ind()\n",
    "    da=bq.data.cf_depr_amort(**params)\n",
    "    \n",
    "    oi=bq.data.is_oper_inc(**params)\n",
    "    reit_oi=bq.data.ebit(**params)\n",
    "    \n",
    "    industrial=oi+da\n",
    "    financial=oi+da+bq.func.znav(bq.data.is_int_expenses(**params))\n",
    "    utility=oi+da+bq.func.znav(bq.data.is_total_d_and_a_adjustment(**params))\n",
    "    reit=reit_oi+da\n",
    "    \n",
    "    old_ebitda=bq.func.if_(bq.func.in_(grid,['Industrial']),industrial,\n",
    "                           bq.func.if_(bq.func.in_(grid,['Financial']),financial,\n",
    "                                       bq.func.if_(bq.func.in_(grid,['Utility']),utility,\n",
    "                                                   bq.func.if_(bq.func.in_(grid,['REIT']),reit,bql.NA))))\n",
    "    return old_ebitda\n",
    "old_ebitda=bq_old_ebitda(params)\n",
    "old_qebitda=bq_old_ebitda(qparams)"
   ]
  },
  {
   "cell_type": "markdown",
   "metadata": {
    "deletable": true,
    "editable": true
   },
   "source": [
    "<h5 style='color:LightSeaGreen'>Pre-ASC842 Enterprise Value</h5>"
   ]
  },
  {
   "cell_type": "code",
   "execution_count": null,
   "metadata": {
    "deletable": true,
    "editable": true
   },
   "outputs": [],
   "source": [
    "old_ev=bq.data.curr_entp_val(**params)-bq.func.znav(bq.data.bs_total_operating_lease_liabs(**params))"
   ]
  },
  {
   "cell_type": "markdown",
   "metadata": {
    "deletable": true,
    "editable": true
   },
   "source": [
    "<h5 style='color:LightSeaGreen'>Pre-ASC842 Total Debt</h5>"
   ]
  },
  {
   "cell_type": "code",
   "execution_count": null,
   "metadata": {
    "deletable": true,
    "editable": true
   },
   "outputs": [],
   "source": [
    "old_debt=bq.data.short_and_long_term_debt(**params)-bq.func.znav(bq.data.bs_total_operating_lease_liabs(**params))"
   ]
  },
  {
   "cell_type": "markdown",
   "metadata": {
    "deletable": true,
    "editable": true
   },
   "source": [
    "<h5 style='color:LIGHTSKYBLUE'>Post-ASC842 vs. Pre-ASC842</h5>"
   ]
  },
  {
   "cell_type": "code",
   "execution_count": null,
   "metadata": {
    "deletable": true,
    "editable": true
   },
   "outputs": [],
   "source": [
    "ev=bq.data.curr_entp_val(**params)\n",
    "ebitda=bq.data.ebitda(**params)\n",
    "qebitda=bq.data.ebitda(**qparams)\n",
    "sales=bq.data.sales_rev_turn(**params)\n",
    "debt=bq.data.short_and_long_term_debt(**params)\n",
    "\n",
    "ev_ebitda=bq.func.if_(ebitda>0,ev/ebitda,bql.NA)\n",
    "old_ev_ebitda=bq.func.if_(old_ebitda>0,old_ev/old_ebitda,bql.NA)\n",
    "\n",
    "disc_ev_ebitda=bq.func.if_(ev_ebitda/old_ev_ebitda>0,\n",
    "                          ev_ebitda/old_ev_ebitda-1,\n",
    "                          bql.NA)*100\n",
    "\n",
    "ebitda_margin=bq.func.if_(sales>0,ebitda/sales,bql.NA)\n",
    "old_ebitda_margin=bq.func.if_(sales>0,old_ebitda/sales,bql.NA)\n",
    "\n",
    "disc_ebitda_margin=bq.func.if_(ebitda_margin/old_ebitda_margin>0,\n",
    "                               ebitda_margin/old_ebitda_margin-1,\n",
    "                               bql.NA)*100\n",
    "\n",
    "debt_ebitda=bq.func.if_(ebitda>0,debt/ebitda,bql.NA)\n",
    "old_debt_ebitda=bq.func.if_(old_ebitda>0,old_debt/old_ebitda,bql.NA)\n",
    "\n",
    "disc_debt_to_ebitda=(debt_ebitda/old_debt_ebitda-1)*100\n",
    "\n",
    "disc_10q_ebitda=bq.func.if_(bq.func.and_(bq.func.equals(old_qebitda,0)==False,qebitda/old_qebitda>0),\n",
    "                            qebitda/old_qebitda-1,\n",
    "                            bql.NA)*100"
   ]
  },
  {
   "cell_type": "markdown",
   "metadata": {
    "deletable": true,
    "editable": true
   },
   "source": [
    "<h5 style='color:ORANGE'>Data Request</h5>"
   ]
  },
  {
   "cell_type": "code",
   "execution_count": null,
   "metadata": {
    "deletable": true,
    "editable": true
   },
   "outputs": [],
   "source": [
    "req_d={'Name':bq.data.name(),\n",
    "        'Sector':bq.data.gics_sector_name(),\n",
    "        'Industry':bq.data.gics_industry_name(),\n",
    "        'FA Class':bq.data.eqy_fund_ind(),\n",
    "        'Op Lease Pct of Liabilities':op_lease_pct_of_liabilities,\n",
    "        'EV to EBITDA':disc_ev_ebitda,\n",
    "        'EBITDA Margin':disc_ebitda_margin,\n",
    "        'Debt to EBITDA':disc_debt_to_ebitda,\n",
    "        'Last 10-Q EBITDA':disc_10q_ebitda}\n",
    "\n",
    "\n",
    "univ_filter_criteria=bq.func.and_(bq.func.znav(bq.data.bs_total_operating_lease_liabs(**params))>0,\n",
    "                                  bq.func.in_(bq.data.eqy_fund_ind(),['Industrial','REIT','Utility','Financial']))\n",
    "univ=bq.univ.filter(bq.univ.members('SPX Index'),univ_filter_criteria)\n",
    "req=bql.Request(univ,req_d)"
   ]
  },
  {
   "cell_type": "code",
   "execution_count": null,
   "metadata": {
    "deletable": true,
    "editable": true
   },
   "outputs": [],
   "source": [
    "bqexec=bq.execute(req)"
   ]
  },
  {
   "cell_type": "code",
   "execution_count": null,
   "metadata": {
    "deletable": true,
    "editable": true
   },
   "outputs": [],
   "source": [
    "reference_columns=['Name','Sector','Industry','FA Class','Op Lease Pct of Liabilities']\n",
    "discrepancy_columns=['Last 10-Q EBITDA', 'EV to EBITDA','EBITDA Margin', 'Debt to EBITDA']"
   ]
  },
  {
   "cell_type": "code",
   "execution_count": null,
   "metadata": {
    "deletable": true,
    "editable": true
   },
   "outputs": [],
   "source": [
    "df_cols=[]\n",
    "for col in reference_columns+discrepancy_columns:\n",
    "    df_cols.append(bqexec.get(col).df()[col])\n",
    "\n",
    "data=pd.concat(df_cols,axis=1).reset_index().rename(columns={'ID':'Ticker'})"
   ]
  },
  {
   "cell_type": "code",
   "execution_count": null,
   "metadata": {
    "deletable": true,
    "editable": true
   },
   "outputs": [],
   "source": [
    "data.head()"
   ]
  },
  {
   "cell_type": "code",
   "execution_count": null,
   "metadata": {
    "deletable": true,
    "editable": true
   },
   "outputs": [],
   "source": [
    "data_clean=data.copy()\n",
    "for col in discrepancy_columns:\n",
    "    data_clean[col]=data_clean[col].clip(lower=data[col].quantile(0.05),upper=data[col].quantile(0.95))"
   ]
  },
  {
   "cell_type": "code",
   "execution_count": null,
   "metadata": {
    "deletable": true,
    "editable": true
   },
   "outputs": [],
   "source": [
    "data_clean=data_clean.round(decimals=2)"
   ]
  },
  {
   "cell_type": "markdown",
   "metadata": {
    "deletable": true,
    "editable": true
   },
   "source": [
    "<h5 style='color:ORANGE'>Post-ASC842 vs. Pre-ASC842 Visualization</h5>"
   ]
  },
  {
   "cell_type": "code",
   "execution_count": null,
   "metadata": {
    "deletable": true,
    "editable": true
   },
   "outputs": [],
   "source": [
    "# Data source\n",
    "# data_clean\n",
    "\n",
    "data_cols=['Op Lease Pct of Liabilities']+discrepancy_columns\n",
    "\n",
    "# Create scales\n",
    "scale_x = bqp.LinearScale()\n",
    "scale_y = bqp.LinearScale()\n",
    "\n",
    "c_sc=bqp.OrdinalColorScale()\n",
    "ttp_flds=['name','color']\n",
    "ttp_lbls=['Name','Sector']\n",
    "ttp=bqp.Tooltip(fields=ttp_flds,labels=ttp_lbls)\n",
    "\n",
    "# Create marks\n",
    "mark_scatter = bqp.Scatter(x=data_clean[data_cols[0]],\n",
    "                           y=data_clean[data_cols[1]],\n",
    "                           scales={'x': scale_x, 'y': scale_y,'color':c_sc},\n",
    "                           default_size=48,\n",
    "                           color=data_clean['Industry'],\n",
    "                          names=data_clean['Name'],\n",
    "                          display_names=False,\n",
    "                          tooltip=ttp)\n",
    "\n",
    "# Create Axes\n",
    "axis_x = bqp.Axis(scale=scale_x, label=data_cols[0])\n",
    "axis_y = bqp.Axis(scale=scale_y,\n",
    "                  orientation='vertical',\n",
    "                  tick_format='0.0f',\n",
    "                  label=data_cols[1])\n",
    "\n",
    "# Create selector\n",
    "selector = BrushSelector(x_scale=scale_x,\n",
    "                         y_scale=scale_y,\n",
    "                         marks=[mark_scatter])\n",
    "\n",
    "# Create Figure\n",
    "figure = bqp.Figure(marks=[mark_scatter],\n",
    "                    axes=[axis_x, axis_y],\n",
    "                    animation_duration=500,\n",
    "                    layout={'width':'99%', 'height':'400px'},\n",
    "                    padding_x=0.05,\n",
    "                    title='S&P 500 ASC 842 Impact',\n",
    "                    title_style={'font-size': '22px'},\n",
    "                    padding_y=0.05,\n",
    "                    interaction=selector,\n",
    "                    fig_margin={'top': 50, 'bottom': 60,\n",
    "                                'left': 50, 'right':30})\n",
    "\n",
    "\n",
    "# Create dropown widgets\n",
    "dropdown_x = Dropdown(description='X axis',\n",
    "                      options=data_cols,\n",
    "                      value=data_cols[0])\n",
    "dropdown_y = Dropdown(description='Y axis',\n",
    "                      options=data_cols,\n",
    "                      value=data_cols[1])\n",
    "\n",
    "# Define callback function for dropdown widgets\n",
    "def update_plot(evt):\n",
    "    if evt is not None:\n",
    "        new_value = evt['new']\n",
    "        if evt['owner'] == dropdown_x:\n",
    "            mark_scatter.x = data_clean[new_value]\n",
    "            axis_x.label = new_value\n",
    "        elif evt['owner'] == dropdown_y:\n",
    "            mark_scatter.y = data_clean[new_value]\n",
    "            axis_y.label = new_value\n",
    "\n",
    "\n",
    "# Define callback function for selections\n",
    "def on_select(evt):\n",
    "    if evt is not None and evt['new'] is not None:\n",
    "        indices = evt['new']\n",
    "        datagrid.data = data_clean.iloc[indices].reset_index()\n",
    "\n",
    "# Bind callback to the dropdown widgets\n",
    "dropdown_x.observe(update_plot, names=['value'])\n",
    "dropdown_y.observe(update_plot, names=['value'])\n",
    "mark_scatter.observe(on_select, names=['selected'])\n",
    "\n",
    "# Create datagrid\n",
    "col_defs=[{'children': [{'field': 'Ticker', 'headerName': 'Ticker', 'width': 170},\n",
    "           {'field': 'Name', 'headerName': 'Name', 'width': 190},\n",
    "           {'field': 'Sector', 'headerName': 'Sector', 'width': 190},\n",
    "           {'field': 'Industry', 'headerName': 'Industry', 'width': 190},\n",
    "           {'field': 'FA Class', 'headerName': 'FA Class', 'width': 96},\n",
    "           {'field': 'Op Lease Pct of Liabilities',\n",
    "            'headerName': 'Op Lease Pct of Liabilities',\n",
    "            'width': 240}],\n",
    "          'headerName': 'Company'},\n",
    "         {'children': [{'field': 'Last 10-Q EBITDA',\n",
    "            'headerName': 'Last 10-Q EBITDA',\n",
    "            'width': 192},\n",
    "           {'field': 'EV to EBITDA', 'headerName': 'EV to EBITDA', 'width': 144},\n",
    "           {'field': 'EBITDA Margin', 'headerName': 'EBITDA Margin', 'width': 156},\n",
    "           {'field': 'Debt to EBITDA', 'headerName': 'Debt to EBITDA', 'width': 168}],\n",
    "          'headerName': '% Discrepancy in ASU 2016-02 Impacted Data'}]\n",
    "datagrid = bqw.DataGrid(data=data_clean,column_defs=col_defs)\n",
    "\n",
    "# Create Box containers\n",
    "widget_box = HBox([dropdown_x, dropdown_y], layout={'margin': '10px'})\n",
    "app_container = VBox([figure, widget_box, datagrid],\n",
    "                     layout={'width':'100%'})\n",
    "\n",
    "# Display the visualization\n",
    "app_container\n"
   ]
  }
 ],
 "metadata": {
  "input_collapsed": false,
  "kernelspec": {
   "display_name": "Python 3 (sandboxed)",
   "language": "python",
   "name": "python3"
  },
  "language_info": {
   "codemirror_mode": {
    "name": "ipython",
    "version": 3
   },
   "file_extension": ".py",
   "mimetype": "text/x-python",
   "name": "python",
   "nbconvert_exporter": "python",
   "pygments_lexer": "ipython3",
   "version": "3.5.5"
  }
 },
 "nbformat": 4,
 "nbformat_minor": 4
}
