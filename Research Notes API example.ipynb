{
 "cells": [
  {
   "cell_type": "markdown",
   "metadata": {},
   "source": [
    "# How To: Post, Get, Update, Search, and Delete Research Notes"
   ]
  },
  {
   "cell_type": "markdown",
   "metadata": {},
   "source": [
    "The Research Notes API allows users to manipulate and interact with research notes. \n",
    "\n",
    "The following guide will demonstrate how to create a new research note, get a specific research note by id, update an existing note, search a list of desired research notes by providing advanced search criteria, and delete an existing note.\n",
    "       "
   ]
  },
  {
   "cell_type": "markdown",
   "metadata": {},
   "source": [
    "### Import Libraries & Create Header Function"
   ]
  },
  {
   "cell_type": "code",
   "execution_count": null,
   "metadata": {},
   "outputs": [],
   "source": [
    "#import libraries for API Calls / Data Analysis\n",
    "import uuid,datetime,requests,math,locale,sys\n",
    "import pandas as pd\n",
    "\n",
    "#----Set Client Environment (from url), Username, Password, and APIKey here----\n",
    "client_env = ''\n",
    "username = ''\n",
    "pwd = ''\n",
    "APIkey=''\n",
    "\n",
    "today = datetime.date.today().strftime(\"%Y-%m-%d\")\n",
    "        \n",
    "#function to generate unique headers when called\n",
    "def generate_headers():\n",
    "    headers = {\n",
    "        \"Content-Type\": \"application/json\",\n",
    "        'VND.com.blackrock.API-Key': APIkey,\n",
    "        'VND.com.blackrock.Origin-Timestamp': str(datetime.datetime.utcnow().replace(microsecond=0).astimezone().isoformat()),\n",
    "        'VND.com.blackrock.Request-ID': str(uuid.uuid1())\n",
    "    }\n",
    "    return headers"
   ]
  },
  {
   "cell_type": "markdown",
   "metadata": {},
   "source": [
    "### POST: Prepare API Parameters and Set URL for POST request"
   ]
  },
  {
   "cell_type": "code",
   "execution_count": null,
   "metadata": {},
   "outputs": [],
   "source": [
    "# set the parameters for the API call\n",
    "payload = {\n",
    "    \"author\": \"< INSERT USERNAME HERE >\",\n",
    "    \"entities\": [\n",
    "        {\n",
    "            \"issuer\": \"066050\"\n",
    "        }\n",
    "    ],\n",
    "    \"keywords\": [\n",
    "        \"demo\"\n",
    "    ],\n",
    "    \"note\": \"This is a test note\",\n",
    "    \"noteCategory\": \"Company Meeting Notes\",\n",
    "    \"subject\": \"Test Note\"\n",
    "}\n",
    "\n",
    "# Research Notes POST URL\n",
    "url = f'https://{client_env}.blackrock.com/api/investment-research/content/research-note/v1/researchNotes'"
   ]
  },
  {
   "cell_type": "markdown",
   "metadata": {},
   "source": [
    "#### Send API Request and Store POST response"
   ]
  },
  {
   "cell_type": "code",
   "execution_count": null,
   "metadata": {},
   "outputs": [],
   "source": [
    "# make request to Research Notes API \n",
    "r = requests.post(url,auth=(username,pwd),json=payload,headers=generate_headers()).json()\n",
    "r"
   ]
  },
  {
   "cell_type": "markdown",
   "metadata": {},
   "source": [
    "~~~"
   ]
  },
  {
   "cell_type": "markdown",
   "metadata": {},
   "source": [
    "### GET: Prepare API Parameters and Set URL for GET request"
   ]
  },
  {
   "cell_type": "code",
   "execution_count": null,
   "metadata": {},
   "outputs": [],
   "source": [
    "# Research Notes GET URL\n",
    "url = f'https://{client_env}.blackrock.com/api/investment-research/content/research-note/v1/researchNotes/< INSERT NOTE ID HERE >'"
   ]
  },
  {
   "cell_type": "markdown",
   "metadata": {},
   "source": [
    "#### Send API Request and Store GET response"
   ]
  },
  {
   "cell_type": "code",
   "execution_count": null,
   "metadata": {},
   "outputs": [],
   "source": [
    "# make request to Research Notes API\n",
    "r = requests.get(url,auth=(username,pwd),headers=generate_headers()).json()\n",
    "r"
   ]
  },
  {
   "cell_type": "markdown",
   "metadata": {},
   "source": [
    "~~~"
   ]
  },
  {
   "cell_type": "markdown",
   "metadata": {},
   "source": [
    "### UPDATE: Prepare API Parameters and Set URL for UPDATE request"
   ]
  },
  {
   "cell_type": "code",
   "execution_count": null,
   "metadata": {},
   "outputs": [],
   "source": [
    "# set the parameters for the API call\n",
    "data = {\n",
    "    \"note\": \"Update note content\",\n",
    "    \"subject\": \"Update title\"\n",
    "     }\n",
    "# Research Notes PATCH URL\n",
    "url = f'https://{client_env}.blackrock.com/api/investment-research/content/research-note/v1/researchNotes/< INSERT NOTE ID HERE >'"
   ]
  },
  {
   "cell_type": "markdown",
   "metadata": {},
   "source": [
    "#### Send API Request and Store UPDATE response"
   ]
  },
  {
   "cell_type": "code",
   "execution_count": null,
   "metadata": {},
   "outputs": [],
   "source": [
    "# make request to Research Notes API\n",
    "r = requests.patch(url,auth=(username,pwd),json=data,headers=generate_headers()).json()\n",
    "r"
   ]
  },
  {
   "cell_type": "markdown",
   "metadata": {},
   "source": [
    "~~~"
   ]
  },
  {
   "cell_type": "markdown",
   "metadata": {},
   "source": [
    "### SEARCH: Prepare API Parameters and Set URL for SEARCH request"
   ]
  },
  {
   "cell_type": "code",
   "execution_count": null,
   "metadata": {},
   "outputs": [],
   "source": [
    "# set the parameters for the API call\n",
    "data = {\"filterCriteria\": \"note.noteCategory:< INSERT NOTE CATEGORY HERE >\"}\n",
    "\n",
    "# Research Notes SEARCH URL\n",
    "url = f'https://{client_env}.blackrock.com/api/investment-research/content/research-note/v1/researchNotes:search' "
   ]
  },
  {
   "cell_type": "markdown",
   "metadata": {},
   "source": [
    "#### Send API Request and Store SEARCH response"
   ]
  },
  {
   "cell_type": "code",
   "execution_count": null,
   "metadata": {},
   "outputs": [],
   "source": [
    "# make request to Research Notes API\n",
    "r = requests.get(url,auth=(username,pwd),params=data,headers=generate_headers()).json()\n",
    "r"
   ]
  },
  {
   "cell_type": "markdown",
   "metadata": {},
   "source": [
    "~~~"
   ]
  },
  {
   "cell_type": "markdown",
   "metadata": {},
   "source": [
    "### DELETE: Prepare API Parameters and Set URL for DELETE request"
   ]
  },
  {
   "cell_type": "code",
   "execution_count": null,
   "metadata": {},
   "outputs": [],
   "source": [
    "# Research Notes DELETE URL\n",
    "url = f'https://{client_env}.blackrock.com/api/investment-research/content/research-note/v1/researchNotes/< INSERT NOTE ID HERE >'"
   ]
  },
  {
   "cell_type": "markdown",
   "metadata": {},
   "source": [
    "#### Send API Request and Store DELETE response"
   ]
  },
  {
   "cell_type": "code",
   "execution_count": null,
   "metadata": {},
   "outputs": [],
   "source": [
    "# make request to Research Notes API\n",
    "r = requests.delete(url,auth=(username,pwd),headers=generate_headers()).json()\n",
    "r"
   ]
  }
 ],
 "metadata": {
  "kernelspec": {
   "display_name": "Python 3",
   "language": "python",
   "name": "python3"
  },
  "language_info": {
   "codemirror_mode": {
    "name": "ipython",
    "version": 3
   },
   "file_extension": ".py",
   "mimetype": "text/x-python",
   "name": "python",
   "nbconvert_exporter": "python",
   "pygments_lexer": "ipython3",
   "version": "3.6.7"
  }
 },
 "nbformat": 4,
 "nbformat_minor": 4
}
