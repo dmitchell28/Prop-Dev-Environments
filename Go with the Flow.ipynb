{
 "cells": [
  {
   "cell_type": "markdown",
   "metadata": {},
   "source": [
    "# Bloomberg BQuant Spotlight Webinar Series: Go with the Flow\n",
    "This is a companion notebook to the \"Deciphering Markets Using Fund Flows Data\" webinar."
   ]
  },
  {
   "cell_type": "code",
   "execution_count": null,
   "metadata": {},
   "outputs": [],
   "source": [
    "import bql\n",
    "import pandas as pd\n",
    "import bqviz as bqv\n",
    "import bqplot as bqp\n",
    "import numpy as np"
   ]
  },
  {
   "cell_type": "code",
   "execution_count": null,
   "metadata": {},
   "outputs": [],
   "source": [
    "bq = bql.Service()"
   ]
  },
  {
   "cell_type": "code",
   "execution_count": null,
   "metadata": {},
   "outputs": [],
   "source": [
    "mkt_qry = \"\"\"\n",
    "LET(\n",
    "    #FundFlow = REPLACENONNUMERIC(FUND_FLOW(DATES=RANGE(2015-01-01,2019-06-30),CURRENCY='USD')/10^9,0);\n",
    "    \n",
    "    #AssetClass = FUND_ASSET_CLASS_FOCUS;\n",
    "    #Maturity = FUND_MATURITY_BAND_FOCUS;\n",
    "    #GeoFocus = FUND_GEO_FOCUS;\n",
    "    \n",
    "    #Yr = YEAR(#FundFlow().DATE);\n",
    "    #Mth = MONTH(#FundFlow().DATE);\n",
    "    #Qtr = #Yr + ' ' + IF(#Mth<=3,'Q1',IF(#Mth<=6,'Q2',IF(#Mth<=9,'Q3','Q4')));\n",
    ")\n",
    "\n",
    "GET(\n",
    "    SUM(\n",
    "        GROUP(\n",
    "              #FundFlow,\n",
    "             [#AssetClass,#Maturity,#GeoFocus, #Yr,#Qtr,#Mth])\n",
    "        ) as #Flows\n",
    ") \n",
    "    \n",
    "FOR(FILTER(FUNDSUNIV([ACTIVE,PRIMARY]),\n",
    "            FUND_TYP==ETF)\n",
    "    )\n",
    "\"\"\""
   ]
  },
  {
   "cell_type": "code",
   "execution_count": null,
   "metadata": {},
   "outputs": [],
   "source": [
    "mkt_req = bq.execute(mkt_qry)"
   ]
  },
  {
   "cell_type": "code",
   "execution_count": null,
   "metadata": {},
   "outputs": [],
   "source": [
    "mkt_df = mkt_req[0].df()\n",
    "mkt_df.head()"
   ]
  },
  {
   "cell_type": "code",
   "execution_count": null,
   "metadata": {},
   "outputs": [],
   "source": [
    "mkt_df[['#ASSETCLASS','#MATURITY','#GEOFOCUS']] = mkt_df[['#ASSETCLASS','#MATURITY','#GEOFOCUS']].fillna('Not Classified')"
   ]
  },
  {
   "cell_type": "code",
   "execution_count": null,
   "metadata": {},
   "outputs": [],
   "source": [
    "asset_df = pd.pivot_table(mkt_df, index = '#QTR',columns='#ASSETCLASS',values='#Flows', aggfunc=np.sum)\n",
    "asset_df.head()"
   ]
  },
  {
   "cell_type": "code",
   "execution_count": null,
   "metadata": {},
   "outputs": [],
   "source": [
    "bqv.LinePlot(asset_df,legend='outside',title='Quarterly Asset Class Flows',y_label='Flows (Bil USD)').set_style().show()"
   ]
  },
  {
   "cell_type": "code",
   "execution_count": null,
   "metadata": {},
   "outputs": [],
   "source": [
    "fi_df = pd.pivot_table(mkt_df[mkt_df['#ASSETCLASS']=='Fixed Income'], index = '#MATURITY',columns='#YR',values='#Flows', aggfunc=np.sum).fillna(0)\n",
    "bqv.BarPlot(fi_df,padding=0.5,title='Maturity Focused Yearly Fixed Income Flows',y_label='Flows (Bil USD)').set_style().show()"
   ]
  },
  {
   "cell_type": "code",
   "execution_count": null,
   "metadata": {},
   "outputs": [],
   "source": [
    "cum_eq_df = pd.pivot_table(mkt_df[mkt_df['#ASSETCLASS']=='Equity'], index = 'DATE',columns='#GEOFOCUS',values='#Flows', aggfunc=np.sum).fillna(0).cumsum(axis=0)\n",
    "bqv.LinePlot(cum_eq_df,legend='outside',y_label='Flows (Bil USD)',title='Cumulative Monthly Equity Flows By Fund Focus').set_style().show()"
   ]
  },
  {
   "cell_type": "markdown",
   "metadata": {},
   "source": [
    "## Search for funds that could help predict the weekly returns of the SPX"
   ]
  },
  {
   "cell_type": "code",
   "execution_count": null,
   "metadata": {},
   "outputs": [],
   "source": [
    "spx_qry = \"\"\"\n",
    "LET(\n",
    "    #SPXRtns = DROPNA(PCT_DIFF(PX_LAST(DATES=RANGE(2015-01-02,2019-06-28,FRQ=W),FILL=PREV)));\n",
    "    \n",
    "    #SPXPrc = PX_LAST(DATES=RANGE(2015-01-09,2019-06-28,frq=w),FILL=PREV);\n",
    ")\n",
    "\n",
    "GET(\n",
    "    #SPXRtns,\n",
    "    #SPXPrc\n",
    ")\n",
    "\n",
    "FOR('SPX Index'\n",
    ")\n",
    "\n",
    "\"\"\""
   ]
  },
  {
   "cell_type": "code",
   "execution_count": null,
   "metadata": {},
   "outputs": [],
   "source": [
    "spx_req = bq.execute(spx_qry)"
   ]
  },
  {
   "cell_type": "code",
   "execution_count": null,
   "metadata": {},
   "outputs": [],
   "source": [
    "spx_df = pd.concat([spx_req[0].df().set_index('DATE',drop=True),spx_req[1].df().set_index('DATE',drop=True)['#SPXPrc']],axis=1)\n",
    "spx_df = spx_df.reset_index()\n",
    "spx_df.head(5)"
   ]
  },
  {
   "cell_type": "code",
   "execution_count": null,
   "metadata": {},
   "outputs": [],
   "source": [
    "spy_qry = \"\"\"\n",
    "LET(\n",
    "    #SPXRtns = VALUE(DROPNA(PCT_DIFF(PX_LAST(DATES=RANGE(2015-01-02,2019-06-28,FRQ=W),FILL=PREV))),['SPX Index']);\n",
    "    \n",
    "    #FlowDts= RANGE(2015-01-02,2019-06-21,FRQ=W);\n",
    "    #Flows = FUND_FLOW(DATES=#FlowDts,PER=W,CURRENCY='USD');\n",
    "    #Assets = FUND_TOTAL_ASSETS(DATES=#FlowDts,CURRENCY='USD',fill=prev);\n",
    "    #FundPctChg = #Flows/#Assets;\n",
    "\n",
    ")\n",
    "\n",
    "GET(#SPXRtns,\n",
    "    #FundPctChg,\n",
    "    CORR(#FundPctChg,#SPXRtns)\n",
    ")\n",
    "    \n",
    "FOR( 'SPY US EQUITY'\n",
    ")\n",
    "\n",
    "\"\"\""
   ]
  },
  {
   "cell_type": "code",
   "execution_count": null,
   "metadata": {},
   "outputs": [],
   "source": [
    "spy_req = bq.execute(spy_qry)\n",
    "spy_df = spy_req[2].df()\n",
    "spy_df.head()"
   ]
  },
  {
   "cell_type": "code",
   "execution_count": null,
   "metadata": {},
   "outputs": [],
   "source": [
    "fund_srch_qry = \"\"\"\n",
    "LET(\n",
    "    #SPXRtns = VALUE(DROPNA(PCT_DIFF(PX_LAST(DATES=RANGE(2015-01-02,2019-06-28,FRQ=W),FILL=PREV))),['SPX Index']);\n",
    "    \n",
    "    #FlowDts= RANGE(2015-01-02,2019-06-21,FRQ=W);\n",
    "    #Flows = FUND_FLOW(DATES=#FlowDts,PER=W,CURRENCY='USD');\n",
    "    #Assets = FUND_TOTAL_ASSETS(DATES=#FlowDts,CURRENCY='USD',fill=prev);\n",
    "    #FundPctChg = #Flows/#Assets;\n",
    "    \n",
    "    #Corr = DROPNA(CORR(#FundPctChg,#SPXRtns));\n",
    "    \n",
    "    #Univ = FILTER(FUNDSUNIV([ACTIVE,PRIMARY]),\n",
    "                    FUND_TYP==ETF AND FUND_INCEPT_DT < '2014-01-01' AND EXCH_CODE == 'US');\n",
    "    \n",
    ")\n",
    "\n",
    "GET(\n",
    "    NAME,\n",
    "    FUND_TOTAL_ASSETS(CURRENCY='USD',FILL=PREV)/10^9 as #AUM,\n",
    "    FUND_MGMT_STYLE,\n",
    "    FUND_GEO_FOCUS,\n",
    "    FUND_STRATEGY,\n",
    "    FUND_ASSET_CLASS_FOCUS,\n",
    "    FUND_INDUSTRY_FOCUS,\n",
    "    FUND_MATURITY_BAND_FOCUS,\n",
    "    FUND_LEVERAGE_TYPE,\n",
    "    #Corr\n",
    "\n",
    ")\n",
    "\n",
    "FOR(FILTER(#Univ,\n",
    "    GROUPRANK(#Corr,ORDER=DESC) <= 10\n",
    "    )\n",
    ")\n",
    "\"\"\""
   ]
  },
  {
   "cell_type": "code",
   "execution_count": null,
   "metadata": {},
   "outputs": [],
   "source": [
    "fund_req = bq.execute(fund_srch_qry)"
   ]
  },
  {
   "cell_type": "code",
   "execution_count": null,
   "metadata": {},
   "outputs": [],
   "source": [
    "fund_srch_dfs =[]\n",
    "\n",
    "for resp in fund_req:\n",
    "    df = resp.df()\n",
    "    fund_srch_dfs.append(df)\n",
    "\n",
    "cor_funds_df = pd.concat(fund_srch_dfs,axis=1)\n",
    "cor_funds_df.sort_values('#Corr',ascending=False)"
   ]
  },
  {
   "cell_type": "code",
   "execution_count": null,
   "metadata": {},
   "outputs": [],
   "source": [
    "cor_funds_df.index"
   ]
  },
  {
   "cell_type": "code",
   "execution_count": null,
   "metadata": {},
   "outputs": [],
   "source": [
    "sel_fund_qry = \"\"\"\n",
    "LET(\n",
    "    #FlowDts= RANGE(2015-01-02,2019-06-21,FRQ=W);\n",
    "    #Flows = FUND_FLOW(DATES=#FlowDts,PER=W,CURRENCY='USD');\n",
    "    #Assets = FUND_TOTAL_ASSETS(DATES=#FlowDts,CURRENCY='USD',fill=prev);\n",
    "    #FundPctChg = #Flows/#Assets;\n",
    ")\n",
    "\n",
    "GET(\n",
    "    #FundPctChg\n",
    ")\n",
    "\n",
    "FOR(['UJB US Equity', 'GLD US Equity', 'IYT US Equity', 'SCIF US Equity',\n",
    "       'EDV US Equity', 'EWV US Equity', 'VEGI US Equity', 'TIP US Equity',\n",
    "       'EMHY US Equity', 'RIGS US Equity']\n",
    ")\n",
    "\n",
    "\"\"\""
   ]
  },
  {
   "cell_type": "code",
   "execution_count": null,
   "metadata": {},
   "outputs": [],
   "source": [
    "sel_fund_req = bq.execute(sel_fund_qry)\n",
    "sel_fund_df = sel_fund_req[0].df()\n",
    "sel_fund_df = sel_fund_df.reset_index()\n",
    "sel_fund_df = sel_fund_df.pivot(index = 'DATE',columns='ID',values='#FundPctChg').reset_index()\n",
    "sel_fund_df['Avg Pct Flow Of AUM'] =sel_fund_df.mean(axis=1)\n",
    "sel_fund_df = sel_fund_df.rename(columns={'DATE':'Fund Flow Date'})\n",
    "sel_fund_df.head()"
   ]
  },
  {
   "cell_type": "code",
   "execution_count": null,
   "metadata": {},
   "outputs": [],
   "source": [
    "fund_spx_df = pd.concat([sel_fund_df,spx_df],axis=1)\n",
    "fund_spx_df.head()"
   ]
  },
  {
   "cell_type": "code",
   "execution_count": null,
   "metadata": {},
   "outputs": [],
   "source": [
    "bqv.InteractiveScatterPlot(fund_spx_df).show()"
   ]
  },
  {
   "cell_type": "code",
   "execution_count": null,
   "metadata": {},
   "outputs": [],
   "source": [
    "# Create some data to work with\n",
    "\n",
    "\n",
    "colors=['#1B84ED', '#CF7DFF']\n",
    "\n",
    "# Create scales\n",
    "scale_x = bqp.DateScale()\n",
    "scale_y1 = bqp.LinearScale()\n",
    "scale_y2 = bqp.LinearScale()\n",
    "\n",
    "# Create the Lines marks\n",
    "mark_line1 = bqp.Lines(x=fund_spx_df['DATE'],\n",
    "                       y=fund_spx_df['#SPXPrc'],\n",
    "                       scales={'x': scale_x, 'y': scale_y1},\n",
    "                       colors=[colors[0]],\n",
    "                       labels=['SPX'],\n",
    "                       display_legend=True)\n",
    "mark_bar2 = bqp.Bars(x=fund_spx_df['DATE'],\n",
    "                       y=fund_spx_df['Avg Pct Flow Of AUM'],\n",
    "                       scales={'x': scale_x, 'y': scale_y2},\n",
    "                       colors=[colors[1]],\n",
    "                       labels=['Avg Flows'],\n",
    "                       display_legend=True)\n",
    "\n",
    "# Create Axes\n",
    "axis_x = bqp.Axis(scale=scale_x, label='Dates')\n",
    "axis_y1 = bqp.Axis(scale=scale_y1,\n",
    "                   orientation='vertical',\n",
    "                   label='SPX Price',\n",
    "                   side='right',\n",
    "                   tick_style={'fill': colors[0]},\n",
    "                   label_offset='3em')\n",
    "axis_y2 = bqp.Axis(scale=scale_y2,\n",
    "                   orientation='vertical',\n",
    "                   label='Avg Pct Flow Of AUM',\n",
    "                   grid_lines='none',\n",
    "                   tick_style={'fill': colors[1]},\n",
    "                   side='left',\n",
    "                   label_offset='3em')\n",
    "\n",
    "# Create Figure\n",
    "figure = bqp.Figure(marks=[mark_bar2, mark_line1],\n",
    "                    axes=[axis_x, axis_y1, axis_y2],\n",
    "                    title='SPX vs 1 Week Previous Avg Pct Flow Of AUM of selected funds',\n",
    "                    layout={'width':'100%', 'height': '400px'},\n",
    "                    title_style={'font-size': '22px'},\n",
    "                    legend_location='top-left',\n",
    "                    legend_style={'stroke': 'none'},\n",
    "                    fig_margin={'top': 50, 'bottom': 60,\n",
    "                                'left': 90, 'right': 90})\n",
    "\n",
    "# Display the figure\n",
    "figure\n"
   ]
  }
 ],
 "metadata": {
  "kernelspec": {
   "display_name": "Python 3 (sandboxed)",
   "language": "python",
   "name": "python3"
  },
  "language_info": {
   "codemirror_mode": {
    "name": "ipython",
    "version": 3
   },
   "file_extension": ".py",
   "mimetype": "text/x-python",
   "name": "python",
   "nbconvert_exporter": "python",
   "pygments_lexer": "ipython3",
   "version": "3.5.5"
  }
 },
 "nbformat": 4,
 "nbformat_minor": 4
}
