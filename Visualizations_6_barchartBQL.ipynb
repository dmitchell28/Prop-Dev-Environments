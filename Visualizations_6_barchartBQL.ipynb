{
 "cells": [
  {
   "cell_type": "markdown",
   "metadata": {},
   "source": [
    "You can access the accompanying video here: \n",
    "\n",
    "<a href=\"https://blinks.bloomberg.com/screens/PLYR%20VOD%20361997308\"> Bond Comparison BarPlot (12 min)</a>"
   ]
  },
  {
   "cell_type": "code",
   "execution_count": 1,
   "metadata": {},
   "outputs": [],
   "source": [
    "import bql\n",
    "import calendar\n",
    "import bqviz\n",
    "\n",
    "#instantiate bql service\n",
    "bq = bql.Service()"
   ]
  },
  {
   "cell_type": "code",
   "execution_count": 2,
   "metadata": {},
   "outputs": [
    {
     "data": {
      "application/vnd.jupyter.widget-view+json": {
       "model_id": "1b2e82bf1bc84fc9bd19108096bc9477",
       "version_major": 2,
       "version_minor": 0
      },
      "text/plain": [
       "GridBox(children=(Figure(animation_duration=500, axes=[Axis(color='white', grid_color='#3c3c3c', grid_lines='d…"
      ]
     },
     "metadata": {},
     "output_type": "display_data"
    }
   ],
   "source": [
    "# setup the data items\n",
    "amt_issued_mthly = bq.func.sum(bq.func.group(bq.data.amt_issued(), [bq.func.month(bq.data.issue_dt()), bq.func.year(bq.data.issue_dt())]))\n",
    "\n",
    "amt_prior_yr = bq.func.matches(amt_issued_mthly, amt_issued_mthly[\"'YEAR(ISSUE_DT())'\"] < '2020')\n",
    "amt_current_yr = bq.func.matches(amt_issued_mthly, amt_issued_mthly[\"'YEAR(ISSUE_DT())'\"] == '2020')\n",
    "\n",
    "avg_issuance = bq.func.avg(bq.func.ungroup(amt_prior_yr))\n",
    "prior_monthly = bq.func.dropna(bq.func.groupsort(avg_issuance,sortby=avg_issuance[\"'MONTH(ISSUE_DT())'\"],order='ASC'),remove_id=True)['value']\n",
    "current_monthly = bq.func.dropna(bq.func.ungroup(amt_current_yr),remove_id=True)['value']\n",
    "\n",
    "items = {'prior':prior_monthly,'current':current_monthly}\n",
    "\n",
    "# construct the query universe\n",
    "filter1 = bq.data.bics_level_2_industry_group_name() == 'Airlines'\n",
    "filter2 = bq.data.issue_dt() > '2014-12-31'\n",
    "univ = bq.univ.filter(bq.univ.debtuniv(types='ALL'), bq.func.and_(filter1, filter2))\n",
    "\n",
    "# set additional params\n",
    "params = {'mode':'cached','currency':'usd'}\n",
    "\n",
    "# build request and execute\n",
    "bql_request = bql.Request(univ, items, params)\n",
    "bql_response = bq.execute(bql_request)\n",
    "\n",
    "#extract data and format\n",
    "data = bql.combined_df(bql_response)\n",
    "data['month'] = [calendar.month_abbr[int(float(x))] for x in list(data.index)]\n",
    "data.set_index('month',inplace=True)\n",
    "\n",
    "# make viz and show\n",
    "viz = bqviz.BarPlot(data[['prior','current']]).set_style()\n",
    "viz.show()"
   ]
  },
  {
   "cell_type": "code",
   "execution_count": null,
   "metadata": {},
   "outputs": [],
   "source": []
  }
 ],
 "metadata": {
  "kernelspec": {
   "display_name": "Python 3 (sandboxed)",
   "language": "python",
   "name": "python3"
  },
  "language_info": {
   "codemirror_mode": {
    "name": "ipython",
    "version": 3
   },
   "file_extension": ".py",
   "mimetype": "text/x-python",
   "name": "python",
   "nbconvert_exporter": "python",
   "pygments_lexer": "ipython3",
   "version": "3.7.1"
  }
 },
 "nbformat": 4,
 "nbformat_minor": 4
}
