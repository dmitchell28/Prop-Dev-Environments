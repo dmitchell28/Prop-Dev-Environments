{
 "cells": [
  {
   "cell_type": "markdown",
   "metadata": {},
   "source": [
    "## Bloomberg BQuant Webinar Series: <br> Integrating RMS into BQuant\n",
    "This is a companion notebook to the \"Integrating RMS into BQuant\" webinar."
   ]
  },
  {
   "cell_type": "code",
   "execution_count": null,
   "metadata": {},
   "outputs": [],
   "source": [
    "from ipywidgets import Tab, HBox, Button, VBox, Dropdown, Layout, HTML, Label, RadioButtons\n",
    "from bqwidgets import TickerAutoComplete, DataGrid\n",
    "import bqviz as bqv\n",
    "import bqplot as bqp\n",
    "import pandas as pd\n",
    "import numpy as np\n",
    "import datetime as dt\n",
    "from datetime import timedelta\n",
    "\n",
    "import bql\n",
    "bq = bql.Service()\n",
    "\n",
    "import bqport"
   ]
  },
  {
   "cell_type": "code",
   "execution_count": null,
   "metadata": {},
   "outputs": [],
   "source": [
    "#########################\n",
    "#\n",
    "# BQL requests for tab 1 \n",
    "#\n",
    "# Created as individual functions so the app creator can quickly execute independently\n",
    "#\n",
    "########################"
   ]
  },
  {
   "cell_type": "code",
   "execution_count": null,
   "metadata": {},
   "outputs": [],
   "source": [
    "def BQL_query_all_stocks_with_notes(members):\n",
    "\n",
    "    query = \"\"\"\n",
    "                let(#count = count(group(ID,note_primary_tickers));)\n",
    "                get(#count)\n",
    "                for(filter(notes({}), right(NOTE_PRIMARY_TICKERS,6)=='Equity'))\n",
    "            \"\"\".format(members)\n",
    "    \n",
    "    response = bq.execute(query)[0].df()\n",
    "    all_stocks_with_notes = list(response.index)\n",
    "    \n",
    "    return all_stocks_with_notes"
   ]
  },
  {
   "cell_type": "code",
   "execution_count": null,
   "metadata": {},
   "outputs": [],
   "source": [
    "def BQL_query_analyst_notes_count(members,time_frame):\n",
    "    \n",
    "    query = \"\"\"\n",
    "                let(#Count=GROUPSORT(COUNT(GROUP(NOTE_ID(),NOTE_CREATOR())));)\n",
    "                get(#Count)\n",
    "                for(filter(NOTES({}),TODAY-NOTE_EVENT_DATE<{}))\n",
    "            \"\"\".format(members,time_frame)\n",
    "\n",
    "    response = bq.execute(query)[0].df().iloc[:,[-1]]\n",
    "    group_count_of_analyst_notes = response.head(20)\n",
    "    \n",
    "    return group_count_of_analyst_notes"
   ]
  },
  {
   "cell_type": "code",
   "execution_count": null,
   "metadata": {},
   "outputs": [],
   "source": [
    "def BQL_query_stocks_covered_pct_chg(incl_univ):\n",
    "\n",
    "    query = \"\"\"\n",
    "                get(groupsort(DROPNA(PCT_CHG(PX_LAST(dates=range(2020-01-01,today),fill=prev)),remove_id=True)) as #YTD_PCT_CHG)\n",
    "                for({})\n",
    "            \"\"\".format(incl_univ)\n",
    "\n",
    "    response = bq.execute(query)[0].df()\n",
    "    top_10_stocks_covered_pct_chg = response.head(10).reset_index()\n",
    "    \n",
    "    return top_10_stocks_covered_pct_chg"
   ]
  },
  {
   "cell_type": "code",
   "execution_count": null,
   "metadata": {},
   "outputs": [],
   "source": [
    "def BQL_query_stocks_not_covered_pct_chg(members,incl_univ):\n",
    "    \n",
    "    query = \"\"\"\n",
    "                get(groupsort(DROPNA(PCT_CHG(PX_LAST(dates=range(2020-01-01,today),fill=prev)),remove_id=True)) as #YTD_PCT_CHG)\n",
    "                for(filter({}, NOT(ID_SECURITY_DES IN{})))\n",
    "            \"\"\".format(members,incl_univ)\n",
    "\n",
    "    response = bq.execute(query)[0].df()\n",
    "    top_10_stocks_not_covered_pct_chg = response.head(10).reset_index() \n",
    "    \n",
    "    return top_10_stocks_not_covered_pct_chg"
   ]
  },
  {
   "cell_type": "code",
   "execution_count": null,
   "metadata": {},
   "outputs": [],
   "source": [
    "def BQL_query_MoM_time_series(members):\n",
    "\n",
    "    query = \"\"\"\n",
    "                get(groupsort(count(group(ID,[MONTH(note_event_date),NOTE_CREATOR]))) as #NOTE_CREATOR,\n",
    "                    groupsort(count(group(ID,[MONTH(note_event_date),NOTE_PRIMARY_TICKERS]))) as #NOTE_PRIMARY_TICKERS\n",
    "                    )\n",
    "                for(filter(notes({}), right(NOTE_PRIMARY_TICKERS,6)=='Equity'))\n",
    "            \"\"\".format(members)\n",
    "\n",
    "    responses = bq.execute(query)\n",
    "       \n",
    "    response_dict = {}\n",
    "    for each_response in responses:\n",
    "        \n",
    "        df = each_response.df()\n",
    "        aggregate_by = df.columns[-2:-1].item()\n",
    "        count = df.columns[-1:].item()\n",
    "        \n",
    "        df2 = df.pivot(index = 'MONTH(NOTE_EVENT_DATE)', columns = aggregate_by, values = count)\n",
    "        df2.index = ['Jan','Feb','March','April','May','June','July','August','Sept','Oct','Nov','Dec']\n",
    "\n",
    "        df2.loc['total'] = df2.sum()\n",
    "        df2 = df2.T.nlargest(20,'total').T.iloc[:-1]\n",
    "        \n",
    "        response_dict[aggregate_by] = df2\n",
    "    \n",
    "    return response_dict"
   ]
  },
  {
   "cell_type": "code",
   "execution_count": null,
   "metadata": {},
   "outputs": [],
   "source": [
    "################################\n",
    "#\n",
    "# End of BQL requests for tab 1 \n",
    "#\n",
    "################################"
   ]
  },
  {
   "cell_type": "code",
   "execution_count": null,
   "metadata": {},
   "outputs": [],
   "source": [
    "################################\n",
    "#\n",
    "# Function which will run all the data for tab1\n",
    "#\n",
    "# members and MoM_groups made global as they are used indepently elsewhere\n",
    "#\n",
    "################################"
   ]
  },
  {
   "cell_type": "code",
   "execution_count": null,
   "metadata": {},
   "outputs": [],
   "source": [
    "def load_tab1_data():\n",
    "    \n",
    "    global members\n",
    "    global MoM_groups\n",
    "    \n",
    "    members = get_univ()\n",
    "\n",
    "    all_names = BQL_query_all_stocks_with_notes(members) \n",
    "    names_covered = BQL_query_stocks_covered_pct_chg(all_names)\n",
    "    names_not_covered = BQL_query_stocks_not_covered_pct_chg(members,all_names)\n",
    "\n",
    "    analyst_note_count = BQL_query_analyst_notes_count(members,analyst_time_frame_dd.value[:-1])\n",
    "    MoM_groups = BQL_query_MoM_time_series(members)\n",
    "        \n",
    "    return analyst_note_count,names_covered,names_not_covered,MoM_groups"
   ]
  },
  {
   "cell_type": "code",
   "execution_count": null,
   "metadata": {},
   "outputs": [],
   "source": [
    "################################\n",
    "#\n",
    "# Creating the controls for tab 1\n",
    "#\n",
    "# get_univ and univ_picker are created so the user can choose whether they look at an equity index or portfolio\n",
    "# this is then passed into the for() clause of BQL statements\n",
    "#\n",
    "################################"
   ]
  },
  {
   "cell_type": "code",
   "execution_count": null,
   "metadata": {},
   "outputs": [],
   "source": [
    "port_list = bqport.list_portfolios()\n",
    "port_list_dd = [(x['name'],x['id'].split('-')[1].replace(':','-')) for x in port_list]"
   ]
  },
  {
   "cell_type": "code",
   "execution_count": null,
   "metadata": {},
   "outputs": [],
   "source": [
    "universe_dd = Dropdown(description='Universe',options=['Index','Portfolio'])\n",
    "port_dd = Dropdown(description='Choose Portfolio',options=port_list_dd)\n",
    "analyst_time_frame_dd = Dropdown(description='Time frame',options=['30d','60d','90d','180d','365d'])"
   ]
  },
  {
   "cell_type": "code",
   "execution_count": null,
   "metadata": {},
   "outputs": [],
   "source": [
    "def get_univ():\n",
    "    \n",
    "    if universe_dd.value == 'Index':\n",
    "        universe = \"members('{}')\".format(ticker_ac.value)\n",
    "    if universe_dd.value == 'Portfolio':\n",
    "        universe = \"members('{}',Type=PORT)\".format(port_dd.value)\n",
    "    return universe"
   ]
  },
  {
   "cell_type": "code",
   "execution_count": null,
   "metadata": {},
   "outputs": [],
   "source": [
    "def univ_picker(universe_dd_):\n",
    "    \n",
    "    if universe_dd.value == 'Index':\n",
    "        control.children = [universe_dd,ticker_ac,Go_Button]\n",
    "    if universe_dd.value == 'Portfolio':\n",
    "        control.children = [universe_dd,port_dd,Go_Button]"
   ]
  },
  {
   "cell_type": "code",
   "execution_count": null,
   "metadata": {},
   "outputs": [],
   "source": [
    "################################\n",
    "#\n",
    "# Create the other parts of the UI\n",
    "#\n",
    "################################"
   ]
  },
  {
   "cell_type": "code",
   "execution_count": null,
   "metadata": {},
   "outputs": [],
   "source": [
    "#Default index\n",
    "universe = 'indu index'\n",
    "\n",
    "#Controls for first tab\n",
    "ticker_ac = TickerAutoComplete(description='Type Equity Index:', yellow_keys=['Index'], max_results=5,style={'description_width':'initial'},value=universe)\n",
    "Go_Button = Button(description='Get data<GO>',button_style='success')\n",
    "control = HBox([universe_dd,ticker_ac,Go_Button])\n",
    "groupby_chart_dropdown = Dropdown(description='Group by:',options= ['NOTE_CREATOR','NOTE_PRIMARY_TICKERS'])\n",
    "hb2 = HBox([analyst_time_frame_dd])"
   ]
  },
  {
   "cell_type": "code",
   "execution_count": null,
   "metadata": {},
   "outputs": [],
   "source": [
    "################################\n",
    "#\n",
    "# Create the charts and grids\n",
    "#\n",
    "# Create as empty objects so data can be pushed to them after they have been created\n",
    "#\n",
    "################################"
   ]
  },
  {
   "cell_type": "code",
   "execution_count": null,
   "metadata": {},
   "outputs": [],
   "source": [
    "#Create other elements for tab1\n",
    "#Charts\n",
    "cht_MoM = bqv.BarPlot(title='Monthly time series of notes').set_style()\n",
    "cht_analyst_count = bqv.BarPlot(title='Number of notes per analyst').set_style()\n",
    "\n",
    "#column defintions\n",
    "col_defs = [\n",
    "            {'headerName': 'Name', 'field': 'ID', 'width': 150, 'headerStyle': {'text-align': 'center'}},\n",
    "            {'headerName': 'Pct Chg (%)', 'field': '#YTD_PCT_CHG', 'width': 200, 'filter': 'number', 'headerStyle': {'text-align': 'center'}, 'cellStyle': {'text-align': 'center'}}     \n",
    "            ]\n",
    "\n",
    "#datagrids\n",
    "dg1 = DataGrid(data=[], column_defs=col_defs, layout=Layout(width='350px', height='300px'))\n",
    "dg2 = DataGrid(data=[], column_defs=col_defs, layout=Layout(width='350px', height='300px'))\n",
    "\n",
    "#Table Tabs\n",
    "mini_tab = Tab()\n",
    "mini_tab.set_title(0,'Covered')\n",
    "mini_tab.set_title(1,'NOT Covered')\n",
    "mini_tab.children = [dg1,dg2]"
   ]
  },
  {
   "cell_type": "code",
   "execution_count": null,
   "metadata": {},
   "outputs": [],
   "source": [
    "################################\n",
    "#\n",
    "# Functions to update all tab1 elements\n",
    "#\n",
    "################################"
   ]
  },
  {
   "cell_type": "code",
   "execution_count": null,
   "metadata": {},
   "outputs": [],
   "source": [
    "def update_tab1_elements(cht1_data,grid1,grid2,MoM_groups): # Update for pressing GET NOTES button\n",
    "    \n",
    "    cht_analyst_count.push(cht1_data)\n",
    "    dg1.data = grid1.round(1)\n",
    "    dg2.data = grid2.round(1)    \n",
    "    cht_MoM.push(MoM_groups[groupby_chart_dropdown.value])\n",
    "\n",
    "def update_MoM_groupby(groupby_chart_dropdown_): # Update for changing group by selection on main chart\n",
    "    \n",
    "    cht_MoM.push(MoM_groups[groupby_chart_dropdown.value])\n",
    "    \n",
    "def update_analyst_count_timeframe(analyst_time_frame_dd_):\n",
    "    \n",
    "    hb2.children = [update_view1]\n",
    "    \n",
    "    df = BQL_query_analyst_notes_count(members,analyst_time_frame_dd.value[:-1])\n",
    "    cht_analyst_count.push(df)\n",
    "    \n",
    "    hb2.children = [analyst_time_frame_dd]\n",
    "    \n",
    "\n",
    "def app_updates(*args):\n",
    "    \n",
    "    start_control = list(control.children)\n",
    "    control.children = list(control.children)[:-1] + [update_view1]\n",
    "    \n",
    "    cht1_data,df1,df2,MoM_groups = load_tab1_data()\n",
    "    update_tab1_elements(cht1_data,df1,df2,MoM_groups)\n",
    "    \n",
    "    control.children = list(control.children)[:-1] + [update_view2]\n",
    "    \n",
    "    #These are updates for tab 2\n",
    "    global all_results  \n",
    "    stock_perf_df,analyst_perf_df,all_results = load_tab2_data()\n",
    "    update_tab2_elements(stock_perf_df,analyst_perf_df,all_results)\n",
    "    \n",
    "    control.children = start_control"
   ]
  },
  {
   "cell_type": "code",
   "execution_count": null,
   "metadata": {},
   "outputs": [],
   "source": [
    "# Something to show the user while app is updating\n",
    "spinner = HTML('''<i class=\"fa fa-spinner fa-spin\" style=\"font-size:24px\"></i>''')\n",
    "lbl_update1 = Label('Getting Notes...')\n",
    "lbl_update2 = Label('Calculating Performance...')\n",
    "update_view1 = HBox([spinner,lbl_update1])\n",
    "update_view2 = HBox([spinner,lbl_update2])"
   ]
  },
  {
   "cell_type": "code",
   "execution_count": null,
   "metadata": {},
   "outputs": [],
   "source": [
    "################################\n",
    "#\n",
    "# Finally link the interactions on the dropdowns to updating functions with observe()\n",
    "#\n",
    "################################"
   ]
  },
  {
   "cell_type": "code",
   "execution_count": null,
   "metadata": {},
   "outputs": [],
   "source": [
    "#Connect the interactions to functions above\n",
    "groupby_chart_dropdown.observe(update_MoM_groupby)\n",
    "analyst_time_frame_dd.observe(update_analyst_count_timeframe)\n",
    "universe_dd.observe(univ_picker)\n",
    "\n",
    "Go_Button.on_click(app_updates)"
   ]
  },
  {
   "cell_type": "code",
   "execution_count": null,
   "metadata": {},
   "outputs": [],
   "source": [
    "cht1_data,df1,df2,MoM_groups = load_tab1_data()  # Get data for the first time app is run\n",
    "update_tab1_elements(cht1_data,df1,df2,MoM_groups) # Display data for first time app is run"
   ]
  },
  {
   "cell_type": "code",
   "execution_count": null,
   "metadata": {},
   "outputs": [],
   "source": [
    "#########################\n",
    "#\n",
    "# BQL requests for tab 2\n",
    "#\n",
    "# Firstly get time series data\n",
    "# Secondly current information about analyst and note update\n",
    "#\n",
    "# \n",
    "########################"
   ]
  },
  {
   "cell_type": "code",
   "execution_count": null,
   "metadata": {},
   "outputs": [],
   "source": [
    "#Use dummy data option if no CDE data available\n",
    "CDE_dummy_data = RadioButtons(\n",
    "    options=['Use CDE data (fields must be mapped correctly. Click get data<GO> to refresh)', 'Use dummy data'],\n",
    "    description='Data Source:',\n",
    "    value='Use dummy data',\n",
    "    layout={'width': 'max-content'},\n",
    "    disabled=False\n",
    ")"
   ]
  },
  {
   "cell_type": "code",
   "execution_count": null,
   "metadata": {},
   "outputs": [],
   "source": [
    "#****CDE fields need to be replaced with firms own fields and populated with data****\n",
    "\n",
    "analyst_rec = 'UD_BBEQRMS_ANALYST_REC'\n",
    "research_date = 'UD_BBEQRMS_RESEARCH_DATE'\n",
    "analyst_name = 'UD_BBEQRMS_ANALYST_NAME'\n",
    "\n",
    "#***********************"
   ]
  },
  {
   "cell_type": "code",
   "execution_count": null,
   "metadata": {},
   "outputs": [],
   "source": [
    "def BQL_query_get_history(univ):\n",
    "    \n",
    "    query = \"\"\"\n",
    "                get(DROPNA(PX_LAST(dates=range(-2y,0d))) as #Px,\"\"\"+analyst_rec+\"\"\"(dates=range(-2y,0d)) as #rec)\n",
    "                for({})\n",
    "            \"\"\".format(univ)\n",
    "    \n",
    "    response = bq.execute(query)\n",
    "    \n",
    "    price_time_series = response[0].df()\n",
    "    rec_time_series = response[1].df()\n",
    "    \n",
    "    price_rec_dict = {}\n",
    "    \n",
    "    for ticker in list(rec_time_series.index.unique()):\n",
    "        df1 = price_time_series.loc[[ticker]]\n",
    "        df2 = rec_time_series.loc[[ticker]]\n",
    "        df_new = df1.merge(df2,how='outer').fillna(method='bfill').dropna()\n",
    "        if len(df_new) >1: # Remove any names where we haven't got any recommendations\n",
    "            price_rec_dict[ticker] = df_new\n",
    "        \n",
    "    return price_rec_dict"
   ]
  },
  {
   "cell_type": "code",
   "execution_count": null,
   "metadata": {},
   "outputs": [],
   "source": [
    "def BQL_query_get_current(univ,results_dict):\n",
    "    \n",
    "    query = \"\"\"\n",
    "                get(\"\"\"+analyst_name+\"\"\",\n",
    "                \"\"\"+research_date+\"\"\")\n",
    "                for({})\n",
    "            \"\"\".format(univ)\n",
    "\n",
    "    df = bq.execute(query)[0].df().reset_index()\n",
    "    df1 = bq.execute(query)[1].df().reset_index()\n",
    "    \n",
    "    df2 = df.merge(df1,how='inner')\n",
    "    \n",
    "    df2['new'] = df2.apply(lambda x: add_returns(x['ID'],results_dict),axis=1)\n",
    "    df2 = df2.dropna()\n",
    "    df2[research_date] = df2[research_date].astype(str)\n",
    "    \n",
    "    return df2"
   ]
  },
  {
   "cell_type": "code",
   "execution_count": null,
   "metadata": {},
   "outputs": [],
   "source": [
    "###############################\n",
    "#\n",
    "# End of BQL requests for tab 2\n",
    "#\n",
    "###############################"
   ]
  },
  {
   "cell_type": "code",
   "execution_count": null,
   "metadata": {},
   "outputs": [],
   "source": [
    "#########################\n",
    "#\n",
    "# Create empty grids and chart for tab 2 like before\n",
    "#\n",
    "########################"
   ]
  },
  {
   "cell_type": "code",
   "execution_count": null,
   "metadata": {},
   "outputs": [],
   "source": [
    "#create tab2 grids and chart\n",
    "col_def1 = [\n",
    "            {'headerName': 'Name', 'field': 'ID', 'width': 150, 'headerStyle': {'text-align': 'center'}},\n",
    "            {'headerName': 'Analyst Perf (%)', 'field': 'new', 'width': 200, 'filter': 'number', 'headerStyle': {'text-align': 'center'}, 'cellStyle': {'text-align': 'center'}},\n",
    "            {'headerName': 'Analyst Name', 'field': analyst_name, 'width': 100, 'filter': 'number', 'headerStyle': {'text-align': 'center'}, 'cellStyle': {'text-align': 'center'}},\n",
    "            {'headerName': 'Last research date', 'field': research_date, 'width': 150, 'headerStyle': {'text-align': 'center'}}\n",
    "        ]\n",
    "dg3 = DataGrid(data=[], column_defs=col_def1, layout=Layout(width='600px', height='300px'))\n",
    "\n",
    "col_def2 = [\n",
    "            {'headerName': 'Name', 'field': 'Analyst Name', 'width': 150, 'headerStyle': {'text-align': 'center'}},\n",
    "            {'headerName': ' Avg Analyst Perf (%)', 'field': 'Avg Analyst Perf (%)', 'width': 200, 'filter': 'number', 'headerStyle': {'text-align': 'center'}, 'cellStyle': {'text-align': 'center'}},\n",
    "            {'headerName': ' Number of Stocks Covered', 'field': 'Number of Stocks', 'width': 200, 'filter': 'number', 'headerStyle': {'text-align': 'center'}, 'cellStyle': {'text-align': 'center'}},\n",
    "        ]\n",
    "dg4 = DataGrid(data=[], column_defs=col_def2, layout=Layout(width='550px', height='300px'))"
   ]
  },
  {
   "cell_type": "code",
   "execution_count": null,
   "metadata": {},
   "outputs": [],
   "source": [
    "################################\n",
    "#\n",
    "# Taken from viz gallery, and easily change the axes to fit my data. make sure my data is reshaped first!\n",
    "#\n",
    "# x and y marks have been commented out to create a blank object so we can just update the figure when new data is fetched\n",
    "#\n",
    "################################\n",
    "\n",
    "np.random.seed(4)\n",
    "dates = pd.date_range(end='2019-01-01', periods=120, freq='M')\n",
    "# dataframe = pd.DataFrame({'Data 1': np.random.randn(120),\n",
    "#                           'Data 2': np.random.randn(120)*5},\n",
    "#                          index=dates).cumsum()\n",
    "\n",
    "dataframe = pd.DataFrame([])\n",
    "\n",
    "colors=['#1B84ED', '#CF7DFF']\n",
    "\n",
    "# Create scales\n",
    "scale_x = bqp.DateScale()\n",
    "scale_y1 = bqp.LinearScale()\n",
    "scale_y2 = bqp.LinearScale()\n",
    "\n",
    "# Create the Lines marks\n",
    "mark_line1 = bqp.Lines(#x=dataframe['DATE'],\n",
    "                       #y=dataframe['#Px'],\n",
    "                       scales={'x': scale_x, 'y': scale_y1},\n",
    "                       colors=[colors[0]],\n",
    "                       #labels=[dataframe.columns[0]],\n",
    "                       display_legend=True)\n",
    "mark_line2 = bqp.Lines(#x=dataframe['DATE'],\n",
    "                       #y=dataframe['returns'],\n",
    "                       scales={'x': scale_x, 'y': scale_y2},\n",
    "                       colors=[colors[1]],\n",
    "                       #labels=[dataframe.columns[1]],\n",
    "                       display_legend=True)\n",
    "\n",
    "# Create Axes\n",
    "axis_x = bqp.Axis(scale=scale_x, label='Dates')\n",
    "axis_y1 = bqp.Axis(scale=scale_y1,\n",
    "                   orientation='vertical',\n",
    "                   label='Price',\n",
    "                   side='right',\n",
    "                   tick_style={'fill': colors[0]},\n",
    "                   label_offset='3em')\n",
    "axis_y2 = bqp.Axis(scale=scale_y2,\n",
    "                   orientation='vertical',\n",
    "                   label='Analyst Performance',\n",
    "                   grid_lines='none',\n",
    "                   tick_style={'fill': colors[1]},\n",
    "                   side='left',\n",
    "                   label_offset='3em')\n",
    "\n",
    "# Create Figure\n",
    "figure = bqp.Figure(marks=[mark_line1, mark_line2],\n",
    "                    axes=[axis_x, axis_y1, axis_y2],\n",
    "                    title='Stock Price Vs Analyst Performance',\n",
    "                    layout={'width':'100%', 'height': '400px'},\n",
    "                    title_style={'font-size': '22px'},\n",
    "                    legend_location='top-left',\n",
    "                    legend_style={'stroke': 'none'},\n",
    "                    fig_margin={'top': 50, 'bottom': 60,\n",
    "                                'left': 90, 'right': 90})\n",
    "\n",
    "# Display the figure\n",
    "#figure"
   ]
  },
  {
   "cell_type": "code",
   "execution_count": null,
   "metadata": {},
   "outputs": [],
   "source": [
    "#########################\n",
    "#\n",
    "# Helper lambda functions that are needed for the pandas manipulation of timeseries data\n",
    "#\n",
    "# These are used to calculate returns from buy & sell signals \n",
    "#\n",
    "########################"
   ]
  },
  {
   "cell_type": "code",
   "execution_count": null,
   "metadata": {},
   "outputs": [],
   "source": [
    "def add_returns(t,results_dict):\n",
    "    #lambda function\n",
    "    try:\n",
    "        return (results_dict[t]['returns'][-1:].item()-1)*100\n",
    "    except:\n",
    "        return np.nan\n",
    "\n",
    "def returns(var,rec,px,shifted):\n",
    "    #lambda function\n",
    "    if rec == 'Buy' or rec == 'Add' :\n",
    "        return (px/shifted[var]-1)+1\n",
    "    if rec == 'Sell':\n",
    "        return ((px/shifted[var]-1)*-1)+1\n",
    "    else:\n",
    "        return 1"
   ]
  },
  {
   "cell_type": "code",
   "execution_count": null,
   "metadata": {},
   "outputs": [],
   "source": [
    "def calc_returns(d):\n",
    "    results_dict = {}\n",
    "    for ticker in d:\n",
    "        df = d[ticker]\n",
    "        df['returns'] = df.apply(lambda x: returns(x.name,x['#rec'],x['#Px'],df['#Px'].shift()),axis=1).cumprod()\n",
    "        results_dict[ticker] = df\n",
    "    \n",
    "    return results_dict"
   ]
  },
  {
   "cell_type": "code",
   "execution_count": null,
   "metadata": {},
   "outputs": [],
   "source": [
    "def create_analyst_ranking(df):\n",
    "    \n",
    "    df2 = pd.pivot_table(df,index=[analyst_name],values=[\"new\"],aggfunc=[np.mean,len]).swaplevel(0,1,axis=1).reset_index()\n",
    "    df2.columns = df2.columns.droplevel()\n",
    "    df2.rename(columns={\"\":\"Analyst Name\",\"mean\":\"Avg Analyst Perf (%)\",\"len\":\"Number of Stocks\"},inplace=True)\n",
    "    df2 = df2.sort_values(by=['Avg Analyst Perf (%)'],ascending=False)\n",
    "    \n",
    "    return df2"
   ]
  },
  {
   "cell_type": "code",
   "execution_count": null,
   "metadata": {},
   "outputs": [],
   "source": [
    "################################\n",
    "#\n",
    "# Function which will run all the data for tab2\n",
    "#\n",
    "# Using the same members as we used from universe / portfolio dropdown \n",
    "#\n",
    "################################"
   ]
  },
  {
   "cell_type": "code",
   "execution_count": null,
   "metadata": {},
   "outputs": [],
   "source": [
    "def load_tab2_data():\n",
    "    \n",
    "    if CDE_dummy_data.value == CDE_dummy_data.options[0]:\n",
    "\n",
    "        members = get_univ()\n",
    "\n",
    "        univ = BQL_query_all_stocks_with_notes(members)\n",
    "\n",
    "        price_rec_dict = BQL_query_get_history(univ)\n",
    "        results_dict = calc_returns(price_rec_dict)\n",
    "\n",
    "        df = BQL_query_get_current(univ,results_dict)   \n",
    "        df2 = create_analyst_ranking(df)\n",
    "        \n",
    "    elif CDE_dummy_data.value == CDE_dummy_data.options[1]:\n",
    "        \n",
    "        dummy_data1 = {'ID':['V UN Equity', '700 HK Equity', 'IBM UN Equity', 'VOD LN Equity'], 'DATE':['2020-01-10', '2020-01-03', '2020-01-05', '2020-01-17'], 'UD_BBEQRMS_ANALYST_NAME':['John Smith','Jane Doe','John Smith','Ada Lovelace'],'UD_BBEQRMS_RESEARCH_DATE':['2020-01-10', '2020-01-03', '2020-01-05', '2020-01-17'],'new':[5,10,-25,3]}\n",
    "        df = pd.DataFrame(dummy_data1, index = [0,1,2,3])\n",
    "        \n",
    "        dummy_data2 = {'Analyst Name':['John Smith','Jane Doe'],'Avg Analyst Perf (%)':[15,5],'Number of Stocks':[2,1]}\n",
    "        df2 = pd.DataFrame(dummy_data2, index = [0,1])\n",
    "        \n",
    "        today = dt.datetime.today()\n",
    "        dt1 = today-timedelta(days=60)\n",
    "        dt2 = today-timedelta(days=100)\n",
    "        \n",
    "\n",
    "        results_dict = {'V UN Equity':pd.DataFrame(data = {'DATE':[today,dt1,dt2],'Currency':['USD','USD','USD'],'#Px':[5,7,10],'#rec':['buy','buy','buy'],'returns':[6,9,11]}, index = [0,1,2]),\n",
    "                      '700 HK Equity':pd.DataFrame(data = {'DATE':[dt1,dt2],'Currency':['USD','USD'],'#Px':[1,3],'#rec':['buy','buy'],'returns':[6,7]}, index = [0,1]),\n",
    "                      'IBM UN Equity':pd.DataFrame(data = {'DATE':[dt1,dt2],'Currency':['USD','USD'],'#Px':[2,5],'#rec':['buy','buy'],'returns':[6,19]}, index = [0,1]),\n",
    "                      'VOD LN Equity':pd.DataFrame(data = {'DATE':[dt1,dt2],'Currency':['USD','USD'],'#Px':[15,2],'#rec':['buy','buy'],'returns':[3,11]}, index = [0,1])}\n",
    "        \n",
    "    return df, df2, results_dict"
   ]
  },
  {
   "cell_type": "code",
   "execution_count": null,
   "metadata": {},
   "outputs": [],
   "source": [
    "def update_tab2_elements(grid1_data,grid2_data,all_results):\n",
    "    \n",
    "    selected_security = grid1_data['ID'][:1].item()\n",
    "    \n",
    "    dg3.data = grid1_data.round(1)\n",
    "    dg4.data = grid2_data.round(1)\n",
    "\n",
    "    figure.marks[0].y = all_results[selected_security]['#Px']\n",
    "    figure.marks[1].y = all_results[selected_security]['returns']"
   ]
  },
  {
   "cell_type": "code",
   "execution_count": null,
   "metadata": {},
   "outputs": [],
   "source": [
    "def table_clicked2(*args):\n",
    "    selected_row = dg3.selected_row_indices\n",
    "    selected_security = dg3.data.iloc[selected_row]['ID']\n",
    "    selected_security = selected_security.iloc[0]\n",
    "\n",
    "    figure.marks[0].x = all_results[selected_security]['DATE']\n",
    "    figure.marks[1].x = all_results[selected_security]['DATE']\n",
    "    figure.marks[0].y = all_results[selected_security]['#Px']\n",
    "    figure.marks[1].y = all_results[selected_security]['returns']\n",
    "    \n",
    "    return(selected_security)"
   ]
  },
  {
   "cell_type": "code",
   "execution_count": null,
   "metadata": {},
   "outputs": [],
   "source": [
    "dg3.observe(table_clicked2,'selected_row_indices') # Only one interaction on this tab"
   ]
  },
  {
   "cell_type": "code",
   "execution_count": null,
   "metadata": {},
   "outputs": [],
   "source": [
    "stock_perf_df,analyst_perf_df,all_results = load_tab2_data()\n",
    "update_tab2_elements(stock_perf_df,analyst_perf_df,all_results)"
   ]
  },
  {
   "cell_type": "code",
   "execution_count": null,
   "metadata": {},
   "outputs": [],
   "source": [
    "#App layout for first tab\n",
    "app1 = VBox([CDE_dummy_data,control,groupby_chart_dropdown,cht_MoM.show(),hb2,HBox([cht_analyst_count.show(),mini_tab])])\n",
    "     \n",
    "#App layout for second tab\n",
    "app2 = VBox([CDE_dummy_data,control,HBox([dg3,dg4]),figure])\n",
    "\n",
    "#Set up tabs\n",
    "tab = Tab()\n",
    "tab.set_title(0,'NOTE Analysis')\n",
    "tab.set_title(1,'Analyst Performance')\n",
    "tab.children = [app1,app2]\n",
    "tab"
   ]
  }
 ],
 "metadata": {
  "kernelspec": {
   "display_name": "Python 3 (sandboxed)",
   "language": "python",
   "name": "python3"
  },
  "language_info": {
   "codemirror_mode": {
    "name": "ipython",
    "version": 3
   },
   "file_extension": ".py",
   "mimetype": "text/x-python",
   "name": "python",
   "nbconvert_exporter": "python",
   "pygments_lexer": "ipython3",
   "version": "3.5.5"
  }
 },
 "nbformat": 4,
 "nbformat_minor": 4
}
