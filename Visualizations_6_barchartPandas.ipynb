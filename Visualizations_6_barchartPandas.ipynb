{
 "cells": [
  {
   "cell_type": "markdown",
   "metadata": {},
   "source": [
    "You can access the accompanying video here: \n",
    "\n",
    "<a href=\"https://blinks.bloomberg.com/screens/PLYR%20VOD%20361997308\"> Bond Comparison BarPlot (12 min)</a>"
   ]
  },
  {
   "cell_type": "code",
   "execution_count": 1,
   "metadata": {},
   "outputs": [],
   "source": [
    "import bql\n",
    "import bqviz\n",
    "import pandas as pd\n",
    "import calendar\n",
    "\n",
    "# instantiate bql service\n",
    "bq = bql.Service()"
   ]
  },
  {
   "cell_type": "code",
   "execution_count": 2,
   "metadata": {},
   "outputs": [
    {
     "data": {
      "application/vnd.jupyter.widget-view+json": {
       "model_id": "45d4ac42963d4cedb72cc591fd1db9fd",
       "version_major": 2,
       "version_minor": 0
      },
      "text/plain": [
       "GridBox(children=(Figure(animation_duration=500, axes=[Axis(color='white', grid_color='#3c3c3c', grid_lines='d…"
      ]
     },
     "metadata": {},
     "output_type": "display_data"
    }
   ],
   "source": [
    "# setup the data items\n",
    "amt_out = bq.func.sum(bq.func.group(bq.data.amt_issued(), [bq.func.month(bq.data.issue_dt()), bq.func.year(bq.data.issue_dt())]))\n",
    "\n",
    "# construct query universe\n",
    "filter1 = bq.data.bics_level_2_industry_group_name() == 'Airlines'\n",
    "filter2 = bq.data.issue_dt() > '2014-12-31'\n",
    "univ = bq.univ.filter(bq.univ.debtuniv(types='ALL'), bq.func.and_(filter1, filter2))\n",
    "\n",
    "# set additional params\n",
    "params = {'mode':'cached','currency':'usd'}\n",
    "\n",
    "# make make and execute bql request\n",
    "bql_request = bql.Request(univ, {'amt_out':amt_out}, params)\n",
    "bql_response = bq.execute(bql_request)\n",
    "bql_data = bql_response[0].df()\n",
    "\n",
    "# break out into current and prior df's\n",
    "df_prior = bql_data.loc[bql_data['YEAR(ISSUE_DT())'] < 2020][['amt_out','MONTH(ISSUE_DT())']]\n",
    "df_current = bql_data.loc[bql_data['YEAR(ISSUE_DT())'] == 2020][['amt_out','MONTH(ISSUE_DT())']]\n",
    "\n",
    "# format df\n",
    "df_current.reset_index(inplace=True)\n",
    "df_current.set_index('MONTH(ISSUE_DT())',inplace=True)\n",
    "\n",
    "# take average of monthly prior data\n",
    "df_prior_monthly = df_prior.groupby('MONTH(ISSUE_DT())').mean()\n",
    "\n",
    "# make new df containing both current and prior data\n",
    "df_data = pd.concat([df_prior_monthly,df_current[['amt_out']]],sort=True,ignore_index=True, axis=1)\n",
    "df_data['month'] = [calendar.month_abbr[x] for x in list(df_data.index)]\n",
    "\n",
    "# reset index and rename cols\n",
    "df_data.set_index('month', inplace=True)\n",
    "df_data.rename(columns={0:'prior',1:\"current\"}, inplace=True)\n",
    "\n",
    "# make and show viz\n",
    "viz = bqviz.BarPlot(df_data).set_style()\n",
    "viz.show()"
   ]
  }
 ],
 "metadata": {
  "kernelspec": {
   "display_name": "Python 3 (sandboxed)",
   "language": "python",
   "name": "python3"
  },
  "language_info": {
   "codemirror_mode": {
    "name": "ipython",
    "version": 3
   },
   "file_extension": ".py",
   "mimetype": "text/x-python",
   "name": "python",
   "nbconvert_exporter": "python",
   "pygments_lexer": "ipython3",
   "version": "3.7.1"
  }
 },
 "nbformat": 4,
 "nbformat_minor": 4
}
