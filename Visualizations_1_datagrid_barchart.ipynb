{
 "cells": [
  {
   "cell_type": "markdown",
   "metadata": {},
   "source": [
    "You can access the accompanying video here: \n",
    "\n",
    "<a href=\"https://blinks.bloomberg.com/screens/PLYR%20VOD%20360874005\"> DataGrid and Barcharts (7 min)</a>"
   ]
  },
  {
   "cell_type": "code",
   "execution_count": 3,
   "metadata": {},
   "outputs": [],
   "source": [
    "# First we want to import the BQL Library \n",
    "import bql\n",
    "bq = bql.Service()"
   ]
  },
  {
   "cell_type": "code",
   "execution_count": 2,
   "metadata": {},
   "outputs": [
    {
     "data": {
      "application/vnd.jupyter.widget-view+json": {
       "model_id": "fe69f0016dd340b79e42832089ed92cd",
       "version_major": 2,
       "version_minor": 0
      },
      "text/plain": [
       "VBox(children=(Figure(axes=[Axis(orientation='vertical', scale=OrdinalScale()), Axis(label='Median of values p…"
      ]
     },
     "metadata": {},
     "output_type": "display_data"
    }
   ],
   "source": [
    "import pandas as pd\n",
    "import numpy as np\n",
    "import random\n",
    "import bqplot as bqp\n",
    "import bqwidgets as bqw\n",
    "from ipywidgets import VBox, HTML, Button\n",
    "\n",
    "# Set column names to use in dataframe\n",
    "VALUE_COL_NAME = 'Value'\n",
    "FILTER_COL_NAME = 'Sector'\n",
    "\n",
    "# This is where we pasted in our BQL Dataframe\n",
    "\n",
    "bql_item1 = bq.data.volatility()\n",
    "bql_item2 = bq.data.gics_sector_name()\n",
    "bql_items = {VALUE_COL_NAME:bql_item1, FILTER_COL_NAME:bql_item2}\n",
    "\n",
    "bql_universe = bq.univ.members('SPX Index')\n",
    "\n",
    "bql_request = bql.Request(bql_universe, bql_items)\n",
    "bql_response = bq.execute(bql_request)\n",
    "dataframe = bql.combined_df(bql_response).reset_index()\n",
    "\n",
    "# Create scales\n",
    "scale_x = bqp.OrdinalScale()\n",
    "scale_y = bqp.LinearScale()\n",
    "\n",
    "# Group the data to plot the median of each sector\n",
    "median_dataframe = dataframe.groupby(FILTER_COL_NAME).median()\n",
    "\n",
    "# Create mark\n",
    "mark_bar = bqp.Bars(x=median_dataframe.index,\n",
    "                    y=median_dataframe[VALUE_COL_NAME],\n",
    "                    scales={'x': scale_x, 'y': scale_y},\n",
    "                    orientation='horizontal',\n",
    "                    padding=0.15,\n",
    "                    colors=['#1B84ED'],\n",
    "                    interactions={'click': 'select'},\n",
    "                    unselected_style={'opacity': .5},\n",
    "                    tooltip=bqp.Tooltip(fields=['y'], show_labels=False))\n",
    "\n",
    "# Start plot with all bars selected\n",
    "mark_bar.selected = list(range(len(mark_bar.x)))\n",
    "\n",
    "# Create Axes\n",
    "axis_x = bqp.Axis(scale=scale_x, orientation='vertical')\n",
    "axis_y = bqp.Axis(scale=scale_y, label='Median of values per category')\n",
    "\n",
    "# Create Figure\n",
    "figure = bqp.Figure(marks=[mark_bar],\n",
    "                    axes=[axis_x, axis_y],\n",
    "                    title='Horizontal bar plot w/ linked data grid',\n",
    "                    title_style={'font-size': '22px'},\n",
    "                    fig_margin={'top': 60, 'bottom': 50,\n",
    "                                'left': 90, 'right': 40},\n",
    "                    layout={'width': '100%', 'height': '300px'})\n",
    "\n",
    "# Create grid and \"reset\" button\n",
    "datagrid = bqw.DataGrid(data=dataframe, layout={'height': '200px',\n",
    "                                                'width': '99%',\n",
    "                                                'overflow_x': 'hidden'})\n",
    "reset_button = Button(description='Show all values')\n",
    "\n",
    "# Callback to handle selections on bar chart\n",
    "def on_bar_click(evt=None):\n",
    "    if evt is not None and evt['new'] is not None:\n",
    "        selected = [mark_bar.x[i] for i in evt['new']]\n",
    "        filter_df = dataframe[dataframe[FILTER_COL_NAME].isin(selected)]\n",
    "        datagrid.data = filter_df\n",
    "\n",
    "# Callback to handle button clicks\n",
    "def on_button_click(evt=None):\n",
    "    datagrid.data = dataframe\n",
    "    mark_bar.selected = list(range(len(mark_bar.x)))\n",
    "\n",
    "# Attach listeners\n",
    "mark_bar.observe(on_bar_click, names='selected')\n",
    "reset_button.on_click(on_button_click)\n",
    "\n",
    "visualization = VBox([figure, reset_button, datagrid],\n",
    "                     layout={'overflow_x': 'hidden'})\n",
    "\n",
    "# Display the figure\n",
    "visualization\n"
   ]
  }
 ],
 "metadata": {
  "kernelspec": {
   "display_name": "Python 3 (sandboxed)",
   "language": "python",
   "name": "python3"
  },
  "language_info": {
   "codemirror_mode": {
    "name": "ipython",
    "version": 3
   },
   "file_extension": ".py",
   "mimetype": "text/x-python",
   "name": "python",
   "nbconvert_exporter": "python",
   "pygments_lexer": "ipython3",
   "version": "3.7.1"
  }
 },
 "nbformat": 4,
 "nbformat_minor": 4
}
