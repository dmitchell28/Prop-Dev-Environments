{
 "cells": [
  {
   "cell_type": "markdown",
   "metadata": {},
   "source": [
    "<a id=\"python-top\"></a>\n",
    "<div style=\"width: 50px; height: 50px; border-radius: 50%; background: #27AE60; margin-bottom: 0px;\">\n",
    "    <img src=\"../img/Welcome Page/boot_camp.png\">\n",
    "</div>\n",
    "<h1 style=\"margin-top: 20px; margin-bottom: 5px;\">Python Basics<br><span style=\"color: orange; margin-bottom: 0px;\">Fundamentals for BQuant</span></h1>\n",
    "<h4 style=\"color: orange; margin-top: 0px;\">(50-min Read)</h4>"
   ]
  },
  {
   "cell_type": "markdown",
   "metadata": {},
   "source": [
    "By the end of this document, you will be able to:\n",
    "1. Describe 5 of the most common Data Types used in Python programming\n",
    "1. Declare a variable and manipulate it with an operator\n",
    "1. Automate IF &rarr; THEN decisions with Conditionals\n",
    "1. Automate iterative tasks with Loops\n",
    "1. Define and deploy a Python function"
   ]
  },
  {
   "cell_type": "markdown",
   "metadata": {},
   "source": [
    "### Contents\n",
    "- [Introduction](#python-intro)\n",
    "- [Data Types](#data-typ)\n",
    "    - [Strings](#data-str)\n",
    "    - [Number Types](#data-num)\n",
    "    - [Booleans](#data-bool)\n",
    "    - [Sequence Types](#data-seq)\n",
    "    - [Dictionaries](#data-dict)\n",
    "- [Variables & Operators](#variab-ops)\n",
    "- [Conditional Statements](#conditionals)\n",
    "- [Loops](#loops)\n",
    "- [Functions](#func)\n",
    "- [Code Comments](#comments)\n",
    "\n",
    "<a href=\"1 Intro to BQuant.ipynb\">&larr; Back to Intro to BQuant</a>&emsp; | &emsp;\n",
    "<a href=\"3 BQL Basics.ipynb\">Continue to Boot Camp: BQL Basics &rarr;</a>"
   ]
  },
  {
   "cell_type": "markdown",
   "metadata": {},
   "source": [
    "---\n",
    "<a id=\"python-intro\"></a>\n",
    "<h1>Python Programming Basics<br><span style=\"color: orange;\">Introduction</span></h1>"
   ]
  },
  {
   "cell_type": "markdown",
   "metadata": {},
   "source": [
    "Python is one of the world's most ubiquitous programming languages. Its openness and readable syntax has led to the language's widespread adoption in fields ranging from web development, robotics, game development, and data science. In BQuant, you will use Python to maniuplate data, create visualizations, automate tasks, and build amazing interactive dashboards. \n",
    "\n",
    "This notebook will guide you through the very basics of the language. Note that these are only your first steps; this guide is NOT a comprehensive overview of everything you'll need to know about Python. No single resource will provide you with solutions to every question you'll have or every problem you'll encounter. Any developer, regardless of experience level, needs to understand where to go when they get stuck. Here are some external resources that may help when your code produces unexpected errors.\n",
    "\n",
    "   - [Python Language Documentation](https://docs.python.org/3/) - for general questions about the Python Language\n",
    "   - [Stack Overflow](https://stackoverflow.com/questions/tagged/python) - for consulting with other developers that have encountered your problem in the past\n",
    "   - Library Documentation - If you are having trouble with a particular Python library, check online for the library's documentation. For example, here is a link to the [pandas library documentation](https://pandas.pydata.org/docs/)\n",
    "   - [Google](https://www.google.com) - when all else fails &#128578;\n",
    "   \n",
    "The key in learning to program is not to give up. Even the most experienced developers make silly mistakes sometimes. Find help when you get stuck, and stick with it! After you build your first app, you'll be amazed by how far you've come."
   ]
  },
  {
   "cell_type": "markdown",
   "metadata": {},
   "source": [
    "[&uarr; Return to Top](#python-top)"
   ]
  },
  {
   "cell_type": "markdown",
   "metadata": {},
   "source": [
    "---\n",
    "<a id=\"data-typ\"></a>\n",
    "<h1>Python Data Types<br><span style=\"color: orange;\">Introduction</span></h1>"
   ]
  },
  {
   "cell_type": "markdown",
   "metadata": {},
   "source": [
    "While programming in Python, you'll work with several different types of data. A person's name ( <span style=\"color: #FAD800;\">\"Jane Doe\"</span> ) is a type of data, but not the same type as their age ( <span style=\"color: #7DCEA0\">35</span> ). The person's age is a different type of data than their height ( <span style=\"color: #3DB1FE\">1.6 meters</span> ), which is a different type than whether or not they hold a university degree ( <span style=\"color: #BB8FCE;\">True/False</span>). All of these pieces of data may be necessary descriptors even though they fall into different classifications.\n",
    "\n",
    "   - <code style=\"background-color: transparent; color: #FAD800;\">strings</code> - text data &emsp;( name: <span style=\"color: #FAD800;\">\"Jane Doe\"</span> )\n",
    "   - <code style=\"background-color: transparent; color: #7DCEA0;\">integers</code> - whole numbers &emsp;( age: <span style=\"color: #7DCEA0\">35</span> )\n",
    "   - <code style=\"background-color: transparent; color: #3DB1FE;\">floats</code> - floating decimal points &emsp;( height: <span style=\"color: #3DB1FE\">1.6 meters</span> )\n",
    "   - <code style=\"background-color: transparent; color: #BB8FCE;\">booleans</code> - binary &emsp;( degree: <span style=\"color: #BB8FCE;\">True/False</span> )\n",
    "   \n",
    "The examples below will discuss these and more."
   ]
  },
  {
   "cell_type": "markdown",
   "metadata": {},
   "source": [
    "[&uarr; Return to Top](#python-top)"
   ]
  },
  {
   "cell_type": "markdown",
   "metadata": {},
   "source": [
    "<a id=\"data-str\"></a>\n",
    "<h1><span style=\"color: orange;\">Strings</span></h1>"
   ]
  },
  {
   "cell_type": "markdown",
   "metadata": {},
   "source": [
    "Strings are textual data. Python allows you to declare strings using single or double quotes. Simply surround your string with either <span style=\"color: #FAD800;\">' '</span> or <span style=\"color: #FAD800;\">\" \"</span>. The ability to use both types allows you to include the other inside the string. This is especially useful when your string includes an apostrophe, for example."
   ]
  },
  {
   "cell_type": "code",
   "execution_count": 31,
   "metadata": {},
   "outputs": [
    {
     "name": "stdout",
     "output_type": "stream",
     "text": [
      "Single-quoted String\n",
      "Double-quoted String\n",
      "This string's got an apostrophe\n",
      "Python says \"hello!\"\n"
     ]
    }
   ],
   "source": [
    "# Run this cell with the Run button in the Jupyter toolbar\n",
    "# string in single quotes\n",
    "print('Single-quoted String')\n",
    "\n",
    "# string in double-quotes\n",
    "print(\"Double-quoted String\")\n",
    "\n",
    "# double quote string with a single quote inside\n",
    "print(\"This string's got an apostrophe\")\n",
    "\n",
    "# single quote string with a double quote inside\n",
    "print('Python says \"hello!\"')"
   ]
  },
  {
   "cell_type": "markdown",
   "metadata": {},
   "source": [
    "<br>\n",
    "<h4 style=\"color: orange;\">Multi-line Strings</h4>\n",
    "If you need to write a long string occupying several lines of code, you can use triple quotes (\"\"\") at the beginning and end of the string to indicate to Python that everything between them should be considered one string. Triple single quotes (''') will also work."
   ]
  },
  {
   "cell_type": "code",
   "execution_count": 32,
   "metadata": {},
   "outputs": [
    {
     "name": "stdout",
     "output_type": "stream",
     "text": [
      "This is a multi-line string\n",
      "It takes many lines to type this string\n",
      "Multi-line strings are commonly used for long descriptions\n"
     ]
    }
   ],
   "source": [
    "# Run this cell with the Run button in the Jupyter toolbar\n",
    "long_string = \"\"\"This is a multi-line string\n",
    "It takes many lines to type this string\n",
    "Multi-line strings are commonly used for long descriptions\"\"\"\n",
    "\n",
    "print(long_string)"
   ]
  },
  {
   "cell_type": "markdown",
   "metadata": {},
   "source": [
    "<br>\n",
    "<h4 style=\"color: orange;\"> Using the escape character</h4>\n",
    "The backslash character (\\) in a Python string is special. It allows you to \"escape\" the normal function of the next character. In the code example below, the single quote after the word \"string\" would normally close the string. By using a backslash before the single quote, we can escape this behavior and use the single quote as part of the string."
   ]
  },
  {
   "cell_type": "code",
   "execution_count": 33,
   "metadata": {},
   "outputs": [
    {
     "name": "stdout",
     "output_type": "stream",
     "text": [
      "This string's got an apostrophe\n"
     ]
    }
   ],
   "source": [
    "# Run this cell with the Run button in the Jupyter toolbar\n",
    "# use the \"\\\" character to escape Python's default behavior for the next character\n",
    "print('This string\\'s got an apostrophe')"
   ]
  },
  {
   "cell_type": "markdown",
   "metadata": {},
   "source": [
    "<br>\n",
    "<h4 style=\"color: orange;\">Insert a line break with the \"\\n\" character</h4>\n",
    "<p>There are other special characters used in Python strings. One of the most common is <code>\\n</code> which will insert a line break in the output. The code example below breaks a string into two lines. Remember that if you need to use \"\\n\" as part of the string without the line break behavior, use a backslash to escape it. See the Python docs for a list of <a href=\"https://docs.python.org/3/reference/lexical_analysis.html#literals\">other special characters</a>.</p>"
   ]
  },
  {
   "cell_type": "code",
   "execution_count": 34,
   "metadata": {},
   "outputs": [
    {
     "name": "stdout",
     "output_type": "stream",
     "text": [
      "This string is \n",
      " broken into two lines\n",
      "This string is \\n not broken into two lines\n"
     ]
    }
   ],
   "source": [
    "# Run this cell with the Run button in the Jupyter toolbar\n",
    "# use the \"\\n\" character to insert a line break\n",
    "print('This string is \\n broken into two lines')\n",
    "\n",
    "# use a backslash to escape the normal behavior\n",
    "print('This string is \\\\n not broken into two lines')"
   ]
  },
  {
   "cell_type": "markdown",
   "metadata": {},
   "source": [
    "<br>\n",
    "<h4 style=\"color: orange;\">Use \"r\" strings for literals</h4>\n",
    "Sometimes you may want Python to just accept the raw version of a string, ignoring any special characters that may appear in it. You could use the backslash for each special character, but a more efficient way would be to use an \"r\" string. A string preceeded by the letter \"r\" will tell Python to ignore any special characters that may appear as part of the text."
   ]
  },
  {
   "cell_type": "code",
   "execution_count": 35,
   "metadata": {},
   "outputs": [
    {
     "name": "stdout",
     "output_type": "stream",
     "text": [
      "This string is \\n not broken into two lines\n"
     ]
    }
   ],
   "source": [
    "# Run this cell with the Run button in the Jupyter toolbar\n",
    "# use an \"r\" before the first quote to negate any special characters that appear in the string\n",
    "print(r'This string is \\n not broken into two lines')"
   ]
  },
  {
   "cell_type": "markdown",
   "metadata": {},
   "source": [
    "<br>\n",
    "<h4 style=\"color: orange;\">Use \"f\" strings to insert other data types</h4>\n",
    "\"F\" strings are a handy addition to newer versions of the Python language. They allow you to mix data types inside a string and perform operations. Use the letter \"f\" before a string and wrap any non-strings in curly braces { }. See the code snippet below as an example."
   ]
  },
  {
   "cell_type": "code",
   "execution_count": 36,
   "metadata": {},
   "outputs": [
    {
     "name": "stdout",
     "output_type": "stream",
     "text": [
      "Simple Addition: 1 + 1 = 2\n"
     ]
    }
   ],
   "source": [
    "# Run this cell with the Run button in the Jupyter toolbar\n",
    "# use an \"f\" string to insert other data types into the text\n",
    "print(f'Simple Addition: {1} + {1} = {1+1}')"
   ]
  },
  {
   "cell_type": "markdown",
   "metadata": {},
   "source": [
    "<div style=\"border: 1px dotted orange; padding-left: 10px; padding-bottom: 10px;\">\n",
    "    <h3>&#9998; Try it out</h3>\n",
    "    <p>\n",
    "        Explore the <code>string</code> data type\n",
    "        <ol>\n",
    "            <li>Add a new Jupyter code cell below this one</li>\n",
    "            <li>Use the <code>print()</code> function to print <code>'Hello World!'</code> to the screen.</li>\n",
    "            <li>Print a string with mixed quote types (i.e. <code>'Python says \"hello\" to you'</code>)</li>\n",
    "            <li>Print a multi-line string using triple quotes (\"\"\")</li>\n",
    "            <li>Use <code>\\n</code> to print<br><code>First Line<br> Second Line</code></li>\n",
    "            <li>Use the backslash character to print <code>Special Character \\n is ignored</code></li>\n",
    "            <li>Use an \"r\" string to print <code>Special Character \\n is ignored</code></li>\n",
    "            <li>Use an \"f\" string to print <code>3 + 5 = 8</code></li>\n",
    "        </ol>\n",
    "    We've written one possible solution to this problem in a hidden Python cell below. When you're ready to get a peek at an answer, click the <img src=\"../img/Controls/hidden_cell.png\"> below.\n",
    "    </p>\n",
    "</div>"
   ]
  },
  {
   "cell_type": "markdown",
   "metadata": {},
   "source": [
    "<p style=\"color: orange; font-size: 12px;\">&darr; Click below to expand answer</p>"
   ]
  },
  {
   "cell_type": "code",
   "execution_count": null,
   "metadata": {
    "jupyter": {
     "source_hidden": true
    }
   },
   "outputs": [],
   "source": [
    "# Step 2\n",
    "print('Hello World!')\n",
    "\n",
    "# Step 3\n",
    "print('Python says \"hello\" to you')\n",
    "\n",
    "# Step 4\n",
    "my_string = \"\"\"Multi\n",
    "line\n",
    "string\n",
    "\"\"\"\n",
    "print(my_string)\n",
    "\n",
    "# Step 5\n",
    "print('First Line\\nSecond Line')\n",
    "\n",
    "# Step 6\n",
    "print('Special Character \\\\n is ignored')\n",
    "\n",
    "# Step 7\n",
    "print(r'Special Character \\n is ignored')\n",
    "\n",
    "# Step 8\n",
    "print(f'3 + 5 = {3+5}')"
   ]
  },
  {
   "cell_type": "markdown",
   "metadata": {},
   "source": [
    "[&uarr; Return to Top](#python-top)"
   ]
  },
  {
   "cell_type": "markdown",
   "metadata": {},
   "source": [
    "<a id=\"data-num\"></a>\n",
    "<h1><span style=\"color: orange;\">Number Types</span></h1>"
   ]
  },
  {
   "cell_type": "markdown",
   "metadata": {},
   "source": [
    "Python has several built-in number types, but the two most common are `int` and `float` for integers and floating decimal point numbers, respectively. You can think of integers as any number WITHOUT a decimal point and floats as any number WITH a decimal point. \n",
    "\n",
    "You can convert an `int` to a `float` and vice versa by calling the `int()` and `float()` functions. Be aware that transforming a `float` to an `int` does NOT round up the number; it simply drops anything appearing after the decimal. See the code snippet below for an example.\n",
    "\n",
    "If you are unsure of a variable's data type, call the `type()` function. This function is a handy tool for maintaining your code."
   ]
  },
  {
   "cell_type": "code",
   "execution_count": 37,
   "metadata": {},
   "outputs": [
    {
     "name": "stdout",
     "output_type": "stream",
     "text": [
      "-1.0\n",
      "1\n"
     ]
    },
    {
     "data": {
      "text/plain": [
       "int"
      ]
     },
     "execution_count": 37,
     "metadata": {},
     "output_type": "execute_result"
    }
   ],
   "source": [
    "# Run this cell with the Run button in the Jupyter toolbar\n",
    "integer_number = -1\n",
    "float_number = 1.9\n",
    "\n",
    "# transform an integer into a float\n",
    "print(float(-1))\n",
    "\n",
    "# transform a float into an integer\n",
    "print(int(1.9))\n",
    "\n",
    "# get type of variable\n",
    "type(integer_number)"
   ]
  },
  {
   "cell_type": "markdown",
   "metadata": {},
   "source": [
    "<div style=\"border: 1px dotted orange; padding-left: 10px; padding-bottom: 10px;\">\n",
    "    <h3>&#9998; Try it out</h3>\n",
    "    <p>\n",
    "        Explore two of the most common Python number types\n",
    "        <ol>\n",
    "            <li>Add a new Jupyter code cell below this one</li>\n",
    "            <li>Convert an integer to a float</li>\n",
    "            <li>Convert a float to an integer</li>\n",
    "            <li>Get the data type for the number <code>3.14159</code> using the <code>type()</code> function.</li>\n",
    "        </ol>\n",
    "    We've written one possible solution to this problem in a hidden Python cell below. When you're ready to get a peek at an answer, click the <img src=\"../img/Controls/hidden_cell.png\"> below.\n",
    "    </p>\n",
    "</div>"
   ]
  },
  {
   "cell_type": "markdown",
   "metadata": {},
   "source": [
    "<p style=\"color: orange; font-size: 12px;\">&darr; Click below to expand answer</p>"
   ]
  },
  {
   "cell_type": "code",
   "execution_count": null,
   "metadata": {
    "jupyter": {
     "source_hidden": true
    }
   },
   "outputs": [],
   "source": [
    "# Step 2\n",
    "my_int = 1\n",
    "float(my_int)\n",
    "\n",
    "# Step 3\n",
    "my_float = 2.5\n",
    "int(my_float)\n",
    "\n",
    "# Step 4\n",
    "type(3.14159)"
   ]
  },
  {
   "cell_type": "markdown",
   "metadata": {},
   "source": [
    "[&uarr; Return to Top](#python-top)"
   ]
  },
  {
   "cell_type": "markdown",
   "metadata": {},
   "source": [
    "<a id=\"data-bool\"></a>\n",
    "<h1><span style=\"color: orange;\">Booleans</span></h1>"
   ]
  },
  {
   "cell_type": "markdown",
   "metadata": {},
   "source": [
    "Booleans are simple True/False variables, and they can only have one of two values. When declaring either `True` or `False`, be sure to capitalize the first letter. Otherwise, Python will not recognize the code. You can use the \"is\" and \"not\" operators to check the status of a boolean variable as in the example below.\n",
    "\n",
    "Booleans are probably the simplest data type in Python, but they can be incredibly useful, especially in conditional statements. We'll discuss the use of Booleans later in this notebook."
   ]
  },
  {
   "cell_type": "code",
   "execution_count": 56,
   "metadata": {},
   "outputs": [
    {
     "name": "stdout",
     "output_type": "stream",
     "text": [
      "True\n",
      "False\n"
     ]
    }
   ],
   "source": [
    "# Run this cell with the Run button in the Jupyter toolbar\n",
    "boolean_1 = True\n",
    "boolean_2 = False\n",
    "\n",
    "print(boolean_1 is True)\n",
    "print(boolean_2 is not False)"
   ]
  },
  {
   "cell_type": "markdown",
   "metadata": {},
   "source": [
    "[&uarr; Return to Top](#python-top)"
   ]
  },
  {
   "cell_type": "markdown",
   "metadata": {},
   "source": [
    "<a id=\"data-seq\"></a>\n",
    "<h1><span style=\"color: orange;\">Sequence Types</span></h1>"
   ]
  },
  {
   "cell_type": "markdown",
   "metadata": {},
   "source": [
    "Python offers two main sequence data types: `list` and `tuple`. Lists are wrapped in square brackets [ ], and tuples are commonly declared with parentheses ( ). Lists and Tuples store an ordered sequence of values seperated by commas. The values inside a list or tuple can be of any data type: numbers, strings, and even other lists or tuples.\n",
    "\n",
    "You can access the values stored inside a list/tuple using an \"index.\" Each item is assigned a location number starting with 0 for the first position, 1 for the second position, and so on. This is known as \"zero-based\" indexing since the first number is represented by the index number 0."
   ]
  },
  {
   "cell_type": "markdown",
   "metadata": {},
   "source": [
    "<h4 style=\"color: orange;\">Lists</h4>\n",
    "The code below will declare a list and print the first item of that list. Note that lists can mix and match data types. The list below contains integers, floats, and strings."
   ]
  },
  {
   "cell_type": "code",
   "execution_count": 38,
   "metadata": {},
   "outputs": [
    {
     "name": "stdout",
     "output_type": "stream",
     "text": [
      "the first item\n"
     ]
    }
   ],
   "source": [
    "# Run this cell with the Run button in the Jupyter toolbar\n",
    "# wrap the list in square brackets [] and sepearte the values with commas\n",
    "my_list = ['the first item', 1, 8, 5.5, 6, 'string']\n",
    "\n",
    "# print the first item of the list using the 0 index\n",
    "# wrap the index value in square backets [] to access it\n",
    "print(my_list[0])"
   ]
  },
  {
   "cell_type": "markdown",
   "metadata": {},
   "source": [
    "<br>\n",
    "<h4 style=\"color: orange;\">Change an item in a list</h4>\n",
    "<p>A list is an example of a \"mutable\" data type. This means that once the list is declared, the items inside can be changed. In the code snippet below, we change the first item in the sequence to <code>5</code> and print out the changed list.</p>"
   ]
  },
  {
   "cell_type": "code",
   "execution_count": 39,
   "metadata": {},
   "outputs": [
    {
     "name": "stdout",
     "output_type": "stream",
     "text": [
      "[5, 1, 8, 5.5, 6, 'string']\n"
     ]
    }
   ],
   "source": [
    "# Run this cell with the Run button in the Jupyter toolbar\n",
    "my_list = ['the first item', 1, 8, 5.5, 6, 'string']\n",
    "\n",
    "# change the first value of the list\n",
    "my_list[0] = 5\n",
    "print(my_list)"
   ]
  },
  {
   "cell_type": "markdown",
   "metadata": {},
   "source": [
    "<br>\n",
    "<h4 style=\"color: orange;\">Get the length of a list</h4>\n",
    "<p>Use the <code>len()</code> function to get a count of the items stored in the list.</p>"
   ]
  },
  {
   "cell_type": "code",
   "execution_count": 40,
   "metadata": {},
   "outputs": [
    {
     "data": {
      "text/plain": [
       "6"
      ]
     },
     "execution_count": 40,
     "metadata": {},
     "output_type": "execute_result"
    }
   ],
   "source": [
    "# Run this cell with the Run button in the Jupyter toolbar\n",
    "my_list = [0, 1, 8, 5.5, 6, 'string']\n",
    "len(my_list)"
   ]
  },
  {
   "cell_type": "markdown",
   "metadata": {},
   "source": [
    "<br>\n",
    "<h4 style=\"color: orange;\">Tuples</h4>\n",
    "<p>The code below will declare a tuple and use an \"f\" string to print the third value. Remember that Python uses \"zero-based\" indexing, meaning that the first item in the list is indexed to 0, the second item is indexed to 1, and so we call <code>my_tuple[2]</code> to access the third value.</p>"
   ]
  },
  {
   "cell_type": "code",
   "execution_count": 41,
   "metadata": {},
   "outputs": [
    {
     "name": "stdout",
     "output_type": "stream",
     "text": [
      "The third item in my_tuple is 3\n"
     ]
    }
   ],
   "source": [
    "# Run this cell with the Run button in the Jupyter toolbar\n",
    "my_tuple = (10, 2, 3)\n",
    "print(f'The third item in my_tuple is {my_tuple[2]}')"
   ]
  },
  {
   "cell_type": "markdown",
   "metadata": {},
   "source": [
    "<br>\n",
    "<h4 style=\"color: orange;\">Tuples are not \"mutable\"</h4>\n",
    "The main difference between a tuple and a list is that tuples are not \"mutable.\" This means that once the tuple has been populated with items, those items cannot be changed. Tuples also have a fixed length after they are declared, so you cannot add more items to a tuple later on. If you try to run the code below, Python will display an error message."
   ]
  },
  {
   "cell_type": "code",
   "execution_count": 49,
   "metadata": {},
   "outputs": [
    {
     "ename": "TypeError",
     "evalue": "'tuple' object does not support item assignment",
     "output_type": "error",
     "traceback": [
      "\u001b[1;31m---------------------------------------------------------------------------\u001b[0m",
      "\u001b[1;31mTypeError\u001b[0m                                 Traceback (most recent call last)",
      "\u001b[1;32m<ipython-input-49-245730c20ddc>\u001b[0m in \u001b[0;36m<module>\u001b[1;34m\u001b[0m\n\u001b[0;32m      1\u001b[0m \u001b[1;31m# Run this cell with the Run button in the Jupyter toolbar\u001b[0m\u001b[1;33m\u001b[0m\u001b[1;33m\u001b[0m\u001b[1;33m\u001b[0m\u001b[0m\n\u001b[0;32m      2\u001b[0m \u001b[1;31m# this code will return an error message because the tuple is not mutable\u001b[0m\u001b[1;33m\u001b[0m\u001b[1;33m\u001b[0m\u001b[1;33m\u001b[0m\u001b[0m\n\u001b[1;32m----> 3\u001b[1;33m \u001b[0mmy_tuple\u001b[0m\u001b[1;33m[\u001b[0m\u001b[1;36m0\u001b[0m\u001b[1;33m]\u001b[0m \u001b[1;33m=\u001b[0m \u001b[1;36m5\u001b[0m\u001b[1;33m\u001b[0m\u001b[1;33m\u001b[0m\u001b[0m\n\u001b[0m",
      "\u001b[1;31mTypeError\u001b[0m: 'tuple' object does not support item assignment"
     ]
    }
   ],
   "source": [
    "# Run this cell with the Run button in the Jupyter toolbar\n",
    "# this code will return an error message because the tuple is not mutable\n",
    "my_tuple[0] = 5"
   ]
  },
  {
   "cell_type": "markdown",
   "metadata": {},
   "source": [
    "<br>\n",
    "<h4 style=\"color: orange;\">Should I use a Tuple or List?</h4>\n",
    "If tuples are immutable, why would we ever use them instead of a list? The main reason is that immutable objects like tuples occupy less space in memory, and operations can therefore be performed faster on tuples than on lists. This might not make much of a difference when working with a small amount of data, but it will be important to remember when working with vast amounts of information. In general, when your data sequence has a fixed length and the values inside will never change, use a tuple. Otherwise use a list!\n",
    "<br><Br>\n",
    "The code below will show the memory size differnce between a list and tuple with identical values."
   ]
  },
  {
   "cell_type": "code",
   "execution_count": 50,
   "metadata": {},
   "outputs": [
    {
     "name": "stdout",
     "output_type": "stream",
     "text": [
      "Byte size of my_list: 64\n",
      "Byte size of my_tuple: 48\n",
      "The list occupies 16 more bytes of space in memory than the tuple\n"
     ]
    }
   ],
   "source": [
    "# Run this cell with the Run button in the Jupyter toolbar\n",
    "# declare a list and tuple with identical values\n",
    "my_list = ['item A', 'item B', 'item C']\n",
    "my_tuple = ('item A', 'item B', 'item C')\n",
    "\n",
    "# get the byte sizes of each\n",
    "list_size = my_list.__sizeof__()\n",
    "tuple_size = my_tuple.__sizeof__()\n",
    "\n",
    "# print the results\n",
    "print(f\"\"\"Byte size of my_list: {list_size}\n",
    "Byte size of my_tuple: {tuple_size}\n",
    "The list occupies {list_size - tuple_size} more bytes of space in memory than the tuple\"\"\")"
   ]
  },
  {
   "cell_type": "markdown",
   "metadata": {},
   "source": [
    "<br>\n",
    "<div style=\"border: 1px dotted orange; padding-left: 10px; padding-bottom: 10px;\">\n",
    "    <h3>&#9998; Try it out</h3>\n",
    "    <p>\n",
    "        Practice with lists and tuples\n",
    "        <ol>\n",
    "            <li>Add a new Jupyter code cell below this one</li>\n",
    "            <li>Declare a list with the items <code>1, 2, 3</code></li>\n",
    "            <li>Use the <code>len()</code> function and <code>print()</code> out the length of the list</li>\n",
    "            <li>Write a line of code that will change the second item of the list to the number <code>5</code>. Remember that Python uses zero-based indexing.</li>\n",
    "            <li>Declare a tuple with the items <code>4, 5, 6</code></li>\n",
    "            <li>Use a <code>print()</code> statement to print out the third item in the tuple</li>\n",
    "        </ol>\n",
    "    We've written one possible solution to this problem in a hidden Python cell below. When you're ready to get a peek at an answer, click the <img src=\"../img/Controls/hidden_cell.png\"> below.\n",
    "    </p>\n",
    "</div>"
   ]
  },
  {
   "cell_type": "markdown",
   "metadata": {},
   "source": [
    "<p style=\"color: orange; font-size: 12px;\">&darr; Click below to expand answer</p>"
   ]
  },
  {
   "cell_type": "code",
   "execution_count": null,
   "metadata": {
    "jupyter": {
     "source_hidden": true
    }
   },
   "outputs": [],
   "source": [
    "# Step 2\n",
    "my_list = [1, 2, 3]\n",
    "\n",
    "# Step 3\n",
    "print(len(my_list))\n",
    "\n",
    "# Step 4\n",
    "my_list[1] = 5\n",
    "\n",
    "# Step 5\n",
    "my_tuple = (4, 5, 6)\n",
    "\n",
    "# Step 6\n",
    "print(my_tuple[2])"
   ]
  },
  {
   "cell_type": "markdown",
   "metadata": {},
   "source": [
    "[&uarr; Return to Top](#python-top)"
   ]
  },
  {
   "cell_type": "markdown",
   "metadata": {},
   "source": [
    "<a id=\"data-dict\"></a>\n",
    "<h1><span style=\"color: orange;\">Dictionaries</span></h1>"
   ]
  },
  {
   "cell_type": "markdown",
   "metadata": {},
   "source": [
    "Dictionaries are Python objects that allow you to store pairs of data in a key/value relationship. They are particularly useful for mapping relationships between items. You can declare a dictionary by separating a key/value pair with a colon and surrounding the object with curly braces { }. If a dictioanry has multiple key/value pairs, each pair is separated with a comma.\n",
    "\n",
    "Dictionaries are unordered, meaning that the order in which you declare the key/value pairs is irrelevant. You can access a dictionary's value by calling its key wrapped in square brackets. See the code snippet below for an example."
   ]
  },
  {
   "cell_type": "code",
   "execution_count": 54,
   "metadata": {},
   "outputs": [
    {
     "name": "stdout",
     "output_type": "stream",
     "text": [
      "vegetable\n"
     ]
    }
   ],
   "source": [
    "# Run this cell with the Run button in the Jupyter toolbar\n",
    "# declare a dictionary with {key: value, key2: value2}\n",
    "simple_dictionary = {'apple': 'fruit', 'carrot': 'vegetable'}\n",
    "\n",
    "# print out the value for the key 'carrot'\n",
    "print(simple_dictionary['carrot'])"
   ]
  },
  {
   "cell_type": "markdown",
   "metadata": {},
   "source": [
    "<br>\n",
    "<h4 style=\"color: orange;\">Use numbers, strings, and tuples as dictionary keys</h4>\n",
    "Strings are the most common choice for dictionary keys, but any immutable data type can be used. This includes integers, floats, tuples, and Booleans. Dictionaries and lists are mutable types, and cannot be used as dictionary keys."
   ]
  },
  {
   "cell_type": "code",
   "execution_count": 57,
   "metadata": {},
   "outputs": [
    {
     "name": "stdout",
     "output_type": "stream",
     "text": [
      "something else\n",
      "a third item\n",
      "This statement is True\n"
     ]
    }
   ],
   "source": [
    "# Run this cell with the Run button in the Jupyter toolbar\n",
    "# keys can be strings, integers, floats, or tuples\n",
    "my_dict = {1: 'something',\n",
    "           2.5: 'something else',\n",
    "           (1, 2, 3): 'a third item',\n",
    "           'four': 'a fourth item',\n",
    "           True: 'This statement is True'}\n",
    "\n",
    "print(my_dict[2.5])\n",
    "print(my_dict[(1, 2, 3)])\n",
    "print(my_dict[True])"
   ]
  },
  {
   "cell_type": "markdown",
   "metadata": {},
   "source": [
    "<br>\n",
    "<h4 style=\"color: orange;\">Any data type can be a dictionary value</h4>\n",
    "<p>Dictionary values, unlike keys, can be any data type regardless of mutability. The code below uses a list of animals as the value for the key <code>'animals'</code>. We can access the first animal in that list by calling <code>dict_with_list['animals']</code> for the list and then adding <code>[0]</code> to access the first item in that list.</p>"
   ]
  },
  {
   "cell_type": "code",
   "execution_count": 58,
   "metadata": {},
   "outputs": [
    {
     "name": "stdout",
     "output_type": "stream",
     "text": [
      "['lion', 'tiger', 'bear']\n",
      "The first item in the list of animals is a lion\n"
     ]
    }
   ],
   "source": [
    "# Run this cell with the Run button in the Jupyter toolbar\n",
    "dict_with_list = {'animals': ['lion', 'tiger', 'bear']}\n",
    "\n",
    "# print the value for the key 'animals'\n",
    "print(dict_with_list['animals'])\n",
    "\n",
    "# use an \"f\" string to print the first animal in the list\n",
    "print(f\"The first item in the list of animals is a {dict_with_list['animals'][0]}\")"
   ]
  },
  {
   "cell_type": "markdown",
   "metadata": {},
   "source": [
    "<br>\n",
    "<h4 style=\"color: orange;\">Dictionaries can be nested inside other dictionaries</h4>\n",
    "<p>As we discovered in the example above, dictionary values can be any data type. This includes other dictionaries! Nesting dictionaries is a common technique if there are subsequent relationships that also should be mapped with a key/value pair. The code below segregates lists of animals into carnivores and herbivores. We can access each subsequent level of the dictionary by chaining keys together (i.e. <code>nested_dict['animals']['carnivores']</code> will access the list of carnivorous animals.</p>"
   ]
  },
  {
   "cell_type": "code",
   "execution_count": 59,
   "metadata": {},
   "outputs": [
    {
     "name": "stdout",
     "output_type": "stream",
     "text": [
      "The first carnivore is a lion\n"
     ]
    }
   ],
   "source": [
    "# Run this cell with the Run button in the Jupyter toolbar\n",
    "nested_dict = {'animals': {'carnivores': ['lion', 'tiger', 'bear'],\n",
    "                           'herbivores': ['goat', 'cow', 'chicken']}}\n",
    "\n",
    "print(f\"The first carnivore is a {nested_dict['animals']['carnivores'][0]}\")"
   ]
  },
  {
   "cell_type": "markdown",
   "metadata": {},
   "source": [
    "<br>\n",
    "<div style=\"border: 1px dotted orange; padding-left: 10px; padding-bottom: 10px;\">\n",
    "    <h3>&#9998; Try it out</h3>\n",
    "    <p>\n",
    "        Practice using Python dictionaries\n",
    "        <ol>\n",
    "            <li>Add a new Jupyter code cell below this one</li>\n",
    "            <li>Declare a dictionary named <code>countries</code> with the names of 5 countries as keys and the native language of each as the values. If there is more than one native language, use a list of strings as the value.</li>\n",
    "            <li>Use a <code>print()</code> statement to print out the native language of one of the countries. Use <code>countries['country_name']</code> to access the data.</li>\n",
    "            <li>\"Refactor\" (or rewrite) the code to transform your dictionary into a nested dictionary. Each country should have its own subsequent dictionary of languages and a capital city.<br>For example:<br><img src=\"../img/Boot Camp/nested_dict.png\"></li>\n",
    "            <li>Use a <code>print()</code> statement to print out the capital city of one country. Use <code>countries['country_name']['capital']</code> to access the data</li>\n",
    "        </ol>\n",
    "    We've written one possible solution to this problem in a hidden Python cell below. When you're ready to get a peek at an answer, click the <img src=\"../img/Controls/hidden_cell.png\"> below.\n",
    "    </p>\n",
    "</div>"
   ]
  },
  {
   "cell_type": "markdown",
   "metadata": {},
   "source": [
    "<p style=\"color: orange; font-size: 12px;\">&darr; Click below to expand answer</p>"
   ]
  },
  {
   "cell_type": "code",
   "execution_count": null,
   "metadata": {
    "jupyter": {
     "source_hidden": true
    }
   },
   "outputs": [],
   "source": [
    "# Step 2\n",
    "countries = {\n",
    "    'Japan': 'Japanese',\n",
    "    'China': ['Mandarin', 'Cantonese'],\n",
    "    'Canada': ['French', 'English'],\n",
    "    'Spain': 'Spanish',\n",
    "    'Brazi': 'Portuguese'\n",
    "}\n",
    "\n",
    "# Step 3\n",
    "print(countries['China'])\n",
    "\n",
    "# Step 4\n",
    "countries_2 = {\n",
    "    'Japan': {\n",
    "        'languages': 'Japanese',\n",
    "        'capital': 'Tokyo'\n",
    "    },\n",
    "    'China': {\n",
    "        'langugaes': ['Mandarin', 'Cantonese'],\n",
    "        'capital': 'Beijing'\n",
    "    },\n",
    "    'Canada': {\n",
    "        'languages': ['French', 'English'],\n",
    "        'capital': 'Ottawa'\n",
    "    },\n",
    "    'Spain': {\n",
    "        'languages': 'Spanish',\n",
    "        'capital': 'Madrid'\n",
    "    },\n",
    "    'Brazil': {\n",
    "        'languages': 'Portuguese',\n",
    "        'capital': 'Brasilia'\n",
    "    }\n",
    "}\n",
    "\n",
    "# Step 5\n",
    "print(countries_2['Canada']['capital'])"
   ]
  },
  {
   "cell_type": "markdown",
   "metadata": {},
   "source": [
    "[&uarr; Return to Top](#python-top)"
   ]
  },
  {
   "cell_type": "markdown",
   "metadata": {},
   "source": [
    "---\n",
    "<a id=\"variab-ops\"></a>\n",
    "<h1>Variables & Operators<br><span style=\"color: orange;\">Temporarily Store & Maniuplate Data</span></h1>"
   ]
  },
  {
   "cell_type": "markdown",
   "metadata": {},
   "source": [
    "<h4 style=\"color: orange;\">Variables</h4>\n",
    "<p>\n",
    "Variables in Python are used to temporarily store a data type. You can think of a variable as an empty box. When \"declaring\" a variable, you name the box and place a data type inside. You can change what's in the box, or empty it altogether. We declare variables with the <code>=</code> operator. In fact, if you've been following this notebook in order, you've already declared a few variables in the data types section.<br><br>There are a few rules to keep in mind when declaring variables.\n",
    "</p>\n",
    "<ul>\n",
    "    <li>The variable name must start with a letter or an underscore. Numbers can be used in the name, just not at the beginning.</li>\n",
    "    <li>The variable name can only contain alpha-numeric characters and underscores. No other special characters are allowed.</li>\n",
    "    <li>Variable names are case sensitive. <code>My_Variable</code> is different than <code>my_variable</code> which is different than <code>mY_vArIAble</code></li>\n",
    "</ul>\n",
    "<p>While not required, it's good practice to use lower case letters, separating words by an underscore.</p>"
   ]
  },
  {
   "cell_type": "code",
   "execution_count": 61,
   "metadata": {},
   "outputs": [
    {
     "name": "stdout",
     "output_type": "stream",
     "text": [
      "This Text\n"
     ]
    }
   ],
   "source": [
    "# Run this cell with the Run button in the Jupyter toolbar\n",
    "# declare a string variable\n",
    "my_variable = 'This Text'\n",
    "\n",
    "# print the variable to the screen\n",
    "print(my_variable)"
   ]
  },
  {
   "cell_type": "markdown",
   "metadata": {},
   "source": [
    "<br>\n",
    "<h4 style=\"color: orange;\">Operators</h4>\n",
    "<p> \n",
    "    Operators are special symbols in Python that carry out a specific function on a variable or data type. These include some of the mathematical symbols you might expect (<code>+</code>, <code>-</code>, <code>*</code>, and <code>/</code>), but there are also logical and comparison operators such as <code>and</code>, <code>or</code>, <code>&gt;</code>, and <code>&lt;</code>. The table below displays some of the most commonly used operators. See this link for a <a href=\"https://www.w3schools.com/python/python_operators.asp\">complete list of operators</a>.\n",
    "</p>"
   ]
  },
  {
   "cell_type": "markdown",
   "metadata": {},
   "source": [
    "<br>\n",
    "<table style=\"float: left;\">\n",
    "    <tr style=\"border-bottom: 1px solid #A4A5A4;\">\n",
    "        <th style=\"font-size: x-large; text-align: center;\">Operator</th>\n",
    "        <th style=\"font-size: x-large; border-left: 1px solid #A4A5A4; border-right: 1px solid #A4A5A4;\">Purpose</th>\n",
    "        <th style=\"font-size: x-large;\">Example</th>\n",
    "    </tr>\n",
    "    <tr>\n",
    "        <td style=\"font-size: large; text-align: center; color: orange;\">+</td>\n",
    "        <td style=\"font-size: large; text-align: center; border-left: 1px solid #A4A5A4; border-right: 1px solid #A4A5A4;\">Addition</td>\n",
    "        <td style=\"font-size: large; text-align: center;\">x + 1</td>\n",
    "    </tr>\n",
    "    <tr>\n",
    "        <td style=\"font-size: large; text-align: center; color: orange;\">-</td>\n",
    "        <td style=\"font-size: large; text-align: center; border-left: 1px solid #A4A5A4; border-right: 1px solid #A4A5A4;\">Subtraction</td>\n",
    "        <td style=\"font-size: large; text-align: center;\">x - 1</td>\n",
    "    </tr>\n",
    "    <tr>\n",
    "        <td style=\"font-size: large; text-align: center; color: orange;\">*</td>\n",
    "        <td style=\"font-size: large; text-align: center; border-left: 1px solid #A4A5A4; border-right: 1px solid #A4A5A4;\">Multiplication</td>\n",
    "        <td style=\"font-size: large; text-align: center;\">x * 1</td>\n",
    "    </tr>\n",
    "    <tr>\n",
    "        <td style=\"font-size: large; text-align: center; color: orange;\">/</td>\n",
    "        <td style=\"font-size: large; text-align: center; border-left: 1px solid #A4A5A4; border-right: 1px solid #A4A5A4;\">Division</td>\n",
    "        <td style=\"font-size: large; text-align: center;\">x / 1</td>\n",
    "    </tr>\n",
    "    <tr>\n",
    "        <td style=\"font-size: large; text-align: center; color: orange;\">**</td>\n",
    "        <td style=\"font-size: large; text-align: center; border-left: 1px solid #A4A5A4; border-right: 1px solid #A4A5A4;\">Exponentiation</td>\n",
    "        <td style=\"font-size: large; text-align: center;\">x ** 1</td>\n",
    "    </tr>\n",
    "    <tr>\n",
    "        <td style=\"font-size: large; text-align: center; color: orange;\">%</td>\n",
    "        <td style=\"font-size: large; text-align: center; border-left: 1px solid #A4A5A4; border-right: 1px solid #A4A5A4;\">Remainder</td>\n",
    "        <td style=\"font-size: large; text-align: center;\">5 % 3 = 2</td>\n",
    "    </tr>\n",
    "    <tr>\n",
    "        <td style=\"font-size: large; text-align: center; color: orange;\">+=</td>\n",
    "        <td style=\"font-size: large; text-align: center; border-left: 1px solid #A4A5A4; border-right: 1px solid #A4A5A4; width: 200px;\">Shorthand for adding a number to the current value</td>\n",
    "        <td style=\"font-size: large; text-align: center;\">x += 1<br>is the same as <br>x = x + 1</td>\n",
    "    </tr>\n",
    "        <td style=\"font-size: large; text-align: center; color: orange;\">-=</td>\n",
    "        <td style=\"font-size: large; text-align: center; border-left: 1px solid #A4A5A4; border-right: 1px solid #A4A5A4; width: 200px;\">Shorthand for subtracting a number from the current value</td>\n",
    "        <td style=\"font-size: large; text-align: center;\">x -= 1<br>is the same as <br>x = x - 1</td>\n",
    "    </tr>\n",
    "    <tr>\n",
    "        <td style=\"font-size: large; text-align: center; color: orange;\">==</td>\n",
    "        <td style=\"font-size: large; text-align: center; border-left: 1px solid #A4A5A4; border-right: 1px solid #A4A5A4;\">Equality</td>\n",
    "        <td style=\"font-size: large; text-align: center;\">5 == 5 is True<br>5 == 3 is False</td>\n",
    "    </tr>\n",
    "    <tr>\n",
    "        <td style=\"font-size: large; text-align: center; color: orange;\">!=</td>\n",
    "        <td style=\"font-size: large; text-align: center; border-left: 1px solid #A4A5A4; border-right: 1px solid #A4A5A4;\">Not Equal</td>\n",
    "        <td style=\"font-size: large; text-align: center;\">5 != 5 is False<br>5 != 3 is True</td>\n",
    "    </tr>\n",
    "</table>\n"
   ]
  },
  {
   "cell_type": "code",
   "execution_count": 62,
   "metadata": {},
   "outputs": [
    {
     "name": "stdout",
     "output_type": "stream",
     "text": [
      "True\n"
     ]
    }
   ],
   "source": [
    "# Run this cell with the Run button in the Jupyter toolbar\n",
    "my_variable = 1\n",
    "\n",
    "# add 5 to the current value and store the sum\n",
    "my_variable += 5\n",
    "\n",
    "# check if my_variable is equal to 6\n",
    "print(my_variable == 6)"
   ]
  },
  {
   "cell_type": "markdown",
   "metadata": {},
   "source": [
    "<br>\n",
    "<div style=\"border: 1px dotted orange; padding-left: 10px; padding-bottom: 10px;\">\n",
    "    <h3>&#9998; Try it out</h3>\n",
    "    <p>\n",
    "        Declare variables and perform operations\n",
    "        <ol>\n",
    "            <li>Add a new Jupyter code cell below this one</li>\n",
    "            <li>Declare two variables and set one equal to a float and the other to an integer. Use a seperate line of code for each variable. Name these variables <code>my_float</code> and <code>my_integer</code>.</li>\n",
    "            <li>Declare a third variable called <code>my_sum</code> and set it equal to <code>my_float + my_integer</code>.\n",
    "            <li>Get the type of this third variable by adding <code>type(my_sum)</code>. Run the cell to view the result. Notice that when operating on two numbers of different types, Python returns the more complex data type. Here we are adding an <code>int</code> and <code>float</code> together, and Python returns a <code>float</code>.</li>\n",
    "            <li>Refactor (rewrite) the code so that <code>my_float</code> is an integer number. After running the cell again, notice that the data type for <code>my_sum</code> is now an <code>int</code>.</li>\n",
    "            <li>Write a line of code that will add <code>10</code> to the current value of <code>my_integer</code> using the <code>+=</code> operator.\n",
    "            <li>Calculate the remainder of <code>my_integer</code> divided by <code>my_float</code> using the <code>%</code> operator. Use a <code>print()</code> statement to print the result to the screen.</li>\n",
    "            <li>Determine if <code>my_float</code> is equal to <code>my_integer</code> by using the <code>==</code> operator. Use a <code>print()</code> statement to print the result to the screen.</li>\n",
    "        </ol>\n",
    "    We've written one possible solution to this problem in a hidden Python cell below. When you're ready to get a peek at an answer, click the <img src=\"../img/Controls/hidden_cell.png\"> below.\n",
    "    </p>\n",
    "</div>"
   ]
  },
  {
   "cell_type": "markdown",
   "metadata": {},
   "source": [
    "<p style=\"color: orange; font-size: 12px;\">&darr; Click below to expand answer</p>"
   ]
  },
  {
   "cell_type": "code",
   "execution_count": null,
   "metadata": {
    "jupyter": {
     "source_hidden": true
    }
   },
   "outputs": [],
   "source": [
    "# Step 2\n",
    "my_float = 2.5\n",
    "my_integer = 10\n",
    "\n",
    "# Step 3\n",
    "my_sum = my_float + my_integer\n",
    "\n",
    "# Step 4\n",
    "print(type(my_sum))\n",
    "\n",
    "# Step 6\n",
    "my_integer += 10\n",
    "\n",
    "# Step 7\n",
    "print(my_integer % my_float)\n",
    "\n",
    "# Step 8\n",
    "print(my_float == my_integer)"
   ]
  },
  {
   "cell_type": "markdown",
   "metadata": {},
   "source": [
    "[&uarr; Return to Top](#python-top)"
   ]
  },
  {
   "cell_type": "markdown",
   "metadata": {},
   "source": [
    "---\n",
    "<a id=\"conditionals\"></a>\n",
    "<h1>Conditional Statements<br><span style=\"color: orange;\">Automating Decisions with IF &rarr; THEN</span></h1>"
   ]
  },
  {
   "cell_type": "markdown",
   "metadata": {},
   "source": [
    "Conditional statements are used in Python to perform an operation on a variable if certain criteria are met. You start a conditional statment with `if` and end the conditional with a colon. Every line below must be indented for the conditional to run properly."
   ]
  },
  {
   "cell_type": "code",
   "execution_count": 67,
   "metadata": {},
   "outputs": [
    {
     "name": "stdout",
     "output_type": "stream",
     "text": [
      "My variable is equal to 1\n"
     ]
    }
   ],
   "source": [
    "# Run this cell with the Run button in the Jupyter toolbar\n",
    "# declare a variable\n",
    "my_variable = 1\n",
    "\n",
    "# conditional statement\n",
    "# don't forget to add a colon at the end of the first line, and then indent the following lines\n",
    "if my_variable == 1:\n",
    "    print('My variable is equal to 1')"
   ]
  },
  {
   "cell_type": "markdown",
   "metadata": {},
   "source": [
    "<br>\n",
    "<h4 style=\"color: orange;\">Multiple Conditionals</h4>\n",
    "<p>\n",
    "    You can use <code>elif</code> (\"else if\") and <code>else</code> to specify other conditional statements if the first one fails.\n",
    "</p>"
   ]
  },
  {
   "cell_type": "code",
   "execution_count": 68,
   "metadata": {},
   "outputs": [
    {
     "name": "stdout",
     "output_type": "stream",
     "text": [
      "My variable is not equal to 1 or 2\n"
     ]
    }
   ],
   "source": [
    "# Run this cell with the Run button in the Jupyter toolbar\n",
    "# declare a variable\n",
    "my_variable = 3    # <-- try changing this variable to satisfy different parts of the conditional\n",
    "\n",
    "# multi-conditional\n",
    "if my_variable == 1:\n",
    "    print('My variable is equal to 1')\n",
    "elif my_variable == 2:\n",
    "    print('My variable is equal to 2')\n",
    "else:\n",
    "    print('My variable is not equal to 1 or 2')"
   ]
  },
  {
   "cell_type": "markdown",
   "metadata": {},
   "source": [
    "<br>\n",
    "<h4 style=\"color: orange;\">Conditionals with Booleans</h4>\n",
    "<p>\n",
    "    If you're referencing a Boolean variable in a conditional statement, you can exclude an operator from the conditional.\n",
    "</p>"
   ]
  },
  {
   "cell_type": "code",
   "execution_count": 69,
   "metadata": {},
   "outputs": [
    {
     "name": "stdout",
     "output_type": "stream",
     "text": [
      "My variable is True\n"
     ]
    }
   ],
   "source": [
    "# Run this cell with the Run button in the Jupyter toolbar\n",
    "# declare a variable\n",
    "my_variable = True\n",
    "\n",
    "# shorthand conditional\n",
    "if my_variable:\n",
    "    print('My variable is True')"
   ]
  },
  {
   "cell_type": "markdown",
   "metadata": {},
   "source": [
    "<br>\n",
    "<div style=\"border: 1px dotted orange; padding-left: 10px; padding-bottom: 10px;\">\n",
    "    <h3>&#9998; Try it out</h3>\n",
    "    <p>\n",
    "        Practice with conditional statements\n",
    "        <ol>\n",
    "            <li>Add a new Jupyter code cell below this one</li>\n",
    "            <li>Declare a variable named <code>my_variable</code> and set it equal to the number <code>15</code>.\n",
    "            <li>Write a conditional to determine if the variable is divisible by 3. Hint: the <code>%</code> and <code>==</code> operators are useful for these types of operations</li>\n",
    "            <li>If the variable is divisible by 3, print <code>Divisible by 3!</code> out to the screen.</li>\n",
    "            <li>Run the cell to make sure the code is working</li>\n",
    "            <li>Add an <code>else:</code> condition that will print <code>Not divisible by 3</code> to the screen if the variable fails the first condition.</li>\n",
    "            <li>Change the value of <code>my_variable</code> to <code>16</code> and run the cell again to make sure the IF &rarr; ELSE conditional is working.</li>\n",
    "        </ol>\n",
    "    We've written one possible solution to this problem in a hidden Python cell below. When you're ready to get a peek at an answer, click the <img src=\"../img/Controls/hidden_cell.png\"> below.\n",
    "    </p>\n",
    "</div>"
   ]
  },
  {
   "cell_type": "markdown",
   "metadata": {},
   "source": [
    "<p style=\"color: orange; font-size: 12px;\">&darr; Click below to expand answer</p>"
   ]
  },
  {
   "cell_type": "code",
   "execution_count": null,
   "metadata": {
    "jupyter": {
     "source_hidden": true
    }
   },
   "outputs": [],
   "source": [
    "my_variable = 15\n",
    "\n",
    "if my_variable % 3 == 0:\n",
    "    print('Divisible by 3!')\n",
    "else:\n",
    "    print('Not divisible by 3')"
   ]
  },
  {
   "cell_type": "markdown",
   "metadata": {},
   "source": [
    "[&uarr; Return to Top](#python-top)"
   ]
  },
  {
   "cell_type": "markdown",
   "metadata": {},
   "source": [
    "---\n",
    "<a id=\"loops\"></a>\n",
    "<h1>Loops<br><span style=\"color: orange;\">Automate Repetitive Tasks</span></h1>"
   ]
  },
  {
   "cell_type": "markdown",
   "metadata": {},
   "source": [
    "Oftentimes in programming you'll need to repeat a certain task over and over again until a condition is met. For example, consider a situation in which you need to add 1 to every item in a list of numbers. The operation `x + 1` would need to be carried out for each `x` in the list, and Python should stop this behavior when it runs out of items in the list. Alternatively, consider a scenario where you want to add 1 to a number until the result is a prime number. Rather than iterating over a list, Python is repeating the operation `x += 1` until a given condition is met. Loops are a perfect tool for accomplishing these tasks.\n",
    "\n",
    "There are two types of loops in Python: `for` loops and `while` loops. `For` loops are best for accomplishing the first type of scenario in which you need to iterate over a given set of values. The `while` loop is best for the second type of scenario, repeating a task until a given condition is met. The two types of loops are interchangable: any `for` loop can be written as a `while` loop and vice versa, but choosing the right loop to apply to a given situation could save you from writing extra lines of code."
   ]
  },
  {
   "cell_type": "markdown",
   "metadata": {},
   "source": [
    "<h4 style=\"color: orange;\">For Loops</h4>\n",
    "<p>\n",
    "    The example below shows the syntax for a basic <code>for</code> loop. This code prints every item in a list. Notice that the syntax is similar to the conditional statements above: a declarative statement starting with <code>for</code> and ending in a colon. All subsequent lines are indented.\n",
    "</p>"
   ]
  },
  {
   "cell_type": "code",
   "execution_count": 73,
   "metadata": {},
   "outputs": [
    {
     "name": "stdout",
     "output_type": "stream",
     "text": [
      "0\n",
      "1\n",
      "2\n",
      "3\n",
      "4\n",
      "5\n"
     ]
    }
   ],
   "source": [
    "# Run this cell with the Run button in the Jupyter toolbar\n",
    "# declare a list\n",
    "my_list = [0, 1, 2, 3, 4, 5]\n",
    "\n",
    "# loop over the list and print each value\n",
    "for value in my_list:\n",
    "    print(value)"
   ]
  },
  {
   "cell_type": "markdown",
   "metadata": {},
   "source": [
    "<br>\n",
    "<h4 style=\"color: orange;\">Conditionals in loops</h4>\n",
    "<p>\n",
    "    Loops are often combined with conditionals to perform some IF &rarr; THEN logic for each iteration. The example below uses a conditional to determine if numbers are even or odd and prints that information to the screen using an \"f\" string. Notice how the <code>for</code> loop and the conditional are indented.\n",
    "</p>"
   ]
  },
  {
   "cell_type": "code",
   "execution_count": 74,
   "metadata": {},
   "outputs": [
    {
     "name": "stdout",
     "output_type": "stream",
     "text": [
      "0 is even\n",
      "1 is odd\n",
      "2 is even\n",
      "3 is odd\n",
      "4 is even\n",
      "5 is odd\n"
     ]
    }
   ],
   "source": [
    "# Run this cell with the Run button in the Jupyter toolbar\n",
    "# declare a list\n",
    "my_list = [0, 1, 2, 3, 4, 5]\n",
    "\n",
    "# loop over the list and check even vs odd\n",
    "for item in my_list:\n",
    "    if item % 2 == 0:    # <-- numbers are even if the remainder is zero when dividing by 2\n",
    "        print(f'{item} is even')\n",
    "    else:\n",
    "        print(f'{item} is odd')"
   ]
  },
  {
   "cell_type": "markdown",
   "metadata": {},
   "source": [
    "<br>\n",
    "<h4 style=\"color: orange;\">Break and Continue Statements</h4>\n",
    "<p>\n",
    "    Python provides two statements for controlling the flow of iteration inside the loop. The <code>break</code> statement will stop and exit a loop when it is called. The <code>continue</code> statement will start the next iteration without executing any of the code below it. See how these statements work in the example cell below.\n",
    "</p>"
   ]
  },
  {
   "cell_type": "code",
   "execution_count": 75,
   "metadata": {},
   "outputs": [
    {
     "name": "stdout",
     "output_type": "stream",
     "text": [
      "Using the break Statement:\n",
      "0\n",
      "1\n",
      "\n",
      "Using the continue Statement:\n",
      "0\n",
      "1\n",
      "3\n",
      "4\n",
      "5\n"
     ]
    }
   ],
   "source": [
    "# Run this cell with the Run button in the Jupyter toolbar\n",
    "# declare a list\n",
    "my_list = [0, 1, 2, 3, 4, 5]\n",
    "\n",
    "\n",
    "# using the break statement\n",
    "print('Using the break Statement:')\n",
    "for num in my_list:\n",
    "    if num == 2:\n",
    "        break      # once the loop reaches number 2, the loop stops and exits\n",
    "    print(num)\n",
    "\n",
    "    \n",
    "# using the continue statement\n",
    "print('\\nUsing the continue Statement:')\n",
    "for num in my_list:\n",
    "    if num == 2:\n",
    "        continue   # <-- the print(2) will never run since it hits the continue statement first\n",
    "    print(num)"
   ]
  },
  {
   "cell_type": "markdown",
   "metadata": {},
   "source": [
    "<br>\n",
    "<h4 style=\"color: orange;\">The Range Object</h4>\n",
    "<p>\n",
    "    <code>range()</code> is a handy object in writing loops. A range object is used to generate a sequence of numbers between an inclusive minimum and exclusive maximum, and has many applications in writing loops. By default, the minimum value of a range is 0 and it increments by 1, so calling <code>list(range(6))</code> will generate the list of numbers <code>[0, 1, 2, 3, 4, 5]</code>. <br><br>In our examples so far, <code>my_list</code> has been an ordered sequence of numbers from 0 to 5. We can replicate our example loops with <code>range(6)</code> without the need to explicitly declare the list. <br><br><a href=\"https://docs.python.org/3/library/stdtypes.html#ranges\">Read more about ranges in the Python docs.</a>\n",
    "</p>"
   ]
  },
  {
   "cell_type": "code",
   "execution_count": null,
   "metadata": {},
   "outputs": [],
   "source": [
    "# Run this cell with the Run button in the Jupyter toolbar\n",
    "for i in range(6):\n",
    "    print(i)"
   ]
  },
  {
   "cell_type": "markdown",
   "metadata": {},
   "source": [
    "<br>\n",
    "<h4 style=\"color: orange;\">While Loops</h4>\n",
    "<p>\n",
    "    All the <code>for</code> loops we have learned so far can also be written as <code>while</code> loops. In the example below, we declare a variable <code>i</code> and set it equal to 0. This variable is meant to keep track of our list index. We print each item in the list at the \"<code>i</code>\"th position, and then increase <code>i</code> by 1 at the end of each iteration. We should only continue this behavior while <code>i</code> is less than the length of the list, since Python uses zero-based indexing.\n",
    "</p>"
   ]
  },
  {
   "cell_type": "code",
   "execution_count": null,
   "metadata": {},
   "outputs": [],
   "source": [
    "# Run this cell with the Run button in the Jupyter toolbar\n",
    "# declare a list\n",
    "my_list = [0, 1, 2, 3, 4, 5]\n",
    "\n",
    "# index counter\n",
    "i = 0\n",
    "\n",
    "# while loop\n",
    "while i < len(my_list):\n",
    "    print(my_list[i])\n",
    "    i += 1"
   ]
  },
  {
   "cell_type": "markdown",
   "metadata": {},
   "source": [
    "<br>\n",
    "<h4 style=\"color: orange;\">Better Use Cases for While Loops</h4>\n",
    "<p>\n",
    "    The syntax for our first <code>while</code> loop above is messier and more complex than using a <code>for</code> loop. Better use cases for <code>while</code> loops often don't involve a given set of values. It will make more sense to use a <code>while</code> loop when working with less tangible data than a list. The example below declares a variable <code>my_num</code> and sets it equal to 0. We then start counting up until we reach 100. Every time the resulting number is divisible by 7, we print that to the screen. We can't see the number counting up in the background like we can see the items in a list, but that's ok. All that's important is that numbers divisible by 7 are printed to the screen. <code>While</code> loops are better suited to these scenarios than <code>for</code> loops.\n",
    "</p>"
   ]
  },
  {
   "cell_type": "code",
   "execution_count": null,
   "metadata": {},
   "outputs": [],
   "source": [
    "# Run this cell with the Run button in the Jupyter toolbar\n",
    "# declare a variable\n",
    "my_num = 0\n",
    "\n",
    "while my_num <= 100:\n",
    "    if my_num % 7 == 0:\n",
    "        print(my_num)\n",
    "    my_num += 1        # <-- DON'T FORGET THIS LINE! if you do, my_num will never reach 101 and the loop will never stop"
   ]
  },
  {
   "cell_type": "markdown",
   "metadata": {},
   "source": [
    "<br>\n",
    "<h4 style=\"color: orange;\">Nesting Loops</h4>\n",
    "<p>\n",
    "    Loops can be nested inside each other. The syntax can be tricky here, but remember that Python completes the inner loop for every turn of the outer loop. See the example below to see how it works. In total, the <code>print()</code> function is called 9 times in the following code.\n",
    "</p>"
   ]
  },
  {
   "cell_type": "code",
   "execution_count": 85,
   "metadata": {},
   "outputs": [
    {
     "name": "stdout",
     "output_type": "stream",
     "text": [
      "outer_1 inner_1\n",
      "outer_1 inner_2\n",
      "outer_1 inner_3\n",
      "outer_2 inner_1\n",
      "outer_2 inner_2\n",
      "outer_2 inner_3\n",
      "outer_3 inner_1\n",
      "outer_3 inner_2\n",
      "outer_3 inner_3\n"
     ]
    }
   ],
   "source": [
    "# Run this cell with the Run button in the Jupyter toolbar\n",
    "# declare two lists\n",
    "outer_list = ['outer_1', 'outer_2', 'outer_3']\n",
    "inner_list = ['inner_1', 'inner_2', 'inner_3']\n",
    "\n",
    "\n",
    "for o in outer_list:        # <-- start the outer loop\n",
    "    for i in inner_list:    # <-- start the inner loop\n",
    "        print(o, i)         # <-- inner loop code"
   ]
  },
  {
   "cell_type": "markdown",
   "metadata": {},
   "source": [
    "<br>\n",
    "<h4 style=\"color: orange;\">Using Loops to Generate Lists</h4>\n",
    "<p>\n",
    "    In Python, loops provide a shorthand way to create a list. We can surround a simple loop statement in square brackets [ ] to generate a list and store it in a variable. Consider the two pieces of code below that have identical outputs. Oftentimes you will see list declarations written this way, but don't be thrown by the shorthand syntax. Once you gain a little experience declaring lists this way, you can save yourself a lot of code.\n",
    "</p>"
   ]
  },
  {
   "cell_type": "code",
   "execution_count": 87,
   "metadata": {},
   "outputs": [
    {
     "name": "stdout",
     "output_type": "stream",
     "text": [
      "my_list1 = [0, 1, 2, 3, 4, 5]\n",
      "my_list2 = [0, 1, 2, 3, 4, 5]\n"
     ]
    }
   ],
   "source": [
    "# Run this cell with the Run button in the Jupyter toolbar\n",
    "# generate an empty list\n",
    "my_list1 = []\n",
    "for i in range(6):\n",
    "    my_list1.append(i)           # <-- use the append() function to add an item onto the end of a list\n",
    "print(f'my_list1 = {my_list1}')\n",
    "\n",
    "\n",
    "# the code below accomplishes the same task in one line\n",
    "my_list2 = [i for i in range(6)]\n",
    "print(f'my_list2 = {my_list2}')"
   ]
  },
  {
   "cell_type": "markdown",
   "metadata": {},
   "source": [
    "<br>\n",
    "<div style=\"border: 1px dotted orange; padding-left: 10px; padding-bottom: 10px;\">\n",
    "    <h3>&#9998; Try it out</h3>\n",
    "    <p>\n",
    "        Practice <code>for</code> and <code>while</code> loops.\n",
    "        <ol>\n",
    "            <li>Add a new Jupyter code cell below this one</li>\n",
    "            <li>Declare a list variable called <code>fruits</code> and set it equal to <code>['apple', 'banana', 'kiwi', 'strawberry']</code></li>\n",
    "            <li>Use a <code>for</code> loop to iterate over this list and print out the number of letters in the name of each fruit. Hint: <code>len()</code> also works on strings.\n",
    "            <li>Add a conditional <code>if</code> statement to the loop to print only the names of fruits that have an even number of letters (i.e. the code should print 'banana', 'kiwi', and 'strawberry' to the screen, but not 'apple').</li>\n",
    "            <li>Refactor (rewrite) the code to use a <code>while</code> loop that accomplishes the same task. Don't get your code caught in an infinite loop!</li>\n",
    "        </ol>\n",
    "    We've written one possible solution to this problem in a hidden Python cell below. When you're ready to get a peek at an answer, click the <img src=\"../img/Controls/hidden_cell.png\"> below.\n",
    "    </p>\n",
    "</div>"
   ]
  },
  {
   "cell_type": "markdown",
   "metadata": {},
   "source": [
    "<p style=\"color: orange; font-size: 12px;\">&darr; Click below to expand answer</p>"
   ]
  },
  {
   "cell_type": "code",
   "execution_count": null,
   "metadata": {
    "jupyter": {
     "source_hidden": true
    }
   },
   "outputs": [],
   "source": [
    "# Step 2\n",
    "fruits = ['apple', 'banana', 'kiwi', 'strawberry']\n",
    "\n",
    "# Step 3\n",
    "for fruit in fruits:\n",
    "    print(len(fruit))\n",
    "    \n",
    "# Step 4\n",
    "for fruit in fruits:\n",
    "    if len(fruit) % 2 == 0:  # <-- check if the remainder of len(fruit) / 2 is zero\n",
    "        print(fruit)\n",
    "        \n",
    "# Step 5\n",
    "counter = 0\n",
    "while counter < len(fruits):\n",
    "    fruit = fruits[counter]    # <-- set the variable fruit equal to a certain list item\n",
    "    if len(fruit) % 2 == 0:\n",
    "        print(fruit)\n",
    "    counter += 1               # <-- increment the counter by 1 to start the next loop\n",
    "    \n",
    "    \n",
    "    "
   ]
  },
  {
   "cell_type": "markdown",
   "metadata": {},
   "source": [
    "[&uarr; Return to Top](#python-top)"
   ]
  },
  {
   "cell_type": "markdown",
   "metadata": {},
   "source": [
    "---\n",
    "<a id=\"func\"></a>\n",
    "<h1>Functions<br><span style=\"color: orange;\">Reusable Bits of Code</span></h1>"
   ]
  },
  {
   "cell_type": "markdown",
   "metadata": {},
   "source": [
    "Python functions are reusable chunks of code that perform a specific task. If you've been following this notebook in order, you've already used the `print()` and `len()` functions. These functions are built into the Python language, but you can also create your own. Functions are especially useful when you need to store and reuse a process that manipulates data. Define a function by calling the `def` keyword (\"def\" for \"define\") followed by the name of the function, a pair of parentheses ( ), and a colon. \n",
    "\n",
    "Similar to variables, there are a few rules to keep in mind when naming your functions.\n",
    "   - They must start with a letter or underscore. Numbers are allowed, just not at the beginning.\n",
    "   - They can't be the same as a Python keyword (i.e. don't name your function `print` since that already exists)\n",
    "   - Function names can contain only alpha-numeric characters and underscores\n",
    "   \n",
    "It's best practice, but not required, that function names be lowercase, short, and descriptive."
   ]
  },
  {
   "cell_type": "code",
   "execution_count": 92,
   "metadata": {},
   "outputs": [
    {
     "name": "stdout",
     "output_type": "stream",
     "text": [
      "Hello!\n"
     ]
    }
   ],
   "source": [
    "# Run this cell with the Run button in the Jupyter toolbar\n",
    "# declare a function\n",
    "def print_hello():\n",
    "    print('Hello!')\n",
    "    \n",
    "# execute or \"call\" the function\n",
    "print_hello()"
   ]
  },
  {
   "cell_type": "markdown",
   "metadata": {},
   "source": [
    "<br>\n",
    "<h4 style=\"color: orange;\">The Return Keyword</h4>\n",
    "<p>\n",
    "    Functions that print to the screen have limited use. More often, you will want the function to give you a piece of data after it finishes its execution. The <code>return</code> statement will exit the function at the point it's called, \"returning\" something to the developer. The function below doesn't print \"Hello!\" to the screen, but rather returns that string as an object which can be stored as a variable.\n",
    "</p>"
   ]
  },
  {
   "cell_type": "code",
   "execution_count": 93,
   "metadata": {},
   "outputs": [
    {
     "name": "stdout",
     "output_type": "stream",
     "text": [
      "Hello!\n"
     ]
    }
   ],
   "source": [
    "# Run this cell with the Run button in the Jupyter toolbar\n",
    "# this function will return the string \"Hello!\"\n",
    "def say_hello():\n",
    "    return 'Hello!'\n",
    "\n",
    "# call the function and store the result in a variable\n",
    "my_greeting = say_hello()\n",
    "\n",
    "# print the contents of the my_greeting variable\n",
    "print(my_greeting)"
   ]
  },
  {
   "cell_type": "markdown",
   "metadata": {},
   "source": [
    "<br>\n",
    "<h4 style=\"color: orange;\">Arguments</h4>\n",
    "<p>\n",
    "    Some functions will need inputs to carry out a specific task. In order to use the <code>print()</code> function, for example, you need give it an input string between the parentheses to print out to the screen. We call this input string an \"argument.\" Functions can take any number of arguments, including no arguments. Although it's beyond the scope of this notebook, some functions can be written to accept an uncertain number of arguments! <br><br>You can establish your arguments when defining the function by placing variables in the parentheses.\n",
    "</p>"
   ]
  },
  {
   "cell_type": "code",
   "execution_count": 94,
   "metadata": {},
   "outputs": [
    {
     "name": "stdout",
     "output_type": "stream",
     "text": [
      "2.0\n"
     ]
    }
   ],
   "source": [
    "# Run this cell with the Run button in the Jupyter toolbar\n",
    "# declare a function with one argument\n",
    "def divide_by_two(x):\n",
    "    return x / 2\n",
    "\n",
    "# use the function on the variable my_num\n",
    "my_num = 4\n",
    "half_my_num = divide_by_two(my_num)\n",
    "\n",
    "print(half_my_num)"
   ]
  },
  {
   "cell_type": "markdown",
   "metadata": {},
   "source": [
    "<br>\n",
    "<h4 style=\"color: orange;\">Non-numerical Arguments</h4>\n",
    "<p>\n",
    "    Function arguments can be any data type, not just numbers. The function below, for example, takes a dictionary as an argument and prints out the dictionary keys.\n",
    "</p>"
   ]
  },
  {
   "cell_type": "code",
   "execution_count": 95,
   "metadata": {},
   "outputs": [
    {
     "name": "stdout",
     "output_type": "stream",
     "text": [
      "key1\n",
      "key2\n",
      "key3\n"
     ]
    }
   ],
   "source": [
    "# Run this cell with the Run button in the Jupyter toolbar\n",
    "# declare function\n",
    "def print_keys(input_dict):\n",
    "    for key in input_dict.keys():\n",
    "        print(key)\n",
    "    \n",
    "# declare my_dict as a dictionary variable\n",
    "my_dict = {'key1': 1, \n",
    "           'key2': 2,\n",
    "           'key3': 3}\n",
    "\n",
    "# call the function\n",
    "print_keys(my_dict)"
   ]
  },
  {
   "cell_type": "markdown",
   "metadata": {},
   "source": [
    "<br>\n",
    "<h4 style=\"color: orange;\">Multiple Arguments</h4>\n",
    "<p>\n",
    "    Functions can accept multiple arguments. Separate your argument variables with a comma when declaring the function. The example function below will accept two numbers and return the difference.\n",
    "</p>"
   ]
  },
  {
   "cell_type": "code",
   "execution_count": 96,
   "metadata": {},
   "outputs": [
    {
     "data": {
      "text/plain": [
       "3.5"
      ]
     },
     "execution_count": 96,
     "metadata": {},
     "output_type": "execute_result"
    }
   ],
   "source": [
    "# Run this cell with the Run button in the Jupyter toolbar\n",
    "# declare function\n",
    "def subtract_these(x, y):\n",
    "    return x - y\n",
    "\n",
    "# call the function\n",
    "# if your function call is the last line of your Jupyter cell, you don't need the print() function to display the output\n",
    "subtract_these(10.5, 7)"
   ]
  },
  {
   "cell_type": "markdown",
   "metadata": {},
   "source": [
    "<br>\n",
    "<h4 style=\"color: orange;\">Keyword Arguments</h4>\n",
    "<p>\n",
    "    You can also pass arguments to a function using the syntax <code>key = value</code>. This will allow you to ignore the order in which the arguments are declared in the function. The example below uses the same <code>subtract_these</code> function as above, but notice how the function is called in the last line of the cell. The result is the same number <code>3.5</code> even though the arguments were passed in reverse order.\n",
    "</p>"
   ]
  },
  {
   "cell_type": "code",
   "execution_count": 97,
   "metadata": {},
   "outputs": [
    {
     "data": {
      "text/plain": [
       "3.5"
      ]
     },
     "execution_count": 97,
     "metadata": {},
     "output_type": "execute_result"
    }
   ],
   "source": [
    "# Run this cell with the Run button in the Jupyter toolbar\n",
    "# declare function\n",
    "def subtract_these(x, y):\n",
    "    return x - y\n",
    "\n",
    "# call the function with keywords\n",
    "subtract_these(y=7, x=10.5)"
   ]
  },
  {
   "cell_type": "markdown",
   "metadata": {},
   "source": [
    "<br>\n",
    "<h4 style=\"color: orange;\">Default Argument Values</h4>\n",
    "<p>\n",
    "    When declaring a function, use the <code>=</code> operator to set a default value. The example below uses the same <code>subtract_these</code> function, but specifies that <code>7</code> is the default <code>y</code> value. When the function is called, we can just pass the <code>x</code> keyword argument to return the same <code>3.5</code> output as before.<br><br>Try overriding the default <code>y</code> value by passing a keyword argument such as <code>subtract_these(x=10.5, y=5)</code>.\n",
    "</p>"
   ]
  },
  {
   "cell_type": "code",
   "execution_count": 98,
   "metadata": {},
   "outputs": [
    {
     "data": {
      "text/plain": [
       "3.5"
      ]
     },
     "execution_count": 98,
     "metadata": {},
     "output_type": "execute_result"
    }
   ],
   "source": [
    "# Run this cell with the Run button in the Jupyter toolbar\n",
    "# declare function with a default value\n",
    "def subtract_these(x, y=7):\n",
    "    return x - y\n",
    "\n",
    "# call the function just keyword x\n",
    "# the function will default to y=7 since no other value was given\n",
    "subtract_these(x=10.5)"
   ]
  },
  {
   "cell_type": "markdown",
   "metadata": {},
   "source": [
    "<br>\n",
    "<div style=\"border: 1px dotted orange; padding-left: 10px; padding-bottom: 10px;\">\n",
    "    <h3>&#9998; Try it out</h3>\n",
    "    <p>\n",
    "        Practice writing functions.\n",
    "        <ol>\n",
    "            <li>Add a new Jupyter code cell below this one</li>\n",
    "            <li>Define a function named <code>print_my_name</code> that takes no arguments. In the body of the function, write one line of code that prints your name out to the screen when the function is executed. Call the function and run the cell to make sure it's working properly.</li>\n",
    "            <li>Define a second function named <code>get_factors</code> that accepts one integer as an argument. This function should return a list of integers into which the passed argument can be evenly divided. For example, if the passed argument is <code>10</code> the function should return <code>[1, 2, 5, 10]</code>. Hint: use the other Python tools you have learned so far including loops, conditionals, and the <code>%</code> operator. If you get stuck, open up your favorite Internet browser and search for how other developers have tackled this problem.</li>\n",
    "            <li>For an extra challenge, define a third function called <code>get_primes</code> that accepts one list as an argument. This function should return a new list that only includes prime numbers from the input list. For example: if the function is passed <code>[10, 2, 7, 9]</code> it should return the list <code>[2, 7]</code>. Hint: use a loop and the <code>get_factors</code> function you just wrote inside this function to save some work. Each prime number will have just 2 factors: the number itself and 1.</li>\n",
    "        </ol>\n",
    "    </p>\n",
    "    <br>\n",
    "    <p>&#9888; This is the most challenging \"Try it out\" section of this notebook. This exercise will test not only your Python knowledge, but your creative problem-solving skills as well. You'll need every tool we've discussed in this notebook so far. Don't be discouraged if you get stuck! Use resources online including the <a href=\"https://docs.python.org/3/tutorial/controlflow.html#defining-functions\">Python docs on functions</a>, <a href=\"https://www.google.com\">Google</a>, and <a href=\"https://stackoverflow.com/questions/tagged/python\">Stack Overflow</a> to help answer questions you have. The best software developers don't know everything, but they know how to get themselves unstuck!<br>We've written one possible solution to this problem in a hidden Python cell below. When you're ready to get a peek at an answer, click the <img src=\"../img/Controls/hidden_cell.png\"> below.</p>\n",
    "</div>"
   ]
  },
  {
   "cell_type": "markdown",
   "metadata": {},
   "source": [
    "<p style=\"color: orange; font-size: 12px;\">&darr; Click below to expand answer</p>"
   ]
  },
  {
   "cell_type": "code",
   "execution_count": null,
   "metadata": {
    "jupyter": {
     "source_hidden": true
    }
   },
   "outputs": [],
   "source": [
    "# printing name function\n",
    "def print_my_name():\n",
    "    print('Bloomberg BQuant!')\n",
    "    \n",
    "# get all factors of an integer\n",
    "def get_factors(input_int):\n",
    "    factors_list = []                    # <-- declare an empty list to which we will add numbers\n",
    "    for i in range(1, input_int + 1):    # <-- start a loop iterating over the numbers from 1 to input_int; range() is exclusive of the final number, so we add 1 to include input_int\n",
    "        if input_int % i == 0:\n",
    "            factors_list.append(i)       # <-- if the remainder of input_int / i equals 0, then add i to the factors_list\n",
    "    return factors_list\n",
    "\n",
    "# extract all prime numbers from a list\n",
    "def get_primes(input_list):\n",
    "    return [i for i in input_list if get_factors(i) == [1, i]]\n",
    "\n",
    "# run the functions\n",
    "print_my_name()\n",
    "input_list = [10, 2, 7, 9]\n",
    "get_primes(input_list)"
   ]
  },
  {
   "cell_type": "markdown",
   "metadata": {},
   "source": [
    "[&uarr; Return to Top](#python-top)"
   ]
  },
  {
   "cell_type": "markdown",
   "metadata": {},
   "source": [
    "---\n",
    "<a id=\"comments\"></a>\n",
    "<h1>Code Comments<br><span style=\"color: orange;\">Document Your Code</span></h1>"
   ]
  },
  {
   "cell_type": "markdown",
   "metadata": {},
   "source": [
    "Throughout the Python code cells in this notebook, you may have noticed that some lines begin with a `#` symbol and appear grayed out. These are known as \"comment lines\" in Python. The hashtag symbol `#` tells Python to ignore anything in the same line appearing after that symbol. The text following a `#` is only for humans, not computers.\n",
    "\n",
    "Developers use these comment lines to help themselves and others understand how their code works. Since they are ignored in execution, comments are not required to have your code run successfully, but they are extremely important nonetheless. If another developer needs to work on your code, or if you leave your project and return to it sometime later, you'll be glad you invested the time to write meaningful comments. Since we are working in Jupyter Notebooks, you can also use Markdown cells to describe your project. Use a thoughtful combination of Markdown cells and Python code comments to document how your project works.\n",
    "\n",
    "Comment lines can also come in handy in \"debugging\" (fixing errors in) your code. You can highlight multiple lines of code and use the `Ctrl + /` keyboard combination to turn those lines into comments. Now when you run the cell, these lines will be ignored. Highlight the lines again and use the same key combination to un-comment the lines."
   ]
  },
  {
   "cell_type": "markdown",
   "metadata": {},
   "source": [
    "<br>\n",
    "<div style=\"border: 1px dotted orange; padding-left: 10px; padding-bottom: 10px;\">\n",
    "    <h3>&#9998; Try it out</h3>\n",
    "    <p>\n",
    "        Practice writing code comments\n",
    "        <ol>\n",
    "            <li>Add a new Jupyter code cell below this one</li>\n",
    "            <li>Insert a Python <code>print()</code> function that prints a string of your choosing.</li>\n",
    "            <li>Leave a comment about what this line does by typing <code># the line below will print a string</code> in the line above your print function.</li>\n",
    "            <li>Run the cell to see the output of the print function</li>\n",
    "            <li>Highlight all the lines of the code cell and press <code>Ctrl + /</code>. This will \"comment out\" all the lines of code.</li>\n",
    "            <li>Run the cell again and notice that the print function is ignored.</li>\n",
    "            <li>Un-comment the lines by highlighting everything and using the same <code>Ctrl + /</code> key combination. Run the cell again so the print function executes as normal.</li>\n",
    "        </ol>\n",
    "    We've written one possible solution to this problem in a hidden Python cell below. When you're ready to get a peek at an answer, click the <img src=\"../img/Controls/hidden_cell.png\"> below.\n",
    "    </p>\n",
    "</div>"
   ]
  },
  {
   "cell_type": "markdown",
   "metadata": {},
   "source": [
    "<p style=\"color: orange; font-size: 12px;\">&darr; Click below to expand answer</p>"
   ]
  },
  {
   "cell_type": "code",
   "execution_count": null,
   "metadata": {
    "jupyter": {
     "source_hidden": true
    }
   },
   "outputs": [],
   "source": [
    "# Step 2 & 3\n",
    "# the line below will print a string\n",
    "print('My String')\n",
    "\n",
    "# Step 3 & 4\n",
    "# print('My String Commented Out')"
   ]
  },
  {
   "cell_type": "markdown",
   "metadata": {},
   "source": [
    "[&uarr; Return to Top](#python-top)"
   ]
  },
  {
   "cell_type": "markdown",
   "metadata": {},
   "source": [
    "----\n",
    "<p style=\"text-align:center;\">\n",
    "    Click on the links below to continue learning.<br>\n",
    "    <a href=\"1 Intro to BQuant.ipynb\">&larr; Back to Intro to BQuant</a>&emsp;&emsp;\n",
    "    <a href=\"#python-top\">&uarr; Return to Top</a>&emsp;&emsp;\n",
    "    <a href=\"3 BQL Basics.ipynb\">Continue to Boot Camp: BQL Basics &rarr;</a>\n",
    "    <br>\n",
    "    <br>\n",
    "    <a href=\"../Welcome.ipynb#welcome-top\" style=\"font-size: 12px;\">Return to the Welcome Page</a>\n",
    "</p>"
   ]
  },
  {
   "cell_type": "code",
   "execution_count": null,
   "metadata": {},
   "outputs": [],
   "source": []
  }
 ],
 "metadata": {
  "kernelspec": {
   "display_name": "Python 3 (sandboxed)",
   "language": "python",
   "name": "python3"
  },
  "language_info": {
   "codemirror_mode": {
    "name": "ipython",
    "version": 3
   },
   "file_extension": ".py",
   "mimetype": "text/x-python",
   "name": "python",
   "nbconvert_exporter": "python",
   "pygments_lexer": "ipython3",
   "version": "3.7.1"
  }
 },
 "nbformat": 4,
 "nbformat_minor": 4
}
