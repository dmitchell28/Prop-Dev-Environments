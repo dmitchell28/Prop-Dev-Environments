{
 "cells": [
  {
   "cell_type": "markdown",
   "metadata": {},
   "source": [
    "# Bloomberg BQuant Spotlight Webinar Series:  The Global Equity Rally - A China Case Study On Market Breadth \n",
    "This is a companion notebook to the [Global Equity Rally - A China Case Study On Market Breadth](https://blinks.bloomberg.com/screens/PLYR%20VOD%20336538940) webinar."
   ]
  },
  {
   "cell_type": "markdown",
   "metadata": {},
   "source": [
    "### Part 0: Import libraries"
   ]
  },
  {
   "cell_type": "code",
   "execution_count": null,
   "metadata": {},
   "outputs": [],
   "source": [
    "import bql\n",
    "\n",
    "import numpy as np\n",
    "import pandas as pd\n",
    "\n",
    "from IPython.display import display\n",
    "import bqviz as bqv\n",
    "from bqplot import (\n",
    "    DateScale, LinearScale, Lines, Axis, Figure, \n",
    ")"
   ]
  },
  {
   "cell_type": "code",
   "execution_count": null,
   "metadata": {},
   "outputs": [],
   "source": [
    "bq = bql.Service()"
   ]
  },
  {
   "cell_type": "markdown",
   "metadata": {},
   "source": [
    "### Part 1: Setup Market Breadth Study"
   ]
  },
  {
   "cell_type": "code",
   "execution_count": null,
   "metadata": {},
   "outputs": [],
   "source": [
    "# visualize the index level\n",
    "\n",
    "start='2018-12-03'\n",
    "end='2019-03-29'\n",
    "universe = 'szcomp index'\n",
    "\n",
    "\n",
    "request = bql.Request(universe,{universe:bq.data.px_last(start,end,fill=\"prev\")})\n",
    "response = bq.execute(request)\n",
    "index_df = response[0].df()\n",
    "index_df.set_index(['DATE'],inplace=True)\n",
    "index_df.drop(['CURRENCY'],axis=1,inplace=True)\n",
    "bqv.LinePlot(index_df).set_style().show()"
   ]
  },
  {
   "cell_type": "code",
   "execution_count": null,
   "metadata": {},
   "outputs": [],
   "source": [
    "start='2018-12-03'\n",
    "end='2019-03-29'\n",
    "universe = 'szcomp index'\n",
    "\n",
    "\n",
    "securities = bq.univ.members(universe)\n",
    "date_range = {'dates' : bq.func.range(start,end)}   \n",
    "\n",
    "# define market breadth as stocks hitting 20 days high and low\n",
    "days = 20\n",
    "\n",
    "px_last = bq.data.px_last(**date_range)\n",
    "max_min = bq.data.maxmin(px_last,px_last,period=days)\n",
    "max_ratio = max_min['maxline']/px_last\n",
    "min_ratio = max_min['minline']/px_last      \n",
    "hitting_high = (bq.func.if_(max_ratio==1,1,0)).group([px_last['date']]).sum()\n",
    "hitting_low = (bq.func.if_(min_ratio==1,-1,0)).group([px_last['date']]).sum()\n",
    "\n",
    "\n",
    "request = bql.Request(securities,{'hitting_high':hitting_high,'hitting_low':hitting_low})\n",
    "response = bq.execute(request)"
   ]
  },
  {
   "cell_type": "code",
   "execution_count": null,
   "metadata": {},
   "outputs": [],
   "source": [
    "len(response)"
   ]
  },
  {
   "cell_type": "code",
   "execution_count": null,
   "metadata": {},
   "outputs": [],
   "source": [
    "df = bql.combined_df(response)\n",
    "df.head()"
   ]
  },
  {
   "cell_type": "code",
   "execution_count": null,
   "metadata": {},
   "outputs": [],
   "source": [
    "df.index = df.iloc[:,1]\n",
    "daily_breadth_df = df.iloc[:,-2:]\n",
    "bqv.BarPlot(daily_breadth_df,bar_type='stacked',title='Dailly No.of Stocks Hitting Highs and Lows').set_style().show()"
   ]
  },
  {
   "cell_type": "markdown",
   "metadata": {},
   "source": [
    "### Part 2: Setup Model Portfolio"
   ]
  },
  {
   "cell_type": "code",
   "execution_count": null,
   "metadata": {},
   "outputs": [],
   "source": [
    "def factor_lib(date_range,style):\n",
    "\n",
    "#define style factors\n",
    "#params should include dates=range() for most of factors to work\n",
    "#output a list of data items based on requsted factor\n",
    "\n",
    "    params = dict({'fill':'prev'},**date_range)\n",
    "    \n",
    "    params_cny = dict({'currency':'CNY'},**params)\n",
    "    \n",
    "    \n",
    "    # define style/factors\n",
    "    factor_dict = {      \n",
    "        \n",
    "        'growth':[bq.data.sales_growth(**params), \n",
    "                  bq.data.eps_growth(**params) \n",
    "                 ],\n",
    "        \n",
    "        'quality':[bq.data.operating_roic(**params),\n",
    "                   bq.data.return_com_eqy(**params)\n",
    "                  ],\n",
    "        \n",
    "        'size':[-bq.data.cur_mkt_cap(**params_cny),\n",
    "                -bq.data.sales_rev_turn(**params_cny)\n",
    "                ]                        \n",
    "    }\n",
    "    return factor_dict[style]\n",
    "\n",
    "    \n",
    "def factor_zscore(factor_list):\n",
    "    \n",
    "#convrt factor to zscore for scoring/cutting\n",
    "\n",
    "    zscore_list = [bq.func.groupzscore(bq.func.first(factor.dropna())) for factor in factor_list]\n",
    "    return sum(zscore_list)"
   ]
  },
  {
   "cell_type": "code",
   "execution_count": null,
   "metadata": {},
   "outputs": [],
   "source": [
    "# output bql.request for quantitle 1 stocks based on size factor\n",
    "\n",
    "start='2018-12-03'\n",
    "end='2019-03-31'\n",
    "universe = 'szcomp index'\n",
    "style = 'growth'\n",
    "\n",
    "securities = bq.univ.members(universe)\n",
    "date_range = {'dates' : bq.func.range(start,end)}   \n",
    "zscore = factor_zscore(factor_lib(date_range,style))\n",
    "bins = bq.func.cut(zscore.group(),5).ungroup()\n",
    "\n",
    "filtered = bq.univ.filter(securities,bins==1)\n",
    "output = bq.data.name()\n",
    "\n",
    "request = bql.Request(filtered,{'Output':output})\n",
    "response = bq.execute(request)"
   ]
  },
  {
   "cell_type": "code",
   "execution_count": null,
   "metadata": {},
   "outputs": [],
   "source": [
    "df = response[0].df()\n",
    "len(df)"
   ]
  },
  {
   "cell_type": "code",
   "execution_count": null,
   "metadata": {},
   "outputs": [],
   "source": [
    "df.head()"
   ]
  },
  {
   "cell_type": "markdown",
   "metadata": {},
   "source": [
    "### Part 3: Work on 3 factors"
   ]
  },
  {
   "cell_type": "code",
   "execution_count": null,
   "metadata": {},
   "outputs": [],
   "source": [
    "def market_breadth_request(universe,start,end,style):\n",
    "    \n",
    "# output bql.request for market breadth based on universe, start/end date, factor style and market breadth method\n",
    "    \n",
    "    securities = bq.univ.members(universe,dates=start)\n",
    "    \n",
    "    date_range = {'dates' : bq.func.range(start,end)}   \n",
    "    zscore = factor_zscore(factor_lib(date_range,style))\n",
    "    bins = bq.func.cut(zscore.group(),5).ungroup()\n",
    "    filtered = bq.univ.filter(securities,bins==1)\n",
    "    \n",
    "    days = 20\n",
    "\n",
    "    px_last = bq.data.px_last(**date_range)\n",
    "    max_min = bq.data.maxmin(px_last,px_last,period=days)\n",
    "    max_ratio = max_min['maxline']/px_last\n",
    "    min_ratio = max_min['minline']/px_last      \n",
    "    hitting_high = (bq.func.if_(max_ratio==1,1,0)).group([px_last['date']]).sum()\n",
    "    hitting_low = (bq.func.if_(min_ratio==1,-1,0)).group([px_last['date']]).sum()\n",
    "    net_high = hitting_high + hitting_low\n",
    "       \n",
    "    return bql.Request(filtered,{'Output':net_high})"
   ]
  },
  {
   "cell_type": "code",
   "execution_count": null,
   "metadata": {},
   "outputs": [],
   "source": [
    "style_list = ['growth','quality','size']\n",
    "response_dict = {}\n",
    "start = '2018-12-03'\n",
    "end = '2019-03-29'\n",
    "universe = 'szcomp index'\n",
    "for style in style_list:\n",
    "    request = market_breadth_request(universe,start,end,style)\n",
    "    print('request market breadth for {}...'.format(style))\n",
    "    response_dict[style] = bq.execute(request)\n",
    "print('all requests returned')"
   ]
  },
  {
   "cell_type": "code",
   "execution_count": null,
   "metadata": {},
   "outputs": [],
   "source": [
    "df_list = []\n",
    "\n",
    "for style,response in response_dict.items():\n",
    "    df = response[0].df()\n",
    "    df.rename(columns={'Output':style},inplace=True)\n",
    "    df = pd.DataFrame(df[style])\n",
    "    df_list.append(df)\n",
    "    \n",
    "display_df = pd.concat(df_list,axis=1)\n",
    "display_df.index = pd.to_datetime(display_df.index,format='%Y-%m-%dT%H-%M-%SZ')"
   ]
  },
  {
   "cell_type": "code",
   "execution_count": null,
   "metadata": {},
   "outputs": [],
   "source": [
    "display_df.head()"
   ]
  },
  {
   "cell_type": "markdown",
   "metadata": {},
   "source": [
    "### part 4: Visualization"
   ]
  },
  {
   "cell_type": "code",
   "execution_count": null,
   "metadata": {},
   "outputs": [],
   "source": [
    "x_date = DateScale()\n",
    "y_ls = LinearScale()\n",
    "y2_ls = LinearScale()\n",
    "\n",
    "\n",
    "\n",
    "styles = Lines(x=display_df.index, y=np.array(display_df.cumsum()).T, \n",
    "               scales={'x': x_date, 'y':y_ls}, \n",
    "               line_style='solid',display_legend=True,labels=list(display_df.columns))\n",
    "\n",
    "index_lvl = Lines(x=index_df.index, y=index_df, \n",
    "             scales={'x': x_date, 'y': y2_ls},\n",
    "             stroke_width=3, colors=['white'], line_style='dashed',\n",
    "             display_legend=True, labels=list(index_df.columns))\n",
    "\n",
    "ax_x = Axis(scale=x_date, label='Date',visible=True)\n",
    "\n",
    "# primary y axis\n",
    "ax_y = Axis(scale=y_ls, orientation='vertical',\n",
    "            grid_lines='none', label='cumulative No. Highs - No. Lows',tick_style={'font-size': 9})\n",
    "\n",
    "# secondary y axis\n",
    "ax_y2 = Axis(scale=y2_ls, orientation='vertical', tick_format='0.1f',\n",
    "             label='Index Level',side='right',tick_style={'font-size': 9})\n",
    "\n",
    "fig = Figure(marks=[styles, index_lvl], axes=[ax_x, ax_y,ax_y2], title='Market Breadth: {}'.format(universe),\n",
    "       legend_location='top-left', layout={'width':'1000px','height':'600px'})\n",
    "\n",
    "\n",
    "display(fig)"
   ]
  }
 ],
 "metadata": {
  "kernelspec": {
   "display_name": "Python 3 (sandboxed)",
   "language": "python",
   "name": "python3"
  },
  "language_info": {
   "codemirror_mode": {
    "name": "ipython",
    "version": 3
   },
   "file_extension": ".py",
   "mimetype": "text/x-python",
   "name": "python",
   "nbconvert_exporter": "python",
   "pygments_lexer": "ipython3",
   "version": "3.5.5"
  }
 },
 "nbformat": 4,
 "nbformat_minor": 4
}
