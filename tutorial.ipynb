{
 "cells": [
  {
   "cell_type": "markdown",
   "metadata": {
    "jupyter": {
     "outputs_hidden": true
    }
   },
   "source": [
    "# App Building Tutorial\n",
    "\n",
    "<a href = \"#interactivity-and-callbacks\">1. Interactivity and callbacks</a><br>\n",
    "&nbsp;&nbsp;&nbsp;&nbsp;<a href = \"#callbacks\">1.1. Callbacks</a><br>\n",
    "&nbsp;&nbsp;&nbsp;&nbsp;<a href = \"#callbacks-widgets\">1.2. Widgets</a><br>\n",
    "&nbsp;&nbsp;&nbsp;&nbsp;<a href = \"#callbacks-plots\">1.3. Plots</a><br>\n",
    "<a href = \"#layout-templates\">2. Layout templates</a><br>\n",
    "&nbsp;&nbsp;&nbsp;&nbsp;<a href = \"#app-layout\">2.1. App layout</a><br>"
   ]
  },
  {
   "cell_type": "code",
   "execution_count": 2,
   "metadata": {},
   "outputs": [],
   "source": [
    "import bqplot as bqp\n",
    "from ipywidgets import AppLayout, Button, HBox, Image, IntSlider, Label, Layout, VBox\n",
    "import numpy as np"
   ]
  },
  {
   "cell_type": "markdown",
   "metadata": {},
   "source": [
    "# 1. Interactivity and callbacks<a name=\"interactivity-and-callbacks\"></a>\n",
    "\n",
    "In this section we're going to learn about callbacks and how BQuant uses them to make our applications interactive.\n",
    "\n",
    "## 1.1. Callbacks<a name=\"callbacks\"></a>\n",
    "\n",
    "Before we understand exactly how we can use widgets and plots to make our applications interactive, we first need to learn about callbacks.\n",
    "\n",
    "### What is a callback?\n",
    "\n",
    "A callback is a piece of code we pass to other code to be executed at a given time. Just like we control a function's output by passing it different variables, we can also alter the function's behavior by passing it other functions.\n",
    "\n",
    "In the example below, the `count_to_five` function accepts another arbitrary function, i.e. a callback. After `count_to_five` has printed the integers up to 5, it executes the callback.\n",
    "\n",
    "In this case, `count_to_five` executes `example_callback` which just prints some text to the screen. However, we could instead pass any other arbitrary function. Callbacks therefore allow us to inject custom logic inside another function."
   ]
  },
  {
   "cell_type": "code",
   "execution_count": 3,
   "metadata": {},
   "outputs": [
    {
     "name": "stdout",
     "output_type": "stream",
     "text": [
      "1\n",
      "2\n",
      "3\n",
      "4\n",
      "5\n",
      "Callback triggered!\n"
     ]
    }
   ],
   "source": [
    "def count_to_five(func):\n",
    "    for i in range(1, 6):\n",
    "          print(i)\n",
    "    # Execute the passed function by appending `()` to it\n",
    "    func()\n",
    "\n",
    "def example_callback():\n",
    "    print('Callback triggered!')\n",
    "\n",
    "count_to_five(example_callback)"
   ]
  },
  {
   "cell_type": "markdown",
   "metadata": {},
   "source": [
    "## 1.2. Widgets<a name=\"callbacks-widgets\"></a>\n",
    "\n",
    "The various widgets in the `ipywidgets` library are the building blocks we use to create user interfaces for BQuant applications. \n",
    "\n",
    "### Widget callbacks and the `observe` method\n",
    "\n",
    "BQuant helps us create dynamic applications by giving us the ability to bind a callback to a widget's property update. A widget's property is the main type of data it stores. For example, a slider with a value of 4 has a property of 4. A property update happens when that value is changed to something else, say 5. By binding the callback to that update, we can trigger some code every time a user interacts with a widget.\n",
    "\n",
    "We can attach callbacks to widget property updates using the `observe` method. `observe` accepts a `handler`, i.e. the callback function, and a `names` keyword argument. `names` specifies which widget property we want to attach the callback to. In most cases we're interested in the `.value` attribute of the widget (what we referred to as the property of the widget above) so we can typically set `names='value'`.\n",
    "\n",
    "Widget callbacks are automatically passed an argument, `change` in the example below, every time they are triggered. This is usually the state of the widget. It's important that you catch this argument by specifying an argument in your callback definition else the callback will fail!\n",
    "\n",
    "Let's display the `change` object in a label to see what it is. Try moving the slider and see how the value of `change` responds."
   ]
  },
  {
   "cell_type": "code",
   "execution_count": 15,
   "metadata": {},
   "outputs": [
    {
     "data": {
      "application/vnd.jupyter.widget-view+json": {
       "model_id": "895270c7f5544785846e8ebeb76c8e54",
       "version_major": 2,
       "version_minor": 0
      },
      "text/plain": [
       "HBox(children=(IntSlider(value=0), Label(value='')))"
      ]
     },
     "metadata": {},
     "output_type": "display_data"
    }
   ],
   "source": [
    "slider = IntSlider()\n",
    "slider_label = Label('')\n",
    "\n",
    "def slider_callback(change):\n",
    "    # Make sure to catch the default argument passed to the callback!\n",
    "    slider_label.value = 'Widget state: ' + str(change)\n",
    "\n",
    "slider.observe(slider_callback, names='value')\n",
    "HBox([slider, slider_label])"
   ]
  },
  {
   "cell_type": "markdown",
   "metadata": {},
   "source": [
    "It looks like `change` is a dictionary. This state dictionary tells us information about the property update that triggered the callback:\n",
    "* The widget `'owner'` associated with the callback,\n",
    "* The `'type'` of notification that triggered the callback,\n",
    "* The `'name'` of the widget property,\n",
    "* The previous property value of the widget, `'old'`,\n",
    "* And the updated property value, `'new'`.\n",
    "\n",
    "We can use the values in this dictionary to specify logic in our callback. One possibility would be to use the new value of the slider to specify a threshold for fetching some data.\n",
    "\n",
    "It's important to reiterate that the above callback is arbitrary. We can specify any logic we want to inside a callback and then bind it to a widget property update."
   ]
  },
  {
   "cell_type": "markdown",
   "metadata": {},
   "source": [
    "### Buttons and the `on_click` method"
   ]
  },
  {
   "cell_type": "markdown",
   "metadata": {},
   "source": [
    "A button doesn't store any state; it's only job is to handle mouse clicks. It therefore has a special `on_click` method that accepts a callback."
   ]
  },
  {
   "cell_type": "code",
   "execution_count": 5,
   "metadata": {},
   "outputs": [
    {
     "data": {
      "application/vnd.jupyter.widget-view+json": {
       "model_id": "4c21d1a219474cabafedf9dc83cdd498",
       "version_major": 2,
       "version_minor": 0
      },
      "text/plain": [
       "HBox(children=(Button(description='Click me!', style=ButtonStyle()), Label(value='')))"
      ]
     },
     "metadata": {},
     "output_type": "display_data"
    }
   ],
   "source": [
    "button = Button(description='Click me!')\n",
    "button_label = Label('')\n",
    "\n",
    "def on_click_callback(b):\n",
    "    # The method gets passed the button itself as its only argument.\n",
    "    button_label.value = str(b)\n",
    "    \n",
    "button.on_click(on_click_callback)\n",
    "HBox([button, button_label])"
   ]
  },
  {
   "cell_type": "markdown",
   "metadata": {},
   "source": [
    "### Callback errors\n",
    "\n",
    "One of the most common widget gotchas has to do with errors inside callbacks.\n",
    "\n",
    "In the code below, we are purposefully raising a `ValueError` inside a callback that we're then binding to a button.\n",
    "\n",
    "What do you think will happen when you click the button? Try clicking it to find out."
   ]
  },
  {
   "cell_type": "code",
   "execution_count": 6,
   "metadata": {},
   "outputs": [
    {
     "data": {
      "application/vnd.jupyter.widget-view+json": {
       "model_id": "ed5b15f21bc24719a2cf3aa5ee8da85a",
       "version_major": 2,
       "version_minor": 0
      },
      "text/plain": [
       "Button(description='Click me if you dare...', style=ButtonStyle())"
      ]
     },
     "metadata": {},
     "output_type": "display_data"
    }
   ],
   "source": [
    "broken_button = Button(description='Click me if you dare...')\n",
    "\n",
    "def broken_callback(b):\n",
    "    raise ValueError\n",
    "\n",
    "# This should raise an error when we click the button\n",
    "broken_button.on_click(broken_callback)\n",
    "broken_button"
   ]
  },
  {
   "cell_type": "markdown",
   "metadata": {},
   "source": [
    "Nothing happened! You might have expected that you'd see an error message below the cell when you clicked the button.\n",
    "\n",
    "The error message is being captured, just not here. If you open up the log console you'll see the error messages.\n",
    "\n",
    "Watch the following gif for details on how to access to the console:"
   ]
  },
  {
   "cell_type": "code",
   "execution_count": 7,
   "metadata": {},
   "outputs": [
    {
     "data": {
      "application/vnd.jupyter.widget-view+json": {
       "model_id": "529b824e08f8480fada8ec72c9769bca",
       "version_major": 2,
       "version_minor": 0
      },
      "text/plain": [
       "Image(value=b'GIF89a\\xbd\\x03`\\x02w\\x00\\x00!\\xff\\x0bNETSCAPE2.0\\x03\\x01\\x00\\x00\\x00!\\xf9\\x04\\x00\\x0f\\x00\\x00\\x0…"
      ]
     },
     "metadata": {},
     "output_type": "display_data"
    }
   ],
   "source": [
    "file = open('img/log_console.gif', 'rb')\n",
    "image = file.read()\n",
    "file.close()\n",
    "Image(value=image, width=800)"
   ]
  },
  {
   "cell_type": "markdown",
   "metadata": {},
   "source": [
    "Visit the [official ipywidgets documentation](https://ipywidgets.readthedocs.io/en/latest/) website for more details."
   ]
  },
  {
   "cell_type": "markdown",
   "metadata": {},
   "source": [
    "## 1.3. Plots<a name=\"callbacks-plots\"></a>\n",
    "\n",
    "BQuant also lets us attach callbacks to `bqplot` plots. More specifically, we can bind callbacks to marks. The official `bqplot` documentation page describes marks as &ldquo;representations of the data&rdquo;&mdash;think clicking on a line in a lineplot or a point in a scatterplot.\n",
    "\n",
    "Marks in `bqplot` have a selection of different functions for binding callbacks to specific actions. These are the equivalent of the `observe` method we used for widgets above:\n",
    "* `on_hover`: Trigger callback whenever we hover over the mark.\n",
    "* `on_background_click`: Trigger callback whenever we click on the background of the mark.\n",
    "* `on_legend_click`: Trigger callback whenever we click on the mark's legend.\n",
    "* `on_element_click`: Trigger callback whenever we click on a mark element.\n",
    "\n",
    "In the example below, let's bind a simple print callback to all these different methods to see what get's passed to them."
   ]
  },
  {
   "cell_type": "code",
   "execution_count": 8,
   "metadata": {},
   "outputs": [
    {
     "data": {
      "application/vnd.jupyter.widget-view+json": {
       "model_id": "5cef173734da44408f737b69cd542849",
       "version_major": 2,
       "version_minor": 0
      },
      "text/plain": [
       "VBox(children=(Figure(axes=[Axis(scale=LinearScale()), Axis(orientation='vertical', scale=LinearScale(), tick_…"
      ]
     },
     "metadata": {},
     "output_type": "display_data"
    }
   ],
   "source": [
    "x_data = np.arange(20)\n",
    "y_data = np.random.randn(20)\n",
    "\n",
    "x_scale = bqp.LinearScale()\n",
    "y_scale = bqp.LinearScale()\n",
    "scales = {'x': x_scale, 'y': y_scale}\n",
    "\n",
    "scatter = bqp.Scatter(x=x_data,\n",
    "                      y=y_data,\n",
    "                      scales=scales,\n",
    "                      colors=['dodgerblue'],\n",
    "                      display_legend=True,\n",
    "                      labels=['Blue'])\n",
    "\n",
    "line = bqp.Lines(x=x_data,\n",
    "                 y=y_data,\n",
    "                 scales=scales,\n",
    "                 colors=['dodgerblue'])\n",
    "\n",
    "scatter2 = bqp.Scatter(x=x_data,\n",
    "                       y=np.random.randn(20),\n",
    "                       scales=scales,\n",
    "                       colors=['red'],\n",
    "                       display_legend=True,\n",
    "                       labels=['Red'])\n",
    "\n",
    "x_axis = bqp.Axis(scale=x_scale)\n",
    "y_axis = bqp.Axis(scale=y_scale, orientation='vertical', tick_format='0.2f')\n",
    "\n",
    "figure = bqp.Figure(marks=[scatter, scatter2, line],\n",
    "                 axes=[x_axis, y_axis])\n",
    "\n",
    "plot_label = Label('')\n",
    "\n",
    "def print_event(self, target):\n",
    "    plot_label.value = str(target)\n",
    "    \n",
    "scatter.on_hover(print_event)\n",
    "scatter.on_background_click(print_event)\n",
    "\n",
    "scatter2.on_element_click(print_event)\n",
    "scatter2.on_legend_click(print_event)\n",
    "line.on_element_click(print_event)\n",
    "\n",
    "VBox([figure, plot_label])"
   ]
  },
  {
   "cell_type": "markdown",
   "metadata": {},
   "source": [
    "Learn more by looking through interactice `bqplot` examples on <a href=\"https://mybinder.org/v2/gh/bloomberg/bqplot/stable?filepath=examples/Index.ipynb\">binder</a>."
   ]
  },
  {
   "cell_type": "markdown",
   "metadata": {},
   "source": [
    "# 2. Layout templates<a name=\"layout-templates\"></a>\n",
    "\n",
    "In this section we're going to learn about the new `ipywidget` layout templates and why they make app building easier.\n",
    "\n",
    "### Building apps the old way\n",
    "\n",
    "We can use combinations of the `HBox` and `VBox` widgets from `ipywidgets` to create layouts for our applications. However, this sometimes leads to deeply nested lists of container widgets (think `HBox` inside `VBox` inside `VBox` etc.) for more complex applications. These structures can be difficult to update and repetitive to build.\n",
    "\n",
    "`ipywidgets` recently released some new layout widgets that greatly simplify building common application layouts. We're going to focus on the `AppLayout` class but you can visit the [documentation](https://ipywidgets.readthedocs.io/en/latest/examples/Layout%20Templates.html) for details on other layouts like `TwoByTwoLayout` and `GridspecLayout`."
   ]
  },
  {
   "cell_type": "markdown",
   "metadata": {},
   "source": [
    "## 2.1. App layout<a name=\"app-layout\"></a>\n",
    "\n",
    "The `AppLayout` widget is a template for a common application. It includes a header, body, and footer. The body is made of a left, center, and right element. We can assign other widgets to each of these 5 elements."
   ]
  },
  {
   "cell_type": "code",
   "execution_count": 9,
   "metadata": {},
   "outputs": [
    {
     "data": {
      "application/vnd.jupyter.widget-view+json": {
       "model_id": "8716ece48a314139b1e49d9c0df79cf3",
       "version_major": 2,
       "version_minor": 0
      },
      "text/plain": [
       "AppLayout(children=(Button(button_style='info', description='Left', layout=Layout(grid_area='left-sidebar', he…"
      ]
     },
     "metadata": {},
     "output_type": "display_data"
    }
   ],
   "source": [
    "def create_expanded_button(description, button_style):\n",
    "    return Button(description=description,\n",
    "                  button_style=button_style,\n",
    "                  layout=Layout(height='auto', width='auto'))\n",
    "\n",
    "header_button = create_expanded_button('Header', 'success')\n",
    "left_button = create_expanded_button('Left', 'info')\n",
    "center_button = create_expanded_button('Center', 'warning')\n",
    "right_button = create_expanded_button('Right', 'info')\n",
    "footer_button = create_expanded_button('Footer', 'success')\n",
    "\n",
    "AppLayout(header=header_button,\n",
    "          left_sidebar=left_button,\n",
    "          center=center_button,\n",
    "          right_sidebar=right_button,\n",
    "          footer=footer_button)"
   ]
  },
  {
   "cell_type": "markdown",
   "metadata": {},
   "source": [
    "Each element is optional. If we don't pass a value for one of the elements, `AppLayout` will smartly merge the remaining elements: "
   ]
  },
  {
   "cell_type": "code",
   "execution_count": 10,
   "metadata": {},
   "outputs": [
    {
     "data": {
      "application/vnd.jupyter.widget-view+json": {
       "model_id": "df8156ec418943f8b6f19a1aaffc0083",
       "version_major": 2,
       "version_minor": 0
      },
      "text/plain": [
       "AppLayout(children=(Button(button_style='success', description='Header', layout=Layout(grid_area='header', hei…"
      ]
     },
     "metadata": {},
     "output_type": "display_data"
    }
   ],
   "source": [
    "AppLayout(header=header_button,\n",
    "          center=center_button,\n",
    "          right_sidebar=right_button)"
   ]
  },
  {
   "cell_type": "markdown",
   "metadata": {},
   "source": [
    "### Updating app components\n",
    "\n",
    "What makes the new layout templates really useful is how we can leverage them to simplify updating applications.\n",
    "\n",
    "Consider a simple dashboard that includes some buttons and sliders at the top and a plot below. Now you decide to add a second plot next to the first plot.\n",
    "\n",
    "Previously, we would have to dig through the children of a collection of `HBox` and `VBox` widgets and then reassign the `.children` for one of these container widgets. \n",
    "\n",
    "With layout widgets, we can skip this process and directly assign a new widget, an `HBox` in the case below, that contains both plots to the `.center` attribute of our application."
   ]
  },
  {
   "cell_type": "code",
   "execution_count": 11,
   "metadata": {},
   "outputs": [
    {
     "data": {
      "application/vnd.jupyter.widget-view+json": {
       "model_id": "7443cefe213e48ecba4368603c42c9e5",
       "version_major": 2,
       "version_minor": 0
      },
      "text/plain": [
       "AppLayout(children=(Button(button_style='success', description='Header', layout=Layout(grid_area='header', hei…"
      ]
     },
     "metadata": {},
     "output_type": "display_data"
    }
   ],
   "source": [
    "plot_1 = create_expanded_button('Plot 1', 'warning')\n",
    "\n",
    "app_layout = AppLayout(header=header_button,\n",
    "                       center=plot_1,\n",
    "                       right_sidebar=right_button)\n",
    "\n",
    "plot_2 = create_expanded_button('Plot 2', 'warning')\n",
    "\n",
    "plot_box = HBox([plot_1, plot_2], layout={'width': 'auto'})\n",
    "\n",
    "# Set plot widths to 50% so they each take up half of the total width\n",
    "plot_1.layout.width = '50%'\n",
    "plot_2.layout.width = '50%'\n",
    "\n",
    "app_layout.center = plot_box\n",
    "app_layout"
   ]
  }
 ],
 "metadata": {
  "kernelspec": {
   "display_name": "Python 3 (sandboxed)",
   "language": "python",
   "name": "python3"
  },
  "language_info": {
   "codemirror_mode": {
    "name": "ipython",
    "version": 3
   },
   "file_extension": ".py",
   "mimetype": "text/x-python",
   "name": "python",
   "nbconvert_exporter": "python",
   "pygments_lexer": "ipython3",
   "version": "3.5.5"
  }
 },
 "nbformat": 4,
 "nbformat_minor": 4
}
