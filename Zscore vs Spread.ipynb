{
 "cells": [
  {
   "cell_type": "markdown",
   "metadata": {},
   "source": [
    "<img style=\"float:left;\" src=\"../images/zcore.png\" width=\"500\" height=\"500\" />"
   ]
  },
  {
   "cell_type": "code",
   "execution_count": 1,
   "metadata": {},
   "outputs": [],
   "source": [
    "import bql\n",
    "import bqplot as bqp\n",
    "import pandas as pd\n",
    "\n",
    "import ipywidgets as ipw\n",
    "from ipywidgets import interact, interactive\n",
    "from IPython.display import display\n",
    "\n",
    "bq = bql.Service()"
   ]
  },
  {
   "cell_type": "markdown",
   "metadata": {},
   "source": [
    "### Define Universe & Fields, Fetch Data"
   ]
  },
  {
   "cell_type": "code",
   "execution_count": 2,
   "metadata": {},
   "outputs": [],
   "source": [
    "bindex_list = ['LG30TRUU Index', 'LF98TRUU Index', 'LUACTRUU Index', 'LGCPTRUU Index']"
   ]
  },
  {
   "cell_type": "code",
   "execution_count": 3,
   "metadata": {},
   "outputs": [],
   "source": [
    "def runquery(bondindex):\n",
    "    Members = bq.univ.members(bondindex)\n",
    "\n",
    "    dates = bq.func.range('2019-12-31','2021-03-15')\n",
    "\n",
    "    spread = bq.func.dropna(bq.data.spread(dates=dates))\n",
    "    z_score = bq.func.z_score(spread)\n",
    "    \n",
    "    current_spread = bq.func.last(spread)\n",
    "    current_z_score = bq.func.last(z_score)\n",
    "\n",
    "    rank = bq.func.grouprank(current_z_score)  #derived data element\n",
    "    Filtered_Members = bq.univ.filter(Members,rank<=200)  #filtered universe\n",
    "\n",
    "    #addl description data\n",
    "    long_comp_name = bq.data.name()\n",
    "    fund_ticker = bq.func.value(bq.data.ID(), bq.univ.translatesymbols(instrumentidtype='Corp', targetidtype='FundamentalTicker'), mapby='lineage')\n",
    "    fund_ticker_name = bq.func.value(bq.data.name(),bq.univ.translatesymbols(instrumentidtype='Corp', targetidtype='FundamentalTicker'), mapby='lineage' )\n",
    "    sector = bq.data.classification_name()\n",
    "    cusip= bq.data.id_cusip()\n",
    "    rating = bq.data.bb_composite()\n",
    "\n",
    "    fields = {'CUSIP':cusip, 'Rating':rating, 'Name': long_comp_name, 'Parent':fund_ticker, 'Parent_Name':fund_ticker_name, 'Sector':sector, 'Current Spread': current_spread, 'Current Z Score': current_z_score}\n",
    "\n",
    "\n",
    "    request = bql.Request(Filtered_Members,fields)\n",
    "    response = bq.execute(request)\n",
    "    tmp = pd.DataFrame({r.name:r.df()[r.name] for r in response})\n",
    "    return tmp"
   ]
  },
  {
   "cell_type": "markdown",
   "metadata": {},
   "source": [
    "### Link Query to Dropdown"
   ]
  },
  {
   "cell_type": "code",
   "execution_count": 4,
   "metadata": {},
   "outputs": [
    {
     "data": {
      "application/vnd.jupyter.widget-view+json": {
       "model_id": "7c8bd107bcb34d879113bc9b893f8b01",
       "version_major": 2,
       "version_minor": 0
      },
      "text/plain": [
       "interactive(children=(Dropdown(description='bondindex', options=('LG30TRUU Index', 'LF98TRUU Index', 'LUACTRUU…"
      ]
     },
     "metadata": {},
     "output_type": "display_data"
    }
   ],
   "source": [
    "w= interactive(runquery,bondindex=ipw.Dropdown(options=bindex_list))\n",
    "display(w)\n",
    "#runquery('LF98TRUU Index')"
   ]
  },
  {
   "cell_type": "markdown",
   "metadata": {},
   "source": [
    "### Submit Query, Tidy Results"
   ]
  },
  {
   "cell_type": "code",
   "execution_count": 5,
   "metadata": {},
   "outputs": [
    {
     "data": {
      "text/html": [
       "<div>\n",
       "<style scoped>\n",
       "    .dataframe tbody tr th:only-of-type {\n",
       "        vertical-align: middle;\n",
       "    }\n",
       "\n",
       "    .dataframe tbody tr th {\n",
       "        vertical-align: top;\n",
       "    }\n",
       "\n",
       "    .dataframe thead th {\n",
       "        text-align: right;\n",
       "    }\n",
       "</style>\n",
       "<table border=\"1\" class=\"dataframe\">\n",
       "  <thead>\n",
       "    <tr style=\"text-align: right;\">\n",
       "      <th></th>\n",
       "      <th>CUSIP</th>\n",
       "      <th>Rating</th>\n",
       "      <th>Name</th>\n",
       "      <th>Parent</th>\n",
       "      <th>Parent_Name</th>\n",
       "      <th>Sector</th>\n",
       "      <th>Current Spread</th>\n",
       "      <th>Current Z Score</th>\n",
       "    </tr>\n",
       "    <tr>\n",
       "      <th>ID</th>\n",
       "      <th></th>\n",
       "      <th></th>\n",
       "      <th></th>\n",
       "      <th></th>\n",
       "      <th></th>\n",
       "      <th></th>\n",
       "      <th></th>\n",
       "      <th></th>\n",
       "    </tr>\n",
       "  </thead>\n",
       "  <tbody>\n",
       "    <tr>\n",
       "      <th>BM047535 Corp</th>\n",
       "      <td>00287YBX6</td>\n",
       "      <td>BBB</td>\n",
       "      <td>ABBV 3.2 11/21/29</td>\n",
       "      <td>ABBV US Equity</td>\n",
       "      <td>AbbVie Inc</td>\n",
       "      <td>Health Care</td>\n",
       "      <td>99.138870</td>\n",
       "      <td>1.750429</td>\n",
       "    </tr>\n",
       "    <tr>\n",
       "      <th>BN340908 Corp</th>\n",
       "      <td>501044DQ1</td>\n",
       "      <td>BBB</td>\n",
       "      <td>KR 1.7 01/15/31</td>\n",
       "      <td>KR US Equity</td>\n",
       "      <td>Kroger Co/The</td>\n",
       "      <td>Consumer Staples</td>\n",
       "      <td>84.206642</td>\n",
       "      <td>2.372190</td>\n",
       "    </tr>\n",
       "    <tr>\n",
       "      <th>BN352289 Corp</th>\n",
       "      <td>166756AX4</td>\n",
       "      <td>AA-</td>\n",
       "      <td>CVX 4.2 10/15/49</td>\n",
       "      <td>CVX US Equity</td>\n",
       "      <td>Chevron Corp</td>\n",
       "      <td>Energy</td>\n",
       "      <td>147.287140</td>\n",
       "      <td>1.447473</td>\n",
       "    </tr>\n",
       "    <tr>\n",
       "      <th>ZO479991 Corp</th>\n",
       "      <td>92939UAC0</td>\n",
       "      <td>BBB+</td>\n",
       "      <td>WEC 0.55 09/15/23</td>\n",
       "      <td>WEC US Equity</td>\n",
       "      <td>WEC Energy Group Inc</td>\n",
       "      <td>Utilities</td>\n",
       "      <td>31.497541</td>\n",
       "      <td>2.409060</td>\n",
       "    </tr>\n",
       "    <tr>\n",
       "      <th>BN972445 Corp</th>\n",
       "      <td>22822VAV3</td>\n",
       "      <td>BBB-</td>\n",
       "      <td>CCI 1.05 07/15/26</td>\n",
       "      <td>CCI US Equity</td>\n",
       "      <td>Crown Castle International Cor</td>\n",
       "      <td>Real Estate</td>\n",
       "      <td>76.530487</td>\n",
       "      <td>1.522811</td>\n",
       "    </tr>\n",
       "    <tr>\n",
       "      <th>BN849494 Corp</th>\n",
       "      <td>037833EC0</td>\n",
       "      <td>AA+</td>\n",
       "      <td>AAPL 1.2 02/08/28</td>\n",
       "      <td>AAPL US Equity</td>\n",
       "      <td>Apple Inc</td>\n",
       "      <td>Technology</td>\n",
       "      <td>44.345978</td>\n",
       "      <td>1.604264</td>\n",
       "    </tr>\n",
       "    <tr>\n",
       "      <th>ZO140988 Corp</th>\n",
       "      <td>29364GAM5</td>\n",
       "      <td>BBB</td>\n",
       "      <td>ETR 0.9 09/15/25</td>\n",
       "      <td>ETR US Equity</td>\n",
       "      <td>Entergy Corp</td>\n",
       "      <td>Utilities</td>\n",
       "      <td>61.053562</td>\n",
       "      <td>2.044622</td>\n",
       "    </tr>\n",
       "    <tr>\n",
       "      <th>BM747347 Corp</th>\n",
       "      <td>446413AS5</td>\n",
       "      <td>BBB-</td>\n",
       "      <td>HII 3.844 05/01/25</td>\n",
       "      <td>HII US Equity</td>\n",
       "      <td>Huntington Ingalls Industries</td>\n",
       "      <td>Industrials</td>\n",
       "      <td>73.037903</td>\n",
       "      <td>1.671551</td>\n",
       "    </tr>\n",
       "    <tr>\n",
       "      <th>BM390340 Corp</th>\n",
       "      <td>92343VFT6</td>\n",
       "      <td>BBB+</td>\n",
       "      <td>VZ 2.65 11/20/40</td>\n",
       "      <td>VZ US Equity</td>\n",
       "      <td>Verizon Communications Inc</td>\n",
       "      <td>Communications</td>\n",
       "      <td>139.537415</td>\n",
       "      <td>1.476685</td>\n",
       "    </tr>\n",
       "  </tbody>\n",
       "</table>\n",
       "</div>"
      ],
      "text/plain": [
       "                   CUSIP Rating                Name          Parent  \\\n",
       "ID                                                                    \n",
       "BM047535 Corp  00287YBX6    BBB   ABBV 3.2 11/21/29  ABBV US Equity   \n",
       "BN340908 Corp  501044DQ1    BBB     KR 1.7 01/15/31    KR US Equity   \n",
       "BN352289 Corp  166756AX4    AA-    CVX 4.2 10/15/49   CVX US Equity   \n",
       "ZO479991 Corp  92939UAC0   BBB+   WEC 0.55 09/15/23   WEC US Equity   \n",
       "BN972445 Corp  22822VAV3   BBB-   CCI 1.05 07/15/26   CCI US Equity   \n",
       "BN849494 Corp  037833EC0    AA+   AAPL 1.2 02/08/28  AAPL US Equity   \n",
       "ZO140988 Corp  29364GAM5    BBB    ETR 0.9 09/15/25   ETR US Equity   \n",
       "BM747347 Corp  446413AS5   BBB-  HII 3.844 05/01/25   HII US Equity   \n",
       "BM390340 Corp  92343VFT6   BBB+    VZ 2.65 11/20/40    VZ US Equity   \n",
       "\n",
       "                                  Parent_Name            Sector  \\\n",
       "ID                                                                \n",
       "BM047535 Corp                      AbbVie Inc       Health Care   \n",
       "BN340908 Corp                   Kroger Co/The  Consumer Staples   \n",
       "BN352289 Corp                    Chevron Corp            Energy   \n",
       "ZO479991 Corp            WEC Energy Group Inc         Utilities   \n",
       "BN972445 Corp  Crown Castle International Cor       Real Estate   \n",
       "BN849494 Corp                       Apple Inc        Technology   \n",
       "ZO140988 Corp                    Entergy Corp         Utilities   \n",
       "BM747347 Corp   Huntington Ingalls Industries       Industrials   \n",
       "BM390340 Corp      Verizon Communications Inc    Communications   \n",
       "\n",
       "               Current Spread  Current Z Score  \n",
       "ID                                              \n",
       "BM047535 Corp       99.138870         1.750429  \n",
       "BN340908 Corp       84.206642         2.372190  \n",
       "BN352289 Corp      147.287140         1.447473  \n",
       "ZO479991 Corp       31.497541         2.409060  \n",
       "BN972445 Corp       76.530487         1.522811  \n",
       "BN849494 Corp       44.345978         1.604264  \n",
       "ZO140988 Corp       61.053562         2.044622  \n",
       "BM747347 Corp       73.037903         1.671551  \n",
       "BM390340 Corp      139.537415         1.476685  "
      ]
     },
     "execution_count": 5,
     "metadata": {},
     "output_type": "execute_result"
    }
   ],
   "source": [
    "tbl = w.result\n",
    "tbl.sample(9)"
   ]
  },
  {
   "cell_type": "markdown",
   "metadata": {},
   "source": [
    "### Visualize Data"
   ]
  },
  {
   "cell_type": "code",
   "execution_count": 6,
   "metadata": {},
   "outputs": [],
   "source": [
    "from ipydatagrid import DataGrid"
   ]
  },
  {
   "cell_type": "code",
   "execution_count": 7,
   "metadata": {},
   "outputs": [
    {
     "data": {
      "application/vnd.jupyter.widget-view+json": {
       "model_id": "6f9823582c8e4b9b94e1cbec25532430",
       "version_major": 2,
       "version_minor": 0
      },
      "text/plain": [
       "DataGrid(default_renderer=TextRenderer(), header_renderer=None)"
      ]
     },
     "metadata": {},
     "output_type": "display_data"
    }
   ],
   "source": [
    "dg = DataGrid(dataframe=tbl)\n",
    "dg"
   ]
  },
  {
   "cell_type": "code",
   "execution_count": 8,
   "metadata": {},
   "outputs": [],
   "source": [
    "dataframe = tbl.reset_index()"
   ]
  },
  {
   "cell_type": "markdown",
   "metadata": {},
   "source": [
    "## Visualize with `bqviz` "
   ]
  },
  {
   "cell_type": "code",
   "execution_count": 9,
   "metadata": {},
   "outputs": [],
   "source": [
    "import bqviz as bqv"
   ]
  },
  {
   "cell_type": "code",
   "execution_count": 10,
   "metadata": {},
   "outputs": [
    {
     "data": {
      "application/vnd.jupyter.widget-view+json": {
       "model_id": "07a4f71def1f464abdf191ecd57b9ada",
       "version_major": 2,
       "version_minor": 0
      },
      "text/plain": [
       "VBox(children=(Box(children=(Figure(axes=[Axis(label='CUSIP', scale=OrdinalScale(), side='bottom'), Axis(label…"
      ]
     },
     "metadata": {},
     "output_type": "display_data"
    }
   ],
   "source": [
    "viz = bqv.InteractiveScatterPlot(df=tbl)\n",
    "\n",
    "viz.show()"
   ]
  },
  {
   "cell_type": "markdown",
   "metadata": {},
   "source": [
    "## Visualize with `bqapps`"
   ]
  },
  {
   "cell_type": "code",
   "execution_count": 11,
   "metadata": {},
   "outputs": [],
   "source": [
    "import bqapps"
   ]
  },
  {
   "cell_type": "code",
   "execution_count": 12,
   "metadata": {},
   "outputs": [
    {
     "data": {
      "application/vnd.jupyter.widget-view+json": {
       "model_id": "1f97d7efa2814d2abcf3cebdda816b95",
       "version_major": 2,
       "version_minor": 0
      },
      "text/plain": [
       "ScatterGrid(default_cell_renderer=TextRenderer(), id_column='ID', layout=Layout(height='550px', width='auto'),…"
      ]
     },
     "metadata": {},
     "output_type": "display_data"
    }
   ],
   "source": [
    "bqapps.ScatterGrid(scatter_dataframe=tbl,\n",
    "                  grid_dataframe=tbl,\n",
    "                  scatter_color_column='Rating',\n",
    "                  id_column='ID')"
   ]
  },
  {
   "cell_type": "markdown",
   "metadata": {},
   "source": [
    "## Visualize with `plotly`"
   ]
  },
  {
   "cell_type": "code",
   "execution_count": 13,
   "metadata": {},
   "outputs": [],
   "source": [
    "import plotly.express as px"
   ]
  },
  {
   "cell_type": "code",
   "execution_count": 14,
   "metadata": {},
   "outputs": [],
   "source": [
    "tickerlist = sorted(tbl[tbl.Sector.notnull()].Sector.unique().tolist())"
   ]
  },
  {
   "cell_type": "code",
   "execution_count": 15,
   "metadata": {},
   "outputs": [],
   "source": [
    "def issuerplot(name):\n",
    "    fig_scat = px.scatter(tbl[tbl.Sector ==name].dropna(), x=\"Current Spread\", y=\"Current Z Score\", \n",
    "                      color='Parent_Name',\n",
    "                      hover_data=['CUSIP', 'Rating'],\n",
    "#                     facet_col='Parent_Name',\n",
    "#                      facet_col_wrap=3,\n",
    "                      title = name)\n",
    "    fig_scat.show()"
   ]
  },
  {
   "cell_type": "code",
   "execution_count": 16,
   "metadata": {},
   "outputs": [
    {
     "data": {
      "application/vnd.jupyter.widget-view+json": {
       "model_id": "9f795d4a18dc46ba8efa46c81b0b9852",
       "version_major": 2,
       "version_minor": 0
      },
      "text/plain": [
       "interactive(children=(Dropdown(description='name', options=('Communications', 'Consumer Discretionary', 'Consu…"
      ]
     },
     "metadata": {},
     "output_type": "display_data"
    },
    {
     "data": {
      "text/plain": [
       "<function __main__.issuerplot(name)>"
      ]
     },
     "execution_count": 16,
     "metadata": {},
     "output_type": "execute_result"
    }
   ],
   "source": [
    "interact(issuerplot,name=ipw.Dropdown(options=tickerlist))"
   ]
  },
  {
   "cell_type": "code",
   "execution_count": null,
   "metadata": {},
   "outputs": [],
   "source": []
  },
  {
   "cell_type": "code",
   "execution_count": null,
   "metadata": {},
   "outputs": [],
   "source": []
  }
 ],
 "metadata": {
  "kernelspec": {
   "display_name": "Python 3 (sandboxed)",
   "language": "python",
   "name": "python3"
  },
  "language_info": {
   "codemirror_mode": {
    "name": "ipython",
    "version": 3
   },
   "file_extension": ".py",
   "mimetype": "text/x-python",
   "name": "python",
   "nbconvert_exporter": "python",
   "pygments_lexer": "ipython3",
   "version": "3.7.1"
  }
 },
 "nbformat": 4,
 "nbformat_minor": 4
}
