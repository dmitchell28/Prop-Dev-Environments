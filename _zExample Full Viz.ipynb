{
 "cells": [
  {
   "cell_type": "markdown",
   "metadata": {},
   "source": [
    "# Navigation\n",
    "\n",
    "<a href = \"#A\">Detailed Example</a>  \n",
    "<a href = \"#B\">More Examples</a>  \n",
    "<br>"
   ]
  },
  {
   "cell_type": "markdown",
   "metadata": {},
   "source": [
    "## <font color='hotpink'>BQuant Application - Median EPS Change by Sector</font>  <a name=\"A\"></a>"
   ]
  },
  {
   "cell_type": "markdown",
   "metadata": {},
   "source": [
    "#### Initiate BQL"
   ]
  },
  {
   "cell_type": "code",
   "execution_count": 1,
   "metadata": {},
   "outputs": [],
   "source": [
    "#import BQL library\n",
    "import bql\n",
    "#instantiate bq as the BQL service object\n",
    "bq = bql.Service()"
   ]
  },
  {
   "cell_type": "markdown",
   "metadata": {},
   "source": [
    "#### Function to run BQL query & return a dataframe"
   ]
  },
  {
   "cell_type": "code",
   "execution_count": 2,
   "metadata": {},
   "outputs": [],
   "source": [
    "def pull_med_eps_chg(index_name, months_back):\n",
    "    query = \"\"\"\n",
    "    get(\n",
    "      avg(group(pct_chg(is_eps(fa_period_reference=2020Y, fa_adjusted=Y, dates=range(-{}m,0m),fill=PREV)),GICS_SECTOR_NAME()))\n",
    "      as #pct_chg\n",
    "    ) \n",
    "    for(MEMBERS('{}'))\n",
    "    \"\"\".format(months_back, index_name)\n",
    "    resp = bq.execute(query)\n",
    "    df = resp[0].df()\n",
    "    return df[[df.columns[-1]]]"
   ]
  },
  {
   "cell_type": "markdown",
   "metadata": {
    "jupyter": {
     "source_hidden": true
    }
   },
   "source": [
    "#### Visualization Libaries"
   ]
  },
  {
   "cell_type": "code",
   "execution_count": 3,
   "metadata": {},
   "outputs": [],
   "source": [
    "#import libraries\n",
    "import ipywidgets as widgets\n",
    "import bqviz as bqv\n",
    "import bqplot as bqp\n",
    "import pandas as pd\n",
    "import numpy as np"
   ]
  },
  {
   "cell_type": "markdown",
   "metadata": {},
   "source": [
    "#### Functions to create/update charts"
   ]
  },
  {
   "cell_type": "code",
   "execution_count": 4,
   "metadata": {},
   "outputs": [],
   "source": [
    "# def pull_med_eps_chg(index_name, months_back):\n",
    "#     df = pd.DataFrame(np.random.randn(10))\n",
    "#     return df\n",
    "\n",
    "def construct_bar_plot(df):\n",
    "    plot = bqv.BarPlot(df)\n",
    "    return plot.show()\n",
    "\n",
    "def construct_pretty_bar_plot(df):\n",
    "    dataframe = df\n",
    "\n",
    "    # Create scales\n",
    "    scale_x = bqp.OrdinalScale()\n",
    "    scale_y = bqp.LinearScale()\n",
    "\n",
    "    # Create mark\n",
    "    tooltip = bqp.Tooltip(fields=['y'], show_labels=False, formats=['.3f'])\n",
    "    mark_bar = bqp.Bars(x=dataframe.index,\n",
    "                        #y=dataframe['Value'],\n",
    "                        y=dataframe[dataframe.columns[-1]],\n",
    "                        scales={'x': scale_x, 'y': scale_y},\n",
    "                        padding=0.1,\n",
    "                        colors=['#1B84ED', '#CF7DFF', '#FF5A00', '#00D3D6',\n",
    "                                '#008616', '#B31D83', '#FF1E3E', '#FF9E24',\n",
    "                                '#63B2FF', '#30C030'],\n",
    "                        tooltip=bqp.Tooltip(fields=['y'],\n",
    "                                            show_labels=False,\n",
    "                                            formats=['.3f']))\n",
    "\n",
    "    # Create Axes\n",
    "    axis_y = bqp.Axis(scale=scale_y,\n",
    "                      orientation='vertical',\n",
    "                      label='Y Label')\n",
    "    axis_x = bqp.Axis(scale=scale_x,\n",
    "                      tick_rotate=20,\n",
    "                      tick_style={'text-anchor': 'start'})\n",
    "\n",
    "    # Create Figure\n",
    "    figure = bqp.Figure(marks=[mark_bar],\n",
    "                        axes=[axis_x, axis_y],\n",
    "                        title='Vertical bar plot',\n",
    "                        title_style={'font-size': '22px'},\n",
    "                        padding_y=0,\n",
    "                        fig_margin={'top': 50, 'bottom': 60,\n",
    "                                    'left': 60, 'right': 50},\n",
    "                        layout={'width': '100%',\n",
    "                                'height': '500px'})\n",
    "\n",
    "    def update_plot(dataframe):\n",
    "        mark_bar.x = dataframe.index\n",
    "        mark_bar.y = dataframe['Value']\n",
    "        scale_x.domain = dataframe.index.tolist()\n",
    "\n",
    "    # Display the figure\n",
    "    return figure\n",
    "\n",
    "def button_callback(btn):\n",
    "    df = pull_med_eps_chg(index_picker.value, months_back_picker.value)\n",
    "    #p = construct_bar_plot(df)\n",
    "    p = construct_pretty_bar_plot(df)\n",
    "    output_area.children=[p]\n",
    "    "
   ]
  },
  {
   "cell_type": "markdown",
   "metadata": {},
   "source": [
    "#### Create the GUI & connect button to functions"
   ]
  },
  {
   "cell_type": "code",
   "execution_count": 5,
   "metadata": {},
   "outputs": [
    {
     "data": {
      "application/vnd.jupyter.widget-view+json": {
       "model_id": "ba071a0323934709b08a578d531aecd1",
       "version_major": 2,
       "version_minor": 0
      },
      "text/plain": [
       "VBox(children=(Dropdown(options=('SPX Index', 'IBOV Index', 'INDU Index'), value='SPX Index'), IntSlider(value…"
      ]
     },
     "metadata": {},
     "output_type": "display_data"
    }
   ],
   "source": [
    "#GUI\n",
    "index_picker = widgets.Dropdown(options=['SPX Index','IBOV Index', 'INDU Index'])\n",
    "months_back_picker = widgets.IntSlider(description='Months Back', value=3,min=1,max=24)\n",
    "button = widgets.Button(description='Click to Compute',button_style='success')\n",
    "\n",
    "#button linked to function\n",
    "button.on_click(button_callback)\n",
    "\n",
    "# putting it all together\n",
    "output_area = widgets.HBox([])\n",
    "gui = widgets.VBox([index_picker, months_back_picker, button, output_area])\n",
    "gui"
   ]
  },
  {
   "cell_type": "markdown",
   "metadata": {},
   "source": [
    "<div style=\"text-align: right\"><a href=\"#Navigation\">Return to Top ↑</a></div>"
   ]
  },
  {
   "cell_type": "markdown",
   "metadata": {},
   "source": [
    "## More Example Visualizations  <a name=\"B\"></a>"
   ]
  },
  {
   "cell_type": "code",
   "execution_count": 16,
   "metadata": {},
   "outputs": [],
   "source": [
    "import bqviz as bqv\n",
    "from bqviz.sample_data import *"
   ]
  },
  {
   "cell_type": "code",
   "execution_count": 11,
   "metadata": {},
   "outputs": [
    {
     "data": {
      "text/html": [
       "<div>\n",
       "<table border=\"1\" class=\"dataframe\">\n",
       "  <thead>\n",
       "    <tr style=\"text-align: right;\">\n",
       "      <th></th>\n",
       "      <th>Benchmark</th>\n",
       "      <th>Sharpe Ratio</th>\n",
       "      <th>Sortino</th>\n",
       "      <th>Total Returns</th>\n",
       "    </tr>\n",
       "  </thead>\n",
       "  <tbody>\n",
       "    <tr>\n",
       "      <th>2011-10-31</th>\n",
       "      <td>0.108338</td>\n",
       "      <td>0.007833</td>\n",
       "      <td>0.079679</td>\n",
       "      <td>0.382291</td>\n",
       "    </tr>\n",
       "    <tr>\n",
       "      <th>2011-11-30</th>\n",
       "      <td>0.109467</td>\n",
       "      <td>0.034100</td>\n",
       "      <td>-0.008712</td>\n",
       "      <td>0.375641</td>\n",
       "    </tr>\n",
       "    <tr>\n",
       "      <th>2011-12-31</th>\n",
       "      <td>0.127633</td>\n",
       "      <td>0.002486</td>\n",
       "      <td>-0.050788</td>\n",
       "      <td>0.380217</td>\n",
       "    </tr>\n",
       "    <tr>\n",
       "      <th>2012-01-31</th>\n",
       "      <td>0.156750</td>\n",
       "      <td>0.061014</td>\n",
       "      <td>-0.082341</td>\n",
       "      <td>0.378427</td>\n",
       "    </tr>\n",
       "    <tr>\n",
       "      <th>2012-02-29</th>\n",
       "      <td>0.174218</td>\n",
       "      <td>0.056343</td>\n",
       "      <td>0.056734</td>\n",
       "      <td>0.404381</td>\n",
       "    </tr>\n",
       "  </tbody>\n",
       "</table>\n",
       "</div>"
      ],
      "text/plain": [
       "            Benchmark  Sharpe Ratio   Sortino  Total Returns\n",
       "2011-10-31   0.108338      0.007833  0.079679       0.382291\n",
       "2011-11-30   0.109467      0.034100 -0.008712       0.375641\n",
       "2011-12-31   0.127633      0.002486 -0.050788       0.380217\n",
       "2012-01-31   0.156750      0.061014 -0.082341       0.378427\n",
       "2012-02-29   0.174218      0.056343  0.056734       0.404381"
      ]
     },
     "execution_count": 11,
     "metadata": {},
     "output_type": "execute_result"
    }
   ],
   "source": [
    "# For reference, display the first few rows of our dataframe\n",
    "multidf.head()"
   ]
  },
  {
   "cell_type": "code",
   "execution_count": 12,
   "metadata": {},
   "outputs": [
    {
     "data": {
      "application/vnd.jupyter.widget-view+json": {
       "model_id": "13e46cb9594440f1980baf8e32cbb78f",
       "version_major": 2,
       "version_minor": 0
      },
      "text/plain": [
       "GridBox(children=(Figure(animation_duration=500, axes=[Axis(color='white', grid_color='#3c3c3c', grid_lines='d…"
      ]
     },
     "metadata": {},
     "output_type": "display_data"
    }
   ],
   "source": [
    "# Pass the dataframe to LinePlot and apply Bloomberg styles\n",
    "ex1 = bqv.LinePlot(multidf).set_style()\n",
    "\n",
    "# Display the plot\n",
    "ex1.show()"
   ]
  },
  {
   "cell_type": "code",
   "execution_count": 18,
   "metadata": {},
   "outputs": [
    {
     "data": {
      "application/vnd.jupyter.widget-view+json": {
       "model_id": "9af26c08906a4c3694df4ec597fba75e",
       "version_major": 2,
       "version_minor": 0
      },
      "text/plain": [
       "VBox(children=(Box(children=(Figure(animation_duration=500, axes=[Axis(scale=DateScale()), Axis(label_offset='…"
      ]
     },
     "metadata": {},
     "output_type": "display_data"
    }
   ],
   "source": [
    "# Pass the dataframe to InteractiveLinePlot\n",
    "ex18 = bqv.InteractiveLinePlot(multidf)\n",
    "\n",
    "# Display the plot\n",
    "ex18.show()"
   ]
  },
  {
   "cell_type": "code",
   "execution_count": 14,
   "metadata": {},
   "outputs": [
    {
     "data": {
      "application/vnd.jupyter.widget-view+json": {
       "model_id": "eef4d4d8683a41c3aa09f8294160aafc",
       "version_major": 2,
       "version_minor": 0
      },
      "text/plain": [
       "VBox(children=(Box(children=(Figure(axes=[Axis(label='Benchmark', scale=LinearScale(), side='bottom'), Axis(la…"
      ]
     },
     "metadata": {},
     "output_type": "display_data"
    }
   ],
   "source": [
    "# Pass the dataframe to InteractiveScatterPlot\n",
    "int_scatter = bqv.InteractiveScatterPlot(multidf)\n",
    "\n",
    "# Display the plot\n",
    "int_scatter.show()"
   ]
  },
  {
   "cell_type": "markdown",
   "metadata": {},
   "source": [
    "<div style=\"text-align: right\"><a href=\"#Navigation\">Return to Top ↑</a></div>"
   ]
  },
  {
   "cell_type": "code",
   "execution_count": null,
   "metadata": {},
   "outputs": [],
   "source": []
  },
  {
   "cell_type": "code",
   "execution_count": null,
   "metadata": {},
   "outputs": [],
   "source": []
  },
  {
   "cell_type": "code",
   "execution_count": null,
   "metadata": {},
   "outputs": [],
   "source": []
  }
 ],
 "metadata": {
  "kernelspec": {
   "display_name": "Python 3 (sandboxed)",
   "language": "python",
   "name": "python3"
  },
  "language_info": {
   "codemirror_mode": {
    "name": "ipython",
    "version": 3
   },
   "file_extension": ".py",
   "mimetype": "text/x-python",
   "name": "python",
   "nbconvert_exporter": "python",
   "pygments_lexer": "ipython3",
   "version": "3.7.1"
  }
 },
 "nbformat": 4,
 "nbformat_minor": 4
}
