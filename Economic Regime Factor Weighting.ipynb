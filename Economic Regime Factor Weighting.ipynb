{
 "cells": [
  {
   "cell_type": "markdown",
   "metadata": {
    "deletable": true,
    "editable": true
   },
   "source": [
    "# Bloomberg BQuant Spotlight Webinar Series: Adjusting Equity Factor Weights Based on Economic Regime\n",
    "This is a companion notebook to the [Adjusting Equity Factor Weights Based on Economic Regime](https://blinks.bloomberg.com/screens/PLYR%20VOD%20334785689) webinar."
   ]
  },
  {
   "cell_type": "code",
   "execution_count": null,
   "metadata": {
    "collapsed": false,
    "deletable": true,
    "editable": true
   },
   "outputs": [],
   "source": [
    "import bql\n",
    "import pandas as pd\n",
    "from collections import OrderedDict\n",
    "\n",
    "from bqplot import *\n",
    "import bqviz as bqv\n",
    "\n",
    "bq = bql.Service()"
   ]
  },
  {
   "cell_type": "code",
   "execution_count": null,
   "metadata": {
    "collapsed": false,
    "deletable": true,
    "editable": true
   },
   "outputs": [],
   "source": [
    "eco_universe = bq.univ.members('WesternEurope',type='Region')\n",
    "eco_field = bq.data.gdp(transform='PCT',pop='YoY')\n",
    "eco_field = bq.func.dropna(bq.func.if_(eco_field > 4,'Expansion',bq.func.if_(eco_field < 2,'Contraction','Neutral')),remove_id='true')\n",
    "eco_field_dict = {'Regime':eco_field}\n",
    "\n",
    "request = bql.Request(eco_universe,eco_field_dict)\n",
    "response = bq.execute(request)\n",
    "\n",
    "eco_df = bql.combined_df(response)\n",
    "eco_df.head()"
   ]
  },
  {
   "cell_type": "code",
   "execution_count": null,
   "metadata": {
    "collapsed": false,
    "deletable": true,
    "editable": true
   },
   "outputs": [],
   "source": [
    "eco_df = eco_df.reset_index()\n",
    "eco_df = eco_df.rename(columns={'ID':'Country Code'})\n",
    "\n",
    "eco_df.head()"
   ]
  },
  {
   "cell_type": "code",
   "execution_count": null,
   "metadata": {
    "collapsed": false,
    "deletable": true,
    "editable": true
   },
   "outputs": [],
   "source": [
    "bar_chart = bqv.BarPlot(pd.DataFrame(eco_df['Regime'].value_counts()),y_min=0)\n",
    "bar_chart.show()"
   ]
  },
  {
   "cell_type": "code",
   "execution_count": null,
   "metadata": {
    "collapsed": true,
    "deletable": true,
    "editable": true
   },
   "outputs": [],
   "source": [
    "def winsorize(factor,limit):\n",
    "    lower_bound = -1 * limit\n",
    "    upper_bound = limit\n",
    "    return bq.func.if_(factor >= upper_bound,upper_bound,\n",
    "                      bq.func.if_(factor <= lower_bound, lower_bound,factor))"
   ]
  },
  {
   "cell_type": "code",
   "execution_count": null,
   "metadata": {
    "collapsed": true,
    "deletable": true,
    "editable": true
   },
   "outputs": [],
   "source": [
    "params = {'fill':'PREV','Currency':'EUR'}"
   ]
  },
  {
   "cell_type": "code",
   "execution_count": null,
   "metadata": {
    "collapsed": false,
    "deletable": true,
    "editable": true
   },
   "outputs": [],
   "source": [
    "factor_model = OrderedDict()\n",
    "\n",
    "factor_model = {\n",
    "    \n",
    "    \"Descriptive\":{\n",
    "        \"Name\":{\n",
    "            \"expression\":bq.data.name()\n",
    "        },\n",
    "        \n",
    "        \"Country\":{\n",
    "            \"expression\":bq.data.country_full_name()\n",
    "        },\n",
    "        \n",
    "        \"Country Code\":{\n",
    "            \"expression\":bq.data.country_iso()\n",
    "        },\n",
    "        \n",
    "        \"Sector\":{\n",
    "            \"expression\":bq.data.gics_sector_name()\n",
    "        }\n",
    "    },\n",
    "    \n",
    "    \"Growth Model\":{\n",
    "        \"[G] Sales Growth\":{\n",
    "            \"expression\":winsorize(bq.func.groupzscore(bq.data.sales_growth()),3),\n",
    "            \"weights\":0.6\n",
    "        },\n",
    "        \n",
    "        \"[G] EPS Growth\":{\n",
    "            \"expression\":winsorize(bq.func.groupzscore(bq.data.eps_growth()),3),\n",
    "            \"weights\":0.4\n",
    "        }\n",
    "    },\n",
    "    \n",
    "    \"Value Model\":{\n",
    "        \"[V] FCF Yield\":{\n",
    "            \"expression\":winsorize(bq.func.groupzscore(bq.data.free_cash_flow_yield()),3),\n",
    "            \"weights\":0.55\n",
    "        },\n",
    "        \n",
    "        \"[V] Earnings Yield\":{\n",
    "            \"expression\":winsorize(bq.func.groupzscore(bq.data.is_eps()/bq.data.px_last()),3),\n",
    "            \"weights\":0.45\n",
    "        }\n",
    "    }\n",
    "}"
   ]
  },
  {
   "cell_type": "code",
   "execution_count": null,
   "metadata": {
    "collapsed": false,
    "deletable": true,
    "editable": true
   },
   "outputs": [],
   "source": [
    "equity_universe = bq.univ.members('BE500 Index')"
   ]
  },
  {
   "cell_type": "code",
   "execution_count": null,
   "metadata": {
    "collapsed": false,
    "deletable": true,
    "editable": true
   },
   "outputs": [],
   "source": [
    "request_dict = OrderedDict()\n",
    "\n",
    "for category, individual_field in factor_model.items():\n",
    "    for individual_field, individual_factor_setting in individual_field.items():\n",
    "        request_dict[individual_field] = individual_factor_setting['expression']"
   ]
  },
  {
   "cell_type": "code",
   "execution_count": null,
   "metadata": {
    "collapsed": false,
    "deletable": true,
    "editable": true
   },
   "outputs": [],
   "source": [
    "request = bql.Request(equity_universe,request_dict,with_params=params)\n",
    "response = bq.execute(request)\n",
    "output_df = pd.concat([r.df() for r in response],axis=1)[list(request_dict.keys())]\n",
    "output_df.head()"
   ]
  },
  {
   "cell_type": "code",
   "execution_count": null,
   "metadata": {
    "collapsed": false,
    "deletable": true,
    "editable": true
   },
   "outputs": [],
   "source": [
    "output_df = output_df.fillna(value=0)"
   ]
  },
  {
   "cell_type": "code",
   "execution_count": null,
   "metadata": {
    "collapsed": false,
    "deletable": true,
    "editable": true
   },
   "outputs": [],
   "source": [
    "output_df['[G] Score'] = 0\n",
    "output_df['[V] Score'] = 0\n",
    "for category, individual_field in factor_model.items():\n",
    "    for individual_field, individual_factor_setting in individual_field.items():\n",
    "        if category == 'Value Model':\n",
    "            output_df['[V] Score'] = output_df['[V] Score'] + output_df[individual_field] * individual_factor_setting['weights']\n",
    "        elif category == 'Growth Model':\n",
    "            output_df['[G] Score'] = output_df['[G] Score'] + output_df[individual_field] * individual_factor_setting['weights']\n",
    "            \n",
    "output_df.head()"
   ]
  },
  {
   "cell_type": "code",
   "execution_count": null,
   "metadata": {
    "collapsed": false,
    "deletable": true,
    "editable": true
   },
   "outputs": [],
   "source": [
    "output_df = output_df.reset_index()\n",
    "output_df = output_df.merge(eco_df,on='Country Code')\n",
    "output_df.head()"
   ]
  },
  {
   "cell_type": "code",
   "execution_count": null,
   "metadata": {
    "collapsed": false,
    "deletable": true,
    "editable": true
   },
   "outputs": [],
   "source": [
    "output_df.loc[(output_df['Regime'] == 'Contraction'),'Total Score'] = output_df['[G] Score'] * 0.6 + output_df['[V] Score'] * 0.4\n",
    "output_df.loc[(output_df['Regime'] == 'Expansion'),'Total Score'] = output_df['[G] Score'] * 0.4 + output_df['[V] Score'] * 0.6\n",
    "output_df.loc[(output_df['Regime'] == 'Neutral'),'Total Score'] = output_df['[G] Score'] * 0.5 + output_df['[V] Score'] * 0.5\n",
    "output_df.head()"
   ]
  },
  {
   "cell_type": "code",
   "execution_count": null,
   "metadata": {
    "collapsed": false,
    "deletable": true,
    "editable": true
   },
   "outputs": [],
   "source": [
    "output_df = output_df.round(3)\n",
    "output_df = output_df.sort_values('Total Score',ascending=False)\n",
    "output_df.head()"
   ]
  },
  {
   "cell_type": "code",
   "execution_count": null,
   "metadata": {
    "collapsed": false,
    "deletable": true,
    "editable": true
   },
   "outputs": [],
   "source": [
    "output_df"
   ]
  },
  {
   "cell_type": "code",
   "execution_count": null,
   "metadata": {
    "collapsed": false,
    "deletable": true,
    "editable": true
   },
   "outputs": [],
   "source": [
    "top_df = output_df[output_df['Total Score'].rank(ascending=False) <= 20]"
   ]
  },
  {
   "cell_type": "code",
   "execution_count": null,
   "metadata": {
    "collapsed": false,
    "deletable": true,
    "editable": true
   },
   "outputs": [],
   "source": [
    "sc_x = LinearScale()\n",
    "sc_y = LinearScale()\n",
    "c_sc = OrdinalColorScale()\n",
    "\n",
    "my_chart = Scatter(x = top_df['[G] Score'],\n",
    "                  y = top_df['[V] Score'],\n",
    "                  color = top_df['Regime'],\n",
    "                  names = top_df['ID'],\n",
    "                  display_names = False,\n",
    "                  scales = {'x':sc_x,'y':sc_y,'color':c_sc},\n",
    "                  tooltip = Tooltip(fields=['name','x','y'],labels=['Regime','[G] Score','[V] Score']))\n",
    "\n",
    "ax_x = Axis(label='[G] Score',scale=sc_x)\n",
    "ax_y = Axis(label='[V] Score',scale=sc_y,orientation='vertical')\n",
    "ax_c = ColorAxis(label='Regime',scale=c_sc,side='right')\n",
    "\n",
    "Figure(axes=[ax_x,ax_y,ax_c],marks=[my_chart],fig_margin={'top':10,'bottom':60,'left':60,'right':150})"
   ]
  }
 ],
 "metadata": {
  "kernelspec": {
   "display_name": "Python 3 (sandboxed)",
   "language": "python",
   "name": "python3"
  },
  "language_info": {
   "codemirror_mode": {
    "name": "ipython",
    "version": 3
   },
   "file_extension": ".py",
   "mimetype": "text/x-python",
   "name": "python",
   "nbconvert_exporter": "python",
   "pygments_lexer": "ipython3",
   "version": "3.5.5"
  }
 },
 "nbformat": 4,
 "nbformat_minor": 2
}
