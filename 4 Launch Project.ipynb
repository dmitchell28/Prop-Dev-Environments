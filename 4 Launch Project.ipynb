{
 "cells": [
  {
   "cell_type": "markdown",
   "metadata": {},
   "source": [
    "<a id=\"launch-project-top\"></a>\n",
    "<div style=\"width: 50px; height: 50px; border-radius: 50%; background: #F1C40F; margin-bottom: 0px; text-align: center;\">\n",
    "    <img src=\"../img/Welcome Page/launch.png\" style=\"max-height: 95%; max-width: 95%;\">\n",
    "</div>\n",
    "<h1 style=\"margin-top: 20px; margin-bottom: 5px;\">Launch: Final Project<br><span style=\"margin-bottom: 0px; color: #F1C40F;\">Visualize Data using DataGrids and Scatter Plots</span></h1>"
   ]
  },
  {
   "cell_type": "markdown",
   "metadata": {},
   "source": [
    "---\n",
    "### Project Assignment:\n",
    "   - Use BQL to retrieve average P/E ratios and market caps by sector for members of an equity index\n",
    "   - Use BQL's `filter()` and `group()` functions to limit results to market caps above $50 billion and group by sector.\n",
    "   - Deploy a Scatter Plot to visualize the data with market caps along the x-axis and P/E ratios on the y-axis. You may use any BQuant-supported charting library.\n",
    "   - Display the data in table format with a `ipydatagrid.DataGrid` object\n",
    "   \n",
    "<h5>Example Output:</h5>\n",
    "<img style=\"max-height: 400px;\" src=../img/Launch/launch_project.png>\n",
    "\n",
    "   \n",
    "### Remember the 5-Step Process for Building Apps in BQuant:\n",
    "   1. Setup the Environment\n",
    "   2. Get Data with BQL\n",
    "   3. Additional Data Munging, if necessary\n",
    "   4. Build UI and Visualizations\n",
    "   5. Simplify & Document\n",
    "\n",
    "\n",
    "See if you can solve this problem in the empty Python cell below. We've written one possible solution. Try it out for yourself first, and when you're ready to see the answer, click the <img src=\"../img/Controls/hidden_cell.png\"> icon below to expand a hidden Python cell. Try not to peek too early! We all learn best by overcoming obstacles, so if you get stuck, reference the previous material in this section before expanding the answer. Always remember that in programming there are multiple ways to accomplish the same task. If your code doesn't look exactly like ours, that's ok. The important thing is that your code executes as expected."
   ]
  },
  {
   "cell_type": "code",
   "execution_count": null,
   "metadata": {},
   "outputs": [],
   "source": [
    "# type your code here\n",
    "\n"
   ]
  },
  {
   "cell_type": "markdown",
   "metadata": {},
   "source": [
    "<p style=\"color: orange; font-size: 12px;\">&darr; Click below to expand answer</p>"
   ]
  },
  {
   "cell_type": "code",
   "execution_count": null,
   "metadata": {
    "jupyter": {
     "source_hidden": true
    }
   },
   "outputs": [],
   "source": [
    "# hide this code\n",
    "# Step 1: Setup Environment\n",
    "import bql\n",
    "import bqviz\n",
    "import pandas as pd\n",
    "from ipydatagrid import DataGrid, TextRenderer\n",
    "from IPython.display import display\n",
    "bq = bql.Service()\n",
    "\n",
    "# Step 2: Get Data with BQL\n",
    "universe = bq.univ.members('B500T Index')\n",
    "sector = bq.data.gics_sector_name()\n",
    "mkt_cap = bq.data.cur_mkt_cap()\n",
    "over_50bln = universe.filter(mkt_cap > 50*10**9)\n",
    "\n",
    "pe = bq.data.pe_ratio()\n",
    "\n",
    "avg_sector_pe = pe.group(sector).avg()\n",
    "avg_sector_mkt_cap = mkt_cap.group(sector).avg() / (10**9)\n",
    "\n",
    "\n",
    "\n",
    "req = bql.Request(over_50bln, {'Sector P/E': avg_sector_pe,\n",
    "                               'Avg Market Cap': avg_sector_mkt_cap})\n",
    "res = bq.execute(req)\n",
    "df = pd.concat([field.df()[field.name] for field in res], axis=1)\n",
    "\n",
    "# Skip Step 3: we have everything we need from the BQL query\n",
    "\n",
    "# Step 4: Visualizations\n",
    "grid = DataGrid(dataframe=df, \n",
    "                base_column_size=100, \n",
    "                column_widths={'ID': 200}, \n",
    "                layout={'width': '100%', 'height': '200px'},\n",
    "                renderers={'ID': TextRenderer(horizontal_alignment='left')},\n",
    "                default_renderer=TextRenderer(format='.2f', horizontal_alignment='center'))\n",
    "scatter = bqviz.ScatterPlot(df.reset_index(), \n",
    "                            x='Avg Market Cap', \n",
    "                            y='Sector P/E', \n",
    "                            labels='ID', \n",
    "                            display_labels=True,\n",
    "                            title='BE 500 Members with Market Caps > $50B')\n",
    "display(scatter.set_style().show())\n",
    "display(grid)\n",
    "\n",
    "# # Step 5: Simplify the code and add comments"
   ]
  },
  {
   "cell_type": "markdown",
   "metadata": {},
   "source": [
    "----\n",
    "<p style=\"text-align:center;\">\n",
    "    Click on the links below to continue learning.<br>\n",
    "    <a href=\"3 Charting.ipynb\">&larr; Back to Charting</a>&emsp;&emsp;\n",
    "    <a href=\"#launch-project-top\">&uarr; Return to Top</a>&emsp;&emsp;\n",
    "    <a href=\"../3. Orbit/1 BQL for Asset Classes.ipynb\">Continue to Orbit: BQL for Asset Classes &rarr;</a>\n",
    "    <br>\n",
    "    <br>\n",
    "    <a href=\"../Welcome.ipynb#welcome-top\" style=\"font-size: 12px;\">Return to the Welcome Page</a>\n",
    "</p>"
   ]
  }
 ],
 "metadata": {
  "kernelspec": {
   "display_name": "Python 3 (sandboxed)",
   "language": "python",
   "name": "python3"
  },
  "language_info": {
   "codemirror_mode": {
    "name": "ipython",
    "version": 3
   },
   "file_extension": ".py",
   "mimetype": "text/x-python",
   "name": "python",
   "nbconvert_exporter": "python",
   "pygments_lexer": "ipython3",
   "version": "3.7.1"
  }
 },
 "nbformat": 4,
 "nbformat_minor": 4
}
