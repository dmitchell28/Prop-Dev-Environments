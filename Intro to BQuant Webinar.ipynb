{
 "cells": [
  {
   "cell_type": "markdown",
   "metadata": {
    "deletable": true,
    "editable": true
   },
   "source": [
    "# Bloomberg BQuant Webinar Series: Intro to BQuant\n",
    "\n",
    "This is a companion notebook to the Bloomberg [Intro to BQuant](https://blinks.bloomberg.com/screens/PLYR%20VOD%20329737029) webinar.  "
   ]
  },
  {
   "cell_type": "code",
   "execution_count": null,
   "metadata": {
    "collapsed": true,
    "deletable": true,
    "editable": true
   },
   "outputs": [],
   "source": [
    "import bql\n",
    "from ipywidgets import Button, VBox, HBox, Layout\n",
    "from IPython.display import display\n",
    "from bqwidgets import TickerAutoComplete, DataGrid\n",
    "import pandas as pd"
   ]
  },
  {
   "cell_type": "code",
   "execution_count": null,
   "metadata": {
    "collapsed": true,
    "deletable": true,
    "editable": true
   },
   "outputs": [],
   "source": [
    "def merge_dfs(response):\n",
    "    all_dfs = [item.df()[item.name] for item in response]\n",
    "    return pd.concat(all_dfs, axis=1)"
   ]
  },
  {
   "cell_type": "code",
   "execution_count": null,
   "metadata": {
    "collapsed": true,
    "deletable": true,
    "editable": true
   },
   "outputs": [],
   "source": [
    "bq = bql.Service()"
   ]
  },
  {
   "cell_type": "code",
   "execution_count": null,
   "metadata": {
    "collapsed": true,
    "deletable": true,
    "editable": true
   },
   "outputs": [],
   "source": [
    "input_ticker = TickerAutoComplete(value = 'UKX Index', yellow_keys = ['Index'], layout=Layout(width='150px'))\n",
    "run_button = Button(description = 'Run', layout=Layout(width='100px'))\n",
    "result_box = VBox([], layout=Layout(width='500px'))"
   ]
  },
  {
   "cell_type": "code",
   "execution_count": null,
   "metadata": {
    "collapsed": true,
    "deletable": true,
    "editable": true
   },
   "outputs": [],
   "source": [
    "def get_data(caller):\n",
    "    universe = bq.univ.members(input_ticker.value)\n",
    "    fields= {'Name' : bq.data.name(),\n",
    "             'Price' : bq.data.px_last(),\n",
    "             'P/E' : bq.data.pe_ratio(fill='prev')}\n",
    "    request = bql.Request(universe, fields)\n",
    "    resp = bq.execute(request)\n",
    "    column_defs = [{'headerName' : 'Ticker', 'field':'ID', 'width': 150},\n",
    "               {'headerName' : 'Name', 'field':'Name', 'width': 150},\n",
    "               {'headerName' : 'Price', 'field':'Price', 'width': 80},\n",
    "               {'headerName' : 'P/E', 'field':'P/E', 'width': 80}]\n",
    "    data = merge_dfs(resp)\n",
    "    dgrid = DataGrid(data=data.round(2).reset_index(), column_defs=column_defs)\n",
    "    result_box.children = [dgrid]\n",
    "run_button.on_click(get_data)"
   ]
  },
  {
   "cell_type": "code",
   "execution_count": null,
   "metadata": {
    "collapsed": false,
    "deletable": true,
    "editable": true
   },
   "outputs": [],
   "source": [
    "ui = VBox(layout=Layout(width='600px'))\n",
    "ui.children = [HBox([input_ticker, run_button]), result_box]\n",
    "display(ui)"
   ]
  }
 ],
 "metadata": {
  "kernelspec": {
   "display_name": "Python 3 (sandboxed)",
   "language": "python",
   "name": "python3"
  },
  "language_info": {
   "codemirror_mode": {
    "name": "ipython",
    "version": 3
   },
   "file_extension": ".py",
   "mimetype": "text/x-python",
   "name": "python",
   "nbconvert_exporter": "python",
   "pygments_lexer": "ipython3",
   "version": "3.5.5"
  }
 },
 "nbformat": 4,
 "nbformat_minor": 2
}
