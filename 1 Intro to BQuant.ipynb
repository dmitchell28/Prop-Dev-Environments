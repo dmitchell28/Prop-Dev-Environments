{
 "cells": [
  {
   "cell_type": "markdown",
   "metadata": {},
   "source": [
    "<a id=\"intro-top\"></a>\n",
    "<div style=\"width: 50px; height: 50px; border-radius: 50%; background: #27AE60; margin-bottom: 0px;\">\n",
    "    <img src=\"../img/Welcome Page/boot_camp.png\">\n",
    "</div>\n",
    "<h1 style=\"margin-top: 20px; margin-bottom: 5px; float:\">Introduction to BQuant<br><span style=\"color: orange; margin-bottom: 0px;\">Take Your First Steps in the Environment</span></h1>\n",
    "<h4 style=\"color: orange; margin-top: 0px;\">(25-min Read)</h4>"
   ]
  },
  {
   "cell_type": "markdown",
   "metadata": {},
   "source": [
    "By the end of this document, you will be able to:\n",
    "1. Describe the different components of the BQuant Environment\n",
    "1. Navigate some of the basic functions of the BQuant window\n",
    "1. Understand the typical development flow of a BQuant project\n",
    "1. Build and run your first project in just 20 lines of code!"
   ]
  },
  {
   "cell_type": "markdown",
   "metadata": {},
   "source": [
    "### Contents\n",
    "- [The Components of BQuant](#component-intro)\n",
    "    - [The Jupyter Notebook](#intro-1-1)\n",
    "    - [Python](#intro-1-2)\n",
    "    - [Markdown & HTML](#intro-1-3)\n",
    "    - [Bloomberg Query Language (BQL)](#intro-1-4)\n",
    "    - [Python Libraries](#intro-1-5)\n",
    "- [BQuant Project Flow](#project-flow)\n",
    "- [Run Your First App](#first-app)\n",
    "\n",
    "<a href=\"../Welcome.ipynb#welcome-top\">&larr; Back to the Welcome Page</a>&emsp; | &emsp;\n",
    "<a href=\"2 Python Basics.ipynb\">Continue to Boot Camp: Python Basics &rarr;</a>"
   ]
  },
  {
   "cell_type": "markdown",
   "metadata": {},
   "source": [
    "---\n",
    "<a id=\"component-intro\"></a>\n",
    "<h1>The Components of BQuant<br><span style=\"color: orange;\">Introduction</span></h1>"
   ]
  },
  {
   "cell_type": "markdown",
   "metadata": {},
   "source": [
    "The BQuant Platform is composed of several technologies. Some are proprietary to Bloomberg, while others are \"open-source,\" meaning that the project's source code is openly published and made freely available online. Each of these technological components serves an important function in the BQuant environment, and all are involved in building a successful project. You don't need to be an expert in all of BQuant's moving parts, but a general understanding of each component is crucial to developing on the platform.\n",
    "\n",
    "There are 5 key components to the BQuant Platform listed in the table below. Click on their names or keep scrolling in this document to learn more about each one."
   ]
  },
  {
   "cell_type": "markdown",
   "metadata": {},
   "source": [
    "<br>\n",
    "<table style=\"float: left;\">\n",
    "    <tr style=\"border-bottom: 1px solid #A4A5A4;\">\n",
    "        <th style=\"font-size: x-large; text-align: left; padding-left: 0px;\">BQuant Component</th>\n",
    "        <th style=\"font-size: x-large; border-left: 1px solid #A4A5A4; border-right: 1px solid #A4A5A4;\">Development</th>\n",
    "        <th style=\"font-size: x-large;\">Purpose</th>\n",
    "    </tr>\n",
    "    <tr>\n",
    "        <td><a href=\"#intro-1-1\" style=\"color: orange; font-size: large;\">1. Jupyter Notebook</a></td>\n",
    "        <td style=\"font-size: large; text-align: center; border-left: 1px solid #A4A5A4; border-right: 1px solid #A4A5A4;\">Open-Source</td>\n",
    "        <td style=\"font-size: large; text-align: center;\">The document that houses your BQuant project</td>\n",
    "    </tr>\n",
    "    <tr>\n",
    "        <td><a href=\"#intro-1-2\" style=\"color: orange; font-size: large;\">2. Python</a></td>\n",
    "        <td style=\"font-size: large; text-align: center; border-left: 1px solid #A4A5A4; border-right: 1px solid #A4A5A4;\">Open-Source</td>\n",
    "        <td style=\"font-size: large; text-align: center;\">The programming language used to build BQuant projects</td>\n",
    "    </tr>\n",
    "    <tr>\n",
    "        <td><a href=\"#intro-1-3\" style=\"color: orange; font-size: large;\">3. Markdown & HTML</a></td>\n",
    "        <td style=\"font-size: large; text-align: center; border-left: 1px solid #A4A5A4; border-right: 1px solid #A4A5A4;\">Open-Source</td>\n",
    "        <td style=\"font-size: large; text-align: center;\">Add descriptive text and structure to your project</td>\n",
    "    </tr>\n",
    "    <tr>\n",
    "        <td><a href=\"#intro-1-4\" style=\"color: orange; font-size: large;\">4. Bloomberg Query Language (BQL)</a></td>\n",
    "        <td style=\"font-size: large; text-align: center; border-left: 1px solid #A4A5A4; border-right: 1px solid #A4A5A4;\">Proprietary</td>\n",
    "        <td style=\"font-size: large; text-align: center;\">Fetch and analyze data from Bloomberg</td>\n",
    "    </tr>\n",
    "    <tr>\n",
    "        <td><a href=\"#intro-1-5\" style=\"color: orange; font-size: large;\">5. Python Libraries</a></td>\n",
    "        <td style=\"font-size: large; text-align: center; border-left: 1px solid #A4A5A4; border-right: 1px solid #A4A5A4;\">Open-Source & Proprietary</td>\n",
    "        <td style=\"font-size: large; text-align: center;\">Visualizations, analysis, etc.<br> Varies depending on the library</td>\n",
    "    </tr>\n",
    "</table>\n"
   ]
  },
  {
   "cell_type": "markdown",
   "metadata": {},
   "source": [
    "[&uarr; Return to Top](#intro-top)"
   ]
  },
  {
   "cell_type": "markdown",
   "metadata": {},
   "source": [
    "<a id=\"intro-1-1\"></a>\n",
    "<h1><span style=\"color: orange;\">The Jupyter Notebook</span></h1>"
   ]
  },
  {
   "cell_type": "markdown",
   "metadata": {},
   "source": [
    "The heart of the BQuant Platform is the Jupyter Notebook, an open-source application that allows you to create and share your BQuant projects. The document you're reading right now is a Jupyter Notebook! These notebooks contain live code, visualizations, and narrative text, and are used heavily throughout the data science community. All Jupyter Notebooks have a \".ipynb\" file extension.\n",
    "\n",
    "Notebooks are divided into \"cells,\" or blocks of code. As a developer, you can add or delete cells, rearrange their order, and change the type of code that appears in each cell. The text you're reading right now is in what's known as a \"Markdown\" cell, meaning that it contains descriptive text. Cells that aren't Markdown will be \"Code\" cells containing Python code to be run as part of your BQuant application."
   ]
  },
  {
   "cell_type": "markdown",
   "metadata": {},
   "source": [
    "<div style=\"border: 1px dotted orange; padding-left: 10px; padding-bottom: 10px;\">\n",
    "    <h3>&#9998; Try it out</h3>\n",
    "    <p>\n",
    "        Add and remove your first Jupyter Notebook cell by doing the following:\n",
    "        <ol>\n",
    "            <li>Click once on this text to select this Jupyter cell</li>\n",
    "            <li>Click the <img src=\"../img/Controls/add.png\"> button in the toolbar to add a new Jupyter cell below this one</li>\n",
    "            <li>Delete the cell by right-clicking and selecting \"Delete Cells\"</li>\n",
    "        </ol>\n",
    "    </p>\n",
    "    <br>\n",
    "    <img src=\"../img/Boot Camp/jupyterControls3.png\">\n",
    "</div>"
   ]
  },
  {
   "cell_type": "markdown",
   "metadata": {},
   "source": [
    "### &#9758; To find out more:\n",
    "\n",
    "You can find out more about Project Jupyter and the Jupyter Notebook at [jupyter.org](https://jupyter.org).\n",
    "\n",
    "Fun fact: When gravitational waves were first detected in 2015, the research was published in a Jupyter Notebook! You can find a copy of the research [here](https://colab.research.google.com/github/losc-tutorial/Data_Guide/blob/master/Guide_Notebook.ipynb)."
   ]
  },
  {
   "cell_type": "markdown",
   "metadata": {},
   "source": [
    "[&uarr; Return to Top](#intro-top)"
   ]
  },
  {
   "cell_type": "markdown",
   "metadata": {},
   "source": [
    "<a id=\"intro-1-2\"></a>\n",
    "<h1><span style=\"color: orange;\">Python</span></h1>"
   ]
  },
  {
   "cell_type": "markdown",
   "metadata": {},
   "source": [
    "Python is a popular programming language with applications ranging from web development, robotics, and data analysis. Python's syntax is relatively simple, making it much more readable and beginner-friendly than some other languages you may be familiar with. \n",
    "\n",
    "In the context of the BQuant platform, Python is used to perform complex analyses, create visualizations, and build interactive applications. All the cells in your Jupyter Notebook will either contain Markdown/HTML for descriptive text, or Python code for everything else. If you're new to Python, don't worry! It's one of the easiest languages to learn, and Bloomberg has many resources to help get you started. This guide will cover the basic Python code you'll need to get your first apps off the ground."
   ]
  },
  {
   "cell_type": "markdown",
   "metadata": {},
   "source": [
    "<div style=\"border: 1px dotted orange; padding-left: 10px; padding-bottom: 10px;\">\n",
    "    <h3>&#9998; Try it out</h3>\n",
    "    <p>\n",
    "        Add your first Python cell and write your first line of code by doing the following:\n",
    "        <ol>\n",
    "            <li>Click once on this text to select this Jupyter cell</li>\n",
    "            <li>Click the <img src=\"../img/Controls/add.png\"> button in the toolbar to add a new Jupyter cell below this one</li>\n",
    "            <li>The cell type should automatically be assigned to \"Code,\" but if not, change the type to \"Code\" in the dropdown</li>\n",
    "            <li>Type <code>print('Hello World!')</code> in the cell. This is a simple \"print\" statement in Python that will output text to the screen</li>\n",
    "            <li>Use the <img src=\"../img/Controls/run.png\"> button in the toolbar to run the cell and view your new creation!</li>\n",
    "            <li>Delete the cell if you want by right-clicking and selecting \"Delete Cells\"</li>\n",
    "        </ol>\n",
    "        Note that unlike Markdown cells, the Python code stays visible after you run the cell. This is one of the key features of Jupyter Notebooks: the ability to see both the code and the results simultaneously.\n",
    "    </p>\n",
    "    <br>\n",
    "    <img src=\"../img/Boot Camp/jupyterControls2.png\">\n",
    "</div>"
   ]
  },
  {
   "cell_type": "markdown",
   "metadata": {},
   "source": [
    "### &#9758; To find out more:\n",
    "\n",
    "Python is a HUGE topic. Developers can spend their whole careers in the language and still not know everything about it. The good news is that you don't need to be an expert in the langauge to use BQuant effectively. This training will give you an overview of the basics to get you started.\n",
    "\n",
    "If you want to read more about the language, [python.org](https://python.org) is always a good place to start. While coding, if you run into an error message that you don't recognize, try Googling it! There's a good chance another developer out there has had the same issue and may have even answered your question on [StackOverflow](https://stackoverflow.com/questions/tagged/python).\n",
    "\n",
    "Fun fact: NASA's Jet Propulsion Laboratory uses Python code to control the Mars rovers!"
   ]
  },
  {
   "cell_type": "markdown",
   "metadata": {},
   "source": [
    "[&uarr; Return to Top](#intro-top)"
   ]
  },
  {
   "cell_type": "markdown",
   "metadata": {},
   "source": [
    "<a id=\"intro-1-3\"></a>\n",
    "<h1><span style=\"color: orange;\">Markdown & HTML</span></h1>"
   ]
  },
  {
   "cell_type": "markdown",
   "metadata": {},
   "source": [
    "HTML is an acronym standing for \"Hyper Text Markup Language\" and is the standard language for creating Web pages. HTML is ubiquitous on the Web - every website you've ever visited has rendered HTML to your browser. Markdown is a lightweight markup language with user-friendly syntax. For BQuant purposes, you can think of Markdown as a kind-of simplified version of HTML.\n",
    "\n",
    "As you develop your Jupyter Notebooks, Markdown and HTML are handy tools for adding descriptive text and documenting your code. If you're already familiar with HTML, feel free to use it in your Markdown cells. You can even use in-line CSS styling to further customize the look and layout of your projects. \n",
    "\n",
    "Markdown cells are typically followed by the Python cells that they describe, as in the example screenshot below."
   ]
  },
  {
   "cell_type": "markdown",
   "metadata": {},
   "source": [
    "<h4 style=\"color: orange;\">Markdown & Python Example</h4>\n",
    "<img src=\"../img/Boot Camp/markdownExample.png\">"
   ]
  },
  {
   "cell_type": "markdown",
   "metadata": {},
   "source": [
    "<div style=\"border: 1px dotted orange; padding-left: 10px; padding-bottom: 10px;\">\n",
    "    <h3>&#9998; Try it out</h3>\n",
    "    <p>\n",
    "        Add and edit your first Markdown cell by doing the following:\n",
    "        <ol>\n",
    "            <li>Click once on this text to select this Jupyter cell</li>\n",
    "            <li>Click the <img src=\"../img/Controls/add.png\"> button in the toolbar to add a new Jupyter cell below this one</li>\n",
    "            <li>Use the dropdown box in the tool bar to change the cell type to \"Markdown\"</li>\n",
    "            <li>Type <code># Hello World!</code> in the cell. This will create a large heading in Markdown</li>\n",
    "            <li>Use the <img src=\"../img/Controls/run.png\"> button in the toolbar or press <code>Shift + Enter</code> to run the cell and view your new creation!</li>\n",
    "            <li>Double click the cell to resume editing. Below your Markdown code, use HTML to produce the same heading by typing <code>&lt;h1&gt;Hello World!&lt;/h1&gt;</code> and run the cell again.</li>\n",
    "            <li>Delete the cell if you want by right-clicking and selecting \"Delete Cells\"</li>\n",
    "        </ol>\n",
    "    </p>\n",
    "    <br>\n",
    "    <img src=\"../img/Boot Camp/jupyterControls.png\">\n",
    "</div>"
   ]
  },
  {
   "cell_type": "markdown",
   "metadata": {},
   "source": [
    "### &#9758; To find out more:\n",
    "\n",
    "Markdown features a user-friendly syntax and is incredibly easy to learn! Bookmark the [basic syntax guide](https://www.markdownguide.org/basic-syntax/) in your browser for future reference. Try experimenting with Markdown by adding some cells below this one. You can also double-click on any cell in this notebook to see the underlying HTML/Markdown that generates what appears on your screen."
   ]
  },
  {
   "cell_type": "markdown",
   "metadata": {},
   "source": [
    "[&uarr; Return to Top](#intro-top)"
   ]
  },
  {
   "cell_type": "markdown",
   "metadata": {},
   "source": [
    "<a id=\"intro-1-4\"></a>\n",
    "<h1><span style=\"color: orange;\">Bloomberg Query Language (BQL)</span></h1>"
   ]
  },
  {
   "cell_type": "markdown",
   "metadata": {},
   "source": [
    "You can't do data science without data. Enjoyable as they may be, Markdown and Python print statements can only get you so far in the BQuant environment. Every project you build will need data, and the Bloomberg Query Language (\"BQL\" for short) is the best way to retrieve, manipulate, and analyze data in BQuant. You can think of BQL as your access point to Bloomberg's wealth of information. Inside the BQuant environment, you will use BQL to send requests for information to Bloomberg servers and receive a packet of data in return.\n",
    "\n",
    "BQL is analogous to a waiter in a restaurant. As a restaurant patron, you place an order with a waiter who then relays that order to the kitchen. The kitchen prepares your order, and when your meal is ready, the kitchen notifies the waiter who will then return to your table with the completed order in hand. Similarly, when you make a request in BQL, BQL will relay that request to Bloomberg servers that store the data. If there are no errors, the server will process your request and BQL will return the data to you."
   ]
  },
  {
   "cell_type": "markdown",
   "metadata": {},
   "source": [
    "<img style=\"margin: auto; max-width: 40%; height: auto;\" src=\"../img/Boot Camp/bql_process.png\">"
   ]
  },
  {
   "cell_type": "markdown",
   "metadata": {},
   "source": [
    "BQL offers a few key advantages to developers. \n",
    "\n",
    "First, all the calculation and data processing is done at the server, meaning that you don't have to rely on the limited resources of your local computer to perform complex analyses. \n",
    "\n",
    "Second, BQL handles several data munging processes that normally cause headaches for developers. For example, consider a scenario in which you need to analyze time series data for two datasets reported at different intervals - one set of data is reported on a daily basis while the other is reported weekly. Without BQL, you would need to write code to synchronize the timestamps before you could visualize the data. Thankfully, BQL handles discrepancies like these with minimal instruction from the user."
   ]
  },
  {
   "cell_type": "markdown",
   "metadata": {},
   "source": [
    "<div style=\"border: 1px dotted orange; padding-left: 10px; padding-bottom: 10px;\">\n",
    "    <h3>&#9998; Try it out</h3>\n",
    "    <p>\n",
    "        Click on the Python cell below and use the <img src=\"../img/Controls/run.png\"> button to run it. The code will allow you to access BQL and retrieve the last 5 days of FTSE 100 prices.<br><br>For extra practice, add a new Python cell below this one and type the code you see below.\n",
    "    </p>\n",
    "</div>"
   ]
  },
  {
   "cell_type": "code",
   "execution_count": 1,
   "metadata": {},
   "outputs": [
    {
     "data": {
      "text/html": [
       "<div>\n",
       "<style scoped>\n",
       "    .dataframe tbody tr th:only-of-type {\n",
       "        vertical-align: middle;\n",
       "    }\n",
       "\n",
       "    .dataframe tbody tr th {\n",
       "        vertical-align: top;\n",
       "    }\n",
       "\n",
       "    .dataframe thead th {\n",
       "        text-align: right;\n",
       "    }\n",
       "</style>\n",
       "<table border=\"1\" class=\"dataframe\">\n",
       "  <thead>\n",
       "    <tr style=\"text-align: right;\">\n",
       "      <th></th>\n",
       "      <th>DATE</th>\n",
       "      <th>CURRENCY</th>\n",
       "      <th>Price</th>\n",
       "    </tr>\n",
       "    <tr>\n",
       "      <th>ID</th>\n",
       "      <th></th>\n",
       "      <th></th>\n",
       "      <th></th>\n",
       "    </tr>\n",
       "  </thead>\n",
       "  <tbody>\n",
       "    <tr>\n",
       "      <th>UKX Index</th>\n",
       "      <td>2020-11-25</td>\n",
       "      <td>GBP</td>\n",
       "      <td>6391.09</td>\n",
       "    </tr>\n",
       "    <tr>\n",
       "      <th>UKX Index</th>\n",
       "      <td>2020-11-26</td>\n",
       "      <td>GBP</td>\n",
       "      <td>6362.93</td>\n",
       "    </tr>\n",
       "    <tr>\n",
       "      <th>UKX Index</th>\n",
       "      <td>2020-11-27</td>\n",
       "      <td>GBP</td>\n",
       "      <td>6367.58</td>\n",
       "    </tr>\n",
       "    <tr>\n",
       "      <th>UKX Index</th>\n",
       "      <td>2020-11-30</td>\n",
       "      <td>GBP</td>\n",
       "      <td>6266.19</td>\n",
       "    </tr>\n",
       "  </tbody>\n",
       "</table>\n",
       "</div>"
      ],
      "text/plain": [
       "                DATE CURRENCY    Price\n",
       "ID                                    \n",
       "UKX Index 2020-11-25      GBP  6391.09\n",
       "UKX Index 2020-11-26      GBP  6362.93\n",
       "UKX Index 2020-11-27      GBP  6367.58\n",
       "UKX Index 2020-11-30      GBP  6266.19"
      ]
     },
     "execution_count": 1,
     "metadata": {},
     "output_type": "execute_result"
    }
   ],
   "source": [
    "# Start up the BQL service\n",
    "import bql\n",
    "bq = bql.Service()   # <-- create BQL service object\n",
    "\n",
    "# Establish the universe and data to request\n",
    "universe = 'UKX Index'\n",
    "prices = bq.data.px_last('-5D', '-0D').dropna()\n",
    "\n",
    "# create the request object and execute\n",
    "request = bql.Request(universe, {'Price': prices})\n",
    "response = bq.execute(request)\n",
    "\n",
    "# parse the response as a DataFrame and output to the screen\n",
    "response[0].df()"
   ]
  },
  {
   "cell_type": "markdown",
   "metadata": {},
   "source": [
    "### &#9758; To find out more:\n",
    "\n",
    "BQL is an important tool to leverage as you develop in the BQuant environment, but its syntax can be complex. The more you use BQL, the more familiar it will become, so don't be shy! For more example code snippets see our <a href=\"../exampleroot/1a54e18169d24618afc2226346108fb4/0 Welcome.ipynb\">BQL Function & Universe Guide</a> in the \"BQL Resources\" section of the Example Projects."
   ]
  },
  {
   "cell_type": "markdown",
   "metadata": {},
   "source": [
    "[&uarr; Return to Top](#intro-top)"
   ]
  },
  {
   "cell_type": "markdown",
   "metadata": {},
   "source": [
    "<a id=\"intro-1-5\"></a>\n",
    "<h1><span style=\"color: orange;\">Python Libraries</span></h1>"
   ]
  },
  {
   "cell_type": "markdown",
   "metadata": {},
   "source": [
    "Python libraries are simply pre-written, reusable chunks of code stored in a separate file. You can write your own libraries if you wish, but more often you'll want to access libraries written by others to save yourself a lot of work. In the context of BQuant, you will use pre-built Python libraries for BQL requests, data analysis, visualizations, and more.\n",
    "\n",
    "To access a Python library, simply write `import <insert library name>`. When starting a new project, it's good to get into the habit of importing all the libraries you'll need for the entire project in your first Python cell."
   ]
  },
  {
   "cell_type": "markdown",
   "metadata": {},
   "source": [
    "<div style=\"border: 1px dotted orange; padding-left: 10px; padding-bottom: 10px;\">\n",
    "    <h3>&#9998; Try it out</h3>\n",
    "    <p>\n",
    "        Click the Python cell below and use the <img src=\"../img/Controls/run.png\"> button to run it. This code will access a library called \"example_lib\" and will run a function from that library called <code>test_function</code>. You can see the underlying Python code for this library <a href=\"example_lib.py\">here</a>.\n",
    "    </p>\n",
    "</div>"
   ]
  },
  {
   "cell_type": "code",
   "execution_count": 2,
   "metadata": {},
   "outputs": [
    {
     "name": "stdout",
     "output_type": "stream",
     "text": [
      "\n",
      "This text came from a library!\n",
      "\n",
      "This text came from a library!\n",
      "\n",
      "This text came from a library!\n",
      "\n",
      "This text came from a library!\n",
      "\n",
      "This text came from a library!\n"
     ]
    }
   ],
   "source": [
    "# import the library for use in this project\n",
    "import example_lib\n",
    "\n",
    "# run a function from the imported library\n",
    "example_lib.test_function()"
   ]
  },
  {
   "cell_type": "markdown",
   "metadata": {},
   "source": [
    "### &#9758; To find out more:\n",
    "\n",
    "Most open-source libraries will have documentation available online. The most common libraries you'll use in BQuant may include:\n",
    "   - <a href=\"../exampleroot/1a54e18169d24618afc2226346108fb4/0 Welcome.ipynb\">bql</a> for retrieving data from Bloomberg\n",
    "   - [pandas](https://pandas.pydata.org/docs/) for manipulating DataFrames, spreadsheet-like data structures with rows and columns\n",
    "   - <a href=\"../exampleroot/341a99ff336b400695ccdd2b7212917d/0 Intro to ipydatagrid.ipynb\">ipydatagrid</a> for displaying interactive tables in your apps\n",
    "   - [ipywidgets](https://ipywidgets.readthedocs.io/en/latest/) for creating interactive buttons, dropdowns, and other widgets\n",
    "   - <a href=\"../exampleroot/2f85317198594ff0a9f8bf6cb8898c3d/BQViz Basics.ipynb\">bqviz</a> or a similar charting library to create stunning visualizations"
   ]
  },
  {
   "cell_type": "markdown",
   "metadata": {},
   "source": [
    "[&uarr; Return to Top](#intro-top)"
   ]
  },
  {
   "cell_type": "markdown",
   "metadata": {},
   "source": [
    "---\n",
    "<a id=\"project-flow\"></a>\n",
    "<h1>BQuant Project Flow<br><span style=\"color: orange;\">5-Step Process for Developing Your Projects</span></h1>"
   ]
  },
  {
   "cell_type": "markdown",
   "metadata": {},
   "source": [
    "Every project you develop in BQuant will follow the same basic 5-step process. Understanding the steps involved in development will help you build good programming habits and prevent you from getting lost in a sea of code as your projects become progressivly complex.\n",
    "\n",
    "### 1. Setup Environment\n",
    "First, import all the necessary libraries and create the BQL service object by calling `bq = bql.Service()`. While it's not required to import libraries at the top of the document, doing so will prevent you from trying to use a library before it's imported. Most Python developers import libraries at the top, so developing this habit will also make your code easier for others to understand. Avoid importing libraries you won't use. If you discover you need to import an additional library, simply add it to the first cell. Re-run this first cell if you add new libraries.\n",
    "\n",
    "### 2. Get Data from Bloomberg using BQL\n",
    "Once you have all the libraries your project needs, use BQL to fetch data from Bloomberg. This data will feed your analysis and populate any visualizations you create.\n",
    "\n",
    "### 3. Additional Data Munging (if necessary)\n",
    "Step 3 is not always necessary. It may be that the results of your BQL request are all that's needed to continue development. Occasionally, however, you may need to manipulate the DataFrame returned by BQL to reformat it before visualization or perform some additional analysis.\n",
    "\n",
    "### 4. User Interface & Visualizations\n",
    "A User Interface (UI) is what the end-user of your app will see. For some projects, the UI is just the Jupyter Notebook itself. For others, you may want the user to see a graphical display with charts, buttons, or other widgets while hiding the underlying code.\n",
    "\n",
    "### 5. Simplify, Document, & Publish\n",
    "Refactor any unnecessarily complex code. Finalize your project with code comments and Markdown cells to help others understand your project. Publish your app to your Terminal Launchpad or share with others at your firm."
   ]
  },
  {
   "cell_type": "markdown",
   "metadata": {},
   "source": [
    "[&uarr; Return to Top](#intro-top)"
   ]
  },
  {
   "cell_type": "markdown",
   "metadata": {},
   "source": [
    "---\n",
    "<a id=\"first-app\"></a>\n",
    "<h1>Run Your First App!<br><span style=\"color: orange;\">Build & Run a Simple Dashboard</span></h1>"
   ]
  },
  {
   "cell_type": "markdown",
   "metadata": {},
   "source": [
    "Click on the cell below and use the <img src=\"../img/Controls/run.png\"> button in the toolbar to run your first app! Once the chart is displayed, the user can hover over or click on the legend to filter to plot."
   ]
  },
  {
   "cell_type": "code",
   "execution_count": null,
   "metadata": {},
   "outputs": [],
   "source": [
    "# Step 1: Setup Environment\n",
    "# import the necessary Python libraries and setup the BQL service object\n",
    "import bql\n",
    "import bqviz\n",
    "bq = bql.Service()    # <-- BQL service object\n",
    "\n",
    "# Step 2: Get Data From Bloomberg using BQL\n",
    "indices = ['US Index', 'DE Index', 'JP Index', 'GB Index', 'SG Index']\n",
    "price_one_year_ago = bq.data.px_last('-1Y', '-1Y', fill='PREV')\n",
    "ttm_prices = bq.data.px_last('-1Y', '0D', fill='PREV')\n",
    "cumulative_rtn = ttm_prices / price_one_year_ago - 1\n",
    "request = bql.Request(indices, {'Cumulative Return': cumulative_rtn})\n",
    "response = bq.execute(request)\n",
    "dataframe = response[0].df()\n",
    "\n",
    "# Step 3: Additional Data Munging\n",
    "# pivot the dataframe to get each index in its own column\n",
    "dataframe = dataframe.reset_index().pivot(index='DATE', columns='ID', values='Cumulative Return')\n",
    "\n",
    "# Step 4: User Interface & Visualizations\n",
    "chart = bqviz.LinePlot(df=dataframe, title='TTM World Equity Markets')\n",
    "chart.set_style()\n",
    "chart.show()"
   ]
  },
  {
   "cell_type": "markdown",
   "metadata": {},
   "source": [
    "----\n",
    "<p style=\"text-align:center;\">\n",
    "    Click on the links below to continue learning.<br>\n",
    "    <a href=\"../Welcome.ipynb#welcome-top\">&larr; Back to the Welcome Page</a>&emsp;&emsp;\n",
    "    <a href=\"#intro-top\">&uarr; Return to Top</a>&emsp;&emsp;\n",
    "    <a href=\"2 Python Basics.ipynb\">Continue to Boot Camp: Python Basics &rarr;</a>\n",
    "</p>"
   ]
  }
 ],
 "metadata": {
  "kernelspec": {
   "display_name": "Python 3 (sandboxed)",
   "language": "python",
   "name": "python3"
  },
  "language_info": {
   "codemirror_mode": {
    "name": "ipython",
    "version": 3
   },
   "file_extension": ".py",
   "mimetype": "text/x-python",
   "name": "python",
   "nbconvert_exporter": "python",
   "pygments_lexer": "ipython3",
   "version": "3.7.1"
  }
 },
 "nbformat": 4,
 "nbformat_minor": 4
}
