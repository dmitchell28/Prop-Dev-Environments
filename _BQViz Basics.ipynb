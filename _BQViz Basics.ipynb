{
 "cells": [
  {
   "cell_type": "markdown",
   "metadata": {
    "deletable": true,
    "editable": true
   },
   "source": [
    "# bqviz Basics\n",
    "\n",
    "bqviz is a Bloomberg wrapper for the bqplot charting library that helps you easily create dynamic data visualizations, often with just a single line of code.\n",
    "\n",
    "## About this Example Notebook\n",
    "\n",
    "This example notebook includes reference and plot examples for the different object types available in bqviz. Before running any of the examples, be sure to see the _Example Setup_ section for information on importing the bqviz library and sample data.\n",
    "\n",
    "[Example Setup](#importing)  \n",
    "[Base Plot Objects](#baseplot)  \n",
    "&nbsp;&nbsp;&nbsp;&nbsp;&nbsp;&nbsp;[LinePlot](#line)  \n",
    "&nbsp;&nbsp;&nbsp;&nbsp;&nbsp;&nbsp;[BarPlot](#bar)  \n",
    "&nbsp;&nbsp;&nbsp;&nbsp;&nbsp;&nbsp;[KDEPlot](#kde)  \n",
    "&nbsp;&nbsp;&nbsp;&nbsp;&nbsp;&nbsp;[HistPlot](#hist)  \n",
    "[Specialized Objects](#specialized)  \n",
    "&nbsp;&nbsp;&nbsp;&nbsp;&nbsp;&nbsp;[DistributionPlot](#distribution)  \n",
    "&nbsp;&nbsp;&nbsp;&nbsp;&nbsp;&nbsp;[OverUnderPlot](#overunder)  \n",
    "[Compound Objects](#compound)  \n",
    "&nbsp;&nbsp;&nbsp;&nbsp;&nbsp;&nbsp;[ComparisonPlot](#comparison)  \n",
    "&nbsp;&nbsp;&nbsp;&nbsp;&nbsp;&nbsp;[MultiComparisonPlot](#multicomparison)  \n",
    "[Grid Objects](#gridobj)  \n",
    "&nbsp;&nbsp;&nbsp;&nbsp;&nbsp;&nbsp;[GridPlot](#grid)  \n",
    "&nbsp;&nbsp;&nbsp;&nbsp;&nbsp;&nbsp;[MultiGridPlot](#multigrid)  \n",
    "[Interactive Objects](#intobj)  \n",
    "&nbsp;&nbsp;&nbsp;&nbsp;&nbsp;&nbsp;[InteractiveLinePlot](#intline)  \n",
    "&nbsp;&nbsp;&nbsp;&nbsp;&nbsp;&nbsp;[InteractiveScatterPlot](#intscatter)  \n",
    "[Related Resources](#related)  "
   ]
  },
  {
   "cell_type": "markdown",
   "metadata": {
    "deletable": true,
    "editable": true
   },
   "source": [
    "## Example Setup<a name=\"importing\"></a>\n",
    "Before running any of the examples in this notebook, you need to import the bqviz library and sample data."
   ]
  },
  {
   "cell_type": "code",
   "execution_count": null,
   "metadata": {
    "collapsed": false,
    "deletable": true,
    "editable": true,
    "jupyter": {
     "outputs_hidden": false
    }
   },
   "outputs": [],
   "source": [
    "import bqviz as bqv\n",
    "from bqviz.sample_data import *"
   ]
  },
  {
   "cell_type": "markdown",
   "metadata": {},
   "source": [
    "<br>  \n",
    "### Applying Bloomberg Styles with set_style()<a name=\"set_style\"></a>\n",
    "\n",
    "The bqviz `set_style()` method, which we use throughout this notebook, allows you to easily apply standard Bloomberg styling to bqviz plots. For more information on modifying specific plot elements, see the <a href = \"exampleroot/0ded4f903f3841e5b8df19c578294193/bqviz Plot Customization.ipynb\">bqviz Plot Customization</a> example project.  \n",
    "<br>"
   ]
  },
  {
   "cell_type": "markdown",
   "metadata": {
    "deletable": true,
    "editable": true
   },
   "source": [
    "## Base Plot Objects<a name=\"baseplot\"></a>\n",
    "Base plot objects are the basic building block unit of bqviz. All plot objects in bqviz take dataframes as inputs and scale to fill the entire available horizontal space. You can create custom base plot objects by creating class that inherits from BasePlot. All plot objects need a .show() method to be displayed."
   ]
  },
  {
   "cell_type": "markdown",
   "metadata": {
    "deletable": true,
    "editable": true
   },
   "source": [
    "### LinePlot Object<a name=\"line\"></a>\n",
    "The `LinePlot` object creates a line chart from all columns in the input dataframe. Each of the columns must contain numerical data, but the dataframe's index can be numbers, dates, or strings."
   ]
  },
  {
   "cell_type": "code",
   "execution_count": 2,
   "metadata": {
    "collapsed": false,
    "deletable": true,
    "editable": true,
    "jupyter": {
     "outputs_hidden": false
    }
   },
   "outputs": [
    {
     "data": {
      "text/html": [
       "<div>\n",
       "<table border=\"1\" class=\"dataframe\">\n",
       "  <thead>\n",
       "    <tr style=\"text-align: right;\">\n",
       "      <th></th>\n",
       "      <th>Benchmark</th>\n",
       "      <th>Sharpe Ratio</th>\n",
       "      <th>Sortino</th>\n",
       "      <th>Total Returns</th>\n",
       "    </tr>\n",
       "  </thead>\n",
       "  <tbody>\n",
       "    <tr>\n",
       "      <th>2012-01-31</th>\n",
       "      <td>0.108338</td>\n",
       "      <td>0.007833</td>\n",
       "      <td>0.079679</td>\n",
       "      <td>0.382291</td>\n",
       "    </tr>\n",
       "    <tr>\n",
       "      <th>2012-02-29</th>\n",
       "      <td>0.109467</td>\n",
       "      <td>0.034100</td>\n",
       "      <td>-0.008712</td>\n",
       "      <td>0.375641</td>\n",
       "    </tr>\n",
       "    <tr>\n",
       "      <th>2012-03-31</th>\n",
       "      <td>0.127633</td>\n",
       "      <td>0.002486</td>\n",
       "      <td>-0.050788</td>\n",
       "      <td>0.380217</td>\n",
       "    </tr>\n",
       "    <tr>\n",
       "      <th>2012-04-30</th>\n",
       "      <td>0.156750</td>\n",
       "      <td>0.061014</td>\n",
       "      <td>-0.082341</td>\n",
       "      <td>0.378427</td>\n",
       "    </tr>\n",
       "    <tr>\n",
       "      <th>2012-05-31</th>\n",
       "      <td>0.174218</td>\n",
       "      <td>0.056343</td>\n",
       "      <td>0.056734</td>\n",
       "      <td>0.404381</td>\n",
       "    </tr>\n",
       "  </tbody>\n",
       "</table>\n",
       "</div>"
      ],
      "text/plain": [
       "            Benchmark  Sharpe Ratio   Sortino  Total Returns\n",
       "2012-01-31   0.108338      0.007833  0.079679       0.382291\n",
       "2012-02-29   0.109467      0.034100 -0.008712       0.375641\n",
       "2012-03-31   0.127633      0.002486 -0.050788       0.380217\n",
       "2012-04-30   0.156750      0.061014 -0.082341       0.378427\n",
       "2012-05-31   0.174218      0.056343  0.056734       0.404381"
      ]
     },
     "execution_count": 2,
     "metadata": {},
     "output_type": "execute_result"
    }
   ],
   "source": [
    "# For reference, display the first few rows of our dataframe\n",
    "multidf.head()"
   ]
  },
  {
   "cell_type": "code",
   "execution_count": 3,
   "metadata": {
    "collapsed": false,
    "deletable": true,
    "editable": true,
    "jupyter": {
     "outputs_hidden": false
    }
   },
   "outputs": [
    {
     "data": {
      "application/vnd.jupyter.widget-view+json": {
       "model_id": "9bf868ac5e084276823d9b8ecafd257e",
       "version_major": 2,
       "version_minor": 0
      },
      "text/plain": [
       "GridBox(children=(Figure(animation_duration=500, axes=[Axis(color='white', grid_color='#3c3c3c', grid_lines='d…"
      ]
     },
     "metadata": {},
     "output_type": "display_data"
    }
   ],
   "source": [
    "# Pass the dataframe to LinePlot and apply Bloomberg styles\n",
    "ex1 = bqv.LinePlot(multidf).set_style()\n",
    "\n",
    "# Display the plot\n",
    "ex1.show()"
   ]
  },
  {
   "cell_type": "markdown",
   "metadata": {
    "deletable": true,
    "editable": true
   },
   "source": [
    "<div style=\"text-align: right\"><a href=\"#About-this-Example-Notebook\">Return to Top ↑</a></div>"
   ]
  },
  {
   "cell_type": "markdown",
   "metadata": {
    "deletable": true,
    "editable": true
   },
   "source": [
    "### BarPlot Object<a name=\"bar\"></a>\n",
    "The `BarPlot` object creates a bar chart from all columns in the input dataframe. Each of the columns must contain numerical data, but the dataframe's index can be numbers, dates, or strings."
   ]
  },
  {
   "cell_type": "code",
   "execution_count": 4,
   "metadata": {
    "collapsed": false,
    "deletable": true,
    "editable": true,
    "jupyter": {
     "outputs_hidden": false
    }
   },
   "outputs": [
    {
     "data": {
      "text/html": [
       "<div>\n",
       "<table border=\"1\" class=\"dataframe\">\n",
       "  <thead>\n",
       "    <tr style=\"text-align: right;\">\n",
       "      <th></th>\n",
       "      <th>Benchmark</th>\n",
       "      <th>Sharpe Ratio</th>\n",
       "      <th>Sortino</th>\n",
       "      <th>Total Returns</th>\n",
       "    </tr>\n",
       "  </thead>\n",
       "  <tbody>\n",
       "    <tr>\n",
       "      <th>2012-01-31</th>\n",
       "      <td>0.108338</td>\n",
       "      <td>0.007833</td>\n",
       "      <td>0.079679</td>\n",
       "      <td>0.382291</td>\n",
       "    </tr>\n",
       "    <tr>\n",
       "      <th>2012-02-29</th>\n",
       "      <td>0.109467</td>\n",
       "      <td>0.034100</td>\n",
       "      <td>-0.008712</td>\n",
       "      <td>0.375641</td>\n",
       "    </tr>\n",
       "    <tr>\n",
       "      <th>2012-03-31</th>\n",
       "      <td>0.127633</td>\n",
       "      <td>0.002486</td>\n",
       "      <td>-0.050788</td>\n",
       "      <td>0.380217</td>\n",
       "    </tr>\n",
       "    <tr>\n",
       "      <th>2012-04-30</th>\n",
       "      <td>0.156750</td>\n",
       "      <td>0.061014</td>\n",
       "      <td>-0.082341</td>\n",
       "      <td>0.378427</td>\n",
       "    </tr>\n",
       "    <tr>\n",
       "      <th>2012-05-31</th>\n",
       "      <td>0.174218</td>\n",
       "      <td>0.056343</td>\n",
       "      <td>0.056734</td>\n",
       "      <td>0.404381</td>\n",
       "    </tr>\n",
       "  </tbody>\n",
       "</table>\n",
       "</div>"
      ],
      "text/plain": [
       "            Benchmark  Sharpe Ratio   Sortino  Total Returns\n",
       "2012-01-31   0.108338      0.007833  0.079679       0.382291\n",
       "2012-02-29   0.109467      0.034100 -0.008712       0.375641\n",
       "2012-03-31   0.127633      0.002486 -0.050788       0.380217\n",
       "2012-04-30   0.156750      0.061014 -0.082341       0.378427\n",
       "2012-05-31   0.174218      0.056343  0.056734       0.404381"
      ]
     },
     "execution_count": 4,
     "metadata": {},
     "output_type": "execute_result"
    }
   ],
   "source": [
    "# For reference, display the first few rows of our dataframe\n",
    "multidf2.head()"
   ]
  },
  {
   "cell_type": "code",
   "execution_count": 5,
   "metadata": {
    "collapsed": false,
    "deletable": true,
    "editable": true,
    "jupyter": {
     "outputs_hidden": false
    }
   },
   "outputs": [
    {
     "data": {
      "application/vnd.jupyter.widget-view+json": {
       "model_id": "58af7a99e05145419c24e53cef5923c2",
       "version_major": 2,
       "version_minor": 0
      },
      "text/plain": [
       "GridBox(children=(Figure(animation_duration=500, axes=[Axis(color='white', grid_color='#3c3c3c', grid_lines='d…"
      ]
     },
     "metadata": {},
     "output_type": "display_data"
    }
   ],
   "source": [
    "# Pass the dataframe to BarPlot\n",
    "# Specify the legend outside of plot\n",
    "# Slice the dataframe to include bars for the first three data rows\n",
    "# Apply Bloomberg styles\n",
    "ex2 = bqv.BarPlot(multidf2[:3], \n",
    "                  legend='outside', \n",
    "                  convert_dates=True, \n",
    "                  padding=.3).set_style()\n",
    "\n",
    "# Display the plot\n",
    "ex2.show()"
   ]
  },
  {
   "cell_type": "markdown",
   "metadata": {
    "deletable": true,
    "editable": true
   },
   "source": [
    "#### Create a Stacked Bar Chart\n",
    "By default, the `bar_type` parameter value is 'grouped'. If you want to stack the bars in each group, you can change the value to 'stacked'."
   ]
  },
  {
   "cell_type": "code",
   "execution_count": 6,
   "metadata": {
    "collapsed": false,
    "deletable": true,
    "editable": true,
    "jupyter": {
     "outputs_hidden": false
    }
   },
   "outputs": [
    {
     "data": {
      "application/vnd.jupyter.widget-view+json": {
       "model_id": "0af4b06facaf488c9dcabba3ef98ea87",
       "version_major": 2,
       "version_minor": 0
      },
      "text/plain": [
       "GridBox(children=(Figure(animation_duration=500, axes=[Axis(color='white', grid_color='#3c3c3c', grid_lines='d…"
      ]
     },
     "metadata": {},
     "output_type": "display_data"
    }
   ],
   "source": [
    "# Use the bar_type parameter to stack the bars\n",
    "ex3 = bqv.BarPlot(multidf2[:3], \n",
    "            bar_type='stacked', \n",
    "            legend='outside', \n",
    "            convert_dates=True, \n",
    "            padding=.3).set_style()\n",
    "\n",
    "# Display the plot\n",
    "ex3.show()"
   ]
  },
  {
   "cell_type": "markdown",
   "metadata": {
    "deletable": true,
    "editable": true
   },
   "source": [
    "<div style=\"text-align: right\"><a href=\"#About-this-Example-Notebook\">Return to Top ↑</a></div>"
   ]
  },
  {
   "cell_type": "markdown",
   "metadata": {
    "deletable": true,
    "editable": true
   },
   "source": [
    "### KDEPlot Object<a name=\"kde\"></a>\n",
    "The `KDEPlot` object creates line plot that calculates and displays the kernel density estimation (KDE) for columns in a dataframe."
   ]
  },
  {
   "cell_type": "code",
   "execution_count": 7,
   "metadata": {
    "collapsed": false,
    "deletable": true,
    "editable": true,
    "jupyter": {
     "outputs_hidden": false
    }
   },
   "outputs": [
    {
     "data": {
      "application/vnd.jupyter.widget-view+json": {
       "model_id": "429cb09face24f0d86961995d0132bd5",
       "version_major": 2,
       "version_minor": 0
      },
      "text/plain": [
       "GridBox(children=(Figure(animation_duration=500, axes=[Axis(color='white', grid_color='#3c3c3c', grid_lines='d…"
      ]
     },
     "metadata": {},
     "output_type": "display_data"
    }
   ],
   "source": [
    "# Pass the dataframe to KDEPlot and apply Bloomberg styles\n",
    "ex4 = bqv.KDEPlot(multidf).set_style()\n",
    "\n",
    "# Show the plot\n",
    "ex4.show()"
   ]
  },
  {
   "cell_type": "markdown",
   "metadata": {
    "deletable": true,
    "editable": true
   },
   "source": [
    "#### Adjusting the KDE Bandwidth\n",
    "By default, the KDE Bandwidth is 0.018. You can adjust the value with the `bandwidth` parameter."
   ]
  },
  {
   "cell_type": "code",
   "execution_count": 8,
   "metadata": {
    "collapsed": false,
    "deletable": true,
    "editable": true,
    "jupyter": {
     "outputs_hidden": false
    }
   },
   "outputs": [
    {
     "data": {
      "application/vnd.jupyter.widget-view+json": {
       "model_id": "db122002ec0a450d9dff0a8c186b98d3",
       "version_major": 2,
       "version_minor": 0
      },
      "text/plain": [
       "GridBox(children=(Figure(animation_duration=500, axes=[Axis(color='white', grid_color='#3c3c3c', grid_lines='d…"
      ]
     },
     "metadata": {},
     "output_type": "display_data"
    }
   ],
   "source": [
    "# Use the bandwidth parameter to modify the KDE bandwidth\n",
    "ex5 = bqv.KDEPlot(multidf, bandwidth=0.009).set_style()\n",
    "\n",
    "# Display the plot\n",
    "ex5.show()"
   ]
  },
  {
   "cell_type": "markdown",
   "metadata": {
    "deletable": true,
    "editable": true
   },
   "source": [
    "<div style=\"text-align: right\"><a href=\"#About-this-Example-Notebook\">Return to Top ↑</a></div>"
   ]
  },
  {
   "cell_type": "markdown",
   "metadata": {
    "deletable": true,
    "editable": true
   },
   "source": [
    "### HistPlot Object<a name=\"hist\"></a>\n",
    "The `HistPlot` object creates a histogram for all columns in the input dataframe."
   ]
  },
  {
   "cell_type": "code",
   "execution_count": 9,
   "metadata": {
    "collapsed": false,
    "deletable": true,
    "editable": true,
    "jupyter": {
     "outputs_hidden": false
    }
   },
   "outputs": [
    {
     "data": {
      "application/vnd.jupyter.widget-view+json": {
       "model_id": "1b6f4f5170b640038ffd1ad0db9fa087",
       "version_major": 2,
       "version_minor": 0
      },
      "text/plain": [
       "Figure(animation_duration=500, axes=[Axis(scale=LinearScale()), Axis(label_offset='5ex', orientation='vertical…"
      ]
     },
     "metadata": {},
     "output_type": "display_data"
    }
   ],
   "source": [
    "# Pass the dataframe to HistPlot and apply Bloomberg styles\n",
    "ex6 = bqv.HistPlot(df)\n",
    "\n",
    "ex6.show()\n",
    "# Display the plot"
   ]
  },
  {
   "cell_type": "markdown",
   "metadata": {
    "deletable": true,
    "editable": true
   },
   "source": [
    "#### Modifying the Number of Bins\n",
    "By default, `HistPlot` groups values into 10 bins. You can modify this setting using the `bins` parameter."
   ]
  },
  {
   "cell_type": "code",
   "execution_count": 10,
   "metadata": {
    "collapsed": false,
    "deletable": true,
    "editable": true,
    "jupyter": {
     "outputs_hidden": false
    }
   },
   "outputs": [
    {
     "data": {
      "application/vnd.jupyter.widget-view+json": {
       "model_id": "e907f317b6684a6b9348ad757d4e0b0d",
       "version_major": 2,
       "version_minor": 0
      },
      "text/plain": [
       "Figure(animation_duration=500, axes=[Axis(scale=LinearScale()), Axis(label_offset='5ex', orientation='vertical…"
      ]
     },
     "metadata": {},
     "output_type": "display_data"
    }
   ],
   "source": [
    "# Use the bins parameter to increase the number of bins to 25\n",
    "ex7 = bqv.HistPlot(df, bins=25)\n",
    "\n",
    "# Display the plot\n",
    "ex7.show()"
   ]
  },
  {
   "cell_type": "markdown",
   "metadata": {
    "deletable": true,
    "editable": true
   },
   "source": [
    "<div style=\"text-align: right\"><a href=\"#About-this-Example-Notebook\">Return to Top ↑</a></div>"
   ]
  },
  {
   "cell_type": "markdown",
   "metadata": {
    "deletable": true,
    "editable": true
   },
   "source": [
    "## Specialized Plot Objects <a name=\"specialized\"></a>"
   ]
  },
  {
   "cell_type": "markdown",
   "metadata": {},
   "source": [
    "### DistributionPlot<a name='distribution'></a>\n",
    "The `DistributionPlot` object takes a single-column DataFrame as an input and plots the distribution of values. The plot also shows quartiles as dashed vertical lines."
   ]
  },
  {
   "cell_type": "code",
   "execution_count": 10,
   "metadata": {},
   "outputs": [
    {
     "data": {
      "application/vnd.jupyter.widget-view+json": {
       "model_id": "43f74688fc364c37a4978ceb8429133c",
       "version_major": 2,
       "version_minor": 0
      },
      "text/plain": [
       "GridBox(children=(Figure(axes=[Axis(color='white', grid_color='#3c3c3c', grid_lines='dashed', scale=LinearScal…"
      ]
     },
     "metadata": {},
     "output_type": "display_data"
    }
   ],
   "source": [
    "# Pass the dataframe to DistributionPlot and apply Bloomberg styles\n",
    "ex8 = bqv.DistributionPlot(df).set_style()\n",
    "\n",
    "# Display the plot\n",
    "ex8.show()"
   ]
  },
  {
   "cell_type": "markdown",
   "metadata": {
    "deletable": true,
    "editable": true
   },
   "source": [
    "### OverUnderPlot Object<a name=\"overunder\"></a>\n",
    "The `OverUnderPlot` object creates a bar chart that displays positive values in green, and negative values in red."
   ]
  },
  {
   "cell_type": "code",
   "execution_count": 11,
   "metadata": {
    "collapsed": false,
    "deletable": true,
    "editable": true,
    "jupyter": {
     "outputs_hidden": false
    }
   },
   "outputs": [
    {
     "data": {
      "application/vnd.jupyter.widget-view+json": {
       "model_id": "3dddf6ccc4704108bd564f2e412afee4",
       "version_major": 2,
       "version_minor": 0
      },
      "text/plain": [
       "GridBox(children=(Figure(animation_duration=500, axes=[Axis(color='white', grid_color='#3c3c3c', grid_lines='d…"
      ]
     },
     "metadata": {},
     "output_type": "display_data"
    }
   ],
   "source": [
    "# Pass the dataframe to OverUnderPlot and apply Bloomberg styles\n",
    "ex9 = bqv.OverUnderPlot(df3).set_style()\n",
    "\n",
    "# Display the plot\n",
    "ex9.show()"
   ]
  },
  {
   "cell_type": "markdown",
   "metadata": {
    "deletable": true,
    "editable": true
   },
   "source": [
    "<div style=\"text-align: right\"><a href=\"#About-this-Example-Notebook\">Return to Top ↑</a></div>"
   ]
  },
  {
   "cell_type": "markdown",
   "metadata": {
    "deletable": true,
    "editable": true
   },
   "source": [
    "## Compound Plot Objects<a name=\"compound\"></a>\n",
    "Compound plot objects return multiple base plots as one object."
   ]
  },
  {
   "cell_type": "markdown",
   "metadata": {
    "deletable": true,
    "editable": true
   },
   "source": [
    "### ComparisonPlot Object<a name=\"comparison\"></a>\n",
    "The `ComparisonPlot` object creates a plot that compares the first two columns of the input dataframe and plots the difference between them using the `OverUnderPlot` object."
   ]
  },
  {
   "cell_type": "code",
   "execution_count": 12,
   "metadata": {
    "collapsed": false,
    "deletable": true,
    "editable": true,
    "jupyter": {
     "outputs_hidden": false
    }
   },
   "outputs": [
    {
     "data": {
      "text/html": [
       "<div>\n",
       "<table border=\"1\" class=\"dataframe\">\n",
       "  <thead>\n",
       "    <tr style=\"text-align: right;\">\n",
       "      <th></th>\n",
       "      <th>Total Returns</th>\n",
       "      <th>Benchmark</th>\n",
       "    </tr>\n",
       "  </thead>\n",
       "  <tbody>\n",
       "    <tr>\n",
       "      <th>2012-01-31</th>\n",
       "      <td>0.108338</td>\n",
       "      <td>0.382291</td>\n",
       "    </tr>\n",
       "    <tr>\n",
       "      <th>2012-02-29</th>\n",
       "      <td>0.114518</td>\n",
       "      <td>0.375641</td>\n",
       "    </tr>\n",
       "    <tr>\n",
       "      <th>2012-03-31</th>\n",
       "      <td>0.137734</td>\n",
       "      <td>0.380217</td>\n",
       "    </tr>\n",
       "    <tr>\n",
       "      <th>2012-04-30</th>\n",
       "      <td>0.171902</td>\n",
       "      <td>0.378427</td>\n",
       "    </tr>\n",
       "    <tr>\n",
       "      <th>2012-05-31</th>\n",
       "      <td>0.194420</td>\n",
       "      <td>0.404381</td>\n",
       "    </tr>\n",
       "  </tbody>\n",
       "</table>\n",
       "</div>"
      ],
      "text/plain": [
       "            Total Returns  Benchmark\n",
       "2012-01-31       0.108338   0.382291\n",
       "2012-02-29       0.114518   0.375641\n",
       "2012-03-31       0.137734   0.380217\n",
       "2012-04-30       0.171902   0.378427\n",
       "2012-05-31       0.194420   0.404381"
      ]
     },
     "execution_count": 12,
     "metadata": {},
     "output_type": "execute_result"
    }
   ],
   "source": [
    "# For reference, display the first few rows of our dataframe\n",
    "compare.head()"
   ]
  },
  {
   "cell_type": "code",
   "execution_count": 13,
   "metadata": {
    "collapsed": false,
    "deletable": true,
    "editable": true,
    "jupyter": {
     "outputs_hidden": false
    }
   },
   "outputs": [
    {
     "data": {
      "application/vnd.jupyter.widget-view+json": {
       "model_id": "596ce3f4bf7f4fd596f40c295f730c70",
       "version_major": 2,
       "version_minor": 0
      },
      "text/plain": [
       "VBox(children=(GridBox(children=(Figure(animation_duration=500, axes=[Axis(scale=DateScale()), Axis(label_offs…"
      ]
     },
     "metadata": {},
     "output_type": "display_data"
    }
   ],
   "source": [
    "# Pass the dataframe to ComparisonPlot\n",
    "ex10 = bqv.ComparisonPlot(compare)\n",
    "\n",
    "# Display the plot\n",
    "ex10.show()"
   ]
  },
  {
   "cell_type": "markdown",
   "metadata": {
    "deletable": true,
    "editable": true
   },
   "source": [
    "<div style=\"text-align: right\"><a href=\"#About-this-Example-Notebook\">Return to Top ↑</a></div>"
   ]
  },
  {
   "cell_type": "markdown",
   "metadata": {
    "deletable": true,
    "editable": true
   },
   "source": [
    "### MultiComparisonPlot Object<a name=\"multicomparison\"></a>\n",
    "The `MultiComparisonPlot` object creates a series of charts that compare two dataframes that contain the same columns."
   ]
  },
  {
   "cell_type": "code",
   "execution_count": 14,
   "metadata": {
    "collapsed": false,
    "deletable": true,
    "editable": true,
    "jupyter": {
     "outputs_hidden": false
    }
   },
   "outputs": [
    {
     "data": {
      "text/html": [
       "<div>\n",
       "<table border=\"1\" class=\"dataframe\">\n",
       "  <thead>\n",
       "    <tr style=\"text-align: right;\">\n",
       "      <th></th>\n",
       "      <th>Total Return 1M</th>\n",
       "      <th>Sharpe Ratio 1M</th>\n",
       "      <th>STD 1M</th>\n",
       "    </tr>\n",
       "  </thead>\n",
       "  <tbody>\n",
       "    <tr>\n",
       "      <th>2017-05-01</th>\n",
       "      <td>0.034385</td>\n",
       "      <td>4.295259</td>\n",
       "      <td>12.215002</td>\n",
       "    </tr>\n",
       "    <tr>\n",
       "      <th>2017-05-02</th>\n",
       "      <td>0.032884</td>\n",
       "      <td>3.924377</td>\n",
       "      <td>11.968048</td>\n",
       "    </tr>\n",
       "    <tr>\n",
       "      <th>2017-05-03</th>\n",
       "      <td>0.006454</td>\n",
       "      <td>0.710112</td>\n",
       "      <td>10.937137</td>\n",
       "    </tr>\n",
       "    <tr>\n",
       "      <th>2017-05-04</th>\n",
       "      <td>-0.014175</td>\n",
       "      <td>-1.354572</td>\n",
       "      <td>11.674405</td>\n",
       "    </tr>\n",
       "    <tr>\n",
       "      <th>2017-05-05</th>\n",
       "      <td>0.006676</td>\n",
       "      <td>0.706119</td>\n",
       "      <td>11.483651</td>\n",
       "    </tr>\n",
       "  </tbody>\n",
       "</table>\n",
       "</div>"
      ],
      "text/plain": [
       "            Total Return 1M  Sharpe Ratio 1M     STD 1M\n",
       "2017-05-01         0.034385         4.295259  12.215002\n",
       "2017-05-02         0.032884         3.924377  11.968048\n",
       "2017-05-03         0.006454         0.710112  10.937137\n",
       "2017-05-04        -0.014175        -1.354572  11.674405\n",
       "2017-05-05         0.006676         0.706119  11.483651"
      ]
     },
     "execution_count": 14,
     "metadata": {},
     "output_type": "execute_result"
    }
   ],
   "source": [
    "# For reference, display the first few rows of our first dataframe\n",
    "port1.head()"
   ]
  },
  {
   "cell_type": "code",
   "execution_count": 15,
   "metadata": {
    "collapsed": false,
    "deletable": true,
    "editable": true,
    "jupyter": {
     "outputs_hidden": false
    }
   },
   "outputs": [
    {
     "data": {
      "text/html": [
       "<div>\n",
       "<table border=\"1\" class=\"dataframe\">\n",
       "  <thead>\n",
       "    <tr style=\"text-align: right;\">\n",
       "      <th></th>\n",
       "      <th>Total Return 1M</th>\n",
       "      <th>Sharpe Ratio 1M</th>\n",
       "      <th>STD 1M</th>\n",
       "    </tr>\n",
       "  </thead>\n",
       "  <tbody>\n",
       "    <tr>\n",
       "      <th>2017-05-01</th>\n",
       "      <td>0.041182</td>\n",
       "      <td>4.218886</td>\n",
       "      <td>15.691455</td>\n",
       "    </tr>\n",
       "    <tr>\n",
       "      <th>2017-05-02</th>\n",
       "      <td>0.048283</td>\n",
       "      <td>4.939427</td>\n",
       "      <td>15.404227</td>\n",
       "    </tr>\n",
       "    <tr>\n",
       "      <th>2017-05-03</th>\n",
       "      <td>0.057726</td>\n",
       "      <td>6.416939</td>\n",
       "      <td>14.938827</td>\n",
       "    </tr>\n",
       "    <tr>\n",
       "      <th>2017-05-04</th>\n",
       "      <td>0.068827</td>\n",
       "      <td>7.970267</td>\n",
       "      <td>15.294357</td>\n",
       "    </tr>\n",
       "    <tr>\n",
       "      <th>2017-05-05</th>\n",
       "      <td>0.080077</td>\n",
       "      <td>9.755473</td>\n",
       "      <td>15.522940</td>\n",
       "    </tr>\n",
       "  </tbody>\n",
       "</table>\n",
       "</div>"
      ],
      "text/plain": [
       "            Total Return 1M  Sharpe Ratio 1M     STD 1M\n",
       "2017-05-01         0.041182         4.218886  15.691455\n",
       "2017-05-02         0.048283         4.939427  15.404227\n",
       "2017-05-03         0.057726         6.416939  14.938827\n",
       "2017-05-04         0.068827         7.970267  15.294357\n",
       "2017-05-05         0.080077         9.755473  15.522940"
      ]
     },
     "execution_count": 15,
     "metadata": {},
     "output_type": "execute_result"
    }
   ],
   "source": [
    "# Display the first few rows of our second dataframe\n",
    "port2.head()"
   ]
  },
  {
   "cell_type": "code",
   "execution_count": 16,
   "metadata": {
    "collapsed": false,
    "deletable": true,
    "editable": true,
    "jupyter": {
     "outputs_hidden": false
    }
   },
   "outputs": [
    {
     "data": {
      "application/vnd.jupyter.widget-view+json": {
       "model_id": "c57973e6ae2343018b41e424f5ab9ba1",
       "version_major": 2,
       "version_minor": 0
      },
      "text/plain": [
       "VBox(children=(GridBox(children=(Figure(animation_duration=500, axes=[Axis(scale=DateScale()), Axis(label_offs…"
      ]
     },
     "metadata": {},
     "output_type": "display_data"
    }
   ],
   "source": [
    "# Pass the dataframe to MultiComparisonPlot\n",
    "ex11 = bqv.MultiComparisonPlot(port1, port2)\n",
    "\n",
    "# Display the plot\n",
    "ex11.show()"
   ]
  },
  {
   "cell_type": "markdown",
   "metadata": {
    "deletable": true,
    "editable": true
   },
   "source": [
    "#### Modifying the Legend Titles\n",
    "You can specify the titles that appear in the chart legends by passing a two-item list to the `titles` parameter."
   ]
  },
  {
   "cell_type": "code",
   "execution_count": 17,
   "metadata": {
    "collapsed": false,
    "deletable": true,
    "editable": true,
    "jupyter": {
     "outputs_hidden": false
    }
   },
   "outputs": [
    {
     "data": {
      "application/vnd.jupyter.widget-view+json": {
       "model_id": "dcbe1c36291144dcabd693590e28bc52",
       "version_major": 2,
       "version_minor": 0
      },
      "text/plain": [
       "VBox(children=(GridBox(children=(Figure(animation_duration=500, axes=[Axis(scale=DateScale()), Axis(label_offs…"
      ]
     },
     "metadata": {},
     "output_type": "display_data"
    }
   ],
   "source": [
    "# Define a list with the title values\n",
    "legend_titles =['Portfolio ABC', 'Portfolio XYZ']\n",
    "\n",
    "# Pass the list to the titles parameter\n",
    "ex12 = bqv.MultiComparisonPlot(port1, port2, titles=legend_titles)\n",
    "\n",
    "# Display the plot\n",
    "ex12.show()"
   ]
  },
  {
   "cell_type": "markdown",
   "metadata": {
    "deletable": true,
    "editable": true
   },
   "source": [
    "<div style=\"text-align: right\"><a href=\"#About-this-Example-Notebook\">Return to Top ↑</a></div>"
   ]
  },
  {
   "cell_type": "markdown",
   "metadata": {
    "deletable": true,
    "editable": true
   },
   "source": [
    "## Grid Objects<a name=\"gridobj\"></a>\n",
    "Grid objects return a grid of plots based on the contents of the input dataframe."
   ]
  },
  {
   "cell_type": "markdown",
   "metadata": {
    "deletable": true,
    "editable": true
   },
   "source": [
    "### GridPlot Object<a name=\"grid\"></a>\n",
    "The `GridPlot` object creates a grid of plots, one for each column of the dataframe. By default, `GridPlot` displays line charts. However, you modify the parameters to specify the chart type and other settings. You can even specify different types for each chart in the grid."
   ]
  },
  {
   "cell_type": "code",
   "execution_count": 18,
   "metadata": {
    "collapsed": false,
    "deletable": true,
    "editable": true,
    "jupyter": {
     "outputs_hidden": false
    }
   },
   "outputs": [
    {
     "data": {
      "text/html": [
       "<div>\n",
       "<table border=\"1\" class=\"dataframe\">\n",
       "  <thead>\n",
       "    <tr style=\"text-align: right;\">\n",
       "      <th></th>\n",
       "      <th>Kurtosis</th>\n",
       "      <th>Max Drawdown</th>\n",
       "      <th>Min Monthly Return</th>\n",
       "      <th>Num Down Months</th>\n",
       "      <th>Num Up Months</th>\n",
       "      <th>STD</th>\n",
       "      <th>Sharpe Ratio</th>\n",
       "    </tr>\n",
       "  </thead>\n",
       "  <tbody>\n",
       "    <tr>\n",
       "      <th>10Y</th>\n",
       "      <td>6.323227</td>\n",
       "      <td>-0.623990</td>\n",
       "      <td>-0.210469</td>\n",
       "      <td>59.0</td>\n",
       "      <td>61.0</td>\n",
       "      <td>24.577489</td>\n",
       "      <td>0.113116</td>\n",
       "    </tr>\n",
       "    <tr>\n",
       "      <th>7Y</th>\n",
       "      <td>4.276133</td>\n",
       "      <td>-0.310234</td>\n",
       "      <td>-0.123869</td>\n",
       "      <td>43.0</td>\n",
       "      <td>41.0</td>\n",
       "      <td>20.941999</td>\n",
       "      <td>0.276904</td>\n",
       "    </tr>\n",
       "    <tr>\n",
       "      <th>5Y</th>\n",
       "      <td>5.002312</td>\n",
       "      <td>-0.250786</td>\n",
       "      <td>-0.123869</td>\n",
       "      <td>28.0</td>\n",
       "      <td>32.0</td>\n",
       "      <td>17.654553</td>\n",
       "      <td>0.460304</td>\n",
       "    </tr>\n",
       "    <tr>\n",
       "      <th>4Y</th>\n",
       "      <td>6.911667</td>\n",
       "      <td>-0.250786</td>\n",
       "      <td>-0.068332</td>\n",
       "      <td>25.0</td>\n",
       "      <td>23.0</td>\n",
       "      <td>16.624516</td>\n",
       "      <td>0.262758</td>\n",
       "    </tr>\n",
       "    <tr>\n",
       "      <th>3Y</th>\n",
       "      <td>7.426839</td>\n",
       "      <td>-0.250786</td>\n",
       "      <td>-0.068332</td>\n",
       "      <td>21.0</td>\n",
       "      <td>15.0</td>\n",
       "      <td>17.238591</td>\n",
       "      <td>-0.068121</td>\n",
       "    </tr>\n",
       "    <tr>\n",
       "      <th>2Y</th>\n",
       "      <td>6.838185</td>\n",
       "      <td>-0.230915</td>\n",
       "      <td>-0.068332</td>\n",
       "      <td>14.0</td>\n",
       "      <td>10.0</td>\n",
       "      <td>19.155323</td>\n",
       "      <td>0.016386</td>\n",
       "    </tr>\n",
       "    <tr>\n",
       "      <th>1Y</th>\n",
       "      <td>8.844477</td>\n",
       "      <td>-0.137219</td>\n",
       "      <td>-0.067093</td>\n",
       "      <td>6.0</td>\n",
       "      <td>6.0</td>\n",
       "      <td>21.014644</td>\n",
       "      <td>-0.011215</td>\n",
       "    </tr>\n",
       "  </tbody>\n",
       "</table>\n",
       "</div>"
      ],
      "text/plain": [
       "     Kurtosis  Max Drawdown  Min Monthly Return  Num Down Months  \\\n",
       "10Y  6.323227     -0.623990           -0.210469             59.0   \n",
       "7Y   4.276133     -0.310234           -0.123869             43.0   \n",
       "5Y   5.002312     -0.250786           -0.123869             28.0   \n",
       "4Y   6.911667     -0.250786           -0.068332             25.0   \n",
       "3Y   7.426839     -0.250786           -0.068332             21.0   \n",
       "2Y   6.838185     -0.230915           -0.068332             14.0   \n",
       "1Y   8.844477     -0.137219           -0.067093              6.0   \n",
       "\n",
       "     Num Up Months        STD  Sharpe Ratio  \n",
       "10Y           61.0  24.577489      0.113116  \n",
       "7Y            41.0  20.941999      0.276904  \n",
       "5Y            32.0  17.654553      0.460304  \n",
       "4Y            23.0  16.624516      0.262758  \n",
       "3Y            15.0  17.238591     -0.068121  \n",
       "2Y            10.0  19.155323      0.016386  \n",
       "1Y             6.0  21.014644     -0.011215  "
      ]
     },
     "execution_count": 18,
     "metadata": {},
     "output_type": "execute_result"
    }
   ],
   "source": [
    "# For reference, display the example tear sheet dataframe\n",
    "tear_sheet2"
   ]
  },
  {
   "cell_type": "code",
   "execution_count": 19,
   "metadata": {
    "collapsed": false,
    "deletable": true,
    "editable": true,
    "jupyter": {
     "outputs_hidden": false
    }
   },
   "outputs": [
    {
     "data": {
      "application/vnd.jupyter.widget-view+json": {
       "model_id": "4b5e18e85014400db2000ba91358f45c",
       "version_major": 2,
       "version_minor": 0
      },
      "text/plain": [
       "HBox(children=(VBox(children=(GridBox(children=(Figure(animation_duration=500, axes=[Axis(scale=OrdinalScale()…"
      ]
     },
     "metadata": {},
     "output_type": "display_data"
    }
   ],
   "source": [
    "# Pass the dataframe to GridPlot\n",
    "ex13 = bqv.GridPlot(tear_sheet2)\n",
    "\n",
    "# Display the plot\n",
    "ex13.show()"
   ]
  },
  {
   "cell_type": "markdown",
   "metadata": {
    "deletable": true,
    "editable": true
   },
   "source": [
    "#### Specifying the Plot Type for All Plots in the Grid\n",
    "The default value for the `plots` parameter is 'LinePlot'. You can pass any of the [base plot objects](#baseplot) to specify the chart type for the entire grid."
   ]
  },
  {
   "cell_type": "code",
   "execution_count": 20,
   "metadata": {
    "collapsed": false,
    "deletable": true,
    "editable": true,
    "jupyter": {
     "outputs_hidden": false
    }
   },
   "outputs": [
    {
     "data": {
      "application/vnd.jupyter.widget-view+json": {
       "model_id": "b09e50bfa6214801aa2dbacb1fcefa62",
       "version_major": 2,
       "version_minor": 0
      },
      "text/plain": [
       "HBox(children=(VBox(children=(GridBox(children=(Figure(animation_duration=500, axes=[Axis(scale=OrdinalScale()…"
      ]
     },
     "metadata": {},
     "output_type": "display_data"
    }
   ],
   "source": [
    "# Use the plots parameter to specify the BarPlot object for all charts\n",
    "ex14 = bqv.GridPlot(tear_sheet2, plots=bqv.BarPlot)\n",
    "\n",
    "# Display the plot\n",
    "ex14.show()"
   ]
  },
  {
   "cell_type": "markdown",
   "metadata": {
    "deletable": true,
    "editable": true
   },
   "source": [
    "#### Specifying a Different Plot Type for Each Grid Index\n",
    "If you want to specify different chart types for each chart in the grid, you can pass a list of base plot objects to the `plots` parameter."
   ]
  },
  {
   "cell_type": "code",
   "execution_count": 21,
   "metadata": {
    "collapsed": false,
    "deletable": true,
    "editable": true,
    "jupyter": {
     "outputs_hidden": false
    }
   },
   "outputs": [
    {
     "data": {
      "application/vnd.jupyter.widget-view+json": {
       "model_id": "d6512dbc2d994dedb8182fb4198c6003",
       "version_major": 2,
       "version_minor": 0
      },
      "text/plain": [
       "HBox(children=(VBox(children=(GridBox(children=(Figure(animation_duration=500, axes=[Axis(scale=OrdinalScale()…"
      ]
     },
     "metadata": {},
     "output_type": "display_data"
    }
   ],
   "source": [
    "# Define a list of base plot objects\n",
    "grid = [bqv.LinePlot, \n",
    "        bqv.BarPlot, \n",
    "        bqv.LinePlot, \n",
    "        bqv.BarPlot, \n",
    "        bqv.LinePlot, \n",
    "        bqv.BarPlot, \n",
    "        bqv.LinePlot]\n",
    "\n",
    "# Pass the list to the plots parameter\n",
    "ex15 = bqv.GridPlot(tear_sheet2, plots=grid)\n",
    "\n",
    "# Display the plot\n",
    "ex15.show()"
   ]
  },
  {
   "cell_type": "markdown",
   "metadata": {
    "deletable": true,
    "editable": true
   },
   "source": [
    "#### Modifying the Number and Width of Grid Columns\n",
    "You can set the number of columns in the grid with the `cols` parameter, and the width of the columns with the `width` parameter."
   ]
  },
  {
   "cell_type": "code",
   "execution_count": 22,
   "metadata": {
    "collapsed": false,
    "deletable": true,
    "editable": true,
    "jupyter": {
     "outputs_hidden": false
    }
   },
   "outputs": [
    {
     "data": {
      "application/vnd.jupyter.widget-view+json": {
       "model_id": "6185bd161c534c288ffbbfd2f435b70c",
       "version_major": 2,
       "version_minor": 0
      },
      "text/plain": [
       "HBox(children=(VBox(children=(GridBox(children=(Figure(animation_duration=500, axes=[Axis(scale=OrdinalScale()…"
      ]
     },
     "metadata": {},
     "output_type": "display_data"
    }
   ],
   "source": [
    "# Set the number of columns to 2\n",
    "# Set the relative column widths to 70/30\n",
    "ex16 = bqv.GridPlot(tear_sheet2, plots=grid, cols=2, widths=['70%', '30%'])\n",
    "\n",
    "# Display the plot\n",
    "ex16.show()"
   ]
  },
  {
   "cell_type": "markdown",
   "metadata": {
    "deletable": true,
    "editable": true
   },
   "source": [
    "<div style=\"text-align: right\"><a href=\"#About-this-Example-Notebook\">Return to Top ↑</a></div>"
   ]
  },
  {
   "cell_type": "markdown",
   "metadata": {
    "deletable": true,
    "editable": true
   },
   "source": [
    "### MultiGridPlot Object<a name=\"multigrid\"></a>\n",
    "MultiGridPlot creates a grid plot that allows you to specify plot type and which columns are displayed by passing a list of base plot objects."
   ]
  },
  {
   "cell_type": "code",
   "execution_count": 23,
   "metadata": {
    "collapsed": false,
    "deletable": true,
    "editable": true,
    "jupyter": {
     "outputs_hidden": false
    }
   },
   "outputs": [
    {
     "data": {
      "text/html": [
       "<div>\n",
       "<table border=\"1\" class=\"dataframe\">\n",
       "  <thead>\n",
       "    <tr style=\"text-align: right;\">\n",
       "      <th></th>\n",
       "      <th>Kurtosis</th>\n",
       "      <th>Max Drawdown</th>\n",
       "      <th>Min Monthly Return</th>\n",
       "      <th>Num Down Months</th>\n",
       "      <th>Num Up Months</th>\n",
       "      <th>STD</th>\n",
       "      <th>Sharpe Ratio</th>\n",
       "    </tr>\n",
       "  </thead>\n",
       "  <tbody>\n",
       "    <tr>\n",
       "      <th>10Y</th>\n",
       "      <td>6.323227</td>\n",
       "      <td>-0.623990</td>\n",
       "      <td>-0.210469</td>\n",
       "      <td>59.0</td>\n",
       "      <td>61.0</td>\n",
       "      <td>24.577489</td>\n",
       "      <td>0.113116</td>\n",
       "    </tr>\n",
       "    <tr>\n",
       "      <th>7Y</th>\n",
       "      <td>4.276133</td>\n",
       "      <td>-0.310234</td>\n",
       "      <td>-0.123869</td>\n",
       "      <td>43.0</td>\n",
       "      <td>41.0</td>\n",
       "      <td>20.941999</td>\n",
       "      <td>0.276904</td>\n",
       "    </tr>\n",
       "    <tr>\n",
       "      <th>5Y</th>\n",
       "      <td>5.002312</td>\n",
       "      <td>-0.250786</td>\n",
       "      <td>-0.123869</td>\n",
       "      <td>28.0</td>\n",
       "      <td>32.0</td>\n",
       "      <td>17.654553</td>\n",
       "      <td>0.460304</td>\n",
       "    </tr>\n",
       "    <tr>\n",
       "      <th>4Y</th>\n",
       "      <td>6.911667</td>\n",
       "      <td>-0.250786</td>\n",
       "      <td>-0.068332</td>\n",
       "      <td>25.0</td>\n",
       "      <td>23.0</td>\n",
       "      <td>16.624516</td>\n",
       "      <td>0.262758</td>\n",
       "    </tr>\n",
       "    <tr>\n",
       "      <th>3Y</th>\n",
       "      <td>7.426839</td>\n",
       "      <td>-0.250786</td>\n",
       "      <td>-0.068332</td>\n",
       "      <td>21.0</td>\n",
       "      <td>15.0</td>\n",
       "      <td>17.238591</td>\n",
       "      <td>-0.068121</td>\n",
       "    </tr>\n",
       "    <tr>\n",
       "      <th>2Y</th>\n",
       "      <td>6.838185</td>\n",
       "      <td>-0.230915</td>\n",
       "      <td>-0.068332</td>\n",
       "      <td>14.0</td>\n",
       "      <td>10.0</td>\n",
       "      <td>19.155323</td>\n",
       "      <td>0.016386</td>\n",
       "    </tr>\n",
       "    <tr>\n",
       "      <th>1Y</th>\n",
       "      <td>8.844477</td>\n",
       "      <td>-0.137219</td>\n",
       "      <td>-0.067093</td>\n",
       "      <td>6.0</td>\n",
       "      <td>6.0</td>\n",
       "      <td>21.014644</td>\n",
       "      <td>-0.011215</td>\n",
       "    </tr>\n",
       "  </tbody>\n",
       "</table>\n",
       "</div>"
      ],
      "text/plain": [
       "     Kurtosis  Max Drawdown  Min Monthly Return  Num Down Months  \\\n",
       "10Y  6.323227     -0.623990           -0.210469             59.0   \n",
       "7Y   4.276133     -0.310234           -0.123869             43.0   \n",
       "5Y   5.002312     -0.250786           -0.123869             28.0   \n",
       "4Y   6.911667     -0.250786           -0.068332             25.0   \n",
       "3Y   7.426839     -0.250786           -0.068332             21.0   \n",
       "2Y   6.838185     -0.230915           -0.068332             14.0   \n",
       "1Y   8.844477     -0.137219           -0.067093              6.0   \n",
       "\n",
       "     Num Up Months        STD  Sharpe Ratio  \n",
       "10Y           61.0  24.577489      0.113116  \n",
       "7Y            41.0  20.941999      0.276904  \n",
       "5Y            32.0  17.654553      0.460304  \n",
       "4Y            23.0  16.624516      0.262758  \n",
       "3Y            15.0  17.238591     -0.068121  \n",
       "2Y            10.0  19.155323      0.016386  \n",
       "1Y             6.0  21.014644     -0.011215  "
      ]
     },
     "execution_count": 23,
     "metadata": {},
     "output_type": "execute_result"
    }
   ],
   "source": [
    "# For reference, display the example tear sheet dataframe\n",
    "tear_sheet2"
   ]
  },
  {
   "cell_type": "code",
   "execution_count": 24,
   "metadata": {
    "collapsed": false,
    "deletable": true,
    "editable": true,
    "jupyter": {
     "outputs_hidden": false
    }
   },
   "outputs": [
    {
     "data": {
      "application/vnd.jupyter.widget-view+json": {
       "model_id": "c3200c726bca4290834409304eec326a",
       "version_major": 2,
       "version_minor": 0
      },
      "text/plain": [
       "HBox(children=(VBox(children=(GridBox(children=(Figure(animation_duration=500, axes=[Axis(scale=OrdinalScale()…"
      ]
     },
     "metadata": {},
     "output_type": "display_data"
    }
   ],
   "source": [
    "# Create a list of base plot objects with the syntax:\n",
    "# (base plot object, title as string, list of column names)\n",
    "plots = [\n",
    "    (bqv.LinePlot, 'Plot 1', ['Min Monthly Return', 'Max Drawdown']),\n",
    "    (bqv.BarPlot, 'Plot 2', ['Num Up Months', 'Num Down Months'])\n",
    "]\n",
    "\n",
    "# Pass the dataframe and the list MultiGridPlot\n",
    "# Specify two columns\n",
    "ex17 = bqv.MultiGridPlot(tear_sheet2, plots, cols=2)\n",
    "\n",
    "# Display the plot\n",
    "ex17.show()"
   ]
  },
  {
   "cell_type": "markdown",
   "metadata": {
    "deletable": true,
    "editable": true
   },
   "source": [
    "<div style=\"text-align: right\"><a href=\"#About-this-Example-Notebook\">Return to Top ↑</a></div>"
   ]
  },
  {
   "cell_type": "markdown",
   "metadata": {
    "deletable": true,
    "editable": true
   },
   "source": [
    "## Interactive Objects<a name=\"intobj\"></a>\n",
    "Interactive allow you to easily create interactive plots with a single line of code. All plots in interactive objects have built-in widgets that can be hidden and displayed elsewhere in the notebook. You can also use attributes to modify plot values."
   ]
  },
  {
   "cell_type": "markdown",
   "metadata": {
    "deletable": true,
    "editable": true
   },
   "source": [
    "### InteractiveLinePlot Object <a name=\"intline\"></a>\n",
    "The `InteractiveLinePlot` object creates an interactive visualization for all of the columns in the input dataframe. You can select one or more columns using the control widgets, which are displayed below the chart by default."
   ]
  },
  {
   "cell_type": "code",
   "execution_count": null,
   "metadata": {
    "collapsed": false,
    "deletable": true,
    "editable": true,
    "jupyter": {
     "outputs_hidden": false
    }
   },
   "outputs": [],
   "source": [
    "# For reference, display the first few rows of our dataframe\n",
    "multidf.head()"
   ]
  },
  {
   "cell_type": "code",
   "execution_count": null,
   "metadata": {
    "collapsed": false,
    "deletable": true,
    "editable": true,
    "jupyter": {
     "outputs_hidden": false
    }
   },
   "outputs": [],
   "source": [
    "# Pass the dataframe to InteractiveLinePlot\n",
    "ex18 = bqv.InteractiveLinePlot(multidf)\n",
    "\n",
    "# Display the plot\n",
    "ex18.show()"
   ]
  },
  {
   "cell_type": "markdown",
   "metadata": {
    "deletable": true,
    "editable": true
   },
   "source": [
    "#### Hiding and Moving Control Widgets\n",
    "You can hide the control widgets and then access them in other cells within the notebook by using the `_lines` and `_range` attributes."
   ]
  },
  {
   "cell_type": "code",
   "execution_count": 28,
   "metadata": {
    "collapsed": false,
    "deletable": true,
    "editable": true,
    "jupyter": {
     "outputs_hidden": false
    }
   },
   "outputs": [
    {
     "data": {
      "application/vnd.jupyter.widget-view+json": {
       "model_id": "0aef86bea3d74c1ca06935089a6a3015",
       "version_major": 2,
       "version_minor": 0
      },
      "text/plain": [
       "VBox(children=(Box(children=(Figure(animation_duration=500, axes=[Axis(scale=DateScale()), Axis(label_offset='…"
      ]
     },
     "metadata": {},
     "output_type": "display_data"
    }
   ],
   "source": [
    "# Set the hide_controls attribute value to True\n",
    "int_line = bqv.InteractiveLinePlot(multidf, hide_controls=True)\n",
    "\n",
    "# Display the plot\n",
    "int_line.show()"
   ]
  },
  {
   "cell_type": "code",
   "execution_count": 29,
   "metadata": {
    "collapsed": false,
    "deletable": true,
    "editable": true,
    "jupyter": {
     "outputs_hidden": false
    }
   },
   "outputs": [
    {
     "data": {
      "application/vnd.jupyter.widget-view+json": {
       "model_id": "0835b19337d44ec5bb9923825cf4178c",
       "version_major": 2,
       "version_minor": 0
      },
      "text/plain": [
       "SelectMultiple(description='Columns', options=('Benchmark', 'Sharpe Ratio', 'Sortino', 'Total Returns'), value…"
      ]
     },
     "metadata": {},
     "output_type": "display_data"
    }
   ],
   "source": [
    "# In a different notebook cell, call the _lines attribute for the chart object\n",
    "int_line._lines"
   ]
  },
  {
   "cell_type": "code",
   "execution_count": 30,
   "metadata": {
    "collapsed": false,
    "deletable": true,
    "editable": true,
    "jupyter": {
     "outputs_hidden": false
    }
   },
   "outputs": [
    {
     "data": {
      "application/vnd.jupyter.widget-view+json": {
       "model_id": "62519a08af9f4b678cef0c1aa40fc373",
       "version_major": 2,
       "version_minor": 0
      },
      "text/plain": [
       "SelectionSlider(description='Start: ', layout=Layout(width='33%'), options=(datetime.date(2011, 10, 31), datet…"
      ]
     },
     "metadata": {},
     "output_type": "display_data"
    }
   ],
   "source": [
    "# In a different notebook cell, call the _startrange attribute for the chart object\n",
    "int_line._startrange"
   ]
  },
  {
   "cell_type": "code",
   "execution_count": 31,
   "metadata": {
    "collapsed": false,
    "deletable": true,
    "editable": true,
    "jupyter": {
     "outputs_hidden": false
    }
   },
   "outputs": [
    {
     "data": {
      "application/vnd.jupyter.widget-view+json": {
       "model_id": "e8a7b95ec6864eeaa3ae75cf057297f8",
       "version_major": 2,
       "version_minor": 0
      },
      "text/plain": [
       "SelectionSlider(description='End: ', index=99, layout=Layout(width='33%'), options=(datetime.date(2011, 10, 31…"
      ]
     },
     "metadata": {},
     "output_type": "display_data"
    }
   ],
   "source": [
    "# In a different notebook cell, call the _endrange attribute for the chart object\n",
    "int_line._endrange"
   ]
  },
  {
   "cell_type": "markdown",
   "metadata": {
    "deletable": true,
    "editable": true
   },
   "source": [
    "#### Using Attributes to Modify Plot Values\n",
    "You can also use the `.cols`, `.start`, `.end`, and `.range` attributes to update the plot with new column selection and range information. `start` and `end` can be specific values known to be in the DataFrame's index or you access the index directly from the `._data` attribute.\n",
    "\n",
    "Uncomment individual lines below to see examples:"
   ]
  },
  {
   "cell_type": "code",
   "execution_count": 32,
   "metadata": {
    "deletable": true,
    "editable": true
   },
   "outputs": [],
   "source": [
    "# int_line.cols = ['Benchmark', 'Sortino']\n",
    "# int_line.start = pd.to_datetime('2011-06-30')\n",
    "# int_line.end = pd.to_datetime('2014-06-30')\n",
    "# int_line.range = (pd.to_datetime('2011-01-20'), pd.to_datetime('2011-06-30'))\n",
    "# int_line.start = int_line._data.index[40]"
   ]
  },
  {
   "cell_type": "markdown",
   "metadata": {
    "deletable": true,
    "editable": true
   },
   "source": [
    "<div style=\"text-align: right\"><a href=\"#About-this-Example-Notebook\">Return to Top ↑</a></div>"
   ]
  },
  {
   "cell_type": "markdown",
   "metadata": {
    "deletable": true,
    "editable": true
   },
   "source": [
    "### InteractiveScatterPlot Object<a name=\"intscatter\"></a>\n",
    "The `InteractiveScatterPlot` object an interactive visualization that allows the you to select what content is displayed on the X and Y axes. As with all the `InteractiveLinePlot` object, the control widgets can be hidden and displayed in different cells within the notebook."
   ]
  },
  {
   "cell_type": "code",
   "execution_count": 27,
   "metadata": {
    "collapsed": false,
    "deletable": true,
    "editable": true,
    "jupyter": {
     "outputs_hidden": false
    }
   },
   "outputs": [
    {
     "data": {
      "application/vnd.jupyter.widget-view+json": {
       "model_id": "663ae774ba5d4539903e97f7998cdc84",
       "version_major": 2,
       "version_minor": 0
      },
      "text/plain": [
       "VBox(children=(Box(children=(Figure(axes=[Axis(label='Benchmark', scale=LinearScale(), side='bottom'), Axis(la…"
      ]
     },
     "metadata": {},
     "output_type": "display_data"
    }
   ],
   "source": [
    "# Pass the dataframe to InteractiveScatterPlot\n",
    "int_scatter = bqv.InteractiveScatterPlot(multidf)\n",
    "\n",
    "# Display the plot\n",
    "int_scatter.show()"
   ]
  },
  {
   "cell_type": "markdown",
   "metadata": {
    "deletable": true,
    "editable": true
   },
   "source": [
    "#### Hiding and Moving Control Widgets\n",
    "You can hide the control widgets and then access them in other cells within the notebook by using the `_xsel` and `_ysel` attributes."
   ]
  },
  {
   "cell_type": "code",
   "execution_count": 34,
   "metadata": {
    "collapsed": false,
    "deletable": true,
    "editable": true,
    "jupyter": {
     "outputs_hidden": false
    }
   },
   "outputs": [
    {
     "data": {
      "application/vnd.jupyter.widget-view+json": {
       "model_id": "3deb31608d8744959dbb21bc2ba18369",
       "version_major": 2,
       "version_minor": 0
      },
      "text/plain": [
       "VBox(children=(Box(children=(Figure(axes=[Axis(label='Benchmark', scale=LinearScale(), side='bottom'), Axis(la…"
      ]
     },
     "metadata": {},
     "output_type": "display_data"
    }
   ],
   "source": [
    "# Set the hide_controls attribute value to True\n",
    "int_scatter2 = bqv.InteractiveScatterPlot(multidf, hide_controls=True)\n",
    "\n",
    "# Display the plot\n",
    "int_scatter2.show()"
   ]
  },
  {
   "cell_type": "code",
   "execution_count": 35,
   "metadata": {
    "collapsed": false,
    "deletable": true,
    "editable": true,
    "jupyter": {
     "outputs_hidden": false
    }
   },
   "outputs": [
    {
     "data": {
      "application/vnd.jupyter.widget-view+json": {
       "model_id": "2ecb9d815af146fe8bc4d87a23c68b14",
       "version_major": 2,
       "version_minor": 0
      },
      "text/plain": [
       "interactive(children=(Dropdown(description='X Axis', options=('Benchmark', 'Sharpe Ratio', 'Sortino', 'Total R…"
      ]
     },
     "metadata": {},
     "output_type": "display_data"
    }
   ],
   "source": [
    "# In a different notebook cell, call the _xsel attribute for the chart object\n",
    "int_scatter2._xsel"
   ]
  },
  {
   "cell_type": "code",
   "execution_count": 36,
   "metadata": {
    "collapsed": false,
    "deletable": true,
    "editable": true,
    "jupyter": {
     "outputs_hidden": false
    }
   },
   "outputs": [
    {
     "data": {
      "application/vnd.jupyter.widget-view+json": {
       "model_id": "6f5780142baa41c099a7bb13c220f6d9",
       "version_major": 2,
       "version_minor": 0
      },
      "text/plain": [
       "interactive(children=(Dropdown(description='Y Axis', options=('Benchmark', 'Sharpe Ratio', 'Sortino', 'Total R…"
      ]
     },
     "metadata": {},
     "output_type": "display_data"
    }
   ],
   "source": [
    "# In a different notebook cell, call the _ysel attribute for the chart object\n",
    "int_scatter2._ysel"
   ]
  },
  {
   "cell_type": "markdown",
   "metadata": {
    "deletable": true,
    "editable": true
   },
   "source": [
    "#### Using Attributes to Modify Plot Values\n",
    "You can also use the `.x`, `.y`, and `.xy` attributes to update the plot with new values.  "
   ]
  },
  {
   "cell_type": "code",
   "execution_count": 37,
   "metadata": {
    "collapsed": false,
    "deletable": true,
    "editable": true,
    "jupyter": {
     "outputs_hidden": false
    }
   },
   "outputs": [
    {
     "data": {
      "application/vnd.jupyter.widget-view+json": {
       "model_id": "f1966c436b0b40188fe9a362623bf836",
       "version_major": 2,
       "version_minor": 0
      },
      "text/plain": [
       "VBox(children=(Box(children=(Figure(axes=[Axis(label='Benchmark', scale=LinearScale(), side='bottom'), Axis(la…"
      ]
     },
     "metadata": {},
     "output_type": "display_data"
    }
   ],
   "source": [
    "# Set the hide_contols attribute value to True\n",
    "int_scatter3 = bqv.InteractiveScatterPlot(multidf, hide_controls=True)\n",
    "\n",
    "# Display the plot\n",
    "int_scatter3.show()"
   ]
  },
  {
   "cell_type": "markdown",
   "metadata": {
    "deletable": true,
    "editable": true
   },
   "source": [
    "Uncomment individual lines below to see examples:  \n",
    "\n",
    "_Note: The columns in the example dataframe are: Benchmark, Sharpe Ratio, Sortino, Total Returns_"
   ]
  },
  {
   "cell_type": "code",
   "execution_count": 38,
   "metadata": {
    "collapsed": false,
    "deletable": true,
    "editable": true,
    "jupyter": {
     "outputs_hidden": false
    }
   },
   "outputs": [],
   "source": [
    "# int_scatter3.x = 'Sortino'\n",
    "# int_scatter3.y = 'Total Returns'\n",
    "# int_scatter3.xy = ['Sortino', 'Total Returns']"
   ]
  },
  {
   "cell_type": "markdown",
   "metadata": {
    "deletable": true,
    "editable": true
   },
   "source": [
    "<div style=\"text-align: right\"><a href=\"#About-this-Example-Notebook\">Return to Top ↑</a></div>"
   ]
  },
  {
   "cell_type": "markdown",
   "metadata": {
    "deletable": true,
    "editable": true
   },
   "source": [
    "## Related Resources <a name=\"related\"></a>\n",
    "\n",
    "<a href = \"exampleroot/655c31afb5774fa09e106c104998b391/Intro to BQuant Visualization.ipynb\">Intro to BQuant Visualization</a>  \n",
    "<a href = \"./bqviz Interactivity.ipynb\">bqviz Interactivity</a>  \n",
    "<a href = \"exampleroot/0ded4f903f3841e5b8df19c578294193/bqviz Plot Customization.ipynb\">bqviz Plot Customization</a>  "
   ]
  },
  {
   "cell_type": "markdown",
   "metadata": {
    "deletable": true,
    "editable": true
   },
   "source": [
    "<div style=\"text-align: right\"><a href=\"#About-this-Example-Notebook\">Return to Top ↑</a></div>"
   ]
  }
 ],
 "metadata": {
  "input_collapsed": false,
  "kernelspec": {
   "display_name": "Python 3 (sandboxed)",
   "language": "python",
   "name": "python3"
  },
  "language_info": {
   "codemirror_mode": {
    "name": "ipython",
    "version": 3
   },
   "file_extension": ".py",
   "mimetype": "text/x-python",
   "name": "python",
   "nbconvert_exporter": "python",
   "pygments_lexer": "ipython3",
   "version": "3.5.5"
  }
 },
 "nbformat": 4,
 "nbformat_minor": 4
}
