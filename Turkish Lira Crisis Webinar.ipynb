{
 "cells": [
  {
   "cell_type": "markdown",
   "metadata": {
    "deletable": true,
    "editable": true
   },
   "source": [
    "# Bloomberg BQuant Webinar Series: Turkish Lira Crisis\n",
    "This is a companion notebook to the [Bloomberg Turkish Lira Crisis](https://blinks.bloomberg.com/screens/PLYR%20VOD%20330281983) webinar."
   ]
  },
  {
   "cell_type": "code",
   "execution_count": null,
   "metadata": {
    "collapsed": true,
    "deletable": true,
    "editable": true
   },
   "outputs": [],
   "source": [
    "import bql\n",
    "import pandas as pd\n",
    "import bqviz as bqv\n",
    "from collections import OrderedDict\n",
    "from bqplot import *"
   ]
  },
  {
   "cell_type": "code",
   "execution_count": null,
   "metadata": {
    "collapsed": true,
    "deletable": true,
    "editable": true
   },
   "outputs": [],
   "source": [
    "bq = bql.Service()"
   ]
  },
  {
   "cell_type": "markdown",
   "metadata": {
    "deletable": true,
    "editable": true
   },
   "source": [
    "A bql request needs two parts\n",
    "\n",
    "A \"get()\" -> This contains the fields that you want to retrieve\n",
    "\n",
    "A \"for()\" -> This contains the universe that I want to request data for"
   ]
  },
  {
   "cell_type": "code",
   "execution_count": null,
   "metadata": {
    "collapsed": false,
    "deletable": true,
    "editable": true
   },
   "outputs": [],
   "source": [
    "bql_str = \"\"\"get(px_last)for('XU100 Index')\"\"\"\n",
    "\n",
    "resp_str = bq.execute(bql_str)\n",
    "\n",
    "resp_str[0].df()"
   ]
  },
  {
   "cell_type": "code",
   "execution_count": null,
   "metadata": {
    "collapsed": false,
    "deletable": true,
    "editable": true
   },
   "outputs": [],
   "source": [
    "fld = bq.data.px_last()\n",
    "tckr = 'XU100 Index'\n",
    "\n",
    "req_obj = bql.Request(tckr,fld)\n",
    "\n",
    "req_obj.to_string()"
   ]
  },
  {
   "cell_type": "code",
   "execution_count": null,
   "metadata": {
    "collapsed": false,
    "deletable": true,
    "editable": true,
    "scrolled": true
   },
   "outputs": [],
   "source": [
    "resp_obj = bq.execute(req_obj)\n",
    "\n",
    "resp_obj[0].df()"
   ]
  },
  {
   "cell_type": "code",
   "execution_count": null,
   "metadata": {
    "collapsed": false,
    "deletable": true,
    "editable": true
   },
   "outputs": [],
   "source": [
    "tkr_lst = ['XU100 Index','USDTRY BGN CURNCY','USDTRY3M BGNL CURNCY']\n",
    "\n",
    "prc = bq.data.px_last(start = '-15y',frq='w')\n",
    "pct_chg = bq.func.pct_diff(prc)\n",
    "fld = {'Pct Chg' : pct_chg}\n",
    "\n",
    "req = bql.Request(tkr_lst,fld)\n",
    "resp = bq.execute(req)\n",
    "\n",
    "resp[0].df().tail()"
   ]
  },
  {
   "cell_type": "code",
   "execution_count": null,
   "metadata": {
    "collapsed": false,
    "deletable": true,
    "editable": true
   },
   "outputs": [],
   "source": [
    "ts_df = resp[0].df()\n",
    "ts_df = ts_df.reset_index()\n",
    "ts_df = ts_df.pivot(index='DATE',columns='ID')['Pct Chg']\n",
    "\n",
    "ts_df.tail()"
   ]
  },
  {
   "cell_type": "code",
   "execution_count": null,
   "metadata": {
    "collapsed": false,
    "deletable": true,
    "editable": true
   },
   "outputs": [],
   "source": [
    "bqv.InteractiveLinePlot(ts_df).show()"
   ]
  },
  {
   "cell_type": "code",
   "execution_count": null,
   "metadata": {
    "collapsed": false,
    "deletable": true,
    "editable": true
   },
   "outputs": [],
   "source": [
    "index = bq.univ.members('XU100 Index')\n",
    "\n",
    "memb_prc = bq.data.px_last(start='2018-01-01',end='2018-08-14',currency='TRY',ca_adj='FULL')\n",
    "memb_prc = bq.func.dropna(memb_prc)\n",
    "\n",
    "index_flds =OrderedDict([('YTD',bq.func.pct_chg(memb_prc)),\n",
    "            ('Mkt Cap',bq.data.cur_mkt_cap(currency='USD'))])\n",
    "\n",
    "\n",
    "req_index = bql.Request(index,index_flds)\n",
    "resp_index = bq.execute(req_index)\n",
    "\n",
    "ytd_df = resp_index[0].df().reset_index()\n",
    "ytd_df.tail()"
   ]
  },
  {
   "cell_type": "code",
   "execution_count": null,
   "metadata": {
    "collapsed": false,
    "deletable": true,
    "editable": true
   },
   "outputs": [],
   "source": [
    "bqv.HistPlot(ytd_df[['YTD']],bins=100).show()"
   ]
  },
  {
   "cell_type": "code",
   "execution_count": null,
   "metadata": {
    "collapsed": false,
    "deletable": true,
    "editable": true
   },
   "outputs": [],
   "source": [
    "index = bq.univ.members('XU100 Index')\n",
    "mem_bonds = bq.univ.bonds(index,issuedby='ENTITY')\n",
    "\n",
    "name = bq.data.id()[\"'orig_ids:0'\"]\n",
    "debt_cur = bq.func.if_(bq.data.CRNCY() == 'TRY', 'TRY', 'Non TRY')\n",
    "\n",
    "grouping = [name,debt_cur]\n",
    "\n",
    "amt = bq.data.amt_outstanding(currency='USD')/1000000\n",
    "\n",
    "total_amt = {'Amt (USD)':bq.func.sum(bq.func.group(amt,grouping))}\n",
    "\n",
    "req_debt= bql.Request(mem_bonds,total_amt)\n",
    "resp_debt = bq.execute(req_debt)\n",
    "\n",
    "resp_debt[0].df().tail()"
   ]
  },
  {
   "cell_type": "code",
   "execution_count": null,
   "metadata": {
    "collapsed": false,
    "deletable": true,
    "editable": true
   },
   "outputs": [],
   "source": [
    "debt_df = resp_debt[0].df()\n",
    "\n",
    "debt_df.rename(columns={\"ID().'ORIG_IDS:0'\":'ID',\"IF((CRNCY()=='TRY'),'TRY','NON TRY')\":'Type'},inplace=True)\n",
    "\n",
    "debt_df = debt_df.pivot(index='ID', columns='Type',values = 'Amt (USD)')\n",
    "debt_df = debt_df.fillna(0)\n",
    "debt_df = debt_df.reset_index()\n",
    "debt_df.tail()"
   ]
  },
  {
   "cell_type": "code",
   "execution_count": null,
   "metadata": {
    "collapsed": false,
    "deletable": true,
    "editable": true
   },
   "outputs": [],
   "source": [
    "mkt_df = resp_index[1].df().reset_index()\n",
    "\n",
    "all_df = pd.merge(debt_df,ytd_df,how='left', on=['ID'])\n",
    "all_df = pd.merge(all_df,mkt_df,how='left', on=['ID'])\n",
    "all_df.tail()"
   ]
  },
  {
   "cell_type": "code",
   "execution_count": null,
   "metadata": {
    "collapsed": false,
    "deletable": true,
    "editable": true
   },
   "outputs": [],
   "source": [
    "sc_x = LinearScale()\n",
    "sc_y = LinearScale()\n",
    "c_sc = ColorScale()\n",
    "\n",
    "scatter = Scatter(x = all_df['Non TRY'],\n",
    "                 y = all_df['Mkt Cap'],\n",
    "                 color = all_df['YTD'],\n",
    "                 names = all_df['ID'],\n",
    "                  display_names=False,\n",
    "                 scales={'x': sc_x, 'y': sc_y, 'color':c_sc },\n",
    "                 tooltip=Tooltip(fields=['name']))\n",
    "\n",
    "ax_x = Axis(label='Non Try Debt',scale=sc_x)\n",
    "ax_y = Axis(label='Market Cap',scale=sc_y,orientation='vertical')\n",
    "ax_c = ColorAxis(label='YTD Rtn',scale=c_sc,side='right')\n",
    "\n",
    "Figure(axes=[ax_x,ax_y,ax_c], marks=[scatter])"
   ]
  }
 ],
 "metadata": {
  "kernelspec": {
   "display_name": "Python 3 (sandboxed)",
   "language": "python",
   "name": "python3"
  },
  "language_info": {
   "codemirror_mode": {
    "name": "ipython",
    "version": 3
   },
   "file_extension": ".py",
   "mimetype": "text/x-python",
   "name": "python",
   "nbconvert_exporter": "python",
   "pygments_lexer": "ipython3",
   "version": "3.5.5"
  }
 },
 "nbformat": 4,
 "nbformat_minor": 2
}
