{
 "cells": [
  {
   "cell_type": "markdown",
   "metadata": {},
   "source": [
    "<a id=\"bootcamp-project-top\"></a>\n",
    "<div style=\"width: 50px; height: 50px; border-radius: 50%; background: #27AE60; margin-bottom: 0px;\">\n",
    "    <img src=\"../img/Welcome Page/boot_camp.png\">\n",
    "</div>\n",
    "<h1 style=\"margin-top: 20px; margin-bottom: 5px;\">Boot Camp: Final Project<br><span style=\"margin-bottom: 0px; color: #27AE60;\">Using Python, BQL, and DataFrames</span></h1>"
   ]
  },
  {
   "cell_type": "markdown",
   "metadata": {},
   "source": [
    "---\n",
    "### Project Assignment:\n",
    "   - Use Python and BQL to retrieve 12 months of daily closing prices for an equity index of your choice.\n",
    "   - You may use relative dates or a fixed time window (e.g. <span style=\"color: #FAD800;\">\"-1Y\"</span> vs <span style=\"color: #FAD800;\">\"2000-01-01\"</span>)\n",
    "   - For an extra challenge, set the DATE column as the index for the time series DataFrame, and drop the CURRENCY column\n",
    "   \n",
    "<h5>Example Output:</h5>\n",
    "<img style=\"width: 300px;\" src=\"../img/Boot Camp/bootcamp_project.png\">\n",
    "\n",
    "### Remember the 5-Step Process for Building Apps in BQuant:\n",
    "   1. Setup the Environment\n",
    "   2. Get Data with BQL\n",
    "   3. Additional Data Munging, if necessary\n",
    "   4. Build UI and Visualizations\n",
    "   5. Simplify, Document, & Publish\n",
    "\n",
    "See if you can solve this problem in the empty Python cell below. We've written one possible solution. Try it out for yourself first, and when you're ready to see the answer, click the <img src=\"../img/Controls/hidden_cell.png\"> icon below to expand a hidden Python cell. Try not to peek too early! We all learn best by overcoming obstacles, so if you get stuck, reference the previous material in this section before expanding the answer. Always remember that in programming there are multiple ways to accomplish the same task. If your code doesn't look exactly like ours, that's ok. The important thing is that your code executes as expected."
   ]
  },
  {
   "cell_type": "markdown",
   "metadata": {},
   "source": [
    "<p style=\"color: orange; font-size: 12px;\">&darr; Click below to expand answer</p>"
   ]
  },
  {
   "cell_type": "code",
   "execution_count": null,
   "metadata": {
    "jupyter": {
     "source_hidden": true
    }
   },
   "outputs": [],
   "source": [
    "# Hide this code\n",
    "\n",
    "# Step 1: Setup Environment\n",
    "import bql\n",
    "bq = bql.Service()\n",
    "\n",
    "# Step 2: Get Data from BQL\n",
    "universe = 'BWORLD Index'\n",
    "prices = bq.data.px_last(dates=bq.func.range('2019-11-13', '2020-11-13'), fill='PREV')\n",
    "request = bql.Request(universe, {'Bloomberg World Index Closing Price': prices})\n",
    "response = bq.execute(request)\n",
    "dataframe = response[0].df()\n",
    "\n",
    "# Step 3: Additional Data Munging\n",
    "dataframe.set_index('DATE', inplace=True)\n",
    "dataframe.drop('CURRENCY', axis=1, inplace=True)\n",
    "\n",
    "# print the first 5 rows of the dataframe\n",
    "dataframe.head()"
   ]
  },
  {
   "cell_type": "code",
   "execution_count": 2,
   "metadata": {},
   "outputs": [],
   "source": [
    "# type your code here\n",
    "\n"
   ]
  },
  {
   "cell_type": "markdown",
   "metadata": {},
   "source": [
    "----\n",
    "<p style=\"text-align:center;\">\n",
    "    Click on the links below to continue learning.<br>\n",
    "    <a href=\"3 BQL Basics.ipynb\">&larr; Back to BQL Basics</a>&emsp;&emsp;\n",
    "    <a href=\"#bootcamp-project-top\">&uarr; Return to Top</a>&emsp;&emsp;\n",
    "    <a href=\"../2. Launch/1 BQL Concepts.ipynb\">Continue to Launch: BQL Concepts &rarr;</a>\n",
    "    <br>\n",
    "    <br>\n",
    "    <a href=\"../Welcome.ipynb#welcome-top\" style=\"font-size: 12px;\">Return to the Welcome Page</a>\n",
    "</p>"
   ]
  }
 ],
 "metadata": {
  "kernelspec": {
   "display_name": "Python 3 (sandboxed)",
   "language": "python",
   "name": "python3"
  },
  "language_info": {
   "codemirror_mode": {
    "name": "ipython",
    "version": 3
   },
   "file_extension": ".py",
   "mimetype": "text/x-python",
   "name": "python",
   "nbconvert_exporter": "python",
   "pygments_lexer": "ipython3",
   "version": "3.7.1"
  }
 },
 "nbformat": 4,
 "nbformat_minor": 4
}
