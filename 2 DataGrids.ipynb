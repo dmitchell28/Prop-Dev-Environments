{
 "cells": [
  {
   "cell_type": "markdown",
   "metadata": {},
   "source": [
    "<a id=\"datagrids-top\"></a>\n",
    "<div style=\"width: 50px; height: 50px; border-radius: 50%; background: #F1C40F; margin-bottom: 0px; text-align: center;\">\n",
    "    <img src=\"../img/Welcome Page/launch.png\" style=\"max-height: 95%; max-width: 95%;\">\n",
    "</div>\n",
    "<h1 style=\"margin-top: 20px; margin-bottom: 5px;\">DataGrids<br><span style=\"color: orange; margin-bottom: 0px;\">Display Data in an Interactive Table</span></h1>\n",
    "<h4 style=\"color: orange; margin-top: 0px;\">(20-min Read)</h4>"
   ]
  },
  {
   "cell_type": "markdown",
   "metadata": {},
   "source": [
    "By the end of this document, you will be able to:\n",
    "1. Render multiple objects to a Jupyter cell's output using `IPython.display.display()`\n",
    "1. Initialize and populate an interactive DataGrid\n",
    "1. Apply `TextRenderer` objects to customize the appearance of a DataGrid"
   ]
  },
  {
   "cell_type": "markdown",
   "metadata": {},
   "source": [
    "### Contents\n",
    "- [The BQuant Project Flow](#dg-flow)\n",
    "- [The IPython Display Function](#dg-ipy)\n",
    "- [Initialize a DataGrid](#dg-init)\n",
    "- [Basic DataGrid Customization](#dg-cust)\n",
    "- [Additional Resources](#dg-help)\n",
    "\n",
    "<a href=\"1 BQL Concepts.ipynb\">&larr; Back to BQL Concepts</a>&emsp; | &emsp;\n",
    "<a href=\"3 Charting.ipynb\">Continue to Launch: Charting &rarr;</a>"
   ]
  },
  {
   "cell_type": "markdown",
   "metadata": {},
   "source": [
    "---\n",
    "<a id=\"dg-flow\"></a>\n",
    "<h1>BQuant Project Flow<br><span style=\"color: orange;\">5-Step Process for Developing Your Projects</span></h1>"
   ]
  },
  {
   "cell_type": "markdown",
   "metadata": {},
   "source": [
    "The 5-step project flow for BQuant development was mentioned in the Intro to BQuant section, but it bears repeating here. Every project you develop in BQuant will follow the same basic process below.\n",
    "\n",
    "1. Setup Environment\n",
    "1. Get Data from Bloomberg using BQL\n",
    "1. Additional Data Munging (if necessary)\n",
    "1. User Interface & Visualizations\n",
    "1. Simplify, Document, & Publish\n",
    "\n",
    "In this notebook, we cover the use of DataGrids in Step 4."
   ]
  },
  {
   "cell_type": "markdown",
   "metadata": {},
   "source": [
    "[&uarr; Return to Top](#datagrids-top)"
   ]
  },
  {
   "cell_type": "markdown",
   "metadata": {},
   "source": [
    "---\n",
    "<a id=\"dg-ipy\"></a>\n",
    "<h1><code style=\"background-color: transparent;\">IPython.display</code><br><span style=\"color: orange;\">Display Multiple Outputs From a Jupyter Cell</span></h1>"
   ]
  },
  {
   "cell_type": "markdown",
   "metadata": {},
   "source": [
    "Now that you have some experience in Jupyter, you may have noticed that only the last line of code will make it to a cell's output. In the code snippet below, only the value of `y`, the last called variable, is displayed in output."
   ]
  },
  {
   "cell_type": "code",
   "execution_count": 1,
   "metadata": {},
   "outputs": [
    {
     "data": {
      "text/plain": [
       "'This is Y'"
      ]
     },
     "execution_count": 1,
     "metadata": {},
     "output_type": "execute_result"
    }
   ],
   "source": [
    "# Run this cell with the Run button in the Jupyter toolbar\n",
    "x = 'This is X'\n",
    "y = 'This is Y'\n",
    "\n",
    "x\n",
    "y"
   ]
  },
  {
   "cell_type": "markdown",
   "metadata": {},
   "source": [
    "For simple code like this, we can show both values by wrapping each variable in a `print()` statement, but this won't be sufficient for many non-string objects we wish to display. As the User Interface (UI) component of your apps becomes more complex, you'll eventually need to display two or more objects from one Jupyter cell: a DataGrid and a chart, for example.\n",
    "\n",
    "One way we can show two or more items in a Jupyter cell's output is by leveraging the `IPython.display` library. This library has a function named `display()` which will tell Jupyter to include its argument in output. We can rewrite the code example above to display both variables."
   ]
  },
  {
   "cell_type": "code",
   "execution_count": 2,
   "metadata": {},
   "outputs": [
    {
     "data": {
      "text/plain": [
       "'This is X'"
      ]
     },
     "metadata": {},
     "output_type": "display_data"
    },
    {
     "data": {
      "text/plain": [
       "'This is Y'"
      ]
     },
     "metadata": {},
     "output_type": "display_data"
    }
   ],
   "source": [
    "# Run this cell with the Run button in the Jupyter toolbar\n",
    "from IPython.display import display\n",
    "\n",
    "x = 'This is X'\n",
    "y = 'This is Y'\n",
    "\n",
    "display(x)\n",
    "display(y)"
   ]
  },
  {
   "cell_type": "markdown",
   "metadata": {},
   "source": [
    "Use the `display()` function when you need multiple UI elements to appear in a Jupyter cell's output."
   ]
  },
  {
   "cell_type": "markdown",
   "metadata": {},
   "source": [
    "[&uarr; Return to Top](#datagrids-top)"
   ]
  },
  {
   "cell_type": "markdown",
   "metadata": {},
   "source": [
    "---\n",
    "<a id=\"dg-init\"></a>\n",
    "<h1>Initialize a DataGrid<br><span style=\"color: orange;\">Populate and Display an Interactive Table</span></h1>"
   ]
  },
  {
   "cell_type": "markdown",
   "metadata": {},
   "source": [
    "DataGrids are UI elements that allow you to display data in an interactive table. Once displayed, the user can sort, filter, select, and even change cell values if the developer gives permission. Bloomberg has developed a Python library called `ipydatagrid` designed specifically for use in BQuant. Simply `import ipydatagrid` and pass a DataFrame to the `DataGrid` object to render your first grid.\n",
    "\n",
    "In the example below, we use BQL to calculate average P/E ratios by country across members of the MSCI ACWI Index. This exercise is from the final \"Try It Out\" section of the previous <a href=\"./1 BQL Concepts.ipynb#dg-link-here\">Launch: BQL Concepts</a> training. Run the cell below, and explore the resulting DataGrid. You can adjust column widths & row heights as well as sort & filter each column."
   ]
  },
  {
   "cell_type": "code",
   "execution_count": 1,
   "metadata": {},
   "outputs": [
    {
     "data": {
      "application/vnd.jupyter.widget-view+json": {
       "model_id": "340e55a94fff473a93a2b2c6510b1197",
       "version_major": 2,
       "version_minor": 0
      },
      "text/plain": [
       "DataGrid(default_renderer=TextRenderer(), header_renderer=None)"
      ]
     },
     "metadata": {},
     "output_type": "display_data"
    }
   ],
   "source": [
    "# Run this cell with the Run button in the Jupyter toolbar\n",
    "# Step 1: Setup Environment\n",
    "import bql\n",
    "from ipydatagrid import DataGrid\n",
    "bq = bql.Service()\n",
    "\n",
    "# Step 2: Get Data From BQL\n",
    "universe = bq.univ.members('BWORLD Index')\n",
    "country = bq.data.country_full_name()\n",
    "pe = bq.data.pe_ratio(fill='prev')\n",
    "cntry_avg_pe = pe.group(country).avg()\n",
    "sort_results = cntry_avg_pe.group().sort(order='desc')\n",
    "\n",
    "req = bql.Request(universe, {'Average P/E': sort_results})\n",
    "res = bq.execute(req)\n",
    "df = res[0].df().head()\n",
    "\n",
    "# Step 3: Additional Data Munging\n",
    "df = df.set_index(str(country))        # <-- set the DataFrame's index to the country symbol\n",
    "df.index.name = 'Country'              # <-- give the index a more readable name\n",
    "df = df[['Average P/E']]               # <-- slice the DataFrame and keep only the Average P/E column\n",
    "\n",
    "# Step 4: User Interface & Visualization\n",
    "grid = DataGrid(df)\n",
    "display(grid)"
   ]
  },
  {
   "cell_type": "markdown",
   "metadata": {},
   "source": [
    "<div style=\"border: 1px dotted orange; padding-left: 10px; padding-bottom: 10px;\">\n",
    "    <h3>&#9998; Try it out</h3>\n",
    "    <p>\n",
    "        Practice using a DataGrid after a BQL query.\n",
    "        <ol>\n",
    "            <li>Add a new Jupyter code cell below this one</li>\n",
    "            <li>Write a BQL query to retrieve the last 10 years of Austria's nominal GDP (<code>PX_LAST</code> for <code>'ENGCAT Index'</code>). Use <code>per='Y'</code> to get year-end numbers. Remember to use the BQL Editor if you need help writing the query.</li>\n",
    "            <li>Declare a variable named <code>austria_gdp</code> to hold the DataFrame resulting from your BQL request.</li>\n",
    "            <li>Set the index on this DataFrame to the <code>'DATE'</code> column by calling <code>austria_gdp.set_index('DATE', inplace=True)</code></li>\n",
    "            <li>Declare a variable named <code>my_grid</code> and use it to build a DataGrid for your BQL response.</li>\n",
    "            <li>Display the DataGrid to the screen with <code>display(my_grid)</code></li>\n",
    "        </ol>\n",
    "    We've written one possible solution to this problem in a hidden Python cell below. When you're ready to get a peek at an answer, click the <img src=\"../img/Controls/hidden_cell.png\"> below.\n",
    "    </p>\n",
    "</div>"
   ]
  },
  {
   "cell_type": "markdown",
   "metadata": {},
   "source": [
    "<p style=\"color: orange; font-size: 12px;\">&darr; Click below to expand answer</p>"
   ]
  },
  {
   "cell_type": "code",
   "execution_count": null,
   "metadata": {
    "jupyter": {
     "source_hidden": true
    }
   },
   "outputs": [],
   "source": [
    "# import bql\n",
    "# from ipydatagrid import DataGrid\n",
    "# from IPython.display import display\n",
    "# bq = bql.Service()\n",
    "\n",
    "date_range = bq.func.range('-20Y', '0D')\n",
    "data = bq.data.px_last(dates=date_range, per='Y')\n",
    "request = bql.Request('ENGCAT Index', {'Austria GDP': data})\n",
    "response = bq.execute(request)\n",
    "austria_gdp = response[0].df()\n",
    "\n",
    "austria_gdp.set_index('DATE', inplace=True)\n",
    "my_grid = DataGrid(austria_gdp)\n",
    "display(my_grid)"
   ]
  },
  {
   "cell_type": "markdown",
   "metadata": {},
   "source": [
    "[&uarr; Return to Top](#datagrids-top)"
   ]
  },
  {
   "cell_type": "markdown",
   "metadata": {},
   "source": [
    "---\n",
    "<a id=\"dg-cust\"></a>\n",
    "<h1>Basic DataGrid Customization<br><span style=\"color: orange;\">Control the Look and Style of your DataGrids</span></h1>"
   ]
  },
  {
   "cell_type": "markdown",
   "metadata": {},
   "source": [
    "The `grid` we created in the last section is useful, but there is more we can do to improve the user experience. Running the cell above yields an output like this.\n",
    "\n",
    "<img src=\"../img/Launch/grid_cust.png\" style=\"height: 400px;\">"
   ]
  },
  {
   "cell_type": "markdown",
   "metadata": {},
   "source": [
    "<p>Let's fix the issues highlighted above. The following attributes of the `ipydatagrid.DataGrid` object will help.</p>\n",
    "<ul>\n",
    "    <li><code style=\"color: red; background-color: transparent;\">layout</code> - pass a dictionary of CSS items to customize the look of the DataGrid figure. To limit the whitespace, we can reduce the height to 200 pixels.</li>\n",
    "    <li><code style=\"color: orange; background-color: transparent;\">renderers</code> - <code>ipydatagrid</code> has a <code>TextRenderer</code> object we can use to customize the number format displayed. We can use this same object to center align the numbers. We'll also use a second <code>TextRenderer</code> object to left align the country name.</li>\n",
    "    <li><code style=\"color: yellow; background-color: transparent;\">column_widths</code> - pass a dictionary of column names as keys and pixel integers as values to control the width of individual columns.</li>\n",
    "</ul>"
   ]
  },
  {
   "cell_type": "code",
   "execution_count": 4,
   "metadata": {},
   "outputs": [
    {
     "data": {
      "application/vnd.jupyter.widget-view+json": {
       "model_id": "f50b24a25f244a7d8481094d8751dd01",
       "version_major": 2,
       "version_minor": 0
      },
      "text/plain": [
       "DataGrid(column_widths={'Country': 100, 'Average P/E': 100}, default_renderer=TextRenderer(), header_renderer=…"
      ]
     },
     "metadata": {},
     "output_type": "display_data"
    }
   ],
   "source": [
    "# Run this cell with the Run button in the Jupyter toolbar\n",
    "from ipydatagrid import DataGrid, TextRenderer\n",
    "\n",
    "# initialize TextRenderers for use in formatting grid\n",
    "format_values = TextRenderer(format='.2f', horizontal_alignment='center')  # <-- use '.2f' to format decimals to 2 places\n",
    "format_countries = TextRenderer(horizontal_alignment='left')\n",
    "\n",
    "# build new DataGrid\n",
    "new_grid = DataGrid(dataframe=df, \n",
    "                    layout={'height': '200px'},\n",
    "                    renderers={'Country': format_countries,\n",
    "                               'Average P/E': format_values},\n",
    "                    column_widths={'Country': 100,\n",
    "                                   'Average P/E': 100})\n",
    "# display grid\n",
    "display(new_grid)"
   ]
  },
  {
   "cell_type": "markdown",
   "metadata": {},
   "source": [
    "<div style=\"border: 1px dotted orange; padding-left: 10px; padding-bottom: 10px;\">\n",
    "    <h3>&#9998; Try it out</h3>\n",
    "    <p>\n",
    "        Practice basic DataGrid Customization\n",
    "        <ol>\n",
    "            <li>Add a new Jupyter code cell below this one</li>\n",
    "            <li>Declare a variable named <code>my_new_grid</code> and set it equal to a <code>DataGrid</code> object</li>\n",
    "            <li>The DataFrame for this new grid should be the <code>austria_gdp</code> DataFrame you declared in the last exercise.</li>\n",
    "            <li>Widen each of the columns on this DataGrid to 150 pixels.</li>\n",
    "            <li>Format the <code>'DATE'</code> column to be more readable by using a date formatting TextRenderer such as <code>TextRenderer(format='%Y-%m-%d', format_type='time')</code></li>\n",
    "            <li>Limit the whitespace around the grid by setting the <code>'height'</code> in <code>layout</code> to <code>'200px'</code>.</li>\n",
    "            <li>Display the DataGrid to the screen with <code>display(my_new_grid)</code></li>\n",
    "        </ol>\n",
    "    We've written one possible solution to this problem in a hidden Python cell below. When you're ready to get a peek at an answer, click the <img src=\"../img/Controls/hidden_cell.png\"> below.\n",
    "    </p>\n",
    "</div>"
   ]
  },
  {
   "cell_type": "markdown",
   "metadata": {},
   "source": [
    "<p style=\"color: orange; font-size: 12px;\">&darr; Click below to expand answer</p>"
   ]
  },
  {
   "cell_type": "code",
   "execution_count": null,
   "metadata": {
    "jupyter": {
     "source_hidden": true
    }
   },
   "outputs": [],
   "source": [
    "# from ipydatagrid import DataGrid, TextRenderer\n",
    "# from IPython.display import display\n",
    "\n",
    "my_new_grid = DataGrid(\n",
    "    dataframe=austria_gdp,\n",
    "    base_column_size=150,         # <-- widen all columns except index\n",
    "    column_widths={'DATE': 150},  # <-- widen the index column\n",
    "    layout={'height': '200px'},\n",
    "    renderers={'DATE': TextRenderer(format='%Y-%m-%d', format_type='time')}\n",
    ")\n",
    "\n",
    "display(my_new_grid)\n"
   ]
  },
  {
   "cell_type": "markdown",
   "metadata": {},
   "source": [
    "[&uarr; Return to Top](#datagrids-top)"
   ]
  },
  {
   "cell_type": "markdown",
   "metadata": {},
   "source": [
    "---\n",
    "<a id=\"dg-help\"></a>\n",
    "<h1>Additional Resources<br><span style=\"color: orange;\">Find Out More About <code style=\"color: orange; background-color: transparent;\">ipydatagrid</code></span></h1>"
   ]
  },
  {
   "cell_type": "markdown",
   "metadata": {},
   "source": [
    "The `ipydatagrid` library has an extensive suite of customization options that are outside the scope of this tutorial. Check <a href=\"../exampleroot/341a99ff336b400695ccdd2b7212917d/0 Intro to ipydatagrid.ipynb\">Example Projects &rarr; Visualization &rarr; ipydatagrid Tutorial & Migration Guide</a> to learn more about the tools provided in the library."
   ]
  },
  {
   "cell_type": "markdown",
   "metadata": {},
   "source": [
    "[&uarr; Return to Top](#datagrids-top)"
   ]
  },
  {
   "cell_type": "markdown",
   "metadata": {},
   "source": [
    "----\n",
    "<p style=\"text-align:center;\">\n",
    "    Click on the links below to continue learning.<br>\n",
    "    <a href=\"1 BQL Concepts.ipynb\">&larr; Back to BQL Concepts</a>&emsp;&emsp;\n",
    "    <a href=\"#datagrids-top\">&uarr; Return to Top</a>&emsp;&emsp;\n",
    "    <a href=\"3 Charting.ipynb\">Continue to Launch: Charting &rarr;</a>\n",
    "    <br>\n",
    "    <br>\n",
    "    <a href=\"../Welcome.ipynb#welcome-top\" style=\"font-size: 12px;\">Return to the Welcome Page</a>\n",
    "</p>"
   ]
  },
  {
   "cell_type": "code",
   "execution_count": null,
   "metadata": {},
   "outputs": [],
   "source": []
  }
 ],
 "metadata": {
  "kernelspec": {
   "display_name": "Python 3 (sandboxed)",
   "language": "python",
   "name": "python3"
  },
  "language_info": {
   "codemirror_mode": {
    "name": "ipython",
    "version": 3
   },
   "file_extension": ".py",
   "mimetype": "text/x-python",
   "name": "python",
   "nbconvert_exporter": "python",
   "pygments_lexer": "ipython3",
   "version": "3.7.1"
  }
 },
 "nbformat": 4,
 "nbformat_minor": 4
}
