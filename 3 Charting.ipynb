{
 "cells": [
  {
   "cell_type": "markdown",
   "metadata": {},
   "source": [
    "<a id=\"charting-top\"></a>\n",
    "<div style=\"width: 50px; height: 50px; border-radius: 50%; background: #F1C40F; margin-bottom: 0px; text-align: center;\">\n",
    "    <img src=\"../img/Welcome Page/launch.png\" style=\"max-height: 95%; max-width: 95%;\">\n",
    "</div>\n",
    "<h1 style=\"margin-top: 20px; margin-bottom: 5px;\">Charting<br><span style=\"color: orange; margin-bottom: 0px;\">Data Visualization with Python Libraries</span></h1>\n",
    "<h4 style=\"color: orange; margin-top: 0px;\">(20-min Read)</h4>"
   ]
  },
  {
   "cell_type": "markdown",
   "metadata": {},
   "source": [
    "By the end of this document, you will be able to:\n",
    "1. Use BQL and the `pandas` library to format a DataFrame for visualization\n",
    "1. Build and display a time series Line Plot with `bqviz`\n",
    "1. Build and display a cross-sectional Scatter Plot with `bqviz`"
   ]
  },
  {
   "cell_type": "markdown",
   "metadata": {},
   "source": [
    "### Contents\n",
    "- [The BQuant Project Flow](#ch-flow)\n",
    "- [BQuant Supported Libraries](#ch-libs)\n",
    "- [Get Data with BQL](#ch-bqviz)\n",
    "- [Initialize a Time Series Line Plot](#ch-ts)\n",
    "- [Initialize a Cross-Sectional Scatter Plot](#ch-scatter)\n",
    "\n",
    "\n",
    "<a href=\"2 DataGrids.ipynb\">&larr; Back to DataGrids</a>&emsp; | &emsp;\n",
    "<a href=\"4 Launch Project.ipynb\">Continue to Launch: Final Project &rarr;</a>"
   ]
  },
  {
   "cell_type": "markdown",
   "metadata": {},
   "source": [
    "---\n",
    "<a id=\"ch-flow\"></a>\n",
    "<h1>BQuant Project Flow<br><span style=\"color: orange;\">5-Step Process for Developing Your Projects</span></h1>"
   ]
  },
  {
   "cell_type": "markdown",
   "metadata": {},
   "source": [
    "The 5-step project flow for BQuant development was mentioned in the Intro to BQuant section, but it bears repeating here. Every project you develop in BQuant will follow the same basic process below.\n",
    "\n",
    "1. Setup Environment\n",
    "1. Get Data from Bloomberg using BQL\n",
    "1. Additional Data Munging (if necessary)\n",
    "1. User Interface & Visualizations\n",
    "1. Simplify, Document, & Publish\n",
    "\n",
    "In this notebook, we cover the use of charting libraries in Step 4."
   ]
  },
  {
   "cell_type": "markdown",
   "metadata": {},
   "source": [
    "[&uarr; Return to Top](#charting-top)"
   ]
  },
  {
   "cell_type": "markdown",
   "metadata": {},
   "source": [
    "---\n",
    "<a id=\"ch-libs\"></a>\n",
    "<h1>BQuant Supported Libraries<br><span style=\"color: orange;\">Choose Your Charting Weapon</span></h1>"
   ]
  },
  {
   "cell_type": "markdown",
   "metadata": {},
   "source": [
    "The BQuant environment supports several charting libraries, both open-source and proprietary to Bloomberg. For newcomers to Python data visualization, we cover the Bloomberg-created `bqviz` library in this tutorial. However, if you have experience in another charting library, feel free to use that in your apps and skip the rest of this tutorial.\n",
    "\n",
    "The open-source libraries supported by BQuant include the following.\n",
    "   - [matplotlib](https://matplotlib.org/)\n",
    "   - [plotly](https://plotly.com/python/)\n",
    "   - [seaborn](https://seaborn.pydata.org/)\n",
    "   - [ipyleaflet](https://ipyleaflet.readthedocs.io/en/latest/) for interactive maps"
   ]
  },
  {
   "cell_type": "markdown",
   "metadata": {},
   "source": [
    "<br>\n",
    "Bloomberg's proprietary charting libraries include the following.\n",
    "<ul>\n",
    "    <li><a href=\"../exampleroot/7da582b97da6463aa0bf19221f44b28a/bqplot Basics.ipynb\">bqplot</a></li>\n",
    "    <li><a href=\"../exampleroot/2f85317198594ff0a9f8bf6cb8898c3d/BQViz Basics.ipynb\">bqviz</a> - a wrapper library for <code>bqplot</code> allowing you to quickly create <code>bqplot</code> charts.</li>\n",
    "</ul>\n",
    "   "
   ]
  },
  {
   "cell_type": "markdown",
   "metadata": {},
   "source": [
    "[&uarr; Return to Top](#charting-top)"
   ]
  },
  {
   "cell_type": "markdown",
   "metadata": {},
   "source": [
    "---\n",
    "<a id=\"ch-bqviz\"></a>\n",
    "<h1>Get Data with BQL<br><span style=\"color: orange;\">Use BQL to Prepare Data for Visualization</span></h1>"
   ]
  },
  {
   "cell_type": "markdown",
   "metadata": {},
   "source": [
    "If you're just getting started with Python data visualization, Bloomberg's `bqviz` library offers a user-friendly syntax and will generate charts with only a few lines of code. Before we can use `bqviz`, however, we need some data to chart! The code cell below uses BQL to retrieve time series and cross-sectional data for us to work with in `bqviz`.\n",
    "\n",
    "Oftentimes the most complex part of your projects will be the BQL query. Once the data is in the proper format, we can build charts in `bqviz` with just a single line of code. Before we can do that, however, we need to fetch, clean, and prepare DataFrames that `bqviz` chart objects can accept. For time series, `bqviz` works best when the time series dates are in the DataFrame's index, and there are no unrelated columns. For the cross-sectional data, we combine two BQL requests so we can have X and Y axes in a scatter plot.\n",
    "\n",
    "The successful use of any charting library will depend on how well you clean and prepare your DataFrame before visualization. The BQL query below might seem complicated, but it saves us from writing many lines of code to force the DataFrame into the proper form for `bqviz` charts."
   ]
  },
  {
   "cell_type": "markdown",
   "metadata": {},
   "source": [
    "<h5 style=\"color: orange;\">BQL Queries for Time Series & Cross-Sectional Data</h5>"
   ]
  },
  {
   "cell_type": "code",
   "execution_count": 1,
   "metadata": {},
   "outputs": [
    {
     "name": "stdout",
     "output_type": "stream",
     "text": [
      "Time Series\n"
     ]
    },
    {
     "data": {
      "text/html": [
       "<div>\n",
       "<style scoped>\n",
       "    .dataframe tbody tr th:only-of-type {\n",
       "        vertical-align: middle;\n",
       "    }\n",
       "\n",
       "    .dataframe tbody tr th {\n",
       "        vertical-align: top;\n",
       "    }\n",
       "\n",
       "    .dataframe thead th {\n",
       "        text-align: right;\n",
       "    }\n",
       "</style>\n",
       "<table border=\"1\" class=\"dataframe\">\n",
       "  <thead>\n",
       "    <tr style=\"text-align: right;\">\n",
       "      <th></th>\n",
       "      <th>Bloomberg US Large Cap Price</th>\n",
       "    </tr>\n",
       "    <tr>\n",
       "      <th>DATE</th>\n",
       "      <th></th>\n",
       "    </tr>\n",
       "  </thead>\n",
       "  <tbody>\n",
       "    <tr>\n",
       "      <th>2020-04-08</th>\n",
       "      <td>1009.03</td>\n",
       "    </tr>\n",
       "    <tr>\n",
       "      <th>2020-04-09</th>\n",
       "      <td>1023.79</td>\n",
       "    </tr>\n",
       "    <tr>\n",
       "      <th>2020-04-10</th>\n",
       "      <td>1023.79</td>\n",
       "    </tr>\n",
       "    <tr>\n",
       "      <th>2020-04-11</th>\n",
       "      <td>1023.79</td>\n",
       "    </tr>\n",
       "    <tr>\n",
       "      <th>2020-04-12</th>\n",
       "      <td>1023.79</td>\n",
       "    </tr>\n",
       "  </tbody>\n",
       "</table>\n",
       "</div>"
      ],
      "text/plain": [
       "            Bloomberg US Large Cap Price\n",
       "DATE                                    \n",
       "2020-04-08                       1009.03\n",
       "2020-04-09                       1023.79\n",
       "2020-04-10                       1023.79\n",
       "2020-04-11                       1023.79\n",
       "2020-04-12                       1023.79"
      ]
     },
     "metadata": {},
     "output_type": "display_data"
    },
    {
     "name": "stdout",
     "output_type": "stream",
     "text": [
      "\n",
      "Cross-Sectional\n"
     ]
    },
    {
     "data": {
      "text/html": [
       "<div>\n",
       "<style scoped>\n",
       "    .dataframe tbody tr th:only-of-type {\n",
       "        vertical-align: middle;\n",
       "    }\n",
       "\n",
       "    .dataframe tbody tr th {\n",
       "        vertical-align: top;\n",
       "    }\n",
       "\n",
       "    .dataframe thead th {\n",
       "        text-align: right;\n",
       "    }\n",
       "</style>\n",
       "<table border=\"1\" class=\"dataframe\">\n",
       "  <thead>\n",
       "    <tr style=\"text-align: right;\">\n",
       "      <th></th>\n",
       "      <th>ID</th>\n",
       "      <th>Avg FCF Growth</th>\n",
       "      <th>Avg Sales Growth</th>\n",
       "    </tr>\n",
       "  </thead>\n",
       "  <tbody>\n",
       "    <tr>\n",
       "      <th>0</th>\n",
       "      <td>Communication Services</td>\n",
       "      <td>0.141390</td>\n",
       "      <td>0.198956</td>\n",
       "    </tr>\n",
       "    <tr>\n",
       "      <th>1</th>\n",
       "      <td>Consumer Discretionary</td>\n",
       "      <td>1.612408</td>\n",
       "      <td>0.035429</td>\n",
       "    </tr>\n",
       "    <tr>\n",
       "      <th>2</th>\n",
       "      <td>Consumer Staples</td>\n",
       "      <td>0.335794</td>\n",
       "      <td>0.035997</td>\n",
       "    </tr>\n",
       "    <tr>\n",
       "      <th>3</th>\n",
       "      <td>Energy</td>\n",
       "      <td>-0.022364</td>\n",
       "      <td>-0.260683</td>\n",
       "    </tr>\n",
       "    <tr>\n",
       "      <th>4</th>\n",
       "      <td>Financials</td>\n",
       "      <td>0.279426</td>\n",
       "      <td>0.031316</td>\n",
       "    </tr>\n",
       "  </tbody>\n",
       "</table>\n",
       "</div>"
      ],
      "text/plain": [
       "                       ID  Avg FCF Growth  Avg Sales Growth\n",
       "0  Communication Services        0.141390          0.198956\n",
       "1  Consumer Discretionary        1.612408          0.035429\n",
       "2        Consumer Staples        0.335794          0.035997\n",
       "3                  Energy       -0.022364         -0.260683\n",
       "4              Financials        0.279426          0.031316"
      ]
     },
     "metadata": {},
     "output_type": "display_data"
    }
   ],
   "source": [
    "# Run this cell with the Run button in the Jupyter toolbar\n",
    "# Step 1: Setup Environment\n",
    "import bql\n",
    "import pandas as pd\n",
    "from IPython.display import display\n",
    "bq = bql.Service()\n",
    "\n",
    "# Step 2: Get data with BQL\n",
    "# Time series request\n",
    "universe = 'B500T Index'\n",
    "prices = bq.data.px_last('-1Y', '0D', fill='prev')\n",
    "ts_req = bql.Request(universe, {'Bloomberg US Large Cap Price': prices})\n",
    "ts_res = bq.execute(ts_req)\n",
    "ts_df = ts_res[0].df().set_index('DATE')\n",
    "ts_df.drop('CURRENCY', inplace=True, axis=1)\n",
    "\n",
    "# Cross-Sectional request\n",
    "# get average FCF and Sales Growth by sector\n",
    "sector = bq.data.gics_sector_name()\n",
    "b500_members = bq.univ.members(universe)\n",
    "fcf_growth = bq.data.free_cash_flow_1_year_growth() / 100\n",
    "rev_growth = bq.data.sales_growth() / 100\n",
    "sector_avg_fcf_growth = fcf_growth.group(sector).avg()\n",
    "sector_avg_rev_growth = rev_growth.group(sector).avg()\n",
    "cs_req = bql.Request(b500_members, {'Avg FCF Growth': sector_avg_fcf_growth,\n",
    "                                     'Avg Sales Growth': sector_avg_rev_growth})\n",
    "cs_res = bq.execute(cs_req)\n",
    "cs_df = pd.concat([field.df()[field.name] for field in cs_res], axis=1).reset_index()\n",
    "\n",
    "# preview the results\n",
    "print('Time Series')\n",
    "display(ts_df.head())\n",
    "\n",
    "print('\\nCross-Sectional')\n",
    "display(cs_df.head())"
   ]
  },
  {
   "cell_type": "markdown",
   "metadata": {},
   "source": [
    "[&uarr; Return to Top](#charting-top)"
   ]
  },
  {
   "cell_type": "markdown",
   "metadata": {},
   "source": [
    "---\n",
    "<a id=\"ch-ts\"></a>\n",
    "<h1>Initialize a Time Series Line Plot<br><span style=\"color: orange;\">Explore <code style=\"color: orange; background-color: transparent;\">bqviz.LinePlot()</code></span></h1>"
   ]
  },
  {
   "cell_type": "markdown",
   "metadata": {},
   "source": [
    "Now that we have some data to work with, we can explore the charting options available to us in `bqviz`. For many chart objects in the `bqviz` library, the only required variable is a DataFrame, meaning that we can initiate and display a chart very quickly. The `set_style()` method will apply a default styling to the chart, and the `show()` method will render the chart to the screen.\n",
    "\n",
    "The example below prepares and displays a time series Line Plot for our S&P 500 prices."
   ]
  },
  {
   "cell_type": "code",
   "execution_count": null,
   "metadata": {},
   "outputs": [],
   "source": [
    "# Run this cell with the Run button in the Jupyter toolbar\n",
    "# import the library\n",
    "import bqviz\n",
    "\n",
    "bqviz.LinePlot(ts_df).set_style().show()"
   ]
  },
  {
   "cell_type": "markdown",
   "metadata": {},
   "source": [
    "There's more to the `LinePlot` object than is covered in this tutorial! Check the <a href=\"../exampleroot/2f85317198594ff0a9f8bf6cb8898c3d/BQViz Basics.ipynb\">bqviz documentation</a> to explore customization & multiple-series options."
   ]
  },
  {
   "cell_type": "markdown",
   "metadata": {},
   "source": [
    "<div style=\"border: 1px dotted orange; padding-left: 10px; padding-bottom: 10px;\">\n",
    "    <h3>&#9998; Try it out</h3>\n",
    "    <p>\n",
    "        Practice initializing a <code>bqviz.LinePlot</code>\n",
    "        <ol>\n",
    "            <li>Add a new Jupyter code cell below this one</li>\n",
    "            <li>Write a BQL query that retrieves the last 30 days of prices for two securities of your choice.</li>\n",
    "            <li>Use BQL and the <code>pandas</code> library to format the DataFrame so that dates are in the index column and the only other columns are security price data. Reference the previous <a href=\"../1. Boot Camp/3 BQL Basics.ipynb#bql=example3\">Multiple Universes, One Data Item</a> BQL Example to help you format the DataFrame.</li>\n",
    "            <li>Declare a variable named <code>my_ts_df</code> to store the resulting DataFrame.</li>\n",
    "            <li>Run <code>bqviz.LinePlot(my_ts_df).set_style().show()</code> to view your data in a LinePlot.</li>\n",
    "        </ol>\n",
    "    We've written one possible solution to this problem in a hidden Python cell below. When you're ready to get a peek at an answer, click the <img src=\"../img/Controls/hidden_cell.png\"> below.\n",
    "    </p>\n",
    "</div>"
   ]
  },
  {
   "cell_type": "markdown",
   "metadata": {},
   "source": [
    "<p style=\"color: orange; font-size: 12px;\">&darr; Click below to expand answer</p>"
   ]
  },
  {
   "cell_type": "code",
   "execution_count": null,
   "metadata": {
    "jupyter": {
     "source_hidden": true
    }
   },
   "outputs": [],
   "source": [
    "# import bqviz\n",
    "# import bql\n",
    "# import pandas as pd\n",
    "# bq = bql.Service()\n",
    "\n",
    "# BQL Query\n",
    "universe = ['9988 HK Equity', '700 HK Equity']    # <-- Alibaba & Tencent\n",
    "prices = bq.data.px_last('-30D', '0D').dropna()   # <-- drop non-trading days\n",
    "request = bql.Request(universe, {'Closing Price': prices})\n",
    "response = bq.execute(request)\n",
    "# parse the data so that each security has its own column\n",
    "my_ts_df = response[0].df().reset_index().pivot(index='DATE', values='Closing Price', columns='ID')\n",
    "\n",
    "bqviz.LinePlot(my_ts_df).set_style().show()"
   ]
  },
  {
   "cell_type": "markdown",
   "metadata": {},
   "source": [
    "[&uarr; Return to Top](#charting-top)"
   ]
  },
  {
   "cell_type": "markdown",
   "metadata": {},
   "source": [
    "---\n",
    "<a id=\"ch-scatter\"></a>\n",
    "<h1>Initialize a Cross-Sectional Scatter Plot<br><span style=\"color: orange;\">Explore <code style=\"color: orange; background-color: transparent;\">bqviz.ScatterPlot()</code></span></h1>"
   ]
  },
  {
   "cell_type": "markdown",
   "metadata": {},
   "source": [
    "Since we made the effort to correctly format our cross-sectional DataFrame, viewing it in a `bqviz.ScatterPlot` can be done in just a few lines of code. The `ScatterPlot` requires a few additional arguments.\n",
    "\n",
    "  - `x` - column name for the independent variable\n",
    "  - `y` - column name for the dependent variable \n",
    "  - `labels` - while not required, specifying a column name for marker labels will help users understand your plot\n",
    "  - `display_labels` - boolean should be set to `True` for labels to be displayed"
   ]
  },
  {
   "cell_type": "code",
   "execution_count": 46,
   "metadata": {},
   "outputs": [
    {
     "data": {
      "application/vnd.jupyter.widget-view+json": {
       "model_id": "4ebc010fc6a443108b9acae917f5060c",
       "version_major": 2,
       "version_minor": 0
      },
      "text/plain": [
       "GridBox(children=(Figure(animation_duration=500, axes=[Axis(color='white', grid_color='#3c3c3c', grid_lines='d…"
      ]
     },
     "metadata": {},
     "output_type": "display_data"
    }
   ],
   "source": [
    "# Run this cell with the Run button in the Jupyter toolbar\n",
    "scatter = bqviz.ScatterPlot(df=cs_df,\n",
    "                            x='Avg Sales Growth', \n",
    "                            y='Avg FCF Growth', \n",
    "                            labels='ID', \n",
    "                            display_labels=True)\n",
    "\n",
    "scatter.set_style().show()"
   ]
  },
  {
   "cell_type": "markdown",
   "metadata": {},
   "source": [
    "There's more to the `ScatterPlot` object than is covered in this tutorial! Check the <a href=\"../exampleroot/2f85317198594ff0a9f8bf6cb8898c3d/BQViz Basics.ipynb\">bqviz documentation</a> to explore customization options."
   ]
  },
  {
   "cell_type": "markdown",
   "metadata": {},
   "source": [
    "<div style=\"border: 1px dotted orange; padding-left: 10px; padding-bottom: 10px;\">\n",
    "    <h3>&#9998; Try it out</h3>\n",
    "    <p>\n",
    "        Practice Initializing a <code>bqviz.ScatterPlot</code>\n",
    "        <ol>\n",
    "            <li>Add a new Jupyter code cell below this one</li>\n",
    "            <li>Write a BQL query that retrieves average <code>PE_RATIO(fill='prev')</code> and <code>PX_TO_SALES_RATIO(fill='prev')</code> ratios by sector for members of the Bloomberg Hong Kong Index (<code>'HKLSPL Index'</code>)</li>\n",
    "            <li>Use BQL and the <code>pandas</code> library to format the DataFrame so that it has three columns: the name of the sector, P/E Ratios, and P/S Ratios. Reference the previous <a href=\"../1. Boot Camp/3 BQL Basics.ipynb#df-concat\">Concatenate, Merge, & Pivot</a> BQL Examples to help you format the DataFrame. Since this is cross-sectional data, a DataFrame concatenation with <code>pd.concat()</code> may be easier to implement than a DataFrame merge. Use the BQL query in the <a href=\"#ch-bqviz\">Get BQL Data</a> section as a guide.</li>\n",
    "            <li>Declare a variable named <code>my_cs_df</code> to store the resulting DataFrame.</li>\n",
    "            <li>Build and show the ScatterPlot</li>\n",
    "        </ol>\n",
    "    We've written one possible solution to this problem in a hidden Python cell below. When you're ready to get a peek at an answer, click the <img src=\"../img/Controls/hidden_cell.png\"> below.\n",
    "    </p>\n",
    "</div>"
   ]
  },
  {
   "cell_type": "markdown",
   "metadata": {},
   "source": [
    "<p style=\"color: orange; font-size: 12px;\">&darr; Click below to expand answer</p>"
   ]
  },
  {
   "cell_type": "code",
   "execution_count": null,
   "metadata": {},
   "outputs": [],
   "source": [
    "# import bql\n",
    "# import bqviz\n",
    "# bq = bql.Service()\n",
    "\n",
    "universe = bq.univ.members('HKLSPL Index')\n",
    "pe_ratio = bq.data.pe_ratio(fill='PREV')\n",
    "ps_ratio = bq.data.px_to_sales_ratio(fill='PREV')\n",
    "company_name = bq.data.name()  # <-- get company name for scatter plot labels\n",
    "request = bql.Request(universe, {'PE Ratio': pe_ratio,\n",
    "                                 'PS Ratio': ps_ratio,\n",
    "                                 'Name': company_name})\n",
    "response = bq.execute(request)\n",
    "# parse & clean dataframes\n",
    "pe_df = response[0].df()\n",
    "ps_df = response[1].df()\n",
    "name_df = response[2].df()\n",
    "df = pd.concat([pe_df, ps_df, name_df], axis=1)\n",
    "\n",
    "bqviz.ScatterPlot(df=df, x='PE Ratio', y='PS Ratio', labels='Name').set_style().show()"
   ]
  },
  {
   "cell_type": "markdown",
   "metadata": {},
   "source": [
    "[&uarr; Return to Top](#charting-top)"
   ]
  },
  {
   "cell_type": "markdown",
   "metadata": {},
   "source": [
    "----\n",
    "<p style=\"text-align:center;\">\n",
    "    Click on the links below to continue learning.<br>\n",
    "    <a href=\"2 DataGrids.ipynb\">&larr; Back to DataGrids</a>&emsp;&emsp;\n",
    "    <a href=\"#charting-top\">&uarr; Return to Top</a>&emsp;&emsp;\n",
    "    <a href=\"4 Launch Project.ipynb\">Continue to Launch: Final Project &rarr;</a>\n",
    "    <br>\n",
    "    <br>\n",
    "    <a href=\"../Welcome.ipynb#welcome-top\" style=\"font-size: 12px;\">Return to the Welcome Page</a>\n",
    "</p>"
   ]
  },
  {
   "cell_type": "code",
   "execution_count": null,
   "metadata": {},
   "outputs": [],
   "source": []
  }
 ],
 "metadata": {
  "kernelspec": {
   "display_name": "Python 3 (sandboxed)",
   "language": "python",
   "name": "python3"
  },
  "language_info": {
   "codemirror_mode": {
    "name": "ipython",
    "version": 3
   },
   "file_extension": ".py",
   "mimetype": "text/x-python",
   "name": "python",
   "nbconvert_exporter": "python",
   "pygments_lexer": "ipython3",
   "version": "3.7.1"
  }
 },
 "nbformat": 4,
 "nbformat_minor": 4
}
