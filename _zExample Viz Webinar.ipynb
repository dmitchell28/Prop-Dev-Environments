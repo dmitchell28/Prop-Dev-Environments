{
 "cells": [
  {
   "cell_type": "markdown",
   "metadata": {
    "deletable": true,
    "editable": true
   },
   "source": [
    "# Bloomberg BQuant Webinar Series: Intro to BQuant\n",
    "\n",
    "This is a companion notebook to the Bloomberg [Intro to BQuant](https://blinks.bloomberg.com/screens/PLYR%20VOD%20329737029) webinar (annotated).  "
   ]
  },
  {
   "cell_type": "code",
   "execution_count": 1,
   "metadata": {
    "deletable": true,
    "editable": true
   },
   "outputs": [],
   "source": [
    "#Libary to Fetch Data from Bloombg\n",
    "import bql\n",
    "\n",
    "#Libraries for Data Visualization\n",
    "from ipywidgets import Button, VBox, HBox, Layout\n",
    "from IPython.display import display\n",
    "from bqwidgets import TickerAutoComplete, DataGrid\n",
    "\n",
    "#Data Manipulation\n",
    "import pandas as pd"
   ]
  },
  {
   "cell_type": "code",
   "execution_count": 2,
   "metadata": {
    "deletable": true,
    "editable": true
   },
   "outputs": [],
   "source": [
    "#Function to convert the result of a BQL query to a normal pandas dataframe\n",
    "def merge_dfs(response):\n",
    "    all_dfs = [item.df()[item.name] for item in response]\n",
    "    return pd.concat(all_dfs, axis=1)"
   ]
  },
  {
   "cell_type": "code",
   "execution_count": 3,
   "metadata": {
    "deletable": true,
    "editable": true
   },
   "outputs": [],
   "source": [
    "# Start service to fetch data\n",
    "bq = bql.Service()"
   ]
  },
  {
   "cell_type": "code",
   "execution_count": 4,
   "metadata": {
    "deletable": true,
    "editable": true
   },
   "outputs": [],
   "source": [
    "#Create & initialize input box, Run button, and display grid\n",
    "input_ticker = TickerAutoComplete(value = 'UKX Index', yellow_keys = ['Index'], layout=Layout(width='150px'))\n",
    "run_button = Button(description = 'Run', layout=Layout(width='100px'))\n",
    "result_box = VBox([], layout=Layout(width='500px'))"
   ]
  },
  {
   "cell_type": "code",
   "execution_count": 5,
   "metadata": {
    "deletable": true,
    "editable": true
   },
   "outputs": [],
   "source": [
    "#Function to fetch index constituents, related fields, and rename columns\n",
    "def get_data(caller):\n",
    "    universe = bq.univ.members(input_ticker.value)\n",
    "    fields= {'Name' : bq.data.name(),\n",
    "             'Price' : bq.data.px_last(),\n",
    "             'P/E' : bq.data.pe_ratio(fill='prev')}\n",
    "    request = bql.Request(universe, fields)\n",
    "    resp = bq.execute(request)\n",
    "    column_defs = [{'headerName' : 'Ticker', 'field':'ID', 'width': 150},\n",
    "               {'headerName' : 'Name', 'field':'Name', 'width': 150},\n",
    "               {'headerName' : 'Price', 'field':'Price', 'width': 80},\n",
    "               {'headerName' : 'P/E', 'field':'P/E', 'width': 80}]\n",
    "    data = merge_dfs(resp)\n",
    "    dgrid = DataGrid(data=data.round(2).reset_index(), column_defs=column_defs)\n",
    "    result_box.children = [dgrid]"
   ]
  },
  {
   "cell_type": "code",
   "execution_count": 6,
   "metadata": {
    "deletable": true,
    "editable": true
   },
   "outputs": [],
   "source": [
    "#fetch the data when button is clicked\n",
    "run_button.on_click(get_data)"
   ]
  },
  {
   "cell_type": "code",
   "execution_count": 7,
   "metadata": {
    "collapsed": false,
    "deletable": true,
    "editable": true,
    "jupyter": {
     "outputs_hidden": false
    }
   },
   "outputs": [
    {
     "data": {
      "application/vnd.jupyter.widget-view+json": {
       "model_id": "f9da446d10204701a492cdddf17a9a8f",
       "version_major": 2,
       "version_minor": 0
      },
      "text/plain": [
       "VBox(children=(HBox(children=(TickerAutoComplete(value='UKX Index', layout=Layout(width='150px'), yellow_keys=…"
      ]
     },
     "metadata": {},
     "output_type": "display_data"
    }
   ],
   "source": [
    "#Connect the widgets and link\n",
    "ui = VBox(layout=Layout(width='600px'))\n",
    "ui.children = [HBox([input_ticker, run_button]), result_box]\n",
    "display(ui)"
   ]
  },
  {
   "cell_type": "markdown",
   "metadata": {},
   "source": [
    "# What just happened"
   ]
  },
  {
   "cell_type": "code",
   "execution_count": 8,
   "metadata": {},
   "outputs": [],
   "source": [
    "universe = bq.univ.members('INDU Index')\n",
    "fields= {'Name' : bq.data.name(),\n",
    "         'Price' : bq.data.px_last(),\n",
    "         'P/E' : bq.data.pe_ratio(fill='prev')}\n",
    "\n",
    "request = bql.Request(universe, fields)\n",
    "resp = bq.execute(request)"
   ]
  },
  {
   "cell_type": "code",
   "execution_count": 9,
   "metadata": {},
   "outputs": [
    {
     "data": {
      "text/html": [
       "<div>\n",
       "<table border=\"1\" class=\"dataframe\">\n",
       "  <thead>\n",
       "    <tr style=\"text-align: right;\">\n",
       "      <th></th>\n",
       "      <th>Name</th>\n",
       "    </tr>\n",
       "    <tr>\n",
       "      <th>ID</th>\n",
       "      <th></th>\n",
       "    </tr>\n",
       "  </thead>\n",
       "  <tbody>\n",
       "    <tr>\n",
       "      <th>AXP UN Equity</th>\n",
       "      <td>American Express Co</td>\n",
       "    </tr>\n",
       "    <tr>\n",
       "      <th>VZ UN Equity</th>\n",
       "      <td>Verizon Communications Inc</td>\n",
       "    </tr>\n",
       "    <tr>\n",
       "      <th>BA UN Equity</th>\n",
       "      <td>Boeing Co/The</td>\n",
       "    </tr>\n",
       "    <tr>\n",
       "      <th>CAT UN Equity</th>\n",
       "      <td>Caterpillar Inc</td>\n",
       "    </tr>\n",
       "    <tr>\n",
       "      <th>JPM UN Equity</th>\n",
       "      <td>JPMorgan Chase &amp; Co</td>\n",
       "    </tr>\n",
       "    <tr>\n",
       "      <th>CVX UN Equity</th>\n",
       "      <td>Chevron Corp</td>\n",
       "    </tr>\n",
       "    <tr>\n",
       "      <th>KO UN Equity</th>\n",
       "      <td>Coca-Cola Co/The</td>\n",
       "    </tr>\n",
       "  </tbody>\n",
       "</table>\n",
       "</div>"
      ],
      "text/plain": [
       "                                     Name\n",
       "ID                                       \n",
       "AXP UN Equity         American Express Co\n",
       "VZ UN Equity   Verizon Communications Inc\n",
       "BA UN Equity                Boeing Co/The\n",
       "CAT UN Equity             Caterpillar Inc\n",
       "JPM UN Equity         JPMorgan Chase & Co\n",
       "CVX UN Equity                Chevron Corp\n",
       "KO UN Equity             Coca-Cola Co/The"
      ]
     },
     "execution_count": 9,
     "metadata": {},
     "output_type": "execute_result"
    }
   ],
   "source": [
    "resp[1].df().head(7)"
   ]
  },
  {
   "cell_type": "code",
   "execution_count": 10,
   "metadata": {},
   "outputs": [],
   "source": [
    "column_defs = [{'headerName' : 'Ticker', 'field':'ID', 'width': 150},\n",
    "               {'headerName' : 'Name', 'field':'Name', 'width': 150},\n",
    "               {'headerName' : 'Price', 'field':'Price', 'width': 80},\n",
    "               {'headerName' : 'P/E', 'field':'P/E', 'width': 80}]\n",
    "\n",
    "data = merge_dfs(resp)"
   ]
  },
  {
   "cell_type": "code",
   "execution_count": 11,
   "metadata": {},
   "outputs": [
    {
     "data": {
      "text/html": [
       "<div>\n",
       "<table border=\"1\" class=\"dataframe\">\n",
       "  <thead>\n",
       "    <tr style=\"text-align: right;\">\n",
       "      <th></th>\n",
       "      <th>P/E</th>\n",
       "      <th>Name</th>\n",
       "      <th>Price</th>\n",
       "    </tr>\n",
       "    <tr>\n",
       "      <th>ID</th>\n",
       "      <th></th>\n",
       "      <th></th>\n",
       "      <th></th>\n",
       "    </tr>\n",
       "  </thead>\n",
       "  <tbody>\n",
       "    <tr>\n",
       "      <th>AXP UN Equity</th>\n",
       "      <td>16.397562</td>\n",
       "      <td>American Express Co</td>\n",
       "      <td>134.460007</td>\n",
       "    </tr>\n",
       "    <tr>\n",
       "      <th>VZ UN Equity</th>\n",
       "      <td>12.197879</td>\n",
       "      <td>Verizon Communications Inc</td>\n",
       "      <td>58.650002</td>\n",
       "    </tr>\n",
       "    <tr>\n",
       "      <th>BA UN Equity</th>\n",
       "      <td>NaN</td>\n",
       "      <td>Boeing Co/The</td>\n",
       "      <td>342.820007</td>\n",
       "    </tr>\n",
       "    <tr>\n",
       "      <th>CAT UN Equity</th>\n",
       "      <td>12.651860</td>\n",
       "      <td>Caterpillar Inc</td>\n",
       "      <td>139.720001</td>\n",
       "    </tr>\n",
       "    <tr>\n",
       "      <th>JPM UN Equity</th>\n",
       "      <td>13.209512</td>\n",
       "      <td>JPMorgan Chase &amp; Co</td>\n",
       "      <td>137.880005</td>\n",
       "    </tr>\n",
       "    <tr>\n",
       "      <th>CVX UN Equity</th>\n",
       "      <td>18.276105</td>\n",
       "      <td>Chevron Corp</td>\n",
       "      <td>111.660004</td>\n",
       "    </tr>\n",
       "    <tr>\n",
       "      <th>KO UN Equity</th>\n",
       "      <td>29.182494</td>\n",
       "      <td>Coca-Cola Co/The</td>\n",
       "      <td>59.610001</td>\n",
       "    </tr>\n",
       "  </tbody>\n",
       "</table>\n",
       "</div>"
      ],
      "text/plain": [
       "                     P/E                        Name       Price\n",
       "ID                                                              \n",
       "AXP UN Equity  16.397562         American Express Co  134.460007\n",
       "VZ UN Equity   12.197879  Verizon Communications Inc   58.650002\n",
       "BA UN Equity         NaN               Boeing Co/The  342.820007\n",
       "CAT UN Equity  12.651860             Caterpillar Inc  139.720001\n",
       "JPM UN Equity  13.209512         JPMorgan Chase & Co  137.880005\n",
       "CVX UN Equity  18.276105                Chevron Corp  111.660004\n",
       "KO UN Equity   29.182494            Coca-Cola Co/The   59.610001"
      ]
     },
     "execution_count": 11,
     "metadata": {},
     "output_type": "execute_result"
    }
   ],
   "source": [
    "data.head(7)"
   ]
  },
  {
   "cell_type": "code",
   "execution_count": 12,
   "metadata": {},
   "outputs": [
    {
     "data": {
      "application/vnd.jupyter.widget-view+json": {
       "model_id": "e9d5d99f73ee4763b7060663b6c784fc",
       "version_major": 2,
       "version_minor": 0
      },
      "text/plain": [
       "DataGrid(column_defs=[{'field': 'ID', 'width': 150, 'headerName': 'Ticker'}, {'field': 'Name', 'width': 150, '…"
      ]
     },
     "metadata": {},
     "output_type": "display_data"
    }
   ],
   "source": [
    "dgrid = DataGrid(data=data.round(2).reset_index(), column_defs=column_defs)\n",
    "dgrid"
   ]
  },
  {
   "cell_type": "code",
   "execution_count": null,
   "metadata": {},
   "outputs": [],
   "source": []
  },
  {
   "cell_type": "code",
   "execution_count": null,
   "metadata": {},
   "outputs": [],
   "source": []
  }
 ],
 "metadata": {
  "kernelspec": {
   "display_name": "Python 3 (sandboxed)",
   "language": "python",
   "name": "python3"
  },
  "language_info": {
   "codemirror_mode": {
    "name": "ipython",
    "version": 3
   },
   "file_extension": ".py",
   "mimetype": "text/x-python",
   "name": "python",
   "nbconvert_exporter": "python",
   "pygments_lexer": "ipython3",
   "version": "3.5.5"
  }
 },
 "nbformat": 4,
 "nbformat_minor": 4
}
