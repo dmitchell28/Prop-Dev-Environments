{
 "cells": [
  {
   "cell_type": "code",
   "execution_count": 1,
   "metadata": {},
   "outputs": [],
   "source": [
    "import pip\n",
    "import pkg_resources"
   ]
  },
  {
   "cell_type": "code",
   "execution_count": 2,
   "metadata": {},
   "outputs": [],
   "source": [
    "#installed_packages = pip.get_installed_distributions()\n",
    "installed_packages = pkg_resources.working_set"
   ]
  },
  {
   "cell_type": "code",
   "execution_count": 3,
   "metadata": {},
   "outputs": [
    {
     "data": {
      "text/plain": [
       "['alabaster==0.7.12',\n",
       " 'asn1crypto==0.24.0',\n",
       " 'async-generator==1.10',\n",
       " 'attrs==19.1.0',\n",
       " 'babel==2.7.0',\n",
       " 'backcall==0.1.0',\n",
       " 'backports.os==0.1.1',\n",
       " 'backports.shutil-get-terminal-size==1.0.0',\n",
       " 'bbq-tools==1.11.0',\n",
       " 'beautifulsoup4==4.8.0',\n",
       " 'bleach==3.1.0',\n",
       " 'blpapi==3.13.1',\n",
       " 'bokeh==1.3.2',\n",
       " 'bqapi==0.21.0',\n",
       " 'bqcde==0.13.0',\n",
       " 'bqevents==0.8.0',\n",
       " 'bqfactorviz==0.3.0',\n",
       " 'bqfunc==0.6.0',\n",
       " 'bql==0.90.0',\n",
       " 'bqlexplorer==0.22.0',\n",
       " 'bqlmetadata==0.37.0',\n",
       " 'bqlogger==0.10.0',\n",
       " 'bqnb==1.7.0',\n",
       " 'bqpip==0.2.9',\n",
       " 'bqplayback==0.24.0',\n",
       " 'bqplot==0.12.16',\n",
       " 'bqprogress==0.1.1',\n",
       " 'bqservices==1.283.0',\n",
       " 'bqviz==2.1.0',\n",
       " 'bqvizwidgets==0.8.0',\n",
       " 'bqwidgets==1.2.0',\n",
       " 'branca==0.3.1',\n",
       " 'certifi==2019.6.16',\n",
       " 'cffi==1.12.3',\n",
       " 'chardet==3.0.4',\n",
       " 'cloudpickle==1.2.1',\n",
       " 'colorama==0.4.1',\n",
       " 'cryptography==2.5',\n",
       " 'cycler==0.10.0',\n",
       " 'cytoolz==0.10.0',\n",
       " 'dask==2.2.0',\n",
       " 'dataexplorer==2.3.0',\n",
       " 'decorator==4.4.0',\n",
       " 'defusedxml==0.5.0',\n",
       " 'docutils==0.15.2',\n",
       " 'entrypoints==0.3',\n",
       " 'et-xmlfile==1.0.1',\n",
       " 'fastcache==1.1.0',\n",
       " 'h5py==2.9.0',\n",
       " 'html5lib==1.0.1',\n",
       " 'idna==2.8',\n",
       " 'imageio==2.5.0',\n",
       " 'imagesize==1.1.0',\n",
       " 'importlib-metadata==0.18',\n",
       " 'ipydatagrid==0.2.10.dev0',\n",
       " 'ipydatawidgets==4.0.1',\n",
       " 'ipykernel==5.1.1',\n",
       " 'ipyleaflet==0.12.4',\n",
       " 'ipyscales==0.5.0',\n",
       " 'ipython-genutils==0.2.0',\n",
       " 'ipython==7.7.0',\n",
       " 'ipywidgets==7.5.1',\n",
       " 'jdcal==1.4.1',\n",
       " 'jedi==0.15.1',\n",
       " 'jinja2==2.10.1',\n",
       " 'jlabapp==2.53.0',\n",
       " 'joblib==0.13.2',\n",
       " 'json5==0.8.5',\n",
       " 'jsonschema==3.0.2',\n",
       " 'jupyter-client==5.3.4',\n",
       " 'jupyter-console==6.0.0',\n",
       " 'jupyter-core==4.6.1',\n",
       " 'jupyter-server==0.1.1',\n",
       " 'jupyter-sphinx==0.2.1',\n",
       " 'jupyter==1.0.0',\n",
       " 'jupyterlab-pygments==0.1.0',\n",
       " 'jupyterlab-server==1.0.0',\n",
       " 'kiwisolver==1.1.0',\n",
       " 'llvmlite==0.29.0',\n",
       " 'markupsafe==1.1.1',\n",
       " 'matplotlib==3.1.1',\n",
       " 'mistune==0.8.4',\n",
       " 'mkl-fft==1.0.6',\n",
       " 'mkl-random==1.0.2',\n",
       " 'mkl-service==2.1.0',\n",
       " 'mock==3.0.5',\n",
       " 'mpmath==1.1.0',\n",
       " 'nbconvert==5.6.1',\n",
       " 'nbformat==4.4.0',\n",
       " 'networkx==2.3',\n",
       " 'nltk==3.4.4',\n",
       " 'notebook==6.0.2',\n",
       " 'numba==0.45.0',\n",
       " 'numdifftools==0.9.39',\n",
       " 'numexpr==2.6.9',\n",
       " 'numpy==1.16.4',\n",
       " 'numpydoc==0.9.1',\n",
       " 'olefile==0.46',\n",
       " 'openpyxl==2.6.2',\n",
       " 'packaging==19.0',\n",
       " 'pandas==0.25.0',\n",
       " 'pandocfilters==1.4.2',\n",
       " 'parso==0.7.0',\n",
       " 'path.py==12.0.1',\n",
       " 'patsy==0.5.1',\n",
       " 'pickleshare==0.7.5',\n",
       " 'pillow==6.1.0',\n",
       " 'pip==19.3.1',\n",
       " 'plotly==4.6.0',\n",
       " 'prometheus-client==0.7.1',\n",
       " 'prompt-toolkit==2.0.9',\n",
       " 'psutil==5.4.7',\n",
       " 'ptvsd==4.3.2',\n",
       " 'py2vega==0.5.0',\n",
       " 'pycparser==2.19',\n",
       " 'pygments==2.4.2',\n",
       " 'pyopenssl==19.0.0',\n",
       " 'pyparsing==2.4.2',\n",
       " 'pyreadline==2.1',\n",
       " 'pyrsistent==0.15.4',\n",
       " 'pysocks==1.7.0',\n",
       " 'python-dateutil==2.8.0',\n",
       " 'pythreejs==2.2.0',\n",
       " 'pytz==2019.2',\n",
       " 'pywavelets==1.0.3',\n",
       " 'pywin32==227',\n",
       " 'pywinpty==0.5.5',\n",
       " 'pyyaml==5.1.2',\n",
       " 'pyzmq==18.1.0',\n",
       " 'requests==2.22.0',\n",
       " 'retrying==1.3.3',\n",
       " 'scikit-image==0.15.0',\n",
       " 'scikit-learn==0.21.2',\n",
       " 'scipy==1.3.0',\n",
       " 'seaborn==0.9.0',\n",
       " 'send2trash==1.5.0',\n",
       " 'setuptools==41.0.1',\n",
       " 'simplegeneric==0.8.1',\n",
       " 'sip==4.19.13',\n",
       " 'six==1.12.0',\n",
       " 'snowballstemmer==1.9.0',\n",
       " 'soupsieve==1.9.2',\n",
       " 'sphinx-rtd-theme==0.4.3',\n",
       " 'sphinx==2.1.2',\n",
       " 'sphinxcontrib-applehelp==1.0.1',\n",
       " 'sphinxcontrib-devhelp==1.0.1',\n",
       " 'sphinxcontrib-htmlhelp==1.0.2',\n",
       " 'sphinxcontrib-jsmath==1.0.1',\n",
       " 'sphinxcontrib-qthelp==1.0.2',\n",
       " 'sphinxcontrib-serializinghtml==1.1.1',\n",
       " 'sqlalchemy==1.3.6',\n",
       " 'statsmodels==0.10.1',\n",
       " 'sympy==1.4',\n",
       " 'tables==3.5.2',\n",
       " 'tada==1.1.0',\n",
       " 'terminado==0.8.2',\n",
       " 'testpath==0.4.2',\n",
       " 'toolz==0.10.0',\n",
       " 'tornado==6.0.3',\n",
       " 'traitlets==4.3.2',\n",
       " 'traittypes==0.2.1',\n",
       " 'tzlocal==2.0.0',\n",
       " 'urllib3==1.25.3',\n",
       " 'voila==0.1.21',\n",
       " 'wcwidth==0.1.7',\n",
       " 'webencodings==0.5.1',\n",
       " 'wheel==0.33.4',\n",
       " 'widgetsnbextension==3.5.1',\n",
       " 'win-inet-pton==1.1.0',\n",
       " 'win-unicode-console==0.5',\n",
       " 'wincertstore==0.2',\n",
       " 'xarray==0.12.3',\n",
       " 'xlrd==1.2.0',\n",
       " 'xlwt==1.3.0',\n",
       " 'zipp==0.5.2']"
      ]
     },
     "execution_count": 3,
     "metadata": {},
     "output_type": "execute_result"
    }
   ],
   "source": [
    "installed_packages_list = sorted([\"%s==%s\" % (i.key, i.version)\n",
    "     for i in installed_packages])\n",
    "\n",
    "installed_packages_list"
   ]
  },
  {
   "cell_type": "code",
   "execution_count": 7,
   "metadata": {},
   "outputs": [
    {
     "data": {
      "text/plain": [
       "['__builtins__',\n",
       " '__cached__',\n",
       " '__doc__',\n",
       " '__file__',\n",
       " '__loader__',\n",
       " '__name__',\n",
       " '__package__',\n",
       " '__path__',\n",
       " '__spec__',\n",
       " '__version__']"
      ]
     },
     "execution_count": 7,
     "metadata": {},
     "output_type": "execute_result"
    }
   ],
   "source": [
    "dir(pip)\n"
   ]
  },
  {
   "cell_type": "code",
   "execution_count": 4,
   "metadata": {},
   "outputs": [
    {
     "data": {
      "text/plain": [
       "'C:\\\\Users\\\\MitchellDavid\\\\AppData\\\\Local\\\\bipy\\\\6316781\\\\projects\\\\0000000000000000000000000000000006316781\\\\Demo Code'"
      ]
     },
     "execution_count": 4,
     "metadata": {},
     "output_type": "execute_result"
    }
   ],
   "source": [
    "%pwd"
   ]
  },
  {
   "cell_type": "code",
   "execution_count": null,
   "metadata": {},
   "outputs": [],
   "source": []
  }
 ],
 "metadata": {
  "kernelspec": {
   "display_name": "Python 3 (sandboxed)",
   "language": "python",
   "name": "python3"
  },
  "language_info": {
   "codemirror_mode": {
    "name": "ipython",
    "version": 3
   },
   "file_extension": ".py",
   "mimetype": "text/x-python",
   "name": "python",
   "nbconvert_exporter": "python",
   "pygments_lexer": "ipython3",
   "version": "3.7.1"
  }
 },
 "nbformat": 4,
 "nbformat_minor": 4
}
