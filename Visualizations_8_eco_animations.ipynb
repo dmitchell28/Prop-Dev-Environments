{
 "cells": [
  {
   "cell_type": "markdown",
   "metadata": {},
   "source": [
    "You can access the accompanying video here: \n",
    "\n",
    "<a href=\"https://blinks.bloomberg.com/screens/PLYR%20VOD%20362284390\"> Eco Data and Animations (10 min)</a>"
   ]
  },
  {
   "cell_type": "code",
   "execution_count": 1,
   "metadata": {},
   "outputs": [
    {
     "name": "stdout",
     "output_type": "stream",
     "text": [
      "C:\\Users\\traveler\\AppData\\Local\\bipy\\6316781\\projects\\209074518baf4c01ac3b169e65c5d60c\n"
     ]
    }
   ],
   "source": [
    "# This is how we can see where our project files live on our local drive\n",
    "x = %pwd\n",
    "\n",
    "print(x)"
   ]
  },
  {
   "cell_type": "code",
   "execution_count": 2,
   "metadata": {},
   "outputs": [],
   "source": [
    "# Import our relevant libraries\n",
    "import bql \n",
    "import pandas as pd \n",
    "# Start the BQL Service\n",
    "bq = bql.Service()"
   ]
  },
  {
   "cell_type": "code",
   "execution_count": 3,
   "metadata": {},
   "outputs": [],
   "source": [
    "# After we import our csv into our project files, we can use pd.read_csv\n",
    "# This will turn our csv into a pandas dataframe\n",
    "file_read = pd.read_csv('state_tickers.csv')"
   ]
  },
  {
   "cell_type": "code",
   "execution_count": 4,
   "metadata": {},
   "outputs": [],
   "source": [
    "# We will use the claims tickers in the csv as our claims universe\n",
    "# We will use the labor tickers in the csv as our labor universe\n",
    "claims_tickers = bq.univ.list(list(file_read['Claims Tickers']))\n",
    "labor_tickers = bq.univ.list(list(file_read['Labor Force Tickers']))"
   ]
  },
  {
   "cell_type": "code",
   "execution_count": 5,
   "metadata": {},
   "outputs": [],
   "source": [
    "# We can use the window function to cut our unemployment data into chunks of 4\n",
    "# We will take the sum of each chunk\n",
    "unemploy_field = bq.func.sum(\n",
    "    bq.func.window(bq.data.px_last(dates=bq.func.range('2020-05-31 -1y+1w','2020-05-31')).dropna(),4,windowstep=4))"
   ]
  },
  {
   "cell_type": "code",
   "execution_count": 6,
   "metadata": {},
   "outputs": [],
   "source": [
    "# Define our unemployment request\n",
    "unreq = bql.Request(claims_tickers,{'unemployment claims':unemploy_field})\n",
    "# Execute our unemployment request\n",
    "unresp = bq.execute(unreq)"
   ]
  },
  {
   "cell_type": "code",
   "execution_count": 7,
   "metadata": {},
   "outputs": [],
   "source": [
    "# Put the response into a dataframe and reset the index\n",
    "undf = unresp[0].df().reset_index()"
   ]
  },
  {
   "cell_type": "code",
   "execution_count": 8,
   "metadata": {},
   "outputs": [],
   "source": [
    "# Define our field for our labor tickers\n",
    "lab_field = bq.data.px_last(dates=bq.func.range('-1y','0d')).dropna()"
   ]
  },
  {
   "cell_type": "code",
   "execution_count": 9,
   "metadata": {},
   "outputs": [],
   "source": [
    "# Define our labor request\n",
    "lab_req = bql.Request(labor_tickers,{'Labor force':lab_field})\n",
    "# Execute our labor request\n",
    "lab_resp = bq.execute(lab_req)"
   ]
  },
  {
   "cell_type": "code",
   "execution_count": 10,
   "metadata": {},
   "outputs": [],
   "source": [
    "# Put the response into a dataframe and reset the index\n",
    "labdf = lab_resp[0].df().reset_index()"
   ]
  },
  {
   "cell_type": "code",
   "execution_count": 11,
   "metadata": {},
   "outputs": [],
   "source": [
    "# Create our dictionaries for mapping our tickers to our regions\n",
    "claims_dict = dict(zip(file_read['Claims Tickers'],file_read['Region']))\n",
    "labor_dict = dict(zip(file_read['Labor Force Tickers'],file_read['Region']))"
   ]
  },
  {
   "cell_type": "code",
   "execution_count": 12,
   "metadata": {},
   "outputs": [],
   "source": [
    "# Map the dictionaries to the Region column\n",
    "undf['Region'] = undf['ORIG_IDS'].map(claims_dict)"
   ]
  },
  {
   "cell_type": "code",
   "execution_count": 13,
   "metadata": {},
   "outputs": [],
   "source": [
    "# Map the dictionaries to the region column\n",
    "labdf['Region'] = labdf['ID'].map(labor_dict)"
   ]
  },
  {
   "cell_type": "code",
   "execution_count": 14,
   "metadata": {},
   "outputs": [],
   "source": [
    "# concatenate the dataframes\n",
    "merged = pd.concat([labdf,undf['unemployment claims']],axis=1)"
   ]
  },
  {
   "cell_type": "code",
   "execution_count": 15,
   "metadata": {},
   "outputs": [],
   "source": [
    "# Adjust the data for the labor force\n",
    "merged['claims/labor'] = merged['unemployment claims']/merged['Labor force'] *100"
   ]
  },
  {
   "cell_type": "code",
   "execution_count": 16,
   "metadata": {},
   "outputs": [],
   "source": [
    "# specify which columns you're looking for \n",
    "merged_final = merged[['DATE','Region','claims/labor']]"
   ]
  },
  {
   "cell_type": "code",
   "execution_count": 17,
   "metadata": {},
   "outputs": [],
   "source": [
    "# Groupby region and date \n",
    "df_for_vis = merged_final.groupby(['Region','DATE']).mean().reset_index()"
   ]
  },
  {
   "cell_type": "code",
   "execution_count": 18,
   "metadata": {
    "jupyter": {
     "source_hidden": true
    }
   },
   "outputs": [
    {
     "data": {
      "application/vnd.jupyter.widget-view+json": {
       "model_id": "5b346597996f49f6ad5447b32529eac9",
       "version_major": 2,
       "version_minor": 0
      },
      "text/plain": [
       "VBox(children=(HBox(children=(Play(value=0, interval=500, max=11), IntSlider(value=0, continuous_update=False,…"
      ]
     },
     "metadata": {},
     "output_type": "display_data"
    }
   ],
   "source": [
    "# Create the visualization\n",
    "import pandas as pd\n",
    "import numpy as np\n",
    "from bqplot import LinearScale, OrdinalScale, Label, Axis, Figure, Bars\n",
    "import ipywidgets as widgets\n",
    "\n",
    "# Define column names for dataframe\n",
    "VALUE_COLUMN = 'claims/labor'\n",
    "DATE_COLUMN = 'DATE'\n",
    "CATEGORY_COLUMN = 'Region'\n",
    "\n",
    "# Define visualization labels\n",
    "CHART_TITLE = 'Horizontal bar chart with animation'\n",
    "X_AXIS_LABEL = 'Last Price'\n",
    "\n",
    "\n",
    "\n",
    "df = df_for_vis\n",
    "\n",
    "# Set initial data as first date of time range\n",
    "dates_arr = df[DATE_COLUMN].unique()\n",
    "first_entry = df[df[DATE_COLUMN] == dates_arr[0]]\n",
    "\n",
    "# Create scales\n",
    "scale_x = OrdinalScale(allow_padding=True)\n",
    "\n",
    "# Set the maximum range of the domain to allow for readability of label marks\n",
    "scale_y = LinearScale(max=df[VALUE_COLUMN].max()*1.15)\n",
    "\n",
    "# Create label mark\n",
    "label = Label(x=first_entry[VALUE_COLUMN],\n",
    "              y=first_entry[CATEGORY_COLUMN],\n",
    "              text=[round(elem, 2) for elem in first_entry[VALUE_COLUMN]],\n",
    "              scales={'y': scale_x, 'x': scale_y},\n",
    "              default_size=12,\n",
    "              colors=['white'],\n",
    "              x_offset=12)\n",
    "\n",
    "# Create bar mark\n",
    "bar = Bars(x=first_entry[CATEGORY_COLUMN],\n",
    "           y=first_entry[VALUE_COLUMN],\n",
    "           scales={'x': scale_x, 'y': scale_y},\n",
    "           orientation='horizontal',\n",
    "           color_mode='auto',\n",
    "           colors=['#000000', '#0073ff', '#fa5a28', '#c873ff',\n",
    "                   '#d7be00','#00c2d7', '#db8922', '#f328bb',\n",
    "                   '#50f06e', '#8f52b6','#b09b00'])\n",
    "\n",
    "# Create axes\n",
    "axis_x = Axis(scale=scale_x, orientation='vertical', tick_style={'font-size':'14px'},\n",
    "            grid_lines='none')\n",
    "axis_y = Axis(scale=scale_y, tick_format='0.2f', label=X_AXIS_LABEL)\n",
    "\n",
    "# Create figure\n",
    "figure = Figure(marks=[bar, label],\n",
    "                    axes=[axis_x, axis_y],\n",
    "                    padding_x=0,\n",
    "                    padding_y=0.025,\n",
    "                    fig_margin={'top': 60, 'bottom':60,\n",
    "                               'left':170,'right':100},\n",
    "                    title=CHART_TITLE,\n",
    "                    animation_duration=500,\n",
    "                    layout={'width':'auto'})\n",
    "\n",
    "# Create slider\n",
    "int_slider = widgets.IntSlider(min=0,\n",
    "                               max=len(dates_arr) - 1,\n",
    "                               step=1,\n",
    "                               continuous_update=False,\n",
    "                               readout=False)\n",
    "\n",
    "# Create Html widget\n",
    "date_selected_html = widgets.HTML(layout={'width':'50%'})\n",
    "\n",
    "# Callback function to update graph view upon change to slider\n",
    "def on_value_change(change):\n",
    "    if change is not None and change['new'] is not None:\n",
    "        # Selected value from the slider\n",
    "        selected_num = change['new']\n",
    "\n",
    "        # Get date associated with number on slider\n",
    "        selected_date = dates_arr[selected_num]\n",
    "\n",
    "        new_data_entry = df.loc[df[DATE_COLUMN] == selected_date]\n",
    "\n",
    "        # Displaying this format via the html object\n",
    "        selected_timestamp = new_data_entry[DATE_COLUMN].iloc[0]\n",
    "        date_selected_html.value = selected_timestamp.strftime('%Y-%m-%d')\n",
    "\n",
    "        # Determine correct ordering of sectors such that they are displayed in\n",
    "        # descending order of prices\n",
    "        date_df = pd.DataFrame(new_data_entry)\n",
    "        date_df = date_df.sort_values(VALUE_COLUMN)\n",
    "\n",
    "        # Set order of domain\n",
    "        category_order = date_df[CATEGORY_COLUMN].tolist()\n",
    "        scale_x.domain = category_order\n",
    "        # Update new data for bars and labels\n",
    "        bar.y = new_data_entry[VALUE_COLUMN]\n",
    "        label_data = new_data_entry[VALUE_COLUMN]\n",
    "\n",
    "        # Add padding between bars and labels\n",
    "        label.text = [round(elem, 2) for elem in label_data]\n",
    "        label_data = [entry for entry in label_data]\n",
    "        label.x = label_data\n",
    "\n",
    "int_slider.observe(on_value_change, names='value')\n",
    "\n",
    "# Create play button and add to graph\n",
    "play_button = widgets.Play(min=0, max=len(dates_arr) - 1, interval=500)\n",
    "widgets.jslink((play_button, 'value'), (int_slider, 'value'))\n",
    "\n",
    "# Put together all components in same display\n",
    "h_box = widgets.HBox([play_button, int_slider, date_selected_html],\n",
    "                     layout={'display':'flex', 'align_self':'center'})\n",
    "visualization = widgets.VBox([h_box, figure])\n",
    "visualization\n"
   ]
  },
  {
   "cell_type": "code",
   "execution_count": 19,
   "metadata": {},
   "outputs": [],
   "source": [
    "f = bq.data.px_last(dates=bq.func.range('-1y','0d',FRQ='W'),fill='prev')"
   ]
  },
  {
   "cell_type": "code",
   "execution_count": null,
   "metadata": {},
   "outputs": [],
   "source": []
  }
 ],
 "metadata": {
  "kernelspec": {
   "display_name": "Python 3 (sandboxed)",
   "language": "python",
   "name": "python3"
  },
  "language_info": {
   "codemirror_mode": {
    "name": "ipython",
    "version": 3
   },
   "file_extension": ".py",
   "mimetype": "text/x-python",
   "name": "python",
   "nbconvert_exporter": "python",
   "pygments_lexer": "ipython3",
   "version": "3.7.1"
  }
 },
 "nbformat": 4,
 "nbformat_minor": 4
}
